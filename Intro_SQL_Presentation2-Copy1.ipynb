{
 "cells": [
  {
   "cell_type": "markdown",
   "metadata": {
    "slideshow": {
     "slide_type": "slide"
    }
   },
   "source": [
    "<head>\n",
    "\n",
    "<script type=\"text/javascript\"\n",
    "  src=\"http://cdn.mathjax.org/mathjax/latest/MathJax.js?config=TeX-AMS-MML_HTMLorMML\">\n",
    "</script>\n",
    "\n",
    "</head>\n",
    "<style>\n",
    "\n",
    "\n",
    "@font-face {\n",
    "    font-family: \"Computer Modern\";\n",
    "    src: url('http://mirrors.ctan.org/fonts/cm-unicode/fonts/otf/cmunss.otf');\n",
    "}\n",
    "#notebook_panel { /* main background */\n",
    "    background: #888;\n",
    "    color: #f6f6f6;\n",
    "}\n",
    "#notebook li { /* More space between bullet points */\n",
    "margin-top:0.8em;\n",
    "}\n",
    "div.text_cell_render{\n",
    "    font-family: 'Arvo' sans-serif;\n",
    "    line-height: 130%;\n",
    "    font-size: 135%;\n",
    "    width:1000px;\n",
    "    margin-left:auto;\n",
    "    margin-right:auto;\n",
    "}\n",
    "\n",
    "</style>\n",
    "\n",
    "\n",
    "<center>\n",
    "\n",
    "<p class=\"gap05\"<p>\n",
    "<h1>Intro to SQL:</h1>\n",
    "<h2>Aggegation, Joins, Subqueries, Set Operations, ...</h2>\n",
    "\n",
    "<p class=\"gap05\"<p>\n",
    "<h3>Darrell Aucoin</h3>\n",
    "\n",
    "<h3>Stats Club</h3>\n",
    "\n",
    "<p class=\"gap2\"<p>\n",
    "![alt text](Images/exploits_of_a_mom.png)\n",
    "</center>\n",
    "\n",
    "<style type=\"text/css\">\n",
    ".input_prompt, .input_area, .output_prompt {\n",
    "    display:none !important;\n",
    "}\n",
    "</style>\n",
    "Source for picture: XKCD (Randall Munroe) http://xkcd.com/327/"
   ]
  },
  {
   "cell_type": "markdown",
   "metadata": {
    "slideshow": {
     "slide_type": "slide"
    }
   },
   "source": [
    "## Content (This Presentation)"
   ]
  },
  {
   "cell_type": "markdown",
   "metadata": {},
   "source": [
    "1. Filtering rows (WHERE)\n",
    "2. Aggregation (GROUP BY)\n",
    "3. Joining tables\n",
    "4. Subqueries\n",
    "5. Set Operations\n",
    "6. WITH Clause (Increases Readiablity)\n",
    "7. CASE expressions\n",
    "8. ORDER BY Clause\n",
    "9. LIMIT Clause  "
   ]
  },
  {
   "cell_type": "markdown",
   "metadata": {
    "slideshow": {
     "slide_type": "slide"
    }
   },
   "source": [
    "# How to Follow Along"
   ]
  },
  {
   "cell_type": "markdown",
   "metadata": {},
   "source": [
    "#### Get the material  "
   ]
  },
  {
   "cell_type": "markdown",
   "metadata": {},
   "source": [
    "1. Go to https://github.com/NormallySane/IntroSQL\n",
    "2. Download [zip file](https://github.com/NormallySane/IntroSQL/archive/master.zip)\n",
    "    ![alt text](Images/IntroSQLGithub.png)\n",
    "3. Unzip downloaded file in your preferred directory"
   ]
  },
  {
   "cell_type": "markdown",
   "metadata": {
    "slideshow": {
     "slide_type": "subslide"
    }
   },
   "source": [
    "#### Using SQLite Browser"
   ]
  },
  {
   "cell_type": "markdown",
   "metadata": {
    "slideshow": {
     "slide_type": "-"
    }
   },
   "source": [
    "1. Open SQLite browser\n",
    "2. Open `stats_club.db` database file in the downloaded directory\n",
    "3. Click on 'Execute SQL' tab\n",
    "    1. Open SQL file `IntroSQL_Presentation2.sql` file in the downloaded directory\n",
    "    2. Follow along with file, executing statement as topics dictate\n",
    "4. Content of the talk is on https://github.com/NormallySane/IntroSQL/wiki (open in your favorite browser)\n",
    "\n",
    "\n",
    "- SQLite browser is a great tool for learning SQLite and SQL in general"
   ]
  },
  {
   "cell_type": "markdown",
   "metadata": {
    "slideshow": {
     "slide_type": "slide"
    }
   },
   "source": [
    "## Selection (WHERE Clause)"
   ]
  },
  {
   "cell_type": "markdown",
   "metadata": {},
   "source": [
    "__WHERE__ clauses filters the result set, removing rows where the condition returns either FALSE or NULL.\n",
    "\n",
    "```\n",
    "SELECT col1, col2, ...\n",
    "FROM table_name\n",
    "WHERE condition;\n",
    "```"
   ]
  },
  {
   "cell_type": "markdown",
   "metadata": {
    "slideshow": {
     "slide_type": "fragment"
    }
   },
   "source": [
    "__Example:__ What Stats Club events are social?"
   ]
  },
  {
   "cell_type": "markdown",
   "metadata": {
    "slideshow": {
     "slide_type": "fragment"
    }
   },
   "source": [
    "```\n",
    "SELECT name, type, start_time, end_time, location \n",
    "FROM event \n",
    "WHERE type = 'social';\n",
    "```"
   ]
  },
  {
   "cell_type": "code",
   "execution_count": 1,
   "metadata": {
    "collapsed": false,
    "slideshow": {
     "slide_type": "skip"
    }
   },
   "outputs": [],
   "source": [
    "import pandas as pd\n",
    "import sqlite3 as sql\n",
    "con = sql.connect('stats_club.db')"
   ]
  },
  {
   "cell_type": "code",
   "execution_count": 2,
   "metadata": {
    "collapsed": false,
    "slideshow": {
     "slide_type": "fragment"
    }
   },
   "outputs": [
    {
     "data": {
      "text/html": [
       "<div style=\"max-height:1000px;max-width:1500px;overflow:auto;\">\n",
       "<table border=\"1\" class=\"dataframe\">\n",
       "  <thead>\n",
       "    <tr style=\"text-align: right;\">\n",
       "      <th></th>\n",
       "      <th>name</th>\n",
       "      <th>type</th>\n",
       "      <th>start_time</th>\n",
       "      <th>end_time</th>\n",
       "      <th>location</th>\n",
       "    </tr>\n",
       "  </thead>\n",
       "  <tbody>\n",
       "    <tr>\n",
       "      <th>0</th>\n",
       "      <td> BOT</td>\n",
       "      <td> social</td>\n",
       "      <td> 2015-01-28 19:00:00</td>\n",
       "      <td> 2015-01-28 22:00:00</td>\n",
       "      <td> C &amp; D</td>\n",
       "    </tr>\n",
       "    <tr>\n",
       "      <th>1</th>\n",
       "      <td> EOT</td>\n",
       "      <td> social</td>\n",
       "      <td>                None</td>\n",
       "      <td>                None</td>\n",
       "      <td>  None</td>\n",
       "    </tr>\n",
       "  </tbody>\n",
       "</table>\n",
       "</div>"
      ],
      "text/plain": [
       "  name    type           start_time             end_time location\n",
       "0  BOT  social  2015-01-28 19:00:00  2015-01-28 22:00:00    C & D\n",
       "1  EOT  social                 None                 None     None"
      ]
     },
     "execution_count": 2,
     "metadata": {},
     "output_type": "execute_result"
    }
   ],
   "source": [
    "pd.read_sql_query(\n",
    "\"SELECT name, type, start_time, end_time, location \\\n",
    "FROM event \\\n",
    "WHERE type = 'social'\", con)"
   ]
  },
  {
   "cell_type": "markdown",
   "metadata": {
    "slideshow": {
     "slide_type": "subslide"
    }
   },
   "source": [
    "### Prediate Operators"
   ]
  },
  {
   "cell_type": "markdown",
   "metadata": {},
   "source": [
    "| Operator | Description | Example |\n",
    "|----------|-------------|---------|\n",
    "| = | Equal to | WHERE gender = 'M' |\n",
    "| <>, != | Not equal to | WHERE gender <> 'M' |\n",
    "| > | Greater than | WHERE num > 5 |\n",
    "| < | Less than | WHERE num < 5 |\n",
    "| >= | Greater than or equal to | WHERE num >= 5 |\n",
    "| <= | Less than or equal to | WHERE num <= 5 |\n",
    "| IS NULL | Value is NULL | WHERE num IS NULL |\n",
    "| IS NOT NULL | Value is not NULL | WHERE num IS NOT NULL |\n",
    "| BETWEEN | Between a range | WHERE num BETWEEN 3 AND 5 |\n",
    "| IN | In a list of values | WHERE num IN (3, 5, 8) |\n",
    "| LIKE | Pattern Search | WHERE str LIKE 'F%' |\n",
    "| EXISTS | Subquery have any rows? | WHERE EXISTS (subquery) |"
   ]
  },
  {
   "cell_type": "markdown",
   "metadata": {
    "slideshow": {
     "slide_type": "subslide"
    }
   },
   "source": [
    "#### LIKE Predicate"
   ]
  },
  {
   "cell_type": "markdown",
   "metadata": {},
   "source": [
    "LIKE predicates \n",
    "\n",
    "'\\_' means a character of any type  \n",
    "'%' means between 0 or more characters of any type"
   ]
  },
  {
   "cell_type": "markdown",
   "metadata": {
    "slideshow": {
     "slide_type": "fragment"
    }
   },
   "source": [
    "__Example:__ What Stats Club members has a name begining with F?"
   ]
  },
  {
   "cell_type": "markdown",
   "metadata": {
    "slideshow": {
     "slide_type": "fragment"
    }
   },
   "source": [
    "```\n",
    "SELECT * \n",
    "FROM member \n",
    "WHERE name LIKE 'F%';\n",
    "```"
   ]
  },
  {
   "cell_type": "code",
   "execution_count": 3,
   "metadata": {
    "collapsed": false,
    "slideshow": {
     "slide_type": "fragment"
    }
   },
   "outputs": [
    {
     "data": {
      "text/html": [
       "<div style=\"max-height:1000px;max-width:1500px;overflow:auto;\">\n",
       "<table border=\"1\" class=\"dataframe\">\n",
       "  <thead>\n",
       "    <tr style=\"text-align: right;\">\n",
       "      <th></th>\n",
       "      <th>quest_id</th>\n",
       "      <th>name</th>\n",
       "      <th>email</th>\n",
       "      <th>faculty</th>\n",
       "      <th>major</th>\n",
       "      <th>paid</th>\n",
       "      <th>card</th>\n",
       "    </tr>\n",
       "  </thead>\n",
       "  <tbody>\n",
       "    <tr>\n",
       "      <th>0</th>\n",
       "      <td>    fred</td>\n",
       "      <td>     Fred E. Finch</td>\n",
       "      <td>    fred@uwaterloo.ca</td>\n",
       "      <td> Math</td>\n",
       "      <td> Pure Math</td>\n",
       "      <td> Y</td>\n",
       "      <td> Y</td>\n",
       "    </tr>\n",
       "    <tr>\n",
       "      <th>1</th>\n",
       "      <td> frances</td>\n",
       "      <td> Frances A. Miller</td>\n",
       "      <td> frances@uwaterloo.ca</td>\n",
       "      <td> Math</td>\n",
       "      <td>     Stats</td>\n",
       "      <td> Y</td>\n",
       "      <td> Y</td>\n",
       "    </tr>\n",
       "  </tbody>\n",
       "</table>\n",
       "</div>"
      ],
      "text/plain": [
       "  quest_id               name                 email faculty      major paid  \\\n",
       "0     fred      Fred E. Finch     fred@uwaterloo.ca    Math  Pure Math    Y   \n",
       "1  frances  Frances A. Miller  frances@uwaterloo.ca    Math      Stats    Y   \n",
       "\n",
       "  card  \n",
       "0    Y  \n",
       "1    Y  "
      ]
     },
     "execution_count": 3,
     "metadata": {},
     "output_type": "execute_result"
    }
   ],
   "source": [
    "pd.read_sql_query(\n",
    "\"SELECT * \\\n",
    "FROM member \\\n",
    "WHERE name LIKE 'F%'\", con)"
   ]
  },
  {
   "cell_type": "markdown",
   "metadata": {
    "slideshow": {
     "slide_type": "subslide"
    }
   },
   "source": [
    "#### Operator Modifiers"
   ]
  },
  {
   "cell_type": "markdown",
   "metadata": {},
   "source": [
    "##### ALL, ANY or SOME Operator Modifiers"
   ]
  },
  {
   "cell_type": "markdown",
   "metadata": {},
   "source": [
    "The operators =, <>, !=, >, <, >=, <= can be used with a list of values and the operators `ALL` or `ANY / SOME`.  \n",
    "\n",
    "- SQLite does __NOT__ have `ALL` or `ANY / SOME` implemented"
   ]
  },
  {
   "cell_type": "markdown",
   "metadata": {
    "slideshow": {
     "slide_type": "fragment"
    }
   },
   "source": [
    "__ANY, SOME__ Operator returns true, if operator is true for __any__ value in the set.  \n",
    "\n",
    "$$E_{1}\\vee E_{2}\\vee E_{3}\\vee\\cdots\\vee E_{n}$$"
   ]
  },
  {
   "cell_type": "markdown",
   "metadata": {
    "slideshow": {
     "slide_type": "fragment"
    }
   },
   "source": [
    "__ALL__ Operator returns true, if operator is true for __all__ values in the set.  \n",
    "\n",
    "$$E_{1}\\wedge E_{2}\\wedge E_{3}\\wedge\\cdots\\wedge E_{n}$$"
   ]
  },
  {
   "cell_type": "markdown",
   "metadata": {
    "slideshow": {
     "slide_type": "fragment"
    }
   },
   "source": [
    "```\n",
    "SELECT *\n",
    "FROM table_name\n",
    "WHERE column_name < ALL (subquery_returning_one_column);\n",
    "```"
   ]
  },
  {
   "cell_type": "markdown",
   "metadata": {
    "slideshow": {
     "slide_type": "subslide"
    }
   },
   "source": [
    "__Example:__ What are the expenses for non-social events? \n",
    "- (`ALL`, `ANY`, and `SOME` are not implmented in SQLite)"
   ]
  },
  {
   "cell_type": "markdown",
   "metadata": {
    "slideshow": {
     "slide_type": "fragment"
    }
   },
   "source": [
    "```\n",
    "SELECT * \n",
    "FROM expenses \n",
    "WHERE event != ALL (SELECT name \n",
    "                    FROM event\n",
    "                    WHERE type = 'social');\n",
    "```"
   ]
  },
  {
   "cell_type": "code",
   "execution_count": 4,
   "metadata": {
    "collapsed": false,
    "slideshow": {
     "slide_type": "fragment"
    }
   },
   "outputs": [
    {
     "data": {
      "text/html": [
       "<div style=\"max-height:1000px;max-width:1500px;overflow:auto;\">\n",
       "<table border=\"1\" class=\"dataframe\">\n",
       "  <thead>\n",
       "    <tr style=\"text-align: right;\">\n",
       "      <th></th>\n",
       "      <th>event</th>\n",
       "      <th>expense</th>\n",
       "      <th>price</th>\n",
       "    </tr>\n",
       "  </thead>\n",
       "  <tbody>\n",
       "    <tr>\n",
       "      <th>0 </th>\n",
       "      <td>                   Intro to SQL</td>\n",
       "      <td>   pizza</td>\n",
       "      <td> 87.43</td>\n",
       "    </tr>\n",
       "    <tr>\n",
       "      <th>1 </th>\n",
       "      <td>                   Intro to SQL</td>\n",
       "      <td>     pop</td>\n",
       "      <td> 15.34</td>\n",
       "    </tr>\n",
       "    <tr>\n",
       "      <th>2 </th>\n",
       "      <td>                Intro to Hadoop</td>\n",
       "      <td>  coffee</td>\n",
       "      <td> 23.12</td>\n",
       "    </tr>\n",
       "    <tr>\n",
       "      <th>3 </th>\n",
       "      <td>                Intro to Hadoop</td>\n",
       "      <td>   water</td>\n",
       "      <td> 10.23</td>\n",
       "    </tr>\n",
       "    <tr>\n",
       "      <th>4 </th>\n",
       "      <td>                Intro to Hadoop</td>\n",
       "      <td>  donuts</td>\n",
       "      <td> 53.23</td>\n",
       "    </tr>\n",
       "    <tr>\n",
       "      <th>5 </th>\n",
       "      <td>                Intro to Hadoop</td>\n",
       "      <td> cookies</td>\n",
       "      <td> 10.23</td>\n",
       "    </tr>\n",
       "    <tr>\n",
       "      <th>6 </th>\n",
       "      <td>    Intro to SQL: Basic Queries</td>\n",
       "      <td> cookies</td>\n",
       "      <td> 10.23</td>\n",
       "    </tr>\n",
       "    <tr>\n",
       "      <th>7 </th>\n",
       "      <td>    Intro to SQL: Basic Queries</td>\n",
       "      <td>  donuts</td>\n",
       "      <td> 20.34</td>\n",
       "    </tr>\n",
       "    <tr>\n",
       "      <th>8 </th>\n",
       "      <td>    Intro to SQL: Basic Queries</td>\n",
       "      <td>     pop</td>\n",
       "      <td> 21.54</td>\n",
       "    </tr>\n",
       "    <tr>\n",
       "      <th>9 </th>\n",
       "      <td>    Intro to SQL: Basic Queries</td>\n",
       "      <td>   water</td>\n",
       "      <td> 10.52</td>\n",
       "    </tr>\n",
       "    <tr>\n",
       "      <th>10</th>\n",
       "      <td>                      Prof Talk</td>\n",
       "      <td>     pop</td>\n",
       "      <td> 20.31</td>\n",
       "    </tr>\n",
       "    <tr>\n",
       "      <th>11</th>\n",
       "      <td>                      Prof Talk</td>\n",
       "      <td>   pizza</td>\n",
       "      <td> 62.56</td>\n",
       "    </tr>\n",
       "    <tr>\n",
       "      <th>12</th>\n",
       "      <td>                    Prof Talk 2</td>\n",
       "      <td>   pizza</td>\n",
       "      <td> 61.56</td>\n",
       "    </tr>\n",
       "    <tr>\n",
       "      <th>13</th>\n",
       "      <td>                    Prof Talk 2</td>\n",
       "      <td>     pop</td>\n",
       "      <td> 15.65</td>\n",
       "    </tr>\n",
       "    <tr>\n",
       "      <th>14</th>\n",
       "      <td> Intro to SQL: Advanced Queries</td>\n",
       "      <td> cookies</td>\n",
       "      <td> 10.23</td>\n",
       "    </tr>\n",
       "    <tr>\n",
       "      <th>15</th>\n",
       "      <td> Intro to SQL: Advanced Queries</td>\n",
       "      <td>  donuts</td>\n",
       "      <td> 20.34</td>\n",
       "    </tr>\n",
       "    <tr>\n",
       "      <th>16</th>\n",
       "      <td> Intro to SQL: Advanced Queries</td>\n",
       "      <td>     pop</td>\n",
       "      <td> 21.54</td>\n",
       "    </tr>\n",
       "    <tr>\n",
       "      <th>17</th>\n",
       "      <td> Intro to SQL: Advanced Queries</td>\n",
       "      <td>   water</td>\n",
       "      <td> 10.52</td>\n",
       "    </tr>\n",
       "  </tbody>\n",
       "</table>\n",
       "</div>"
      ],
      "text/plain": [
       "                             event  expense  price\n",
       "0                     Intro to SQL    pizza  87.43\n",
       "1                     Intro to SQL      pop  15.34\n",
       "2                  Intro to Hadoop   coffee  23.12\n",
       "3                  Intro to Hadoop    water  10.23\n",
       "4                  Intro to Hadoop   donuts  53.23\n",
       "5                  Intro to Hadoop  cookies  10.23\n",
       "6      Intro to SQL: Basic Queries  cookies  10.23\n",
       "7      Intro to SQL: Basic Queries   donuts  20.34\n",
       "8      Intro to SQL: Basic Queries      pop  21.54\n",
       "9      Intro to SQL: Basic Queries    water  10.52\n",
       "10                       Prof Talk      pop  20.31\n",
       "11                       Prof Talk    pizza  62.56\n",
       "12                     Prof Talk 2    pizza  61.56\n",
       "13                     Prof Talk 2      pop  15.65\n",
       "14  Intro to SQL: Advanced Queries  cookies  10.23\n",
       "15  Intro to SQL: Advanced Queries   donuts  20.34\n",
       "16  Intro to SQL: Advanced Queries      pop  21.54\n",
       "17  Intro to SQL: Advanced Queries    water  10.52"
      ]
     },
     "execution_count": 4,
     "metadata": {},
     "output_type": "execute_result"
    }
   ],
   "source": [
    "pd.read_sql_query(\n",
    "\"SELECT * \\\n",
    "FROM expenses \\\n",
    "WHERE event NOT IN (SELECT name \\\n",
    "                    FROM event \\\n",
    "                    WHERE type = 'social')\", con)"
   ]
  },
  {
   "cell_type": "markdown",
   "metadata": {
    "slideshow": {
     "slide_type": "subslide"
    }
   },
   "source": [
    "#### AND, OR Operators"
   ]
  },
  {
   "cell_type": "markdown",
   "metadata": {},
   "source": [
    "A group of filter conditions can be linked together with AND or OR operators. \n",
    "\n",
    "```\n",
    "SELECT col1, col2, ...\n",
    "FROM table_name\n",
    "WHERE (condition1 AND condition2 ) OR condition3;\n",
    "```"
   ]
  },
  {
   "cell_type": "markdown",
   "metadata": {
    "slideshow": {
     "slide_type": "subslide"
    }
   },
   "source": [
    "__Example:__ What Stats Club members has a name with it's second letter as A or ends in B?"
   ]
  },
  {
   "cell_type": "markdown",
   "metadata": {
    "slideshow": {
     "slide_type": "fragment"
    }
   },
   "source": [
    "```\n",
    "SELECT name\n",
    "FROM member \n",
    "WHERE name LIKE '_a%' OR  name LIKE '%b';\n",
    "```"
   ]
  },
  {
   "cell_type": "code",
   "execution_count": 5,
   "metadata": {
    "collapsed": false,
    "slideshow": {
     "slide_type": "fragment"
    }
   },
   "outputs": [
    {
     "data": {
      "text/html": [
       "<div style=\"max-height:1000px;max-width:1500px;overflow:auto;\">\n",
       "<table border=\"1\" class=\"dataframe\">\n",
       "  <thead>\n",
       "    <tr style=\"text-align: right;\">\n",
       "      <th></th>\n",
       "      <th>name</th>\n",
       "    </tr>\n",
       "  </thead>\n",
       "  <tbody>\n",
       "    <tr>\n",
       "      <th>0</th>\n",
       "      <td>      Darrell Aucoin</td>\n",
       "    </tr>\n",
       "    <tr>\n",
       "      <th>1</th>\n",
       "      <td>    James M. Eddings</td>\n",
       "    </tr>\n",
       "    <tr>\n",
       "      <th>2</th>\n",
       "      <td>       James A. Foxt</td>\n",
       "    </tr>\n",
       "    <tr>\n",
       "      <th>3</th>\n",
       "      <td>     Daniel J. Moore</td>\n",
       "    </tr>\n",
       "    <tr>\n",
       "      <th>4</th>\n",
       "      <td>    Nancy P. Jackson</td>\n",
       "    </tr>\n",
       "    <tr>\n",
       "      <th>5</th>\n",
       "      <td>    Ralph L. Waldrop</td>\n",
       "    </tr>\n",
       "    <tr>\n",
       "      <th>6</th>\n",
       "      <td> Tameika M. McMaster</td>\n",
       "    </tr>\n",
       "    <tr>\n",
       "      <th>7</th>\n",
       "      <td>    Janelle T. Smith</td>\n",
       "    </tr>\n",
       "    <tr>\n",
       "      <th>8</th>\n",
       "      <td>          Ruben Lamb</td>\n",
       "    </tr>\n",
       "    <tr>\n",
       "      <th>9</th>\n",
       "      <td>   Patrick Robertson</td>\n",
       "    </tr>\n",
       "  </tbody>\n",
       "</table>\n",
       "</div>"
      ],
      "text/plain": [
       "                  name\n",
       "0       Darrell Aucoin\n",
       "1     James M. Eddings\n",
       "2        James A. Foxt\n",
       "3      Daniel J. Moore\n",
       "4     Nancy P. Jackson\n",
       "5     Ralph L. Waldrop\n",
       "6  Tameika M. McMaster\n",
       "7     Janelle T. Smith\n",
       "8           Ruben Lamb\n",
       "9    Patrick Robertson"
      ]
     },
     "execution_count": 5,
     "metadata": {},
     "output_type": "execute_result"
    }
   ],
   "source": [
    "pd.read_sql_query(\n",
    "\"SELECT name \\\n",
    "FROM member \\\n",
    "WHERE name LIKE '_a%' OR  name LIKE '%b'\", con)"
   ]
  },
  {
   "cell_type": "markdown",
   "metadata": {
    "slideshow": {
     "slide_type": "subslide"
    }
   },
   "source": [
    "### Quiz: Filtering (WHERE Clause)"
   ]
  },
  {
   "cell_type": "markdown",
   "metadata": {},
   "source": [
    "__Q:__ What events for Stats Club are introductory talks?\n",
    "- Introductory talk names start with 'Intro'"
   ]
  },
  {
   "cell_type": "markdown",
   "metadata": {
    "slideshow": {
     "slide_type": "fragment"
    }
   },
   "source": [
    "```\n",
    "SELECT name\n",
    "FROM event \n",
    "WHERE name LIKE 'Intro%';\n",
    "```"
   ]
  },
  {
   "cell_type": "code",
   "execution_count": 6,
   "metadata": {
    "collapsed": false,
    "slideshow": {
     "slide_type": "fragment"
    }
   },
   "outputs": [
    {
     "data": {
      "text/html": [
       "<div style=\"max-height:1000px;max-width:1500px;overflow:auto;\">\n",
       "<table border=\"1\" class=\"dataframe\">\n",
       "  <thead>\n",
       "    <tr style=\"text-align: right;\">\n",
       "      <th></th>\n",
       "      <th>name</th>\n",
       "    </tr>\n",
       "  </thead>\n",
       "  <tbody>\n",
       "    <tr>\n",
       "      <th>0</th>\n",
       "      <td>                Intro to Hadoop</td>\n",
       "    </tr>\n",
       "    <tr>\n",
       "      <th>1</th>\n",
       "      <td>                   Intro to SQL</td>\n",
       "    </tr>\n",
       "    <tr>\n",
       "      <th>2</th>\n",
       "      <td> Intro to SQL: Advanced Queries</td>\n",
       "    </tr>\n",
       "    <tr>\n",
       "      <th>3</th>\n",
       "      <td>    Intro to SQL: Basic Queries</td>\n",
       "    </tr>\n",
       "  </tbody>\n",
       "</table>\n",
       "</div>"
      ],
      "text/plain": [
       "                             name\n",
       "0                 Intro to Hadoop\n",
       "1                    Intro to SQL\n",
       "2  Intro to SQL: Advanced Queries\n",
       "3     Intro to SQL: Basic Queries"
      ]
     },
     "execution_count": 6,
     "metadata": {},
     "output_type": "execute_result"
    }
   ],
   "source": [
    "pd.read_sql_query(\n",
    "\"SELECT name \\\n",
    "FROM event \\\n",
    "WHERE name LIKE 'Intro%'\", con)"
   ]
  },
  {
   "cell_type": "markdown",
   "metadata": {
    "slideshow": {
     "slide_type": "subslide"
    }
   },
   "source": [
    "__Q:__ What Stats Club members have their first name starting with a letter __BETWEEN__ A and G?"
   ]
  },
  {
   "cell_type": "markdown",
   "metadata": {
    "slideshow": {
     "slide_type": "fragment"
    }
   },
   "source": [
    "```\n",
    "SELECT name \n",
    "FROM member \n",
    "WHERE name BETWEEN 'A' AND 'G';\n",
    "```"
   ]
  },
  {
   "cell_type": "code",
   "execution_count": 7,
   "metadata": {
    "collapsed": false,
    "slideshow": {
     "slide_type": "fragment"
    }
   },
   "outputs": [
    {
     "data": {
      "text/html": [
       "<div style=\"max-height:1000px;max-width:1500px;overflow:auto;\">\n",
       "<table border=\"1\" class=\"dataframe\">\n",
       "  <thead>\n",
       "    <tr style=\"text-align: right;\">\n",
       "      <th></th>\n",
       "      <th>name</th>\n",
       "    </tr>\n",
       "  </thead>\n",
       "  <tbody>\n",
       "    <tr>\n",
       "      <th>0 </th>\n",
       "      <td>      Darrell Aucoin</td>\n",
       "    </tr>\n",
       "    <tr>\n",
       "      <th>1 </th>\n",
       "      <td>       Fred E. Finch</td>\n",
       "    </tr>\n",
       "    <tr>\n",
       "      <th>2 </th>\n",
       "      <td>     Billy L. Hunter</td>\n",
       "    </tr>\n",
       "    <tr>\n",
       "      <th>3 </th>\n",
       "      <td>  Austin K. Gilliard</td>\n",
       "    </tr>\n",
       "    <tr>\n",
       "      <th>4 </th>\n",
       "      <td>       Elaine S. Ott</td>\n",
       "    </tr>\n",
       "    <tr>\n",
       "      <th>5 </th>\n",
       "      <td>     Daniel J. Moore</td>\n",
       "    </tr>\n",
       "    <tr>\n",
       "      <th>6 </th>\n",
       "      <td>   Frances A. Miller</td>\n",
       "    </tr>\n",
       "    <tr>\n",
       "      <th>7 </th>\n",
       "      <td> Deborah D. Helfrich</td>\n",
       "    </tr>\n",
       "    <tr>\n",
       "      <th>8 </th>\n",
       "      <td>   Bobbie D. Mathews</td>\n",
       "    </tr>\n",
       "    <tr>\n",
       "      <th>9 </th>\n",
       "      <td>    Arnold J. Fuller</td>\n",
       "    </tr>\n",
       "    <tr>\n",
       "      <th>10</th>\n",
       "      <td>   Ann W. McLaughlin</td>\n",
       "    </tr>\n",
       "    <tr>\n",
       "      <th>11</th>\n",
       "      <td>       Dominick Byrd</td>\n",
       "    </tr>\n",
       "  </tbody>\n",
       "</table>\n",
       "</div>"
      ],
      "text/plain": [
       "                   name\n",
       "0        Darrell Aucoin\n",
       "1         Fred E. Finch\n",
       "2       Billy L. Hunter\n",
       "3    Austin K. Gilliard\n",
       "4         Elaine S. Ott\n",
       "5       Daniel J. Moore\n",
       "6     Frances A. Miller\n",
       "7   Deborah D. Helfrich\n",
       "8     Bobbie D. Mathews\n",
       "9      Arnold J. Fuller\n",
       "10    Ann W. McLaughlin\n",
       "11        Dominick Byrd"
      ]
     },
     "execution_count": 7,
     "metadata": {},
     "output_type": "execute_result"
    }
   ],
   "source": [
    "pd.read_sql_query(\n",
    "\"SELECT name \\\n",
    "FROM member \\\n",
    "WHERE name BETWEEN 'A' AND 'G'\", con)"
   ]
  },
  {
   "cell_type": "markdown",
   "metadata": {
    "slideshow": {
     "slide_type": "slide"
    }
   },
   "source": [
    "## GROUP BY Clause"
   ]
  },
  {
   "cell_type": "markdown",
   "metadata": {},
   "source": [
    "- GROUP BY clause groups the table by a column (or tuple of columns) and applies a function to each group\n",
    "    - In the SELECT portion of the statement, you can only list the grouped column(s) and aggregate functions on them.  \n",
    "<center>\n",
    "![alt text](Images/Group By.png)\n",
    "</center>"
   ]
  },
  {
   "cell_type": "markdown",
   "metadata": {
    "slideshow": {
     "slide_type": "fragment"
    }
   },
   "source": [
    "```\n",
    "SELECT col1, col2, ..., aggregate_function\n",
    "FROM table_name\n",
    "GROUP BY col1, col2, ...;\n",
    "```"
   ]
  },
  {
   "cell_type": "markdown",
   "metadata": {
    "slideshow": {
     "slide_type": "subslide"
    }
   },
   "source": [
    "### Aggregate Functions"
   ]
  },
  {
   "cell_type": "markdown",
   "metadata": {},
   "source": [
    "Recall:\n",
    "__Aggregate Functions:__ Takes in the columns of a table and aggregates over the entries. \n",
    "- If we use a GROUP BY clause, the aggregation will be over those groups"
   ]
  },
  {
   "cell_type": "markdown",
   "metadata": {
    "slideshow": {
     "slide_type": "fragment"
    }
   },
   "source": [
    "| Function | Return value |\n",
    "|----------|--------------|\n",
    "| AVG(column) | Average of non-null values |\n",
    "| COUNT(column) | Count of non-null values |\n",
    "| MAX(column) | Maximum of values |\n",
    "| MIN(column) | Minimum of values |\n",
    "| SUM(column) | Sum of values |\n",
    "| GROUP_CONCAT(column) | Concatenation of column strings |\n",
    "\n",
    "- There are more aggregate functions for other implementations of SQL  "
   ]
  },
  {
   "cell_type": "markdown",
   "metadata": {
    "slideshow": {
     "slide_type": "subslide"
    }
   },
   "source": [
    "__Example:__ What are the number of each type of event for Stats Club?"
   ]
  },
  {
   "cell_type": "markdown",
   "metadata": {
    "slideshow": {
     "slide_type": "fragment"
    }
   },
   "source": [
    "```\n",
    "SELECT type, COUNT(*) AS num_events \n",
    "FROM event \n",
    "GROUP BY type;\n",
    "```"
   ]
  },
  {
   "cell_type": "code",
   "execution_count": 2,
   "metadata": {
    "collapsed": false,
    "slideshow": {
     "slide_type": "fragment"
    }
   },
   "outputs": [
    {
     "data": {
      "text/html": [
       "<div style=\"max-height:1000px;max-width:1500px;overflow:auto;\">\n",
       "<table border=\"1\" class=\"dataframe\">\n",
       "  <thead>\n",
       "    <tr style=\"text-align: right;\">\n",
       "      <th></th>\n",
       "      <th>type</th>\n",
       "      <th>num_events</th>\n",
       "    </tr>\n",
       "  </thead>\n",
       "  <tbody>\n",
       "    <tr>\n",
       "      <th>0</th>\n",
       "      <td> educational</td>\n",
       "      <td> 6</td>\n",
       "    </tr>\n",
       "    <tr>\n",
       "      <th>1</th>\n",
       "      <td>      social</td>\n",
       "      <td> 2</td>\n",
       "    </tr>\n",
       "  </tbody>\n",
       "</table>\n",
       "</div>"
      ],
      "text/plain": [
       "          type  num_events\n",
       "0  educational           6\n",
       "1       social           2"
      ]
     },
     "execution_count": 2,
     "metadata": {},
     "output_type": "execute_result"
    }
   ],
   "source": [
    "pd.read_sql_query(\n",
    "\"SELECT type, COUNT(*) AS num_events \\\n",
    "FROM event \\\n",
    "GROUP BY type\", con)"
   ]
  },
  {
   "cell_type": "markdown",
   "metadata": {
    "slideshow": {
     "slide_type": "subslide"
    }
   },
   "source": [
    "### HAVING Clause"
   ]
  },
  {
   "cell_type": "markdown",
   "metadata": {},
   "source": [
    "HAVING clauses are very similar to WHERE clauses but can have aggregate function in their conditions.\n",
    "\n",
    "You can have a WHERE and HAVING clause in the same statement."
   ]
  },
  {
   "cell_type": "markdown",
   "metadata": {
    "slideshow": {
     "slide_type": "fragment"
    }
   },
   "source": [
    "__Example:__ How many Stats Club members are in each major where the major has at least 2 members?"
   ]
  },
  {
   "cell_type": "markdown",
   "metadata": {
    "slideshow": {
     "slide_type": "fragment"
    }
   },
   "source": [
    "```\n",
    "SELECT faculty, major, COUNT(*) \n",
    "FROM member \n",
    "GROUP BY faculty, major \n",
    "HAVING COUNT(*) >= 2;\n",
    "```"
   ]
  },
  {
   "cell_type": "code",
   "execution_count": 3,
   "metadata": {
    "collapsed": false,
    "slideshow": {
     "slide_type": "fragment"
    }
   },
   "outputs": [
    {
     "data": {
      "text/html": [
       "<div style=\"max-height:1000px;max-width:1500px;overflow:auto;\">\n",
       "<table border=\"1\" class=\"dataframe\">\n",
       "  <thead>\n",
       "    <tr style=\"text-align: right;\">\n",
       "      <th></th>\n",
       "      <th>faculty</th>\n",
       "      <th>major</th>\n",
       "      <th>COUNT(*)</th>\n",
       "    </tr>\n",
       "  </thead>\n",
       "  <tbody>\n",
       "    <tr>\n",
       "      <th>0</th>\n",
       "      <td> Math</td>\n",
       "      <td>      Act Sci</td>\n",
       "      <td> 10</td>\n",
       "    </tr>\n",
       "    <tr>\n",
       "      <th>1</th>\n",
       "      <td> Math</td>\n",
       "      <td> Applied Math</td>\n",
       "      <td>  2</td>\n",
       "    </tr>\n",
       "    <tr>\n",
       "      <th>2</th>\n",
       "      <td> Math</td>\n",
       "      <td>        C &amp; O</td>\n",
       "      <td>  2</td>\n",
       "    </tr>\n",
       "    <tr>\n",
       "      <th>3</th>\n",
       "      <td> Math</td>\n",
       "      <td>           CS</td>\n",
       "      <td>  3</td>\n",
       "    </tr>\n",
       "    <tr>\n",
       "      <th>4</th>\n",
       "      <td> Math</td>\n",
       "      <td>    Pure Math</td>\n",
       "      <td>  2</td>\n",
       "    </tr>\n",
       "    <tr>\n",
       "      <th>5</th>\n",
       "      <td> Math</td>\n",
       "      <td>        Stats</td>\n",
       "      <td> 14</td>\n",
       "    </tr>\n",
       "  </tbody>\n",
       "</table>\n",
       "</div>"
      ],
      "text/plain": [
       "  faculty         major  COUNT(*)\n",
       "0    Math       Act Sci        10\n",
       "1    Math  Applied Math         2\n",
       "2    Math         C & O         2\n",
       "3    Math            CS         3\n",
       "4    Math     Pure Math         2\n",
       "5    Math         Stats        14"
      ]
     },
     "execution_count": 3,
     "metadata": {},
     "output_type": "execute_result"
    }
   ],
   "source": [
    "pd.read_sql_query(\n",
    "\"SELECT faculty, major, COUNT(*) \\\n",
    "FROM member \\\n",
    "GROUP BY faculty, major \\\n",
    "HAVING COUNT(*) >= 2\", con)"
   ]
  },
  {
   "cell_type": "markdown",
   "metadata": {
    "slideshow": {
     "slide_type": "subslide"
    }
   },
   "source": [
    "### GROUP BY with ROLLUP / CUBE"
   ]
  },
  {
   "cell_type": "markdown",
   "metadata": {},
   "source": [
    "The ROLLUP operator produces a result set where the aggregate function is applied to each level of the GROUP BY hierachy.\n",
    "- The ROLLUP operator is __NOT__ implemented in SQLite\n",
    "- Useful for making reports with totals and subtotals"
   ]
  },
  {
   "cell_type": "markdown",
   "metadata": {
    "slideshow": {
     "slide_type": "fragment"
    }
   },
   "source": [
    "```\n",
    "SELECT col1, col2, ..., aggregate_function\n",
    "FROM table_name\n",
    "GROUP BY col1, col2, ... WITH ROLLUP;\n",
    "```"
   ]
  },
  {
   "cell_type": "markdown",
   "metadata": {
    "slideshow": {
     "slide_type": "subslide"
    }
   },
   "source": [
    "__Example:__ What are the number of Stats Club members in each faculty and major, including subtotals?"
   ]
  },
  {
   "cell_type": "markdown",
   "metadata": {
    "slideshow": {
     "slide_type": "fragment"
    }
   },
   "source": [
    "```\n",
    "SELECT faculty, major, COUNT(*) AS num_members\n",
    "FROM member\n",
    "GROUP BY faculty, major WITH ROLLUP;\n",
    "```"
   ]
  },
  {
   "cell_type": "code",
   "execution_count": 4,
   "metadata": {
    "collapsed": false,
    "slideshow": {
     "slide_type": "fragment"
    }
   },
   "outputs": [
    {
     "data": {
      "text/html": [
       "<div style=\"max-height:1000px;max-width:1500px;overflow:auto;\">\n",
       "<table border=\"1\" class=\"dataframe\">\n",
       "  <thead>\n",
       "    <tr style=\"text-align: right;\">\n",
       "      <th></th>\n",
       "      <th>faculty</th>\n",
       "      <th>major</th>\n",
       "      <th>num_members</th>\n",
       "    </tr>\n",
       "  </thead>\n",
       "  <tbody>\n",
       "    <tr>\n",
       "      <th>0</th>\n",
       "      <td>  Art</td>\n",
       "      <td>         Econ</td>\n",
       "      <td>  1</td>\n",
       "    </tr>\n",
       "    <tr>\n",
       "      <th>1</th>\n",
       "      <td>  Art</td>\n",
       "      <td>         None</td>\n",
       "      <td>  1</td>\n",
       "    </tr>\n",
       "    <tr>\n",
       "      <th>2</th>\n",
       "      <td> Math</td>\n",
       "      <td>      Act Sci</td>\n",
       "      <td> 10</td>\n",
       "    </tr>\n",
       "    <tr>\n",
       "      <th>3</th>\n",
       "      <td> Math</td>\n",
       "      <td> Applied Math</td>\n",
       "      <td>  2</td>\n",
       "    </tr>\n",
       "    <tr>\n",
       "      <th>4</th>\n",
       "      <td> Math</td>\n",
       "      <td>        C &amp; O</td>\n",
       "      <td>  2</td>\n",
       "    </tr>\n",
       "    <tr>\n",
       "      <th>5</th>\n",
       "      <td> Math</td>\n",
       "      <td>           CS</td>\n",
       "      <td>  3</td>\n",
       "    </tr>\n",
       "    <tr>\n",
       "      <th>6</th>\n",
       "      <td> Math</td>\n",
       "      <td>    Pure Math</td>\n",
       "      <td>  2</td>\n",
       "    </tr>\n",
       "    <tr>\n",
       "      <th>7</th>\n",
       "      <td> Math</td>\n",
       "      <td>        Stats</td>\n",
       "      <td> 14</td>\n",
       "    </tr>\n",
       "    <tr>\n",
       "      <th>8</th>\n",
       "      <td> Math</td>\n",
       "      <td>         None</td>\n",
       "      <td> 33</td>\n",
       "    </tr>\n",
       "    <tr>\n",
       "      <th>9</th>\n",
       "      <td> None</td>\n",
       "      <td>         None</td>\n",
       "      <td> 34</td>\n",
       "    </tr>\n",
       "  </tbody>\n",
       "</table>\n",
       "</div>"
      ],
      "text/plain": [
       "  faculty         major  num_members\n",
       "0     Art          Econ            1\n",
       "1     Art          None            1\n",
       "2    Math       Act Sci           10\n",
       "3    Math  Applied Math            2\n",
       "4    Math         C & O            2\n",
       "5    Math            CS            3\n",
       "6    Math     Pure Math            2\n",
       "7    Math         Stats           14\n",
       "8    Math          None           33\n",
       "9    None          None           34"
      ]
     },
     "execution_count": 4,
     "metadata": {},
     "output_type": "execute_result"
    }
   ],
   "source": [
    "pd.read_sql_query(\n",
    "\"SELECT faculty, major, num_members FROM (  \\\n",
    "SELECT '1' orderCol, faculty, major, COUNT(*) AS num_members FROM member GROUP BY faculty, major \\\n",
    "UNION \\\n",
    "SELECT '2' orderCol, faculty, NULL as major, COUNT(*) AS num_members FROM member \\\n",
    "GROUP BY faculty \\\n",
    "UNION \\\n",
    "SELECT '99' orderCol, NULL AS faculty, NULL AS major, COUNT(*) AS num_members FROM member) AS t1 \\\n",
    "ORDER BY CASE when orderCol='99' then 1 else 0 end, faculty, orderCol\", con)"
   ]
  },
  {
   "cell_type": "markdown",
   "metadata": {
    "slideshow": {
     "slide_type": "notes"
    }
   },
   "source": [
    "Note that for Art and Math in faculty there is a row which has a NULL value. This is a total for those groups.  \n",
    "\n",
    "There is also one row with NULL values for faculty and major, this is the grand total of all members."
   ]
  },
  {
   "cell_type": "markdown",
   "metadata": {
    "slideshow": {
     "slide_type": "subslide"
    }
   },
   "source": [
    "### Quiz: Aggregation (GROUP BY Clause)"
   ]
  },
  {
   "cell_type": "markdown",
   "metadata": {},
   "source": [
    "__Q:__ What is the attendance for each Stats Club event?"
   ]
  },
  {
   "cell_type": "markdown",
   "metadata": {
    "slideshow": {
     "slide_type": "fragment"
    }
   },
   "source": [
    "```\n",
    "SELECT event, COUNT(*) AS attendance \n",
    "FROM attendance \n",
    "GROUP BY event;\n",
    "```"
   ]
  },
  {
   "cell_type": "code",
   "execution_count": 5,
   "metadata": {
    "collapsed": false,
    "slideshow": {
     "slide_type": "fragment"
    }
   },
   "outputs": [
    {
     "data": {
      "text/html": [
       "<div style=\"max-height:1000px;max-width:1500px;overflow:auto;\">\n",
       "<table border=\"1\" class=\"dataframe\">\n",
       "  <thead>\n",
       "    <tr style=\"text-align: right;\">\n",
       "      <th></th>\n",
       "      <th>event</th>\n",
       "      <th>attendance</th>\n",
       "    </tr>\n",
       "  </thead>\n",
       "  <tbody>\n",
       "    <tr>\n",
       "      <th>0</th>\n",
       "      <td>                            BOT</td>\n",
       "      <td> 12</td>\n",
       "    </tr>\n",
       "    <tr>\n",
       "      <th>1</th>\n",
       "      <td>                            EOT</td>\n",
       "      <td> 18</td>\n",
       "    </tr>\n",
       "    <tr>\n",
       "      <th>2</th>\n",
       "      <td>                Intro to Hadoop</td>\n",
       "      <td> 17</td>\n",
       "    </tr>\n",
       "    <tr>\n",
       "      <th>3</th>\n",
       "      <td>                   Intro to SQL</td>\n",
       "      <td> 22</td>\n",
       "    </tr>\n",
       "    <tr>\n",
       "      <th>4</th>\n",
       "      <td> Intro to SQL: Advanced Queries</td>\n",
       "      <td> 23</td>\n",
       "    </tr>\n",
       "    <tr>\n",
       "      <th>5</th>\n",
       "      <td>    Intro to SQL: Basic Queries</td>\n",
       "      <td> 23</td>\n",
       "    </tr>\n",
       "    <tr>\n",
       "      <th>6</th>\n",
       "      <td>                      Prof Talk</td>\n",
       "      <td> 20</td>\n",
       "    </tr>\n",
       "    <tr>\n",
       "      <th>7</th>\n",
       "      <td>                    Prof Talk 2</td>\n",
       "      <td> 16</td>\n",
       "    </tr>\n",
       "  </tbody>\n",
       "</table>\n",
       "</div>"
      ],
      "text/plain": [
       "                            event  attendance\n",
       "0                             BOT          12\n",
       "1                             EOT          18\n",
       "2                 Intro to Hadoop          17\n",
       "3                    Intro to SQL          22\n",
       "4  Intro to SQL: Advanced Queries          23\n",
       "5     Intro to SQL: Basic Queries          23\n",
       "6                       Prof Talk          20\n",
       "7                     Prof Talk 2          16"
      ]
     },
     "execution_count": 5,
     "metadata": {},
     "output_type": "execute_result"
    }
   ],
   "source": [
    "pd.read_sql_query(\n",
    "\"SELECT event, COUNT(*) AS attendance \\\n",
    "FROM attendance \\\n",
    "GROUP BY event\", con)"
   ]
  },
  {
   "cell_type": "markdown",
   "metadata": {
    "slideshow": {
     "slide_type": "slide"
    }
   },
   "source": [
    "## Joins"
   ]
  },
  {
   "cell_type": "markdown",
   "metadata": {},
   "source": [
    "At times, we need information from multiple tables, to do this we need to join tables together. We can do this several ways:"
   ]
  },
  {
   "cell_type": "markdown",
   "metadata": {
    "slideshow": {
     "slide_type": "fragment"
    }
   },
   "source": [
    "1. __CROSS JOIN:__ The cartesian product of rows from each table.\n",
    "2. __INNER JOIN:__ Join two tables on a join-predicate, losing rows when evaluated false/null.\n",
    "3. __OUTER JOIN:__ Retains each record for the table(s) even when it has no matching rows from the other table. The returning table has null values for missing records.\n",
    "\n",
    "    1. __LEFT OUTER JOIN:__ Keep each record for first table but not the table it's joining with.\n",
    "\n",
    "    2. __RIGHT OUTER JOIN:__ Keep each record for second table but not the table it's joining with.\n",
    "\n",
    "    3. __FULL OUTER JOIN:__ Keep all record for all tables.\n",
    "\n",
    "4. __NATURAL JOIN:__ Tables with the exact same column name and datatype are joined along that column."
   ]
  },
  {
   "cell_type": "markdown",
   "metadata": {
    "slideshow": {
     "slide_type": "subslide"
    }
   },
   "source": [
    "### CROSS JOIN"
   ]
  },
  {
   "cell_type": "markdown",
   "metadata": {},
   "source": [
    "__CROSS JOIN__ is the cartesian product of two tables\n",
    "```\n",
    "SELECT col1, col2, ...\n",
    "FROM table1 CROSS JOIN table2;\n",
    "```\n",
    "- if table1 has n rows and table2 has m rows, then the result set has n * m rows  \n",
    "\n",
    "We can also get a CROSS JOIN by listing the tables seperated by a ','\n",
    "```\n",
    "SELECT col1, col2, ...\n",
    "FROM table1, table2;\n",
    "```"
   ]
  },
  {
   "cell_type": "markdown",
   "metadata": {
    "slideshow": {
     "slide_type": "subslide"
    }
   },
   "source": [
    "__Example:__ Suppose we are creating a games tourtament between Stats Club members where every member play every other member once. How can we create such a table? "
   ]
  },
  {
   "cell_type": "markdown",
   "metadata": {
    "slideshow": {
     "slide_type": "fragment"
    }
   },
   "source": [
    "```\n",
    "SELECT m1.name AS Player_1, m2.name  AS Player_2 \n",
    "FROM member AS m1 CROSS JOIN member AS m2;\n",
    "```"
   ]
  },
  {
   "cell_type": "code",
   "execution_count": 6,
   "metadata": {
    "collapsed": false,
    "slideshow": {
     "slide_type": "fragment"
    }
   },
   "outputs": [
    {
     "data": {
      "text/html": [
       "<div style=\"max-height:1000px;max-width:1500px;overflow:auto;\">\n",
       "<table border=\"1\" class=\"dataframe\">\n",
       "  <thead>\n",
       "    <tr style=\"text-align: right;\">\n",
       "      <th></th>\n",
       "      <th>Player_1</th>\n",
       "      <th>Player_2</th>\n",
       "    </tr>\n",
       "  </thead>\n",
       "  <tbody>\n",
       "    <tr>\n",
       "      <th>0   </th>\n",
       "      <td>    Darrell Aucoin</td>\n",
       "      <td>        Darrell Aucoin</td>\n",
       "    </tr>\n",
       "    <tr>\n",
       "      <th>1   </th>\n",
       "      <td>    Darrell Aucoin</td>\n",
       "      <td>         Fred E. Finch</td>\n",
       "    </tr>\n",
       "    <tr>\n",
       "      <th>2   </th>\n",
       "      <td>    Darrell Aucoin</td>\n",
       "      <td>          Ryan T. Luby</td>\n",
       "    </tr>\n",
       "    <tr>\n",
       "      <th>3   </th>\n",
       "      <td>    Darrell Aucoin</td>\n",
       "      <td>       Billy L. Hunter</td>\n",
       "    </tr>\n",
       "    <tr>\n",
       "      <th>4   </th>\n",
       "      <td>    Darrell Aucoin</td>\n",
       "      <td>       John J. Oquendo</td>\n",
       "    </tr>\n",
       "    <tr>\n",
       "      <th>5   </th>\n",
       "      <td>    Darrell Aucoin</td>\n",
       "      <td> Stephanie R. Matthews</td>\n",
       "    </tr>\n",
       "    <tr>\n",
       "      <th>6   </th>\n",
       "      <td>    Darrell Aucoin</td>\n",
       "      <td>    Robert B. Williams</td>\n",
       "    </tr>\n",
       "    <tr>\n",
       "      <th>7   </th>\n",
       "      <td>    Darrell Aucoin</td>\n",
       "      <td>    Austin K. Gilliard</td>\n",
       "    </tr>\n",
       "    <tr>\n",
       "      <th>8   </th>\n",
       "      <td>    Darrell Aucoin</td>\n",
       "      <td>      James M. Eddings</td>\n",
       "    </tr>\n",
       "    <tr>\n",
       "      <th>9   </th>\n",
       "      <td>    Darrell Aucoin</td>\n",
       "      <td>         Elaine S. Ott</td>\n",
       "    </tr>\n",
       "    <tr>\n",
       "      <th>10  </th>\n",
       "      <td>    Darrell Aucoin</td>\n",
       "      <td>         James A. Foxt</td>\n",
       "    </tr>\n",
       "    <tr>\n",
       "      <th>11  </th>\n",
       "      <td>    Darrell Aucoin</td>\n",
       "      <td>       Daniel J. Moore</td>\n",
       "    </tr>\n",
       "    <tr>\n",
       "      <th>12  </th>\n",
       "      <td>    Darrell Aucoin</td>\n",
       "      <td>     Kelly S. Ferguson</td>\n",
       "    </tr>\n",
       "    <tr>\n",
       "      <th>13  </th>\n",
       "      <td>    Darrell Aucoin</td>\n",
       "      <td>        Joseph L. Wood</td>\n",
       "    </tr>\n",
       "    <tr>\n",
       "      <th>14  </th>\n",
       "      <td>    Darrell Aucoin</td>\n",
       "      <td>      Vivian R. Donley</td>\n",
       "    </tr>\n",
       "    <tr>\n",
       "      <th>15  </th>\n",
       "      <td>    Darrell Aucoin</td>\n",
       "      <td>     Frances A. Miller</td>\n",
       "    </tr>\n",
       "    <tr>\n",
       "      <th>16  </th>\n",
       "      <td>    Darrell Aucoin</td>\n",
       "      <td>      Mina W. Lawrence</td>\n",
       "    </tr>\n",
       "    <tr>\n",
       "      <th>17  </th>\n",
       "      <td>    Darrell Aucoin</td>\n",
       "      <td> Phillip C. Mascarenas</td>\n",
       "    </tr>\n",
       "    <tr>\n",
       "      <th>18  </th>\n",
       "      <td>    Darrell Aucoin</td>\n",
       "      <td>        Jeff M. Wright</td>\n",
       "    </tr>\n",
       "    <tr>\n",
       "      <th>19  </th>\n",
       "      <td>    Darrell Aucoin</td>\n",
       "      <td>   Deborah D. Helfrich</td>\n",
       "    </tr>\n",
       "    <tr>\n",
       "      <th>20  </th>\n",
       "      <td>    Darrell Aucoin</td>\n",
       "      <td>      Nancy P. Jackson</td>\n",
       "    </tr>\n",
       "    <tr>\n",
       "      <th>21  </th>\n",
       "      <td>    Darrell Aucoin</td>\n",
       "      <td>     Bobbie D. Mathews</td>\n",
       "    </tr>\n",
       "    <tr>\n",
       "      <th>22  </th>\n",
       "      <td>    Darrell Aucoin</td>\n",
       "      <td>      Arnold J. Fuller</td>\n",
       "    </tr>\n",
       "    <tr>\n",
       "      <th>23  </th>\n",
       "      <td>    Darrell Aucoin</td>\n",
       "      <td>      Melvin O. Martin</td>\n",
       "    </tr>\n",
       "    <tr>\n",
       "      <th>24  </th>\n",
       "      <td>    Darrell Aucoin</td>\n",
       "      <td>      Ralph L. Waldrop</td>\n",
       "    </tr>\n",
       "    <tr>\n",
       "      <th>25  </th>\n",
       "      <td>    Darrell Aucoin</td>\n",
       "      <td>  Mildred F. Hottinger</td>\n",
       "    </tr>\n",
       "    <tr>\n",
       "      <th>26  </th>\n",
       "      <td>    Darrell Aucoin</td>\n",
       "      <td>   Tameika M. McMaster</td>\n",
       "    </tr>\n",
       "    <tr>\n",
       "      <th>27  </th>\n",
       "      <td>    Darrell Aucoin</td>\n",
       "      <td>   Melissa R. Anderson</td>\n",
       "    </tr>\n",
       "    <tr>\n",
       "      <th>28  </th>\n",
       "      <td>    Darrell Aucoin</td>\n",
       "      <td>      Janelle T. Smith</td>\n",
       "    </tr>\n",
       "    <tr>\n",
       "      <th>29  </th>\n",
       "      <td>    Darrell Aucoin</td>\n",
       "      <td>     Ann W. McLaughlin</td>\n",
       "    </tr>\n",
       "    <tr>\n",
       "      <th>...</th>\n",
       "      <td>...</td>\n",
       "      <td>...</td>\n",
       "    </tr>\n",
       "    <tr>\n",
       "      <th>1126</th>\n",
       "      <td> Patrick Robertson</td>\n",
       "      <td>       John J. Oquendo</td>\n",
       "    </tr>\n",
       "    <tr>\n",
       "      <th>1127</th>\n",
       "      <td> Patrick Robertson</td>\n",
       "      <td> Stephanie R. Matthews</td>\n",
       "    </tr>\n",
       "    <tr>\n",
       "      <th>1128</th>\n",
       "      <td> Patrick Robertson</td>\n",
       "      <td>    Robert B. Williams</td>\n",
       "    </tr>\n",
       "    <tr>\n",
       "      <th>1129</th>\n",
       "      <td> Patrick Robertson</td>\n",
       "      <td>    Austin K. Gilliard</td>\n",
       "    </tr>\n",
       "    <tr>\n",
       "      <th>1130</th>\n",
       "      <td> Patrick Robertson</td>\n",
       "      <td>      James M. Eddings</td>\n",
       "    </tr>\n",
       "    <tr>\n",
       "      <th>1131</th>\n",
       "      <td> Patrick Robertson</td>\n",
       "      <td>         Elaine S. Ott</td>\n",
       "    </tr>\n",
       "    <tr>\n",
       "      <th>1132</th>\n",
       "      <td> Patrick Robertson</td>\n",
       "      <td>         James A. Foxt</td>\n",
       "    </tr>\n",
       "    <tr>\n",
       "      <th>1133</th>\n",
       "      <td> Patrick Robertson</td>\n",
       "      <td>       Daniel J. Moore</td>\n",
       "    </tr>\n",
       "    <tr>\n",
       "      <th>1134</th>\n",
       "      <td> Patrick Robertson</td>\n",
       "      <td>     Kelly S. Ferguson</td>\n",
       "    </tr>\n",
       "    <tr>\n",
       "      <th>1135</th>\n",
       "      <td> Patrick Robertson</td>\n",
       "      <td>        Joseph L. Wood</td>\n",
       "    </tr>\n",
       "    <tr>\n",
       "      <th>1136</th>\n",
       "      <td> Patrick Robertson</td>\n",
       "      <td>      Vivian R. Donley</td>\n",
       "    </tr>\n",
       "    <tr>\n",
       "      <th>1137</th>\n",
       "      <td> Patrick Robertson</td>\n",
       "      <td>     Frances A. Miller</td>\n",
       "    </tr>\n",
       "    <tr>\n",
       "      <th>1138</th>\n",
       "      <td> Patrick Robertson</td>\n",
       "      <td>      Mina W. Lawrence</td>\n",
       "    </tr>\n",
       "    <tr>\n",
       "      <th>1139</th>\n",
       "      <td> Patrick Robertson</td>\n",
       "      <td> Phillip C. Mascarenas</td>\n",
       "    </tr>\n",
       "    <tr>\n",
       "      <th>1140</th>\n",
       "      <td> Patrick Robertson</td>\n",
       "      <td>        Jeff M. Wright</td>\n",
       "    </tr>\n",
       "    <tr>\n",
       "      <th>1141</th>\n",
       "      <td> Patrick Robertson</td>\n",
       "      <td>   Deborah D. Helfrich</td>\n",
       "    </tr>\n",
       "    <tr>\n",
       "      <th>1142</th>\n",
       "      <td> Patrick Robertson</td>\n",
       "      <td>      Nancy P. Jackson</td>\n",
       "    </tr>\n",
       "    <tr>\n",
       "      <th>1143</th>\n",
       "      <td> Patrick Robertson</td>\n",
       "      <td>     Bobbie D. Mathews</td>\n",
       "    </tr>\n",
       "    <tr>\n",
       "      <th>1144</th>\n",
       "      <td> Patrick Robertson</td>\n",
       "      <td>      Arnold J. Fuller</td>\n",
       "    </tr>\n",
       "    <tr>\n",
       "      <th>1145</th>\n",
       "      <td> Patrick Robertson</td>\n",
       "      <td>      Melvin O. Martin</td>\n",
       "    </tr>\n",
       "    <tr>\n",
       "      <th>1146</th>\n",
       "      <td> Patrick Robertson</td>\n",
       "      <td>      Ralph L. Waldrop</td>\n",
       "    </tr>\n",
       "    <tr>\n",
       "      <th>1147</th>\n",
       "      <td> Patrick Robertson</td>\n",
       "      <td>  Mildred F. Hottinger</td>\n",
       "    </tr>\n",
       "    <tr>\n",
       "      <th>1148</th>\n",
       "      <td> Patrick Robertson</td>\n",
       "      <td>   Tameika M. McMaster</td>\n",
       "    </tr>\n",
       "    <tr>\n",
       "      <th>1149</th>\n",
       "      <td> Patrick Robertson</td>\n",
       "      <td>   Melissa R. Anderson</td>\n",
       "    </tr>\n",
       "    <tr>\n",
       "      <th>1150</th>\n",
       "      <td> Patrick Robertson</td>\n",
       "      <td>      Janelle T. Smith</td>\n",
       "    </tr>\n",
       "    <tr>\n",
       "      <th>1151</th>\n",
       "      <td> Patrick Robertson</td>\n",
       "      <td>     Ann W. McLaughlin</td>\n",
       "    </tr>\n",
       "    <tr>\n",
       "      <th>1152</th>\n",
       "      <td> Patrick Robertson</td>\n",
       "      <td>     Judith B. Gibbons</td>\n",
       "    </tr>\n",
       "    <tr>\n",
       "      <th>1153</th>\n",
       "      <td> Patrick Robertson</td>\n",
       "      <td>            Ruben Lamb</td>\n",
       "    </tr>\n",
       "    <tr>\n",
       "      <th>1154</th>\n",
       "      <td> Patrick Robertson</td>\n",
       "      <td>         Dominick Byrd</td>\n",
       "    </tr>\n",
       "    <tr>\n",
       "      <th>1155</th>\n",
       "      <td> Patrick Robertson</td>\n",
       "      <td>     Patrick Robertson</td>\n",
       "    </tr>\n",
       "  </tbody>\n",
       "</table>\n",
       "<p>1156 rows × 2 columns</p>\n",
       "</div>"
      ],
      "text/plain": [
       "               Player_1               Player_2\n",
       "0        Darrell Aucoin         Darrell Aucoin\n",
       "1        Darrell Aucoin          Fred E. Finch\n",
       "2        Darrell Aucoin           Ryan T. Luby\n",
       "3        Darrell Aucoin        Billy L. Hunter\n",
       "4        Darrell Aucoin        John J. Oquendo\n",
       "5        Darrell Aucoin  Stephanie R. Matthews\n",
       "6        Darrell Aucoin     Robert B. Williams\n",
       "7        Darrell Aucoin     Austin K. Gilliard\n",
       "8        Darrell Aucoin       James M. Eddings\n",
       "9        Darrell Aucoin          Elaine S. Ott\n",
       "10       Darrell Aucoin          James A. Foxt\n",
       "11       Darrell Aucoin        Daniel J. Moore\n",
       "12       Darrell Aucoin      Kelly S. Ferguson\n",
       "13       Darrell Aucoin         Joseph L. Wood\n",
       "14       Darrell Aucoin       Vivian R. Donley\n",
       "15       Darrell Aucoin      Frances A. Miller\n",
       "16       Darrell Aucoin       Mina W. Lawrence\n",
       "17       Darrell Aucoin  Phillip C. Mascarenas\n",
       "18       Darrell Aucoin         Jeff M. Wright\n",
       "19       Darrell Aucoin    Deborah D. Helfrich\n",
       "20       Darrell Aucoin       Nancy P. Jackson\n",
       "21       Darrell Aucoin      Bobbie D. Mathews\n",
       "22       Darrell Aucoin       Arnold J. Fuller\n",
       "23       Darrell Aucoin       Melvin O. Martin\n",
       "24       Darrell Aucoin       Ralph L. Waldrop\n",
       "25       Darrell Aucoin   Mildred F. Hottinger\n",
       "26       Darrell Aucoin    Tameika M. McMaster\n",
       "27       Darrell Aucoin    Melissa R. Anderson\n",
       "28       Darrell Aucoin       Janelle T. Smith\n",
       "29       Darrell Aucoin      Ann W. McLaughlin\n",
       "...                 ...                    ...\n",
       "1126  Patrick Robertson        John J. Oquendo\n",
       "1127  Patrick Robertson  Stephanie R. Matthews\n",
       "1128  Patrick Robertson     Robert B. Williams\n",
       "1129  Patrick Robertson     Austin K. Gilliard\n",
       "1130  Patrick Robertson       James M. Eddings\n",
       "1131  Patrick Robertson          Elaine S. Ott\n",
       "1132  Patrick Robertson          James A. Foxt\n",
       "1133  Patrick Robertson        Daniel J. Moore\n",
       "1134  Patrick Robertson      Kelly S. Ferguson\n",
       "1135  Patrick Robertson         Joseph L. Wood\n",
       "1136  Patrick Robertson       Vivian R. Donley\n",
       "1137  Patrick Robertson      Frances A. Miller\n",
       "1138  Patrick Robertson       Mina W. Lawrence\n",
       "1139  Patrick Robertson  Phillip C. Mascarenas\n",
       "1140  Patrick Robertson         Jeff M. Wright\n",
       "1141  Patrick Robertson    Deborah D. Helfrich\n",
       "1142  Patrick Robertson       Nancy P. Jackson\n",
       "1143  Patrick Robertson      Bobbie D. Mathews\n",
       "1144  Patrick Robertson       Arnold J. Fuller\n",
       "1145  Patrick Robertson       Melvin O. Martin\n",
       "1146  Patrick Robertson       Ralph L. Waldrop\n",
       "1147  Patrick Robertson   Mildred F. Hottinger\n",
       "1148  Patrick Robertson    Tameika M. McMaster\n",
       "1149  Patrick Robertson    Melissa R. Anderson\n",
       "1150  Patrick Robertson       Janelle T. Smith\n",
       "1151  Patrick Robertson      Ann W. McLaughlin\n",
       "1152  Patrick Robertson      Judith B. Gibbons\n",
       "1153  Patrick Robertson             Ruben Lamb\n",
       "1154  Patrick Robertson          Dominick Byrd\n",
       "1155  Patrick Robertson      Patrick Robertson\n",
       "\n",
       "[1156 rows x 2 columns]"
      ]
     },
     "execution_count": 6,
     "metadata": {},
     "output_type": "execute_result"
    }
   ],
   "source": [
    "pd.read_sql_query(\n",
    "\"SELECT m1.name AS Player_1, m2.name  AS Player_2 \\\n",
    "FROM member AS m1 CROSS JOIN member AS m2\", con)"
   ]
  },
  {
   "cell_type": "markdown",
   "metadata": {
    "slideshow": {
     "slide_type": "subslide"
    }
   },
   "source": [
    "However we have have players playing themselves, and rounds with  the same players in opposite roles. We just need to filter these out.\n",
    "```\n",
    "SELECT m1.name AS Player_1, m2.name  AS Player_2 \n",
    "FROM member AS m1 CROSS JOIN member AS m2 \n",
    "WHERE m1.name > m2.name;\n",
    "```"
   ]
  },
  {
   "cell_type": "code",
   "execution_count": 7,
   "metadata": {
    "collapsed": false,
    "slideshow": {
     "slide_type": "fragment"
    }
   },
   "outputs": [
    {
     "data": {
      "text/html": [
       "<div style=\"max-height:1000px;max-width:1500px;overflow:auto;\">\n",
       "<table border=\"1\" class=\"dataframe\">\n",
       "  <thead>\n",
       "    <tr style=\"text-align: right;\">\n",
       "      <th></th>\n",
       "      <th>Player_1</th>\n",
       "      <th>Player_2</th>\n",
       "    </tr>\n",
       "  </thead>\n",
       "  <tbody>\n",
       "    <tr>\n",
       "      <th>0  </th>\n",
       "      <td>    Darrell Aucoin</td>\n",
       "      <td>      Billy L. Hunter</td>\n",
       "    </tr>\n",
       "    <tr>\n",
       "      <th>1  </th>\n",
       "      <td>    Darrell Aucoin</td>\n",
       "      <td>   Austin K. Gilliard</td>\n",
       "    </tr>\n",
       "    <tr>\n",
       "      <th>2  </th>\n",
       "      <td>    Darrell Aucoin</td>\n",
       "      <td>      Daniel J. Moore</td>\n",
       "    </tr>\n",
       "    <tr>\n",
       "      <th>3  </th>\n",
       "      <td>    Darrell Aucoin</td>\n",
       "      <td>    Bobbie D. Mathews</td>\n",
       "    </tr>\n",
       "    <tr>\n",
       "      <th>4  </th>\n",
       "      <td>    Darrell Aucoin</td>\n",
       "      <td>     Arnold J. Fuller</td>\n",
       "    </tr>\n",
       "    <tr>\n",
       "      <th>5  </th>\n",
       "      <td>    Darrell Aucoin</td>\n",
       "      <td>    Ann W. McLaughlin</td>\n",
       "    </tr>\n",
       "    <tr>\n",
       "      <th>6  </th>\n",
       "      <td>     Fred E. Finch</td>\n",
       "      <td>       Darrell Aucoin</td>\n",
       "    </tr>\n",
       "    <tr>\n",
       "      <th>7  </th>\n",
       "      <td>     Fred E. Finch</td>\n",
       "      <td>      Billy L. Hunter</td>\n",
       "    </tr>\n",
       "    <tr>\n",
       "      <th>8  </th>\n",
       "      <td>     Fred E. Finch</td>\n",
       "      <td>   Austin K. Gilliard</td>\n",
       "    </tr>\n",
       "    <tr>\n",
       "      <th>9  </th>\n",
       "      <td>     Fred E. Finch</td>\n",
       "      <td>        Elaine S. Ott</td>\n",
       "    </tr>\n",
       "    <tr>\n",
       "      <th>10 </th>\n",
       "      <td>     Fred E. Finch</td>\n",
       "      <td>      Daniel J. Moore</td>\n",
       "    </tr>\n",
       "    <tr>\n",
       "      <th>11 </th>\n",
       "      <td>     Fred E. Finch</td>\n",
       "      <td>    Frances A. Miller</td>\n",
       "    </tr>\n",
       "    <tr>\n",
       "      <th>12 </th>\n",
       "      <td>     Fred E. Finch</td>\n",
       "      <td>  Deborah D. Helfrich</td>\n",
       "    </tr>\n",
       "    <tr>\n",
       "      <th>13 </th>\n",
       "      <td>     Fred E. Finch</td>\n",
       "      <td>    Bobbie D. Mathews</td>\n",
       "    </tr>\n",
       "    <tr>\n",
       "      <th>14 </th>\n",
       "      <td>     Fred E. Finch</td>\n",
       "      <td>     Arnold J. Fuller</td>\n",
       "    </tr>\n",
       "    <tr>\n",
       "      <th>15 </th>\n",
       "      <td>     Fred E. Finch</td>\n",
       "      <td>    Ann W. McLaughlin</td>\n",
       "    </tr>\n",
       "    <tr>\n",
       "      <th>16 </th>\n",
       "      <td>     Fred E. Finch</td>\n",
       "      <td>        Dominick Byrd</td>\n",
       "    </tr>\n",
       "    <tr>\n",
       "      <th>17 </th>\n",
       "      <td>      Ryan T. Luby</td>\n",
       "      <td>       Darrell Aucoin</td>\n",
       "    </tr>\n",
       "    <tr>\n",
       "      <th>18 </th>\n",
       "      <td>      Ryan T. Luby</td>\n",
       "      <td>        Fred E. Finch</td>\n",
       "    </tr>\n",
       "    <tr>\n",
       "      <th>19 </th>\n",
       "      <td>      Ryan T. Luby</td>\n",
       "      <td>      Billy L. Hunter</td>\n",
       "    </tr>\n",
       "    <tr>\n",
       "      <th>20 </th>\n",
       "      <td>      Ryan T. Luby</td>\n",
       "      <td>      John J. Oquendo</td>\n",
       "    </tr>\n",
       "    <tr>\n",
       "      <th>21 </th>\n",
       "      <td>      Ryan T. Luby</td>\n",
       "      <td>   Robert B. Williams</td>\n",
       "    </tr>\n",
       "    <tr>\n",
       "      <th>22 </th>\n",
       "      <td>      Ryan T. Luby</td>\n",
       "      <td>   Austin K. Gilliard</td>\n",
       "    </tr>\n",
       "    <tr>\n",
       "      <th>23 </th>\n",
       "      <td>      Ryan T. Luby</td>\n",
       "      <td>     James M. Eddings</td>\n",
       "    </tr>\n",
       "    <tr>\n",
       "      <th>24 </th>\n",
       "      <td>      Ryan T. Luby</td>\n",
       "      <td>        Elaine S. Ott</td>\n",
       "    </tr>\n",
       "    <tr>\n",
       "      <th>25 </th>\n",
       "      <td>      Ryan T. Luby</td>\n",
       "      <td>        James A. Foxt</td>\n",
       "    </tr>\n",
       "    <tr>\n",
       "      <th>26 </th>\n",
       "      <td>      Ryan T. Luby</td>\n",
       "      <td>      Daniel J. Moore</td>\n",
       "    </tr>\n",
       "    <tr>\n",
       "      <th>27 </th>\n",
       "      <td>      Ryan T. Luby</td>\n",
       "      <td>    Kelly S. Ferguson</td>\n",
       "    </tr>\n",
       "    <tr>\n",
       "      <th>28 </th>\n",
       "      <td>      Ryan T. Luby</td>\n",
       "      <td>       Joseph L. Wood</td>\n",
       "    </tr>\n",
       "    <tr>\n",
       "      <th>29 </th>\n",
       "      <td>      Ryan T. Luby</td>\n",
       "      <td>    Frances A. Miller</td>\n",
       "    </tr>\n",
       "    <tr>\n",
       "      <th>...</th>\n",
       "      <td>...</td>\n",
       "      <td>...</td>\n",
       "    </tr>\n",
       "    <tr>\n",
       "      <th>531</th>\n",
       "      <td>     Dominick Byrd</td>\n",
       "      <td>      Daniel J. Moore</td>\n",
       "    </tr>\n",
       "    <tr>\n",
       "      <th>532</th>\n",
       "      <td>     Dominick Byrd</td>\n",
       "      <td>  Deborah D. Helfrich</td>\n",
       "    </tr>\n",
       "    <tr>\n",
       "      <th>533</th>\n",
       "      <td>     Dominick Byrd</td>\n",
       "      <td>    Bobbie D. Mathews</td>\n",
       "    </tr>\n",
       "    <tr>\n",
       "      <th>534</th>\n",
       "      <td>     Dominick Byrd</td>\n",
       "      <td>     Arnold J. Fuller</td>\n",
       "    </tr>\n",
       "    <tr>\n",
       "      <th>535</th>\n",
       "      <td>     Dominick Byrd</td>\n",
       "      <td>    Ann W. McLaughlin</td>\n",
       "    </tr>\n",
       "    <tr>\n",
       "      <th>536</th>\n",
       "      <td> Patrick Robertson</td>\n",
       "      <td>       Darrell Aucoin</td>\n",
       "    </tr>\n",
       "    <tr>\n",
       "      <th>537</th>\n",
       "      <td> Patrick Robertson</td>\n",
       "      <td>        Fred E. Finch</td>\n",
       "    </tr>\n",
       "    <tr>\n",
       "      <th>538</th>\n",
       "      <td> Patrick Robertson</td>\n",
       "      <td>      Billy L. Hunter</td>\n",
       "    </tr>\n",
       "    <tr>\n",
       "      <th>539</th>\n",
       "      <td> Patrick Robertson</td>\n",
       "      <td>      John J. Oquendo</td>\n",
       "    </tr>\n",
       "    <tr>\n",
       "      <th>540</th>\n",
       "      <td> Patrick Robertson</td>\n",
       "      <td>   Austin K. Gilliard</td>\n",
       "    </tr>\n",
       "    <tr>\n",
       "      <th>541</th>\n",
       "      <td> Patrick Robertson</td>\n",
       "      <td>     James M. Eddings</td>\n",
       "    </tr>\n",
       "    <tr>\n",
       "      <th>542</th>\n",
       "      <td> Patrick Robertson</td>\n",
       "      <td>        Elaine S. Ott</td>\n",
       "    </tr>\n",
       "    <tr>\n",
       "      <th>543</th>\n",
       "      <td> Patrick Robertson</td>\n",
       "      <td>        James A. Foxt</td>\n",
       "    </tr>\n",
       "    <tr>\n",
       "      <th>544</th>\n",
       "      <td> Patrick Robertson</td>\n",
       "      <td>      Daniel J. Moore</td>\n",
       "    </tr>\n",
       "    <tr>\n",
       "      <th>545</th>\n",
       "      <td> Patrick Robertson</td>\n",
       "      <td>    Kelly S. Ferguson</td>\n",
       "    </tr>\n",
       "    <tr>\n",
       "      <th>546</th>\n",
       "      <td> Patrick Robertson</td>\n",
       "      <td>       Joseph L. Wood</td>\n",
       "    </tr>\n",
       "    <tr>\n",
       "      <th>547</th>\n",
       "      <td> Patrick Robertson</td>\n",
       "      <td>    Frances A. Miller</td>\n",
       "    </tr>\n",
       "    <tr>\n",
       "      <th>548</th>\n",
       "      <td> Patrick Robertson</td>\n",
       "      <td>     Mina W. Lawrence</td>\n",
       "    </tr>\n",
       "    <tr>\n",
       "      <th>549</th>\n",
       "      <td> Patrick Robertson</td>\n",
       "      <td>       Jeff M. Wright</td>\n",
       "    </tr>\n",
       "    <tr>\n",
       "      <th>550</th>\n",
       "      <td> Patrick Robertson</td>\n",
       "      <td>  Deborah D. Helfrich</td>\n",
       "    </tr>\n",
       "    <tr>\n",
       "      <th>551</th>\n",
       "      <td> Patrick Robertson</td>\n",
       "      <td>     Nancy P. Jackson</td>\n",
       "    </tr>\n",
       "    <tr>\n",
       "      <th>552</th>\n",
       "      <td> Patrick Robertson</td>\n",
       "      <td>    Bobbie D. Mathews</td>\n",
       "    </tr>\n",
       "    <tr>\n",
       "      <th>553</th>\n",
       "      <td> Patrick Robertson</td>\n",
       "      <td>     Arnold J. Fuller</td>\n",
       "    </tr>\n",
       "    <tr>\n",
       "      <th>554</th>\n",
       "      <td> Patrick Robertson</td>\n",
       "      <td>     Melvin O. Martin</td>\n",
       "    </tr>\n",
       "    <tr>\n",
       "      <th>555</th>\n",
       "      <td> Patrick Robertson</td>\n",
       "      <td> Mildred F. Hottinger</td>\n",
       "    </tr>\n",
       "    <tr>\n",
       "      <th>556</th>\n",
       "      <td> Patrick Robertson</td>\n",
       "      <td>  Melissa R. Anderson</td>\n",
       "    </tr>\n",
       "    <tr>\n",
       "      <th>557</th>\n",
       "      <td> Patrick Robertson</td>\n",
       "      <td>     Janelle T. Smith</td>\n",
       "    </tr>\n",
       "    <tr>\n",
       "      <th>558</th>\n",
       "      <td> Patrick Robertson</td>\n",
       "      <td>    Ann W. McLaughlin</td>\n",
       "    </tr>\n",
       "    <tr>\n",
       "      <th>559</th>\n",
       "      <td> Patrick Robertson</td>\n",
       "      <td>    Judith B. Gibbons</td>\n",
       "    </tr>\n",
       "    <tr>\n",
       "      <th>560</th>\n",
       "      <td> Patrick Robertson</td>\n",
       "      <td>        Dominick Byrd</td>\n",
       "    </tr>\n",
       "  </tbody>\n",
       "</table>\n",
       "<p>561 rows × 2 columns</p>\n",
       "</div>"
      ],
      "text/plain": [
       "              Player_1              Player_2\n",
       "0       Darrell Aucoin       Billy L. Hunter\n",
       "1       Darrell Aucoin    Austin K. Gilliard\n",
       "2       Darrell Aucoin       Daniel J. Moore\n",
       "3       Darrell Aucoin     Bobbie D. Mathews\n",
       "4       Darrell Aucoin      Arnold J. Fuller\n",
       "5       Darrell Aucoin     Ann W. McLaughlin\n",
       "6        Fred E. Finch        Darrell Aucoin\n",
       "7        Fred E. Finch       Billy L. Hunter\n",
       "8        Fred E. Finch    Austin K. Gilliard\n",
       "9        Fred E. Finch         Elaine S. Ott\n",
       "10       Fred E. Finch       Daniel J. Moore\n",
       "11       Fred E. Finch     Frances A. Miller\n",
       "12       Fred E. Finch   Deborah D. Helfrich\n",
       "13       Fred E. Finch     Bobbie D. Mathews\n",
       "14       Fred E. Finch      Arnold J. Fuller\n",
       "15       Fred E. Finch     Ann W. McLaughlin\n",
       "16       Fred E. Finch         Dominick Byrd\n",
       "17        Ryan T. Luby        Darrell Aucoin\n",
       "18        Ryan T. Luby         Fred E. Finch\n",
       "19        Ryan T. Luby       Billy L. Hunter\n",
       "20        Ryan T. Luby       John J. Oquendo\n",
       "21        Ryan T. Luby    Robert B. Williams\n",
       "22        Ryan T. Luby    Austin K. Gilliard\n",
       "23        Ryan T. Luby      James M. Eddings\n",
       "24        Ryan T. Luby         Elaine S. Ott\n",
       "25        Ryan T. Luby         James A. Foxt\n",
       "26        Ryan T. Luby       Daniel J. Moore\n",
       "27        Ryan T. Luby     Kelly S. Ferguson\n",
       "28        Ryan T. Luby        Joseph L. Wood\n",
       "29        Ryan T. Luby     Frances A. Miller\n",
       "..                 ...                   ...\n",
       "531      Dominick Byrd       Daniel J. Moore\n",
       "532      Dominick Byrd   Deborah D. Helfrich\n",
       "533      Dominick Byrd     Bobbie D. Mathews\n",
       "534      Dominick Byrd      Arnold J. Fuller\n",
       "535      Dominick Byrd     Ann W. McLaughlin\n",
       "536  Patrick Robertson        Darrell Aucoin\n",
       "537  Patrick Robertson         Fred E. Finch\n",
       "538  Patrick Robertson       Billy L. Hunter\n",
       "539  Patrick Robertson       John J. Oquendo\n",
       "540  Patrick Robertson    Austin K. Gilliard\n",
       "541  Patrick Robertson      James M. Eddings\n",
       "542  Patrick Robertson         Elaine S. Ott\n",
       "543  Patrick Robertson         James A. Foxt\n",
       "544  Patrick Robertson       Daniel J. Moore\n",
       "545  Patrick Robertson     Kelly S. Ferguson\n",
       "546  Patrick Robertson        Joseph L. Wood\n",
       "547  Patrick Robertson     Frances A. Miller\n",
       "548  Patrick Robertson      Mina W. Lawrence\n",
       "549  Patrick Robertson        Jeff M. Wright\n",
       "550  Patrick Robertson   Deborah D. Helfrich\n",
       "551  Patrick Robertson      Nancy P. Jackson\n",
       "552  Patrick Robertson     Bobbie D. Mathews\n",
       "553  Patrick Robertson      Arnold J. Fuller\n",
       "554  Patrick Robertson      Melvin O. Martin\n",
       "555  Patrick Robertson  Mildred F. Hottinger\n",
       "556  Patrick Robertson   Melissa R. Anderson\n",
       "557  Patrick Robertson      Janelle T. Smith\n",
       "558  Patrick Robertson     Ann W. McLaughlin\n",
       "559  Patrick Robertson     Judith B. Gibbons\n",
       "560  Patrick Robertson         Dominick Byrd\n",
       "\n",
       "[561 rows x 2 columns]"
      ]
     },
     "execution_count": 7,
     "metadata": {},
     "output_type": "execute_result"
    }
   ],
   "source": [
    "pd.read_sql_query(\n",
    "\"SELECT m1.name AS Player_1, m2.name  AS Player_2 \\\n",
    "FROM member AS m1 CROSS JOIN member AS m2 \\\n",
    "WHERE m1.name > m2.name\", con)"
   ]
  },
  {
   "cell_type": "markdown",
   "metadata": {
    "slideshow": {
     "slide_type": "subslide"
    }
   },
   "source": [
    "### INNER JOIN"
   ]
  },
  {
   "cell_type": "markdown",
   "metadata": {},
   "source": [
    "__INNER JOIN__ Joins two tables where the join condition returns true. Discarded when returning false or NULL.\n",
    "```\n",
    "SELECT col1, col2, ...\n",
    "FROM table1 INNER JOIN table2 ON condition;\n",
    "```"
   ]
  },
  {
   "cell_type": "markdown",
   "metadata": {
    "slideshow": {
     "slide_type": "subslide"
    }
   },
   "source": [
    "#### ON Clause"
   ]
  },
  {
   "cell_type": "markdown",
   "metadata": {},
   "source": [
    "The __ON__ clause specifies the join condition:"
   ]
  },
  {
   "cell_type": "markdown",
   "metadata": {
    "slideshow": {
     "slide_type": "fragment"
    }
   },
   "source": [
    "- The ON clause can use a multiple set of conditions connected by AND, OR"
   ]
  },
  {
   "cell_type": "markdown",
   "metadata": {
    "slideshow": {
     "slide_type": "fragment"
    }
   },
   "source": [
    "- USING(<join col>) can also be used if both tables have the same column name and type"
   ]
  },
  {
   "cell_type": "markdown",
   "metadata": {
    "slideshow": {
     "slide_type": "fragment"
    }
   },
   "source": [
    "- Some SQL implementations constructs the ON clause from the WHERE clause (DB2)\n",
    "    - filtering by the WHERE clause gives the same result but in some implementations will product an intermediate cross product of tables (making the query slower)"
   ]
  },
  {
   "cell_type": "markdown",
   "metadata": {
    "slideshow": {
     "slide_type": "subslide"
    }
   },
   "source": [
    "__Example:__ Note that in the previous example with CROSS JOIN where we made a tournament player list using the WHERE clause, we can get the same table by using an INNER JOIN and Θ='>'."
   ]
  },
  {
   "cell_type": "markdown",
   "metadata": {
    "slideshow": {
     "slide_type": "fragment"
    }
   },
   "source": [
    "```\n",
    "SELECT m1.name AS Player_1, m2.name  AS Player_2 \n",
    "FROM member AS m1 INNER JOIN member AS m2 ON m1.name > m2.name;\n",
    "```"
   ]
  },
  {
   "cell_type": "code",
   "execution_count": 8,
   "metadata": {
    "collapsed": false,
    "slideshow": {
     "slide_type": "fragment"
    }
   },
   "outputs": [
    {
     "data": {
      "text/html": [
       "<div style=\"max-height:1000px;max-width:1500px;overflow:auto;\">\n",
       "<table border=\"1\" class=\"dataframe\">\n",
       "  <thead>\n",
       "    <tr style=\"text-align: right;\">\n",
       "      <th></th>\n",
       "      <th>Player_1</th>\n",
       "      <th>Player_2</th>\n",
       "    </tr>\n",
       "  </thead>\n",
       "  <tbody>\n",
       "    <tr>\n",
       "      <th>0  </th>\n",
       "      <td>    Darrell Aucoin</td>\n",
       "      <td>      Billy L. Hunter</td>\n",
       "    </tr>\n",
       "    <tr>\n",
       "      <th>1  </th>\n",
       "      <td>    Darrell Aucoin</td>\n",
       "      <td>   Austin K. Gilliard</td>\n",
       "    </tr>\n",
       "    <tr>\n",
       "      <th>2  </th>\n",
       "      <td>    Darrell Aucoin</td>\n",
       "      <td>      Daniel J. Moore</td>\n",
       "    </tr>\n",
       "    <tr>\n",
       "      <th>3  </th>\n",
       "      <td>    Darrell Aucoin</td>\n",
       "      <td>    Bobbie D. Mathews</td>\n",
       "    </tr>\n",
       "    <tr>\n",
       "      <th>4  </th>\n",
       "      <td>    Darrell Aucoin</td>\n",
       "      <td>     Arnold J. Fuller</td>\n",
       "    </tr>\n",
       "    <tr>\n",
       "      <th>5  </th>\n",
       "      <td>    Darrell Aucoin</td>\n",
       "      <td>    Ann W. McLaughlin</td>\n",
       "    </tr>\n",
       "    <tr>\n",
       "      <th>6  </th>\n",
       "      <td>     Fred E. Finch</td>\n",
       "      <td>       Darrell Aucoin</td>\n",
       "    </tr>\n",
       "    <tr>\n",
       "      <th>7  </th>\n",
       "      <td>     Fred E. Finch</td>\n",
       "      <td>      Billy L. Hunter</td>\n",
       "    </tr>\n",
       "    <tr>\n",
       "      <th>8  </th>\n",
       "      <td>     Fred E. Finch</td>\n",
       "      <td>   Austin K. Gilliard</td>\n",
       "    </tr>\n",
       "    <tr>\n",
       "      <th>9  </th>\n",
       "      <td>     Fred E. Finch</td>\n",
       "      <td>        Elaine S. Ott</td>\n",
       "    </tr>\n",
       "    <tr>\n",
       "      <th>10 </th>\n",
       "      <td>     Fred E. Finch</td>\n",
       "      <td>      Daniel J. Moore</td>\n",
       "    </tr>\n",
       "    <tr>\n",
       "      <th>11 </th>\n",
       "      <td>     Fred E. Finch</td>\n",
       "      <td>    Frances A. Miller</td>\n",
       "    </tr>\n",
       "    <tr>\n",
       "      <th>12 </th>\n",
       "      <td>     Fred E. Finch</td>\n",
       "      <td>  Deborah D. Helfrich</td>\n",
       "    </tr>\n",
       "    <tr>\n",
       "      <th>13 </th>\n",
       "      <td>     Fred E. Finch</td>\n",
       "      <td>    Bobbie D. Mathews</td>\n",
       "    </tr>\n",
       "    <tr>\n",
       "      <th>14 </th>\n",
       "      <td>     Fred E. Finch</td>\n",
       "      <td>     Arnold J. Fuller</td>\n",
       "    </tr>\n",
       "    <tr>\n",
       "      <th>15 </th>\n",
       "      <td>     Fred E. Finch</td>\n",
       "      <td>    Ann W. McLaughlin</td>\n",
       "    </tr>\n",
       "    <tr>\n",
       "      <th>16 </th>\n",
       "      <td>     Fred E. Finch</td>\n",
       "      <td>        Dominick Byrd</td>\n",
       "    </tr>\n",
       "    <tr>\n",
       "      <th>17 </th>\n",
       "      <td>      Ryan T. Luby</td>\n",
       "      <td>       Darrell Aucoin</td>\n",
       "    </tr>\n",
       "    <tr>\n",
       "      <th>18 </th>\n",
       "      <td>      Ryan T. Luby</td>\n",
       "      <td>        Fred E. Finch</td>\n",
       "    </tr>\n",
       "    <tr>\n",
       "      <th>19 </th>\n",
       "      <td>      Ryan T. Luby</td>\n",
       "      <td>      Billy L. Hunter</td>\n",
       "    </tr>\n",
       "    <tr>\n",
       "      <th>20 </th>\n",
       "      <td>      Ryan T. Luby</td>\n",
       "      <td>      John J. Oquendo</td>\n",
       "    </tr>\n",
       "    <tr>\n",
       "      <th>21 </th>\n",
       "      <td>      Ryan T. Luby</td>\n",
       "      <td>   Robert B. Williams</td>\n",
       "    </tr>\n",
       "    <tr>\n",
       "      <th>22 </th>\n",
       "      <td>      Ryan T. Luby</td>\n",
       "      <td>   Austin K. Gilliard</td>\n",
       "    </tr>\n",
       "    <tr>\n",
       "      <th>23 </th>\n",
       "      <td>      Ryan T. Luby</td>\n",
       "      <td>     James M. Eddings</td>\n",
       "    </tr>\n",
       "    <tr>\n",
       "      <th>24 </th>\n",
       "      <td>      Ryan T. Luby</td>\n",
       "      <td>        Elaine S. Ott</td>\n",
       "    </tr>\n",
       "    <tr>\n",
       "      <th>25 </th>\n",
       "      <td>      Ryan T. Luby</td>\n",
       "      <td>        James A. Foxt</td>\n",
       "    </tr>\n",
       "    <tr>\n",
       "      <th>26 </th>\n",
       "      <td>      Ryan T. Luby</td>\n",
       "      <td>      Daniel J. Moore</td>\n",
       "    </tr>\n",
       "    <tr>\n",
       "      <th>27 </th>\n",
       "      <td>      Ryan T. Luby</td>\n",
       "      <td>    Kelly S. Ferguson</td>\n",
       "    </tr>\n",
       "    <tr>\n",
       "      <th>28 </th>\n",
       "      <td>      Ryan T. Luby</td>\n",
       "      <td>       Joseph L. Wood</td>\n",
       "    </tr>\n",
       "    <tr>\n",
       "      <th>29 </th>\n",
       "      <td>      Ryan T. Luby</td>\n",
       "      <td>    Frances A. Miller</td>\n",
       "    </tr>\n",
       "    <tr>\n",
       "      <th>...</th>\n",
       "      <td>...</td>\n",
       "      <td>...</td>\n",
       "    </tr>\n",
       "    <tr>\n",
       "      <th>531</th>\n",
       "      <td>     Dominick Byrd</td>\n",
       "      <td>      Daniel J. Moore</td>\n",
       "    </tr>\n",
       "    <tr>\n",
       "      <th>532</th>\n",
       "      <td>     Dominick Byrd</td>\n",
       "      <td>  Deborah D. Helfrich</td>\n",
       "    </tr>\n",
       "    <tr>\n",
       "      <th>533</th>\n",
       "      <td>     Dominick Byrd</td>\n",
       "      <td>    Bobbie D. Mathews</td>\n",
       "    </tr>\n",
       "    <tr>\n",
       "      <th>534</th>\n",
       "      <td>     Dominick Byrd</td>\n",
       "      <td>     Arnold J. Fuller</td>\n",
       "    </tr>\n",
       "    <tr>\n",
       "      <th>535</th>\n",
       "      <td>     Dominick Byrd</td>\n",
       "      <td>    Ann W. McLaughlin</td>\n",
       "    </tr>\n",
       "    <tr>\n",
       "      <th>536</th>\n",
       "      <td> Patrick Robertson</td>\n",
       "      <td>       Darrell Aucoin</td>\n",
       "    </tr>\n",
       "    <tr>\n",
       "      <th>537</th>\n",
       "      <td> Patrick Robertson</td>\n",
       "      <td>        Fred E. Finch</td>\n",
       "    </tr>\n",
       "    <tr>\n",
       "      <th>538</th>\n",
       "      <td> Patrick Robertson</td>\n",
       "      <td>      Billy L. Hunter</td>\n",
       "    </tr>\n",
       "    <tr>\n",
       "      <th>539</th>\n",
       "      <td> Patrick Robertson</td>\n",
       "      <td>      John J. Oquendo</td>\n",
       "    </tr>\n",
       "    <tr>\n",
       "      <th>540</th>\n",
       "      <td> Patrick Robertson</td>\n",
       "      <td>   Austin K. Gilliard</td>\n",
       "    </tr>\n",
       "    <tr>\n",
       "      <th>541</th>\n",
       "      <td> Patrick Robertson</td>\n",
       "      <td>     James M. Eddings</td>\n",
       "    </tr>\n",
       "    <tr>\n",
       "      <th>542</th>\n",
       "      <td> Patrick Robertson</td>\n",
       "      <td>        Elaine S. Ott</td>\n",
       "    </tr>\n",
       "    <tr>\n",
       "      <th>543</th>\n",
       "      <td> Patrick Robertson</td>\n",
       "      <td>        James A. Foxt</td>\n",
       "    </tr>\n",
       "    <tr>\n",
       "      <th>544</th>\n",
       "      <td> Patrick Robertson</td>\n",
       "      <td>      Daniel J. Moore</td>\n",
       "    </tr>\n",
       "    <tr>\n",
       "      <th>545</th>\n",
       "      <td> Patrick Robertson</td>\n",
       "      <td>    Kelly S. Ferguson</td>\n",
       "    </tr>\n",
       "    <tr>\n",
       "      <th>546</th>\n",
       "      <td> Patrick Robertson</td>\n",
       "      <td>       Joseph L. Wood</td>\n",
       "    </tr>\n",
       "    <tr>\n",
       "      <th>547</th>\n",
       "      <td> Patrick Robertson</td>\n",
       "      <td>    Frances A. Miller</td>\n",
       "    </tr>\n",
       "    <tr>\n",
       "      <th>548</th>\n",
       "      <td> Patrick Robertson</td>\n",
       "      <td>     Mina W. Lawrence</td>\n",
       "    </tr>\n",
       "    <tr>\n",
       "      <th>549</th>\n",
       "      <td> Patrick Robertson</td>\n",
       "      <td>       Jeff M. Wright</td>\n",
       "    </tr>\n",
       "    <tr>\n",
       "      <th>550</th>\n",
       "      <td> Patrick Robertson</td>\n",
       "      <td>  Deborah D. Helfrich</td>\n",
       "    </tr>\n",
       "    <tr>\n",
       "      <th>551</th>\n",
       "      <td> Patrick Robertson</td>\n",
       "      <td>     Nancy P. Jackson</td>\n",
       "    </tr>\n",
       "    <tr>\n",
       "      <th>552</th>\n",
       "      <td> Patrick Robertson</td>\n",
       "      <td>    Bobbie D. Mathews</td>\n",
       "    </tr>\n",
       "    <tr>\n",
       "      <th>553</th>\n",
       "      <td> Patrick Robertson</td>\n",
       "      <td>     Arnold J. Fuller</td>\n",
       "    </tr>\n",
       "    <tr>\n",
       "      <th>554</th>\n",
       "      <td> Patrick Robertson</td>\n",
       "      <td>     Melvin O. Martin</td>\n",
       "    </tr>\n",
       "    <tr>\n",
       "      <th>555</th>\n",
       "      <td> Patrick Robertson</td>\n",
       "      <td> Mildred F. Hottinger</td>\n",
       "    </tr>\n",
       "    <tr>\n",
       "      <th>556</th>\n",
       "      <td> Patrick Robertson</td>\n",
       "      <td>  Melissa R. Anderson</td>\n",
       "    </tr>\n",
       "    <tr>\n",
       "      <th>557</th>\n",
       "      <td> Patrick Robertson</td>\n",
       "      <td>     Janelle T. Smith</td>\n",
       "    </tr>\n",
       "    <tr>\n",
       "      <th>558</th>\n",
       "      <td> Patrick Robertson</td>\n",
       "      <td>    Ann W. McLaughlin</td>\n",
       "    </tr>\n",
       "    <tr>\n",
       "      <th>559</th>\n",
       "      <td> Patrick Robertson</td>\n",
       "      <td>    Judith B. Gibbons</td>\n",
       "    </tr>\n",
       "    <tr>\n",
       "      <th>560</th>\n",
       "      <td> Patrick Robertson</td>\n",
       "      <td>        Dominick Byrd</td>\n",
       "    </tr>\n",
       "  </tbody>\n",
       "</table>\n",
       "<p>561 rows × 2 columns</p>\n",
       "</div>"
      ],
      "text/plain": [
       "              Player_1              Player_2\n",
       "0       Darrell Aucoin       Billy L. Hunter\n",
       "1       Darrell Aucoin    Austin K. Gilliard\n",
       "2       Darrell Aucoin       Daniel J. Moore\n",
       "3       Darrell Aucoin     Bobbie D. Mathews\n",
       "4       Darrell Aucoin      Arnold J. Fuller\n",
       "5       Darrell Aucoin     Ann W. McLaughlin\n",
       "6        Fred E. Finch        Darrell Aucoin\n",
       "7        Fred E. Finch       Billy L. Hunter\n",
       "8        Fred E. Finch    Austin K. Gilliard\n",
       "9        Fred E. Finch         Elaine S. Ott\n",
       "10       Fred E. Finch       Daniel J. Moore\n",
       "11       Fred E. Finch     Frances A. Miller\n",
       "12       Fred E. Finch   Deborah D. Helfrich\n",
       "13       Fred E. Finch     Bobbie D. Mathews\n",
       "14       Fred E. Finch      Arnold J. Fuller\n",
       "15       Fred E. Finch     Ann W. McLaughlin\n",
       "16       Fred E. Finch         Dominick Byrd\n",
       "17        Ryan T. Luby        Darrell Aucoin\n",
       "18        Ryan T. Luby         Fred E. Finch\n",
       "19        Ryan T. Luby       Billy L. Hunter\n",
       "20        Ryan T. Luby       John J. Oquendo\n",
       "21        Ryan T. Luby    Robert B. Williams\n",
       "22        Ryan T. Luby    Austin K. Gilliard\n",
       "23        Ryan T. Luby      James M. Eddings\n",
       "24        Ryan T. Luby         Elaine S. Ott\n",
       "25        Ryan T. Luby         James A. Foxt\n",
       "26        Ryan T. Luby       Daniel J. Moore\n",
       "27        Ryan T. Luby     Kelly S. Ferguson\n",
       "28        Ryan T. Luby        Joseph L. Wood\n",
       "29        Ryan T. Luby     Frances A. Miller\n",
       "..                 ...                   ...\n",
       "531      Dominick Byrd       Daniel J. Moore\n",
       "532      Dominick Byrd   Deborah D. Helfrich\n",
       "533      Dominick Byrd     Bobbie D. Mathews\n",
       "534      Dominick Byrd      Arnold J. Fuller\n",
       "535      Dominick Byrd     Ann W. McLaughlin\n",
       "536  Patrick Robertson        Darrell Aucoin\n",
       "537  Patrick Robertson         Fred E. Finch\n",
       "538  Patrick Robertson       Billy L. Hunter\n",
       "539  Patrick Robertson       John J. Oquendo\n",
       "540  Patrick Robertson    Austin K. Gilliard\n",
       "541  Patrick Robertson      James M. Eddings\n",
       "542  Patrick Robertson         Elaine S. Ott\n",
       "543  Patrick Robertson         James A. Foxt\n",
       "544  Patrick Robertson       Daniel J. Moore\n",
       "545  Patrick Robertson     Kelly S. Ferguson\n",
       "546  Patrick Robertson        Joseph L. Wood\n",
       "547  Patrick Robertson     Frances A. Miller\n",
       "548  Patrick Robertson      Mina W. Lawrence\n",
       "549  Patrick Robertson        Jeff M. Wright\n",
       "550  Patrick Robertson   Deborah D. Helfrich\n",
       "551  Patrick Robertson      Nancy P. Jackson\n",
       "552  Patrick Robertson     Bobbie D. Mathews\n",
       "553  Patrick Robertson      Arnold J. Fuller\n",
       "554  Patrick Robertson      Melvin O. Martin\n",
       "555  Patrick Robertson  Mildred F. Hottinger\n",
       "556  Patrick Robertson   Melissa R. Anderson\n",
       "557  Patrick Robertson      Janelle T. Smith\n",
       "558  Patrick Robertson     Ann W. McLaughlin\n",
       "559  Patrick Robertson     Judith B. Gibbons\n",
       "560  Patrick Robertson         Dominick Byrd\n",
       "\n",
       "[561 rows x 2 columns]"
      ]
     },
     "execution_count": 8,
     "metadata": {},
     "output_type": "execute_result"
    }
   ],
   "source": [
    "pd.read_sql_query(\n",
    "\"SELECT m1.name AS Player_1, m2.name  AS Player_2 \\\n",
    "FROM member AS m1 INNER JOIN member AS m2 ON m1.name > m2.name\", con)"
   ]
  },
  {
   "cell_type": "markdown",
   "metadata": {
    "slideshow": {
     "slide_type": "notes"
    }
   },
   "source": [
    "__Note:__ `CROSS JOIN` is rarely used in practice as `INNER JOIN` is more efficient and usually the same `WHERE` condition can be applied to the ON clause."
   ]
  },
  {
   "cell_type": "markdown",
   "metadata": {
    "slideshow": {
     "slide_type": "subslide"
    }
   },
   "source": [
    "__Example:__ How many events does each member attend?"
   ]
  },
  {
   "cell_type": "markdown",
   "metadata": {
    "slideshow": {
     "slide_type": "fragment"
    }
   },
   "source": [
    "- Note that this query does not include members who attended no events\n",
    "    - Query is ordered by events_attended to show a comparison with a latter query  \n",
    "\n",
    "```\n",
    "SELECT m.name, COUNT(a.event) AS events_attended \n",
    "FROM member AS m INNER JOIN attendance AS a ON m.quest_id = a.member\n",
    "GROUP BY m.name\n",
    "ORDER BY events_attended;\n",
    "```"
   ]
  },
  {
   "cell_type": "code",
   "execution_count": 9,
   "metadata": {
    "collapsed": false,
    "slideshow": {
     "slide_type": "fragment"
    }
   },
   "outputs": [
    {
     "data": {
      "text/html": [
       "<div style=\"max-height:1000px;max-width:1500px;overflow:auto;\">\n",
       "<table border=\"1\" class=\"dataframe\">\n",
       "  <thead>\n",
       "    <tr style=\"text-align: right;\">\n",
       "      <th></th>\n",
       "      <th>name</th>\n",
       "      <th>events_attended</th>\n",
       "    </tr>\n",
       "  </thead>\n",
       "  <tbody>\n",
       "    <tr>\n",
       "      <th>0 </th>\n",
       "      <td>       John J. Oquendo</td>\n",
       "      <td> 1</td>\n",
       "    </tr>\n",
       "    <tr>\n",
       "      <th>1 </th>\n",
       "      <td>   Melissa R. Anderson</td>\n",
       "      <td> 2</td>\n",
       "    </tr>\n",
       "    <tr>\n",
       "      <th>2 </th>\n",
       "      <td>      Melvin O. Martin</td>\n",
       "      <td> 2</td>\n",
       "    </tr>\n",
       "    <tr>\n",
       "      <th>3 </th>\n",
       "      <td>      Mina W. Lawrence</td>\n",
       "      <td> 2</td>\n",
       "    </tr>\n",
       "    <tr>\n",
       "      <th>4 </th>\n",
       "      <td>     Ann W. McLaughlin</td>\n",
       "      <td> 3</td>\n",
       "    </tr>\n",
       "    <tr>\n",
       "      <th>5 </th>\n",
       "      <td>     Bobbie D. Mathews</td>\n",
       "      <td> 3</td>\n",
       "    </tr>\n",
       "    <tr>\n",
       "      <th>6 </th>\n",
       "      <td>      James M. Eddings</td>\n",
       "      <td> 3</td>\n",
       "    </tr>\n",
       "    <tr>\n",
       "      <th>7 </th>\n",
       "      <td>    Austin K. Gilliard</td>\n",
       "      <td> 4</td>\n",
       "    </tr>\n",
       "    <tr>\n",
       "      <th>8 </th>\n",
       "      <td>      Janelle T. Smith</td>\n",
       "      <td> 4</td>\n",
       "    </tr>\n",
       "    <tr>\n",
       "      <th>9 </th>\n",
       "      <td>        Jeff M. Wright</td>\n",
       "      <td> 4</td>\n",
       "    </tr>\n",
       "    <tr>\n",
       "      <th>10</th>\n",
       "      <td>  Mildred F. Hottinger</td>\n",
       "      <td> 4</td>\n",
       "    </tr>\n",
       "    <tr>\n",
       "      <th>11</th>\n",
       "      <td> Phillip C. Mascarenas</td>\n",
       "      <td> 4</td>\n",
       "    </tr>\n",
       "    <tr>\n",
       "      <th>12</th>\n",
       "      <td>          Ryan T. Luby</td>\n",
       "      <td> 4</td>\n",
       "    </tr>\n",
       "    <tr>\n",
       "      <th>13</th>\n",
       "      <td>      Vivian R. Donley</td>\n",
       "      <td> 4</td>\n",
       "    </tr>\n",
       "    <tr>\n",
       "      <th>14</th>\n",
       "      <td>      Arnold J. Fuller</td>\n",
       "      <td> 5</td>\n",
       "    </tr>\n",
       "    <tr>\n",
       "      <th>15</th>\n",
       "      <td>         Dominick Byrd</td>\n",
       "      <td> 5</td>\n",
       "    </tr>\n",
       "    <tr>\n",
       "      <th>16</th>\n",
       "      <td>     Kelly S. Ferguson</td>\n",
       "      <td> 5</td>\n",
       "    </tr>\n",
       "    <tr>\n",
       "      <th>17</th>\n",
       "      <td>      Nancy P. Jackson</td>\n",
       "      <td> 5</td>\n",
       "    </tr>\n",
       "    <tr>\n",
       "      <th>18</th>\n",
       "      <td>      Ralph L. Waldrop</td>\n",
       "      <td> 5</td>\n",
       "    </tr>\n",
       "    <tr>\n",
       "      <th>19</th>\n",
       "      <td>            Ruben Lamb</td>\n",
       "      <td> 5</td>\n",
       "    </tr>\n",
       "    <tr>\n",
       "      <th>20</th>\n",
       "      <td>       Billy L. Hunter</td>\n",
       "      <td> 6</td>\n",
       "    </tr>\n",
       "    <tr>\n",
       "      <th>21</th>\n",
       "      <td>   Deborah D. Helfrich</td>\n",
       "      <td> 6</td>\n",
       "    </tr>\n",
       "    <tr>\n",
       "      <th>22</th>\n",
       "      <td>     Frances A. Miller</td>\n",
       "      <td> 6</td>\n",
       "    </tr>\n",
       "    <tr>\n",
       "      <th>23</th>\n",
       "      <td>         Fred E. Finch</td>\n",
       "      <td> 6</td>\n",
       "    </tr>\n",
       "    <tr>\n",
       "      <th>24</th>\n",
       "      <td>        Joseph L. Wood</td>\n",
       "      <td> 6</td>\n",
       "    </tr>\n",
       "    <tr>\n",
       "      <th>25</th>\n",
       "      <td>     Judith B. Gibbons</td>\n",
       "      <td> 6</td>\n",
       "    </tr>\n",
       "    <tr>\n",
       "      <th>26</th>\n",
       "      <td>    Robert B. Williams</td>\n",
       "      <td> 6</td>\n",
       "    </tr>\n",
       "    <tr>\n",
       "      <th>27</th>\n",
       "      <td> Stephanie R. Matthews</td>\n",
       "      <td> 6</td>\n",
       "    </tr>\n",
       "    <tr>\n",
       "      <th>28</th>\n",
       "      <td>   Tameika M. McMaster</td>\n",
       "      <td> 6</td>\n",
       "    </tr>\n",
       "    <tr>\n",
       "      <th>29</th>\n",
       "      <td>         Elaine S. Ott</td>\n",
       "      <td> 7</td>\n",
       "    </tr>\n",
       "    <tr>\n",
       "      <th>30</th>\n",
       "      <td>       Daniel J. Moore</td>\n",
       "      <td> 8</td>\n",
       "    </tr>\n",
       "    <tr>\n",
       "      <th>31</th>\n",
       "      <td>     Patrick Robertson</td>\n",
       "      <td> 8</td>\n",
       "    </tr>\n",
       "  </tbody>\n",
       "</table>\n",
       "</div>"
      ],
      "text/plain": [
       "                     name  events_attended\n",
       "0         John J. Oquendo                1\n",
       "1     Melissa R. Anderson                2\n",
       "2        Melvin O. Martin                2\n",
       "3        Mina W. Lawrence                2\n",
       "4       Ann W. McLaughlin                3\n",
       "5       Bobbie D. Mathews                3\n",
       "6        James M. Eddings                3\n",
       "7      Austin K. Gilliard                4\n",
       "8        Janelle T. Smith                4\n",
       "9          Jeff M. Wright                4\n",
       "10   Mildred F. Hottinger                4\n",
       "11  Phillip C. Mascarenas                4\n",
       "12           Ryan T. Luby                4\n",
       "13       Vivian R. Donley                4\n",
       "14       Arnold J. Fuller                5\n",
       "15          Dominick Byrd                5\n",
       "16      Kelly S. Ferguson                5\n",
       "17       Nancy P. Jackson                5\n",
       "18       Ralph L. Waldrop                5\n",
       "19             Ruben Lamb                5\n",
       "20        Billy L. Hunter                6\n",
       "21    Deborah D. Helfrich                6\n",
       "22      Frances A. Miller                6\n",
       "23          Fred E. Finch                6\n",
       "24         Joseph L. Wood                6\n",
       "25      Judith B. Gibbons                6\n",
       "26     Robert B. Williams                6\n",
       "27  Stephanie R. Matthews                6\n",
       "28    Tameika M. McMaster                6\n",
       "29          Elaine S. Ott                7\n",
       "30        Daniel J. Moore                8\n",
       "31      Patrick Robertson                8"
      ]
     },
     "execution_count": 9,
     "metadata": {},
     "output_type": "execute_result"
    }
   ],
   "source": [
    "pd.read_sql_query(\n",
    "\"SELECT m.name, COUNT(a.event) AS events_attended \\\n",
    "FROM member AS m INNER JOIN attendance AS a ON m.quest_id = a.member \\\n",
    "GROUP BY m.name \\\n",
    "ORDER BY events_attended\", con)"
   ]
  },
  {
   "cell_type": "markdown",
   "metadata": {
    "slideshow": {
     "slide_type": "subslide"
    }
   },
   "source": [
    "### OUTER JOIN"
   ]
  },
  {
   "cell_type": "markdown",
   "metadata": {},
   "source": [
    "__OUTER JOIN__ A join that returns all rows for 1 or 2 tables, even when there is no corresponding value. In these cases, NULL values are entered for these corresponding rows.\n",
    "\n",
    "There are 3 types of OUTER JOINs:\n",
    "\n",
    "1. __LEFT OUTER JOIN__: An OUTER JOIN returning all rows of the table first mentioned.\n",
    "\n",
    "2. __RIGHT OUTER JOIN__: An OUTER JOIN returning all rows of the table second mentioned.\n",
    "\n",
    "3. __FULL OUTER JOIN__: An OUTER JOIN returning all rows of both tables.  \n",
    "\n",
    "\n",
    "- Only LEFT OUTER JOIN is implemented in SQLite"
   ]
  },
  {
   "cell_type": "markdown",
   "metadata": {
    "slideshow": {
     "slide_type": "subslide"
    }
   },
   "source": [
    "__Example:__ What are the names of Stat Club members and how many events they attended?"
   ]
  },
  {
   "cell_type": "markdown",
   "metadata": {
    "slideshow": {
     "slide_type": "fragment"
    }
   },
   "source": [
    "```\n",
    "SELECT m.name, COUNT(a.event) AS events_attended \n",
    "FROM member AS m LEFT OUTER JOIN attendance AS a ON m.quest_id = a.member\n",
    "GROUP BY m.name\n",
    "ORDER BY events_attended;\n",
    "```"
   ]
  },
  {
   "cell_type": "code",
   "execution_count": 10,
   "metadata": {
    "collapsed": false,
    "slideshow": {
     "slide_type": "fragment"
    }
   },
   "outputs": [
    {
     "data": {
      "text/html": [
       "<div style=\"max-height:1000px;max-width:1500px;overflow:auto;\">\n",
       "<table border=\"1\" class=\"dataframe\">\n",
       "  <thead>\n",
       "    <tr style=\"text-align: right;\">\n",
       "      <th></th>\n",
       "      <th>name</th>\n",
       "      <th>events_attended</th>\n",
       "    </tr>\n",
       "  </thead>\n",
       "  <tbody>\n",
       "    <tr>\n",
       "      <th>0 </th>\n",
       "      <td>        Darrell Aucoin</td>\n",
       "      <td> 0</td>\n",
       "    </tr>\n",
       "    <tr>\n",
       "      <th>1 </th>\n",
       "      <td>         James A. Foxt</td>\n",
       "      <td> 0</td>\n",
       "    </tr>\n",
       "    <tr>\n",
       "      <th>2 </th>\n",
       "      <td>       John J. Oquendo</td>\n",
       "      <td> 1</td>\n",
       "    </tr>\n",
       "    <tr>\n",
       "      <th>3 </th>\n",
       "      <td>   Melissa R. Anderson</td>\n",
       "      <td> 2</td>\n",
       "    </tr>\n",
       "    <tr>\n",
       "      <th>4 </th>\n",
       "      <td>      Melvin O. Martin</td>\n",
       "      <td> 2</td>\n",
       "    </tr>\n",
       "    <tr>\n",
       "      <th>5 </th>\n",
       "      <td>      Mina W. Lawrence</td>\n",
       "      <td> 2</td>\n",
       "    </tr>\n",
       "    <tr>\n",
       "      <th>6 </th>\n",
       "      <td>     Ann W. McLaughlin</td>\n",
       "      <td> 3</td>\n",
       "    </tr>\n",
       "    <tr>\n",
       "      <th>7 </th>\n",
       "      <td>     Bobbie D. Mathews</td>\n",
       "      <td> 3</td>\n",
       "    </tr>\n",
       "    <tr>\n",
       "      <th>8 </th>\n",
       "      <td>      James M. Eddings</td>\n",
       "      <td> 3</td>\n",
       "    </tr>\n",
       "    <tr>\n",
       "      <th>9 </th>\n",
       "      <td>    Austin K. Gilliard</td>\n",
       "      <td> 4</td>\n",
       "    </tr>\n",
       "    <tr>\n",
       "      <th>10</th>\n",
       "      <td>      Janelle T. Smith</td>\n",
       "      <td> 4</td>\n",
       "    </tr>\n",
       "    <tr>\n",
       "      <th>11</th>\n",
       "      <td>        Jeff M. Wright</td>\n",
       "      <td> 4</td>\n",
       "    </tr>\n",
       "    <tr>\n",
       "      <th>12</th>\n",
       "      <td>  Mildred F. Hottinger</td>\n",
       "      <td> 4</td>\n",
       "    </tr>\n",
       "    <tr>\n",
       "      <th>13</th>\n",
       "      <td> Phillip C. Mascarenas</td>\n",
       "      <td> 4</td>\n",
       "    </tr>\n",
       "    <tr>\n",
       "      <th>14</th>\n",
       "      <td>          Ryan T. Luby</td>\n",
       "      <td> 4</td>\n",
       "    </tr>\n",
       "    <tr>\n",
       "      <th>15</th>\n",
       "      <td>      Vivian R. Donley</td>\n",
       "      <td> 4</td>\n",
       "    </tr>\n",
       "    <tr>\n",
       "      <th>16</th>\n",
       "      <td>      Arnold J. Fuller</td>\n",
       "      <td> 5</td>\n",
       "    </tr>\n",
       "    <tr>\n",
       "      <th>17</th>\n",
       "      <td>         Dominick Byrd</td>\n",
       "      <td> 5</td>\n",
       "    </tr>\n",
       "    <tr>\n",
       "      <th>18</th>\n",
       "      <td>     Kelly S. Ferguson</td>\n",
       "      <td> 5</td>\n",
       "    </tr>\n",
       "    <tr>\n",
       "      <th>19</th>\n",
       "      <td>      Nancy P. Jackson</td>\n",
       "      <td> 5</td>\n",
       "    </tr>\n",
       "    <tr>\n",
       "      <th>20</th>\n",
       "      <td>      Ralph L. Waldrop</td>\n",
       "      <td> 5</td>\n",
       "    </tr>\n",
       "    <tr>\n",
       "      <th>21</th>\n",
       "      <td>            Ruben Lamb</td>\n",
       "      <td> 5</td>\n",
       "    </tr>\n",
       "    <tr>\n",
       "      <th>22</th>\n",
       "      <td>       Billy L. Hunter</td>\n",
       "      <td> 6</td>\n",
       "    </tr>\n",
       "    <tr>\n",
       "      <th>23</th>\n",
       "      <td>   Deborah D. Helfrich</td>\n",
       "      <td> 6</td>\n",
       "    </tr>\n",
       "    <tr>\n",
       "      <th>24</th>\n",
       "      <td>     Frances A. Miller</td>\n",
       "      <td> 6</td>\n",
       "    </tr>\n",
       "    <tr>\n",
       "      <th>25</th>\n",
       "      <td>         Fred E. Finch</td>\n",
       "      <td> 6</td>\n",
       "    </tr>\n",
       "    <tr>\n",
       "      <th>26</th>\n",
       "      <td>        Joseph L. Wood</td>\n",
       "      <td> 6</td>\n",
       "    </tr>\n",
       "    <tr>\n",
       "      <th>27</th>\n",
       "      <td>     Judith B. Gibbons</td>\n",
       "      <td> 6</td>\n",
       "    </tr>\n",
       "    <tr>\n",
       "      <th>28</th>\n",
       "      <td>    Robert B. Williams</td>\n",
       "      <td> 6</td>\n",
       "    </tr>\n",
       "    <tr>\n",
       "      <th>29</th>\n",
       "      <td> Stephanie R. Matthews</td>\n",
       "      <td> 6</td>\n",
       "    </tr>\n",
       "    <tr>\n",
       "      <th>30</th>\n",
       "      <td>   Tameika M. McMaster</td>\n",
       "      <td> 6</td>\n",
       "    </tr>\n",
       "    <tr>\n",
       "      <th>31</th>\n",
       "      <td>         Elaine S. Ott</td>\n",
       "      <td> 7</td>\n",
       "    </tr>\n",
       "    <tr>\n",
       "      <th>32</th>\n",
       "      <td>       Daniel J. Moore</td>\n",
       "      <td> 8</td>\n",
       "    </tr>\n",
       "    <tr>\n",
       "      <th>33</th>\n",
       "      <td>     Patrick Robertson</td>\n",
       "      <td> 8</td>\n",
       "    </tr>\n",
       "  </tbody>\n",
       "</table>\n",
       "</div>"
      ],
      "text/plain": [
       "                     name  events_attended\n",
       "0          Darrell Aucoin                0\n",
       "1           James A. Foxt                0\n",
       "2         John J. Oquendo                1\n",
       "3     Melissa R. Anderson                2\n",
       "4        Melvin O. Martin                2\n",
       "5        Mina W. Lawrence                2\n",
       "6       Ann W. McLaughlin                3\n",
       "7       Bobbie D. Mathews                3\n",
       "8        James M. Eddings                3\n",
       "9      Austin K. Gilliard                4\n",
       "10       Janelle T. Smith                4\n",
       "11         Jeff M. Wright                4\n",
       "12   Mildred F. Hottinger                4\n",
       "13  Phillip C. Mascarenas                4\n",
       "14           Ryan T. Luby                4\n",
       "15       Vivian R. Donley                4\n",
       "16       Arnold J. Fuller                5\n",
       "17          Dominick Byrd                5\n",
       "18      Kelly S. Ferguson                5\n",
       "19       Nancy P. Jackson                5\n",
       "20       Ralph L. Waldrop                5\n",
       "21             Ruben Lamb                5\n",
       "22        Billy L. Hunter                6\n",
       "23    Deborah D. Helfrich                6\n",
       "24      Frances A. Miller                6\n",
       "25          Fred E. Finch                6\n",
       "26         Joseph L. Wood                6\n",
       "27      Judith B. Gibbons                6\n",
       "28     Robert B. Williams                6\n",
       "29  Stephanie R. Matthews                6\n",
       "30    Tameika M. McMaster                6\n",
       "31          Elaine S. Ott                7\n",
       "32        Daniel J. Moore                8\n",
       "33      Patrick Robertson                8"
      ]
     },
     "execution_count": 10,
     "metadata": {},
     "output_type": "execute_result"
    }
   ],
   "source": [
    "pd.read_sql_query(\n",
    "\"SELECT m.name, COUNT(a.event) AS events_attended \\\n",
    "FROM member AS m LEFT OUTER JOIN attendance AS a ON m.quest_id = a.member \\\n",
    "GROUP BY m.name \\\n",
    "ORDER BY events_attended\", con)"
   ]
  },
  {
   "cell_type": "markdown",
   "metadata": {
    "slideshow": {
     "slide_type": "subslide"
    }
   },
   "source": [
    "### Natural Join"
   ]
  },
  {
   "cell_type": "markdown",
   "metadata": {},
   "source": [
    "__NATURAL JOIN__ A join condition that lets the server decide on the join conditions based on the same column names and types across columns for the tables."
   ]
  },
  {
   "cell_type": "markdown",
   "metadata": {
    "slideshow": {
     "slide_type": "fragment"
    }
   },
   "source": [
    "__Example:__ What are the position and duties of each Stats Club exec?"
   ]
  },
  {
   "cell_type": "markdown",
   "metadata": {
    "slideshow": {
     "slide_type": "fragment"
    }
   },
   "source": [
    "```\n",
    "SELECT  e.name, e.position, ep.duties \n",
    "FROM exec AS e NATURAL JOIN exec_position AS ep;\n",
    "```"
   ]
  },
  {
   "cell_type": "code",
   "execution_count": 11,
   "metadata": {
    "collapsed": false,
    "slideshow": {
     "slide_type": "fragment"
    }
   },
   "outputs": [
    {
     "data": {
      "text/html": [
       "<div style=\"max-height:1000px;max-width:1500px;overflow:auto;\">\n",
       "<table border=\"1\" class=\"dataframe\">\n",
       "  <thead>\n",
       "    <tr style=\"text-align: right;\">\n",
       "      <th></th>\n",
       "      <th>name</th>\n",
       "      <th>position</th>\n",
       "      <th>duties</th>\n",
       "    </tr>\n",
       "  </thead>\n",
       "  <tbody>\n",
       "    <tr>\n",
       "      <th>0 </th>\n",
       "      <td>    Darrell Aucoin</td>\n",
       "      <td>  President</td>\n",
       "      <td> To be aware of MathSoc's Policies and Bylaws i...</td>\n",
       "    </tr>\n",
       "    <tr>\n",
       "      <th>1 </th>\n",
       "      <td>    Darrell Aucoin</td>\n",
       "      <td>  President</td>\n",
       "      <td>        To call and preside over general meetings.</td>\n",
       "    </tr>\n",
       "    <tr>\n",
       "      <th>2 </th>\n",
       "      <td>    Darrell Aucoin</td>\n",
       "      <td>  President</td>\n",
       "      <td> To manage the executive team and the strategic...</td>\n",
       "    </tr>\n",
       "    <tr>\n",
       "      <th>3 </th>\n",
       "      <td>    Darrell Aucoin</td>\n",
       "      <td>  President</td>\n",
       "      <td> To post announcements of all club meetings, an...</td>\n",
       "    </tr>\n",
       "    <tr>\n",
       "      <th>4 </th>\n",
       "      <td> Judith B. Gibbons</td>\n",
       "      <td>     Events</td>\n",
       "      <td> To assist the president and other vice-preside...</td>\n",
       "    </tr>\n",
       "    <tr>\n",
       "      <th>5 </th>\n",
       "      <td> Judith B. Gibbons</td>\n",
       "      <td>     Events</td>\n",
       "      <td> To chair the organization and promotion of lea...</td>\n",
       "    </tr>\n",
       "    <tr>\n",
       "      <th>6 </th>\n",
       "      <td>         Lamar Roy</td>\n",
       "      <td>    Finance</td>\n",
       "      <td> To ensure membership fees are collected and ma...</td>\n",
       "    </tr>\n",
       "    <tr>\n",
       "      <th>7 </th>\n",
       "      <td>         Lamar Roy</td>\n",
       "      <td>    Finance</td>\n",
       "      <td> To keep an up-to-date record of financial tran...</td>\n",
       "    </tr>\n",
       "    <tr>\n",
       "      <th>8 </th>\n",
       "      <td>         Lamar Roy</td>\n",
       "      <td>    Finance</td>\n",
       "      <td> To prepare a summary of the financial records ...</td>\n",
       "    </tr>\n",
       "    <tr>\n",
       "      <th>9 </th>\n",
       "      <td>         Lamar Roy</td>\n",
       "      <td>    Finance</td>\n",
       "      <td>   To prepare the budget at the beginning of term.</td>\n",
       "    </tr>\n",
       "    <tr>\n",
       "      <th>10</th>\n",
       "      <td>         Lamar Roy</td>\n",
       "      <td>    Finance</td>\n",
       "      <td> To volunteer as president in the absence of th...</td>\n",
       "    </tr>\n",
       "    <tr>\n",
       "      <th>11</th>\n",
       "      <td>    Gilberto Cross</td>\n",
       "      <td>     Events</td>\n",
       "      <td> To assist the president and other vice-preside...</td>\n",
       "    </tr>\n",
       "    <tr>\n",
       "      <th>12</th>\n",
       "      <td>    Gilberto Cross</td>\n",
       "      <td>     Events</td>\n",
       "      <td> To chair the organization and promotion of lea...</td>\n",
       "    </tr>\n",
       "    <tr>\n",
       "      <th>13</th>\n",
       "      <td>        Melba Lane</td>\n",
       "      <td>  President</td>\n",
       "      <td> To be aware of MathSoc's Policies and Bylaws i...</td>\n",
       "    </tr>\n",
       "    <tr>\n",
       "      <th>14</th>\n",
       "      <td>        Melba Lane</td>\n",
       "      <td>  President</td>\n",
       "      <td>        To call and preside over general meetings.</td>\n",
       "    </tr>\n",
       "    <tr>\n",
       "      <th>15</th>\n",
       "      <td>        Melba Lane</td>\n",
       "      <td>  President</td>\n",
       "      <td> To manage the executive team and the strategic...</td>\n",
       "    </tr>\n",
       "    <tr>\n",
       "      <th>16</th>\n",
       "      <td>        Melba Lane</td>\n",
       "      <td>  President</td>\n",
       "      <td> To post announcements of all club meetings, an...</td>\n",
       "    </tr>\n",
       "    <tr>\n",
       "      <th>17</th>\n",
       "      <td>        Ruben Lamb</td>\n",
       "      <td> Technology</td>\n",
       "      <td>             Maintain and update the club website.</td>\n",
       "    </tr>\n",
       "    <tr>\n",
       "      <th>18</th>\n",
       "      <td>        Ruben Lamb</td>\n",
       "      <td> Technology</td>\n",
       "      <td> Maintain any hardware, software, or technology...</td>\n",
       "    </tr>\n",
       "    <tr>\n",
       "      <th>19</th>\n",
       "      <td>        Ruben Lamb</td>\n",
       "      <td> Technology</td>\n",
       "      <td> Perform the duties of a Vice President - Event...</td>\n",
       "    </tr>\n",
       "    <tr>\n",
       "      <th>20</th>\n",
       "      <td> Patrick Robertson</td>\n",
       "      <td>     Events</td>\n",
       "      <td> To assist the president and other vice-preside...</td>\n",
       "    </tr>\n",
       "    <tr>\n",
       "      <th>21</th>\n",
       "      <td> Patrick Robertson</td>\n",
       "      <td>     Events</td>\n",
       "      <td> To chair the organization and promotion of lea...</td>\n",
       "    </tr>\n",
       "    <tr>\n",
       "      <th>22</th>\n",
       "      <td>     Dominick Byrd</td>\n",
       "      <td>     Events</td>\n",
       "      <td> To assist the president and other vice-preside...</td>\n",
       "    </tr>\n",
       "    <tr>\n",
       "      <th>23</th>\n",
       "      <td>     Dominick Byrd</td>\n",
       "      <td>     Events</td>\n",
       "      <td> To chair the organization and promotion of lea...</td>\n",
       "    </tr>\n",
       "  </tbody>\n",
       "</table>\n",
       "</div>"
      ],
      "text/plain": [
       "                 name    position  \\\n",
       "0      Darrell Aucoin   President   \n",
       "1      Darrell Aucoin   President   \n",
       "2      Darrell Aucoin   President   \n",
       "3      Darrell Aucoin   President   \n",
       "4   Judith B. Gibbons      Events   \n",
       "5   Judith B. Gibbons      Events   \n",
       "6           Lamar Roy     Finance   \n",
       "7           Lamar Roy     Finance   \n",
       "8           Lamar Roy     Finance   \n",
       "9           Lamar Roy     Finance   \n",
       "10          Lamar Roy     Finance   \n",
       "11     Gilberto Cross      Events   \n",
       "12     Gilberto Cross      Events   \n",
       "13         Melba Lane   President   \n",
       "14         Melba Lane   President   \n",
       "15         Melba Lane   President   \n",
       "16         Melba Lane   President   \n",
       "17         Ruben Lamb  Technology   \n",
       "18         Ruben Lamb  Technology   \n",
       "19         Ruben Lamb  Technology   \n",
       "20  Patrick Robertson      Events   \n",
       "21  Patrick Robertson      Events   \n",
       "22      Dominick Byrd      Events   \n",
       "23      Dominick Byrd      Events   \n",
       "\n",
       "                                               duties  \n",
       "0   To be aware of MathSoc's Policies and Bylaws i...  \n",
       "1          To call and preside over general meetings.  \n",
       "2   To manage the executive team and the strategic...  \n",
       "3   To post announcements of all club meetings, an...  \n",
       "4   To assist the president and other vice-preside...  \n",
       "5   To chair the organization and promotion of lea...  \n",
       "6   To ensure membership fees are collected and ma...  \n",
       "7   To keep an up-to-date record of financial tran...  \n",
       "8   To prepare a summary of the financial records ...  \n",
       "9     To prepare the budget at the beginning of term.  \n",
       "10  To volunteer as president in the absence of th...  \n",
       "11  To assist the president and other vice-preside...  \n",
       "12  To chair the organization and promotion of lea...  \n",
       "13  To be aware of MathSoc's Policies and Bylaws i...  \n",
       "14         To call and preside over general meetings.  \n",
       "15  To manage the executive team and the strategic...  \n",
       "16  To post announcements of all club meetings, an...  \n",
       "17              Maintain and update the club website.  \n",
       "18  Maintain any hardware, software, or technology...  \n",
       "19  Perform the duties of a Vice President - Event...  \n",
       "20  To assist the president and other vice-preside...  \n",
       "21  To chair the organization and promotion of lea...  \n",
       "22  To assist the president and other vice-preside...  \n",
       "23  To chair the organization and promotion of lea...  "
      ]
     },
     "execution_count": 11,
     "metadata": {},
     "output_type": "execute_result"
    }
   ],
   "source": [
    "pd.read_sql_query(\n",
    "\"SELECT  e.name, e.position, ep.duties \\\n",
    "FROM exec AS e NATURAL JOIN exec_position AS ep\", con)"
   ]
  },
  {
   "cell_type": "markdown",
   "metadata": {
    "slideshow": {
     "slide_type": "subslide"
    }
   },
   "source": [
    "### Quiz: Joining Tables"
   ]
  },
  {
   "cell_type": "markdown",
   "metadata": {},
   "source": [
    "__Q:__ What are the email addresses and phone numbers of stats club execs who are in change or organizing at least one event?\n",
    "<center>\n",
    "![alt text](Images/StatClubTables2.png)\n",
    "</center>"
   ]
  },
  {
   "cell_type": "markdown",
   "metadata": {
    "slideshow": {
     "slide_type": "subslide"
    }
   },
   "source": [
    "```\n",
    "SELECT DISTINCT exec.name, exec.email, exec.phone \n",
    "FROM exec INNER JOIN event ON exec.questid = event.organizer;\n",
    "```"
   ]
  },
  {
   "cell_type": "code",
   "execution_count": 12,
   "metadata": {
    "collapsed": false,
    "slideshow": {
     "slide_type": "fragment"
    }
   },
   "outputs": [
    {
     "data": {
      "text/html": [
       "<div style=\"max-height:1000px;max-width:1500px;overflow:auto;\">\n",
       "<table border=\"1\" class=\"dataframe\">\n",
       "  <thead>\n",
       "    <tr style=\"text-align: right;\">\n",
       "      <th></th>\n",
       "      <th>name</th>\n",
       "      <th>email</th>\n",
       "      <th>phone</th>\n",
       "    </tr>\n",
       "  </thead>\n",
       "  <tbody>\n",
       "    <tr>\n",
       "      <th>0</th>\n",
       "      <td> Judith B. Gibbons</td>\n",
       "      <td>      judith@uwaterloo.ca</td>\n",
       "      <td> 519-555-2343</td>\n",
       "    </tr>\n",
       "    <tr>\n",
       "      <th>1</th>\n",
       "      <td>     Dominick Byrd</td>\n",
       "      <td>    dominick@uwaterloo.ca</td>\n",
       "      <td> 519-555-2325</td>\n",
       "    </tr>\n",
       "    <tr>\n",
       "      <th>2</th>\n",
       "      <td>    Darrell Aucoin</td>\n",
       "      <td> darrell.aucoin@gmail.com</td>\n",
       "      <td> 519-555-1424</td>\n",
       "    </tr>\n",
       "    <tr>\n",
       "      <th>3</th>\n",
       "      <td> Patrick Robertson</td>\n",
       "      <td>     patrick@uwaterloo.ca</td>\n",
       "      <td> 519-555-2312</td>\n",
       "    </tr>\n",
       "  </tbody>\n",
       "</table>\n",
       "</div>"
      ],
      "text/plain": [
       "                name                     email         phone\n",
       "0  Judith B. Gibbons       judith@uwaterloo.ca  519-555-2343\n",
       "1      Dominick Byrd     dominick@uwaterloo.ca  519-555-2325\n",
       "2     Darrell Aucoin  darrell.aucoin@gmail.com  519-555-1424\n",
       "3  Patrick Robertson      patrick@uwaterloo.ca  519-555-2312"
      ]
     },
     "execution_count": 12,
     "metadata": {},
     "output_type": "execute_result"
    }
   ],
   "source": [
    "pd.read_sql_query(\n",
    "\"SELECT DISTINCT exec.name, exec.email, exec.phone \\\n",
    "FROM exec INNER JOIN event ON exec.questid = event.organizer\", con)"
   ]
  },
  {
   "cell_type": "markdown",
   "metadata": {
    "slideshow": {
     "slide_type": "slide"
    }
   },
   "source": [
    "## Subqueries"
   ]
  },
  {
   "cell_type": "markdown",
   "metadata": {},
   "source": [
    "Subqueries are queries contained in queries. These subqueries are contained in '(', ')'\n",
    "\n",
    "There are two types of subqueries:"
   ]
  },
  {
   "cell_type": "markdown",
   "metadata": {
    "slideshow": {
     "slide_type": "fragment"
    }
   },
   "source": [
    "1. __Non-Correlated Subqueries:__ Can be run independently of the larger query.\n",
    "\n",
    "2. __Correlated Subqueries:__ Must be run concurrently with the outer query. They are dependent on the outer query."
   ]
  },
  {
   "cell_type": "markdown",
   "metadata": {
    "slideshow": {
     "slide_type": "subslide"
    }
   },
   "source": [
    "### Non-Correlated Subqueries"
   ]
  },
  {
   "cell_type": "markdown",
   "metadata": {},
   "source": [
    "__Non-Correlated Subquery:__ Any valid query within query that if executed by itself will produce a result (including empty set). These are enclosed in '(', ')' in __FROM__, __WHERE__, or __HAVING__ clauses."
   ]
  },
  {
   "cell_type": "markdown",
   "metadata": {
    "slideshow": {
     "slide_type": "fragment"
    }
   },
   "source": [
    "__Example:__ What Stats Club execs are in charge of making posters?"
   ]
  },
  {
   "cell_type": "markdown",
   "metadata": {
    "slideshow": {
     "slide_type": "fragment"
    }
   },
   "source": [
    "```\n",
    "SELECT e.name, e.position \n",
    "FROM exec AS e \n",
    "WHERE e.questid IN (SELECT poster FROM event);\n",
    "```"
   ]
  },
  {
   "cell_type": "code",
   "execution_count": 13,
   "metadata": {
    "collapsed": false,
    "slideshow": {
     "slide_type": "fragment"
    }
   },
   "outputs": [
    {
     "data": {
      "text/html": [
       "<div style=\"max-height:1000px;max-width:1500px;overflow:auto;\">\n",
       "<table border=\"1\" class=\"dataframe\">\n",
       "  <thead>\n",
       "    <tr style=\"text-align: right;\">\n",
       "      <th></th>\n",
       "      <th>name</th>\n",
       "      <th>position</th>\n",
       "    </tr>\n",
       "  </thead>\n",
       "  <tbody>\n",
       "    <tr>\n",
       "      <th>0</th>\n",
       "      <td>    Darrell Aucoin</td>\n",
       "      <td> President</td>\n",
       "    </tr>\n",
       "    <tr>\n",
       "      <th>1</th>\n",
       "      <td>     Dominick Byrd</td>\n",
       "      <td>    Events</td>\n",
       "    </tr>\n",
       "    <tr>\n",
       "      <th>2</th>\n",
       "      <td>    Gilberto Cross</td>\n",
       "      <td>    Events</td>\n",
       "    </tr>\n",
       "    <tr>\n",
       "      <th>3</th>\n",
       "      <td> Judith B. Gibbons</td>\n",
       "      <td>    Events</td>\n",
       "    </tr>\n",
       "    <tr>\n",
       "      <th>4</th>\n",
       "      <td> Patrick Robertson</td>\n",
       "      <td>    Events</td>\n",
       "    </tr>\n",
       "  </tbody>\n",
       "</table>\n",
       "</div>"
      ],
      "text/plain": [
       "                name   position\n",
       "0     Darrell Aucoin  President\n",
       "1      Dominick Byrd     Events\n",
       "2     Gilberto Cross     Events\n",
       "3  Judith B. Gibbons     Events\n",
       "4  Patrick Robertson     Events"
      ]
     },
     "execution_count": 13,
     "metadata": {},
     "output_type": "execute_result"
    }
   ],
   "source": [
    "pd.read_sql_query(\n",
    "\"SELECT e.name, e.position \\\n",
    "FROM exec AS e \\\n",
    "WHERE e.questid IN (SELECT poster FROM event)\", con)"
   ]
  },
  {
   "cell_type": "markdown",
   "metadata": {
    "slideshow": {
     "slide_type": "subslide"
    }
   },
   "source": [
    "### Correlated Subqueries"
   ]
  },
  {
   "cell_type": "markdown",
   "metadata": {},
   "source": [
    "__Correlated  Subquery__ makes references to it's containing query, executing it for every candidate row referenced.\n",
    "- Correlated subqueries can appear in the __SELECT__, __WHERE__, or __HAVING__ clauses."
   ]
  },
  {
   "cell_type": "markdown",
   "metadata": {
    "slideshow": {
     "slide_type": "fragment"
    }
   },
   "source": [
    "__Example:__ What majors are the current Stats Club execs enrolled in?\n",
    "- The member table has the information on majors but exec has the information on execs"
   ]
  },
  {
   "cell_type": "markdown",
   "metadata": {
    "slideshow": {
     "slide_type": "subslide"
    }
   },
   "source": [
    "```\n",
    "SELECT name, position, \n",
    "(SELECT faculty FROM member AS m WHERE m.quest_id = e.questid) AS faulty, \n",
    "(SELECT major FROM member AS m WHERE m.quest_id = e.questid) AS major \n",
    "FROM exec AS e;\n",
    "```"
   ]
  },
  {
   "cell_type": "code",
   "execution_count": 14,
   "metadata": {
    "collapsed": false,
    "slideshow": {
     "slide_type": "fragment"
    }
   },
   "outputs": [
    {
     "data": {
      "text/html": [
       "<div style=\"max-height:1000px;max-width:1500px;overflow:auto;\">\n",
       "<table border=\"1\" class=\"dataframe\">\n",
       "  <thead>\n",
       "    <tr style=\"text-align: right;\">\n",
       "      <th></th>\n",
       "      <th>name</th>\n",
       "      <th>position</th>\n",
       "      <th>faulty</th>\n",
       "      <th>major</th>\n",
       "    </tr>\n",
       "  </thead>\n",
       "  <tbody>\n",
       "    <tr>\n",
       "      <th>0</th>\n",
       "      <td>    Darrell Aucoin</td>\n",
       "      <td>     President</td>\n",
       "      <td> Math</td>\n",
       "      <td>     Stats</td>\n",
       "    </tr>\n",
       "    <tr>\n",
       "      <th>1</th>\n",
       "      <td> Judith B. Gibbons</td>\n",
       "      <td>        Events</td>\n",
       "      <td> Math</td>\n",
       "      <td>   Act Sci</td>\n",
       "    </tr>\n",
       "    <tr>\n",
       "      <th>2</th>\n",
       "      <td>         Lamar Roy</td>\n",
       "      <td>       Finance</td>\n",
       "      <td> None</td>\n",
       "      <td>      None</td>\n",
       "    </tr>\n",
       "    <tr>\n",
       "      <th>3</th>\n",
       "      <td>    Gilberto Cross</td>\n",
       "      <td>        Events</td>\n",
       "      <td> None</td>\n",
       "      <td>      None</td>\n",
       "    </tr>\n",
       "    <tr>\n",
       "      <th>4</th>\n",
       "      <td>        Melba Lane</td>\n",
       "      <td>     President</td>\n",
       "      <td> None</td>\n",
       "      <td>      None</td>\n",
       "    </tr>\n",
       "    <tr>\n",
       "      <th>5</th>\n",
       "      <td>        Ruben Lamb</td>\n",
       "      <td>    Technology</td>\n",
       "      <td> Math</td>\n",
       "      <td>   Act Sci</td>\n",
       "    </tr>\n",
       "    <tr>\n",
       "      <th>6</th>\n",
       "      <td>      Hannah Mason</td>\n",
       "      <td> SeniorAdvisor</td>\n",
       "      <td> None</td>\n",
       "      <td>      None</td>\n",
       "    </tr>\n",
       "    <tr>\n",
       "      <th>7</th>\n",
       "      <td> Patrick Robertson</td>\n",
       "      <td>        Events</td>\n",
       "      <td> Math</td>\n",
       "      <td>     Stats</td>\n",
       "    </tr>\n",
       "    <tr>\n",
       "      <th>8</th>\n",
       "      <td>     Dominick Byrd</td>\n",
       "      <td>        Events</td>\n",
       "      <td> Math</td>\n",
       "      <td> Pure Math</td>\n",
       "    </tr>\n",
       "  </tbody>\n",
       "</table>\n",
       "</div>"
      ],
      "text/plain": [
       "                name       position faulty      major\n",
       "0     Darrell Aucoin      President   Math      Stats\n",
       "1  Judith B. Gibbons         Events   Math    Act Sci\n",
       "2          Lamar Roy        Finance   None       None\n",
       "3     Gilberto Cross         Events   None       None\n",
       "4         Melba Lane      President   None       None\n",
       "5         Ruben Lamb     Technology   Math    Act Sci\n",
       "6       Hannah Mason  SeniorAdvisor   None       None\n",
       "7  Patrick Robertson         Events   Math      Stats\n",
       "8      Dominick Byrd         Events   Math  Pure Math"
      ]
     },
     "execution_count": 14,
     "metadata": {},
     "output_type": "execute_result"
    }
   ],
   "source": [
    "pd.read_sql_query(\n",
    "\"SELECT name, position, \\\n",
    "(SELECT faculty FROM member AS m WHERE m.quest_id = e.questid) AS faulty, \\\n",
    "(SELECT major FROM member AS m WHERE m.quest_id = e.questid) AS major \\\n",
    "FROM exec AS e\", con)"
   ]
  },
  {
   "cell_type": "markdown",
   "metadata": {
    "slideshow": {
     "slide_type": "subslide"
    }
   },
   "source": [
    "### Correlated vs Non-Correlated"
   ]
  },
  {
   "cell_type": "markdown",
   "metadata": {},
   "source": [
    "1. Correlated subquery is __dependent__ on outer query, non-correlated is __independent__.\n",
    "\n",
    "2. Correlated subquery is executed __concurrently__ with outer query, non-correlated is executed before.\n",
    "\n",
    "3. In general, for speed of execution:\n",
    "$$\\mbox{Correlated subquery}\\prec\\mbox{Non-Correlated subquery}\\prec\\mbox{Joins}$$\n",
    " "
   ]
  },
  {
   "cell_type": "markdown",
   "metadata": {
    "slideshow": {
     "slide_type": "subslide"
    }
   },
   "source": [
    "### Quiz: Subqueries"
   ]
  },
  {
   "cell_type": "markdown",
   "metadata": {},
   "source": [
    "__Q:__ Where can a Non-Correlated subquery can be placed?"
   ]
  },
  {
   "cell_type": "markdown",
   "metadata": {
    "slideshow": {
     "slide_type": "fragment"
    }
   },
   "source": [
    "__A:__ in the __FROM__, __WHERE__, and __HAVING__ clauses"
   ]
  },
  {
   "cell_type": "markdown",
   "metadata": {},
   "source": [
    "__Q:__ Where can a Correlated subquery can be placed?"
   ]
  },
  {
   "cell_type": "markdown",
   "metadata": {
    "slideshow": {
     "slide_type": "fragment"
    }
   },
   "source": [
    "__A:__ in the __SELECT__, __WHERE__, and __HAVING__ clauses"
   ]
  },
  {
   "cell_type": "markdown",
   "metadata": {
    "slideshow": {
     "slide_type": "subslide"
    }
   },
   "source": [
    "__Q:__ Using a non-correlated subquery, what are the names, locations, and descriptions of events that served pizza?\n",
    "1. Break the problem into smaller pieces: What are the events that served pizza?\n",
    "2. Only retrieve values from the table `event` that `event.name` matches those values"
   ]
  },
  {
   "cell_type": "markdown",
   "metadata": {
    "slideshow": {
     "slide_type": "fragment"
    }
   },
   "source": [
    "```\n",
    "SELECT event \n",
    "FROM expenses \n",
    "WHERE expense = 'pizza';\n",
    "```"
   ]
  },
  {
   "cell_type": "code",
   "execution_count": 15,
   "metadata": {
    "collapsed": false,
    "slideshow": {
     "slide_type": "fragment"
    }
   },
   "outputs": [
    {
     "data": {
      "text/html": [
       "<div style=\"max-height:1000px;max-width:1500px;overflow:auto;\">\n",
       "<table border=\"1\" class=\"dataframe\">\n",
       "  <thead>\n",
       "    <tr style=\"text-align: right;\">\n",
       "      <th></th>\n",
       "      <th>event</th>\n",
       "    </tr>\n",
       "  </thead>\n",
       "  <tbody>\n",
       "    <tr>\n",
       "      <th>0</th>\n",
       "      <td>          BOT</td>\n",
       "    </tr>\n",
       "    <tr>\n",
       "      <th>1</th>\n",
       "      <td> Intro to SQL</td>\n",
       "    </tr>\n",
       "    <tr>\n",
       "      <th>2</th>\n",
       "      <td>    Prof Talk</td>\n",
       "    </tr>\n",
       "    <tr>\n",
       "      <th>3</th>\n",
       "      <td>  Prof Talk 2</td>\n",
       "    </tr>\n",
       "  </tbody>\n",
       "</table>\n",
       "</div>"
      ],
      "text/plain": [
       "          event\n",
       "0           BOT\n",
       "1  Intro to SQL\n",
       "2     Prof Talk\n",
       "3   Prof Talk 2"
      ]
     },
     "execution_count": 15,
     "metadata": {},
     "output_type": "execute_result"
    }
   ],
   "source": [
    "pd.read_sql_query(\n",
    "\"SELECT event \\\n",
    "FROM expenses \\\n",
    "WHERE expense = 'pizza'\", con)"
   ]
  },
  {
   "cell_type": "markdown",
   "metadata": {
    "slideshow": {
     "slide_type": "subslide"
    }
   },
   "source": [
    "- Second, only retrieve values from the table `event` that `event.name` matches those values"
   ]
  },
  {
   "cell_type": "markdown",
   "metadata": {
    "slideshow": {
     "slide_type": "fragment"
    }
   },
   "source": [
    "```\n",
    "SELECT name, location, description \n",
    "FROM event \n",
    "WHERE name IN (SELECT event FROM expenses WHERE expense = 'pizza');\n",
    "```"
   ]
  },
  {
   "cell_type": "code",
   "execution_count": 16,
   "metadata": {
    "collapsed": false,
    "slideshow": {
     "slide_type": "fragment"
    }
   },
   "outputs": [
    {
     "data": {
      "text/html": [
       "<div style=\"max-height:1000px;max-width:1500px;overflow:auto;\">\n",
       "<table border=\"1\" class=\"dataframe\">\n",
       "  <thead>\n",
       "    <tr style=\"text-align: right;\">\n",
       "      <th></th>\n",
       "      <th>name</th>\n",
       "      <th>location</th>\n",
       "      <th>Description</th>\n",
       "    </tr>\n",
       "  </thead>\n",
       "  <tbody>\n",
       "    <tr>\n",
       "      <th>0</th>\n",
       "      <td>          BOT</td>\n",
       "      <td>   C &amp; D</td>\n",
       "      <td> Come and play games with your fellow stats Clu...</td>\n",
       "    </tr>\n",
       "    <tr>\n",
       "      <th>1</th>\n",
       "      <td> Intro to SQL</td>\n",
       "      <td> MC-3003</td>\n",
       "      <td> SQL is a relational database language and alon...</td>\n",
       "    </tr>\n",
       "    <tr>\n",
       "      <th>2</th>\n",
       "      <td>    Prof Talk</td>\n",
       "      <td> M3-2134</td>\n",
       "      <td> Machine Learning and Data Mining: How We can C...</td>\n",
       "    </tr>\n",
       "    <tr>\n",
       "      <th>3</th>\n",
       "      <td>  Prof Talk 2</td>\n",
       "      <td>    None</td>\n",
       "      <td>                                              None</td>\n",
       "    </tr>\n",
       "  </tbody>\n",
       "</table>\n",
       "</div>"
      ],
      "text/plain": [
       "           name location                                        Description\n",
       "0           BOT    C & D  Come and play games with your fellow stats Clu...\n",
       "1  Intro to SQL  MC-3003  SQL is a relational database language and alon...\n",
       "2     Prof Talk  M3-2134  Machine Learning and Data Mining: How We can C...\n",
       "3   Prof Talk 2     None                                               None"
      ]
     },
     "execution_count": 16,
     "metadata": {},
     "output_type": "execute_result"
    }
   ],
   "source": [
    "pd.read_sql_query(\n",
    "\"SELECT name, location, description \\\n",
    "FROM event  \\\n",
    "WHERE name IN (SELECT event FROM expenses WHERE expense = 'pizza')\", con)"
   ]
  },
  {
   "cell_type": "markdown",
   "metadata": {
    "slideshow": {
     "slide_type": "subslide"
    }
   },
   "source": [
    "Or alternatively, using a join:"
   ]
  },
  {
   "cell_type": "markdown",
   "metadata": {
    "slideshow": {
     "slide_type": "fragment"
    }
   },
   "source": [
    "```\n",
    "SELECT e.name, e.location, e.description \n",
    "FROM (SELECT event FROM expenses WHERE expense = 'pizza') AS exp INNER JOIN event AS e \n",
    "  ON exp.event = e.name;\n",
    "```"
   ]
  },
  {
   "cell_type": "code",
   "execution_count": 17,
   "metadata": {
    "collapsed": false,
    "slideshow": {
     "slide_type": "fragment"
    }
   },
   "outputs": [
    {
     "data": {
      "text/html": [
       "<div style=\"max-height:1000px;max-width:1500px;overflow:auto;\">\n",
       "<table border=\"1\" class=\"dataframe\">\n",
       "  <thead>\n",
       "    <tr style=\"text-align: right;\">\n",
       "      <th></th>\n",
       "      <th>e.name</th>\n",
       "      <th>e.location</th>\n",
       "      <th>e.description</th>\n",
       "    </tr>\n",
       "  </thead>\n",
       "  <tbody>\n",
       "    <tr>\n",
       "      <th>0</th>\n",
       "      <td>          BOT</td>\n",
       "      <td>   C &amp; D</td>\n",
       "      <td> Come and play games with your fellow stats Clu...</td>\n",
       "    </tr>\n",
       "    <tr>\n",
       "      <th>1</th>\n",
       "      <td> Intro to SQL</td>\n",
       "      <td> MC-3003</td>\n",
       "      <td> SQL is a relational database language and alon...</td>\n",
       "    </tr>\n",
       "    <tr>\n",
       "      <th>2</th>\n",
       "      <td>    Prof Talk</td>\n",
       "      <td> M3-2134</td>\n",
       "      <td> Machine Learning and Data Mining: How We can C...</td>\n",
       "    </tr>\n",
       "    <tr>\n",
       "      <th>3</th>\n",
       "      <td>  Prof Talk 2</td>\n",
       "      <td>    None</td>\n",
       "      <td>                                              None</td>\n",
       "    </tr>\n",
       "  </tbody>\n",
       "</table>\n",
       "</div>"
      ],
      "text/plain": [
       "         e.name e.location                                      e.description\n",
       "0           BOT      C & D  Come and play games with your fellow stats Clu...\n",
       "1  Intro to SQL    MC-3003  SQL is a relational database language and alon...\n",
       "2     Prof Talk    M3-2134  Machine Learning and Data Mining: How We can C...\n",
       "3   Prof Talk 2       None                                               None"
      ]
     },
     "execution_count": 17,
     "metadata": {},
     "output_type": "execute_result"
    }
   ],
   "source": [
    "pd.read_sql_query(\n",
    "\"SELECT e.name, e.location, e.description \\\n",
    "FROM (SELECT event FROM expenses WHERE expense = 'pizza') AS exp INNER JOIN event AS e \\\n",
    "  ON exp.event = e.name\", con)"
   ]
  },
  {
   "cell_type": "markdown",
   "metadata": {
    "slideshow": {
     "slide_type": "slide"
    }
   },
   "source": [
    "## Set Operations"
   ]
  },
  {
   "cell_type": "markdown",
   "metadata": {},
   "source": [
    "Set operations create a combination of rows from 2 tables into one result set.\n",
    "- The tables (or the projection of those tables) have to have the same number of columns and datatypes\n",
    "    - if one column appears in a table but not in another, supply the value NULL for the missing column"
   ]
  },
  {
   "cell_type": "markdown",
   "metadata": {
    "slideshow": {
     "slide_type": "fragment"
    }
   },
   "source": [
    "1. __UNION__: For tables A and B, combines the rows for A and B into one result set.\n",
    "2. __INTERSECT__: For tables A and B, returns the rows for A and B that they have in common.\n",
    "3. __Difference (EXCEPT)__: For tables A and B, return only the rows in A that are not in common with B."
   ]
  },
  {
   "cell_type": "markdown",
   "metadata": {
    "slideshow": {
     "slide_type": "subslide"
    }
   },
   "source": [
    "### UNION"
   ]
  },
  {
   "cell_type": "markdown",
   "metadata": {},
   "source": [
    "__UNION operator:__ Addition of one result set to another result set with the same number of attributes and types.\n",
    "```\n",
    "SELECT ... FROM ... \n",
    "UNION [ALL]\n",
    "SELECT ... FROM ...\n",
    "```\n",
    "- Just __UNION__ removes duplicates, while __UNION ALL__ keeps all rows from both result sets.\n",
    "<center>\n",
    "![alt text](Images/Union.png)\n",
    "</center>"
   ]
  },
  {
   "cell_type": "markdown",
   "metadata": {
    "slideshow": {
     "slide_type": "subslide"
    }
   },
   "source": [
    "<center>\n",
    "![alt text](Images/Union_all.png)\n",
    "</center>"
   ]
  },
  {
   "cell_type": "markdown",
   "metadata": {
    "slideshow": {
     "slide_type": "subslide"
    }
   },
   "source": [
    "__Example:__ Suppose are you need to contact everyone involved in Stats Club: members and execs.  \n",
    "What are the names, email addresses, and phone numbers (if you have them) of all Stats Club members and execs?"
   ]
  },
  {
   "cell_type": "markdown",
   "metadata": {
    "slideshow": {
     "slide_type": "fragment"
    }
   },
   "source": [
    "```\n",
    "SELECT name, email, NULL AS phone \n",
    "FROM member \n",
    "UNION \n",
    "SELECT name, email, phone \n",
    "FROM exec;\n",
    "```"
   ]
  },
  {
   "cell_type": "code",
   "execution_count": 18,
   "metadata": {
    "collapsed": false,
    "slideshow": {
     "slide_type": "fragment"
    }
   },
   "outputs": [
    {
     "data": {
      "text/html": [
       "<div style=\"max-height:1000px;max-width:1500px;overflow:auto;\">\n",
       "<table border=\"1\" class=\"dataframe\">\n",
       "  <thead>\n",
       "    <tr style=\"text-align: right;\">\n",
       "      <th></th>\n",
       "      <th>name</th>\n",
       "      <th>email</th>\n",
       "      <th>phone</th>\n",
       "    </tr>\n",
       "  </thead>\n",
       "  <tbody>\n",
       "    <tr>\n",
       "      <th>0 </th>\n",
       "      <td>     Ann W. McLaughlin</td>\n",
       "      <td>         ann@uwaterloo.ca</td>\n",
       "      <td>         None</td>\n",
       "    </tr>\n",
       "    <tr>\n",
       "      <th>1 </th>\n",
       "      <td>      Arnold J. Fuller</td>\n",
       "      <td>      arnold@uwaterloo.ca</td>\n",
       "      <td>         None</td>\n",
       "    </tr>\n",
       "    <tr>\n",
       "      <th>2 </th>\n",
       "      <td>    Austin K. Gilliard</td>\n",
       "      <td>      austin@uwaterloo.ca</td>\n",
       "      <td>         None</td>\n",
       "    </tr>\n",
       "    <tr>\n",
       "      <th>3 </th>\n",
       "      <td>       Billy L. Hunter</td>\n",
       "      <td>       billy@uwaterloo.ca</td>\n",
       "      <td>         None</td>\n",
       "    </tr>\n",
       "    <tr>\n",
       "      <th>4 </th>\n",
       "      <td>     Bobbie D. Mathews</td>\n",
       "      <td>      bobbie@uwaterloo.ca</td>\n",
       "      <td>         None</td>\n",
       "    </tr>\n",
       "    <tr>\n",
       "      <th>5 </th>\n",
       "      <td>       Daniel J. Moore</td>\n",
       "      <td>      daniel@uwaterloo.ca</td>\n",
       "      <td>         None</td>\n",
       "    </tr>\n",
       "    <tr>\n",
       "      <th>6 </th>\n",
       "      <td>        Darrell Aucoin</td>\n",
       "      <td> darrell.aucoin@gmail.com</td>\n",
       "      <td>         None</td>\n",
       "    </tr>\n",
       "    <tr>\n",
       "      <th>7 </th>\n",
       "      <td>        Darrell Aucoin</td>\n",
       "      <td> darrell.aucoin@gmail.com</td>\n",
       "      <td> 519-555-1424</td>\n",
       "    </tr>\n",
       "    <tr>\n",
       "      <th>8 </th>\n",
       "      <td>   Deborah D. Helfrich</td>\n",
       "      <td>     deborah@uwaterloo.ca</td>\n",
       "      <td>         None</td>\n",
       "    </tr>\n",
       "    <tr>\n",
       "      <th>9 </th>\n",
       "      <td>         Dominick Byrd</td>\n",
       "      <td>    dominick@uwaterloo.ca</td>\n",
       "      <td>         None</td>\n",
       "    </tr>\n",
       "    <tr>\n",
       "      <th>10</th>\n",
       "      <td>         Dominick Byrd</td>\n",
       "      <td>    dominick@uwaterloo.ca</td>\n",
       "      <td> 519-555-2325</td>\n",
       "    </tr>\n",
       "    <tr>\n",
       "      <th>11</th>\n",
       "      <td>         Elaine S. Ott</td>\n",
       "      <td>      elaine@uwaterloo.ca</td>\n",
       "      <td>         None</td>\n",
       "    </tr>\n",
       "    <tr>\n",
       "      <th>12</th>\n",
       "      <td>     Frances A. Miller</td>\n",
       "      <td>     frances@uwaterloo.ca</td>\n",
       "      <td>         None</td>\n",
       "    </tr>\n",
       "    <tr>\n",
       "      <th>13</th>\n",
       "      <td>         Fred E. Finch</td>\n",
       "      <td>        fred@uwaterloo.ca</td>\n",
       "      <td>         None</td>\n",
       "    </tr>\n",
       "    <tr>\n",
       "      <th>14</th>\n",
       "      <td>        Gilberto Cross</td>\n",
       "      <td>    gilberto@uwaterloo.ca</td>\n",
       "      <td> 519-555-3453</td>\n",
       "    </tr>\n",
       "    <tr>\n",
       "      <th>15</th>\n",
       "      <td>          Hannah Mason</td>\n",
       "      <td>      hannah@uwaterloo.ca</td>\n",
       "      <td> 519-555-2342</td>\n",
       "    </tr>\n",
       "    <tr>\n",
       "      <th>16</th>\n",
       "      <td>         James A. Foxt</td>\n",
       "      <td>   james.fox@uwaterloo.ca</td>\n",
       "      <td>         None</td>\n",
       "    </tr>\n",
       "    <tr>\n",
       "      <th>17</th>\n",
       "      <td>      James M. Eddings</td>\n",
       "      <td>       james@uwaterloo.ca</td>\n",
       "      <td>         None</td>\n",
       "    </tr>\n",
       "    <tr>\n",
       "      <th>18</th>\n",
       "      <td>      Janelle T. Smith</td>\n",
       "      <td>     janelle@uwaterloo.ca</td>\n",
       "      <td>         None</td>\n",
       "    </tr>\n",
       "    <tr>\n",
       "      <th>19</th>\n",
       "      <td>        Jeff M. Wright</td>\n",
       "      <td>        jeff@uwaterloo.ca</td>\n",
       "      <td>         None</td>\n",
       "    </tr>\n",
       "    <tr>\n",
       "      <th>20</th>\n",
       "      <td>       John J. Oquendo</td>\n",
       "      <td>        john@uwaterloo.ca</td>\n",
       "      <td>         None</td>\n",
       "    </tr>\n",
       "    <tr>\n",
       "      <th>21</th>\n",
       "      <td>        Joseph L. Wood</td>\n",
       "      <td>      joseph@uwaterloo.ca</td>\n",
       "      <td>         None</td>\n",
       "    </tr>\n",
       "    <tr>\n",
       "      <th>22</th>\n",
       "      <td>     Judith B. Gibbons</td>\n",
       "      <td>      judith@uwaterloo.ca</td>\n",
       "      <td>         None</td>\n",
       "    </tr>\n",
       "    <tr>\n",
       "      <th>23</th>\n",
       "      <td>     Judith B. Gibbons</td>\n",
       "      <td>      judith@uwaterloo.ca</td>\n",
       "      <td> 519-555-2343</td>\n",
       "    </tr>\n",
       "    <tr>\n",
       "      <th>24</th>\n",
       "      <td>     Kelly S. Ferguson</td>\n",
       "      <td>       kelly@uwaterloo.ca</td>\n",
       "      <td>         None</td>\n",
       "    </tr>\n",
       "    <tr>\n",
       "      <th>25</th>\n",
       "      <td>             Lamar Roy</td>\n",
       "      <td>       lamar@uwaterloo.ca</td>\n",
       "      <td> 519-555-3432</td>\n",
       "    </tr>\n",
       "    <tr>\n",
       "      <th>26</th>\n",
       "      <td>            Melba Lane</td>\n",
       "      <td>       melba@uwaterloo.ca</td>\n",
       "      <td> 519-555-2322</td>\n",
       "    </tr>\n",
       "    <tr>\n",
       "      <th>27</th>\n",
       "      <td>   Melissa R. Anderson</td>\n",
       "      <td>     melissa@uwaterloo.ca</td>\n",
       "      <td>         None</td>\n",
       "    </tr>\n",
       "    <tr>\n",
       "      <th>28</th>\n",
       "      <td>      Melvin O. Martin</td>\n",
       "      <td>      melvin@uwaterloo.ca</td>\n",
       "      <td>         None</td>\n",
       "    </tr>\n",
       "    <tr>\n",
       "      <th>29</th>\n",
       "      <td>  Mildred F. Hottinger</td>\n",
       "      <td>     mildred@uwaterloo.ca</td>\n",
       "      <td>         None</td>\n",
       "    </tr>\n",
       "    <tr>\n",
       "      <th>30</th>\n",
       "      <td>      Mina W. Lawrence</td>\n",
       "      <td>        mina@uwaterloo.ca</td>\n",
       "      <td>         None</td>\n",
       "    </tr>\n",
       "    <tr>\n",
       "      <th>31</th>\n",
       "      <td>      Nancy P. Jackson</td>\n",
       "      <td>       nancy@uwaterloo.ca</td>\n",
       "      <td>         None</td>\n",
       "    </tr>\n",
       "    <tr>\n",
       "      <th>32</th>\n",
       "      <td>     Patrick Robertson</td>\n",
       "      <td>     patrick@uwaterloo.ca</td>\n",
       "      <td>         None</td>\n",
       "    </tr>\n",
       "    <tr>\n",
       "      <th>33</th>\n",
       "      <td>     Patrick Robertson</td>\n",
       "      <td>     patrick@uwaterloo.ca</td>\n",
       "      <td> 519-555-2312</td>\n",
       "    </tr>\n",
       "    <tr>\n",
       "      <th>34</th>\n",
       "      <td> Phillip C. Mascarenas</td>\n",
       "      <td>     phillip@uwaterloo.ca</td>\n",
       "      <td>         None</td>\n",
       "    </tr>\n",
       "    <tr>\n",
       "      <th>35</th>\n",
       "      <td>      Ralph L. Waldrop</td>\n",
       "      <td>       ralph@uwaterloo.ca</td>\n",
       "      <td>         None</td>\n",
       "    </tr>\n",
       "    <tr>\n",
       "      <th>36</th>\n",
       "      <td>    Robert B. Williams</td>\n",
       "      <td>      robert@uwaterloo.ca</td>\n",
       "      <td>         None</td>\n",
       "    </tr>\n",
       "    <tr>\n",
       "      <th>37</th>\n",
       "      <td>            Ruben Lamb</td>\n",
       "      <td>       ruben@uwaterloo.ca</td>\n",
       "      <td>         None</td>\n",
       "    </tr>\n",
       "    <tr>\n",
       "      <th>38</th>\n",
       "      <td>            Ruben Lamb</td>\n",
       "      <td>       ruben@uwaterloo.ca</td>\n",
       "      <td> 519-555-5232</td>\n",
       "    </tr>\n",
       "    <tr>\n",
       "      <th>39</th>\n",
       "      <td>          Ryan T. Luby</td>\n",
       "      <td>        ryan@uwaterloo.ca</td>\n",
       "      <td>         None</td>\n",
       "    </tr>\n",
       "    <tr>\n",
       "      <th>40</th>\n",
       "      <td> Stephanie R. Matthews</td>\n",
       "      <td>        step@uwaterloo.ca</td>\n",
       "      <td>         None</td>\n",
       "    </tr>\n",
       "    <tr>\n",
       "      <th>41</th>\n",
       "      <td>   Tameika M. McMaster</td>\n",
       "      <td>     tameika@uwaterloo.ca</td>\n",
       "      <td>         None</td>\n",
       "    </tr>\n",
       "    <tr>\n",
       "      <th>42</th>\n",
       "      <td>      Vivian R. Donley</td>\n",
       "      <td>      vivian@uwaterloo.ca</td>\n",
       "      <td>         None</td>\n",
       "    </tr>\n",
       "  </tbody>\n",
       "</table>\n",
       "</div>"
      ],
      "text/plain": [
       "                     name                     email         phone\n",
       "0       Ann W. McLaughlin          ann@uwaterloo.ca          None\n",
       "1        Arnold J. Fuller       arnold@uwaterloo.ca          None\n",
       "2      Austin K. Gilliard       austin@uwaterloo.ca          None\n",
       "3         Billy L. Hunter        billy@uwaterloo.ca          None\n",
       "4       Bobbie D. Mathews       bobbie@uwaterloo.ca          None\n",
       "5         Daniel J. Moore       daniel@uwaterloo.ca          None\n",
       "6          Darrell Aucoin  darrell.aucoin@gmail.com          None\n",
       "7          Darrell Aucoin  darrell.aucoin@gmail.com  519-555-1424\n",
       "8     Deborah D. Helfrich      deborah@uwaterloo.ca          None\n",
       "9           Dominick Byrd     dominick@uwaterloo.ca          None\n",
       "10          Dominick Byrd     dominick@uwaterloo.ca  519-555-2325\n",
       "11          Elaine S. Ott       elaine@uwaterloo.ca          None\n",
       "12      Frances A. Miller      frances@uwaterloo.ca          None\n",
       "13          Fred E. Finch         fred@uwaterloo.ca          None\n",
       "14         Gilberto Cross     gilberto@uwaterloo.ca  519-555-3453\n",
       "15           Hannah Mason       hannah@uwaterloo.ca  519-555-2342\n",
       "16          James A. Foxt    james.fox@uwaterloo.ca          None\n",
       "17       James M. Eddings        james@uwaterloo.ca          None\n",
       "18       Janelle T. Smith      janelle@uwaterloo.ca          None\n",
       "19         Jeff M. Wright         jeff@uwaterloo.ca          None\n",
       "20        John J. Oquendo         john@uwaterloo.ca          None\n",
       "21         Joseph L. Wood       joseph@uwaterloo.ca          None\n",
       "22      Judith B. Gibbons       judith@uwaterloo.ca          None\n",
       "23      Judith B. Gibbons       judith@uwaterloo.ca  519-555-2343\n",
       "24      Kelly S. Ferguson        kelly@uwaterloo.ca          None\n",
       "25              Lamar Roy        lamar@uwaterloo.ca  519-555-3432\n",
       "26             Melba Lane        melba@uwaterloo.ca  519-555-2322\n",
       "27    Melissa R. Anderson      melissa@uwaterloo.ca          None\n",
       "28       Melvin O. Martin       melvin@uwaterloo.ca          None\n",
       "29   Mildred F. Hottinger      mildred@uwaterloo.ca          None\n",
       "30       Mina W. Lawrence         mina@uwaterloo.ca          None\n",
       "31       Nancy P. Jackson        nancy@uwaterloo.ca          None\n",
       "32      Patrick Robertson      patrick@uwaterloo.ca          None\n",
       "33      Patrick Robertson      patrick@uwaterloo.ca  519-555-2312\n",
       "34  Phillip C. Mascarenas      phillip@uwaterloo.ca          None\n",
       "35       Ralph L. Waldrop        ralph@uwaterloo.ca          None\n",
       "36     Robert B. Williams       robert@uwaterloo.ca          None\n",
       "37             Ruben Lamb        ruben@uwaterloo.ca          None\n",
       "38             Ruben Lamb        ruben@uwaterloo.ca  519-555-5232\n",
       "39           Ryan T. Luby         ryan@uwaterloo.ca          None\n",
       "40  Stephanie R. Matthews         step@uwaterloo.ca          None\n",
       "41    Tameika M. McMaster      tameika@uwaterloo.ca          None\n",
       "42       Vivian R. Donley       vivian@uwaterloo.ca          None"
      ]
     },
     "execution_count": 18,
     "metadata": {},
     "output_type": "execute_result"
    }
   ],
   "source": [
    "pd.read_sql_query(\n",
    "\"SELECT name, email, NULL AS phone \\\n",
    "FROM member \\\n",
    "UNION \\\n",
    "SELECT name, email, phone \\\n",
    "FROM exec\", con)"
   ]
  },
  {
   "cell_type": "markdown",
   "metadata": {
    "slideshow": {
     "slide_type": "subslide"
    }
   },
   "source": [
    "### Intersection (INTERSECT Operator)"
   ]
  },
  {
   "cell_type": "markdown",
   "metadata": {},
   "source": [
    "__INTERSECT operator:__ Returns only tuples that are in common between two result sets. Result sets must be equal in number and type of attributes.\n",
    "```\n",
    "SELECT ... FROM ...\n",
    "INTERSECT\n",
    "SELECT ... FROM ...;\n",
    "```\n",
    "<center>\n",
    "![alt text](Images/Intersect.png)\n",
    "</center>"
   ]
  },
  {
   "cell_type": "markdown",
   "metadata": {
    "slideshow": {
     "slide_type": "subslide"
    }
   },
   "source": [
    "__Example:__ What Stats Club execs have also signed up as Stats Club members?"
   ]
  },
  {
   "cell_type": "markdown",
   "metadata": {
    "slideshow": {
     "slide_type": "fragment"
    }
   },
   "source": [
    "```\n",
    "SELECT name, quest_id \n",
    "FROM member \n",
    "INTERSECT \n",
    "SELECT name, questid \n",
    "FROM exec;\n",
    "```"
   ]
  },
  {
   "cell_type": "code",
   "execution_count": 19,
   "metadata": {
    "collapsed": false,
    "slideshow": {
     "slide_type": "fragment"
    }
   },
   "outputs": [
    {
     "data": {
      "text/html": [
       "<div style=\"max-height:1000px;max-width:1500px;overflow:auto;\">\n",
       "<table border=\"1\" class=\"dataframe\">\n",
       "  <thead>\n",
       "    <tr style=\"text-align: right;\">\n",
       "      <th></th>\n",
       "      <th>name</th>\n",
       "      <th>quest_id</th>\n",
       "    </tr>\n",
       "  </thead>\n",
       "  <tbody>\n",
       "    <tr>\n",
       "      <th>0</th>\n",
       "      <td>    Darrell Aucoin</td>\n",
       "      <td>  darrell</td>\n",
       "    </tr>\n",
       "    <tr>\n",
       "      <th>1</th>\n",
       "      <td>     Dominick Byrd</td>\n",
       "      <td> dominick</td>\n",
       "    </tr>\n",
       "    <tr>\n",
       "      <th>2</th>\n",
       "      <td> Judith B. Gibbons</td>\n",
       "      <td>   judith</td>\n",
       "    </tr>\n",
       "    <tr>\n",
       "      <th>3</th>\n",
       "      <td> Patrick Robertson</td>\n",
       "      <td>  patrick</td>\n",
       "    </tr>\n",
       "    <tr>\n",
       "      <th>4</th>\n",
       "      <td>        Ruben Lamb</td>\n",
       "      <td>    ruben</td>\n",
       "    </tr>\n",
       "  </tbody>\n",
       "</table>\n",
       "</div>"
      ],
      "text/plain": [
       "                name  quest_id\n",
       "0     Darrell Aucoin   darrell\n",
       "1      Dominick Byrd  dominick\n",
       "2  Judith B. Gibbons    judith\n",
       "3  Patrick Robertson   patrick\n",
       "4         Ruben Lamb     ruben"
      ]
     },
     "execution_count": 19,
     "metadata": {},
     "output_type": "execute_result"
    }
   ],
   "source": [
    "pd.read_sql_query(\n",
    "\"SELECT name, quest_id \\\n",
    "FROM member \\\n",
    "INTERSECT \\\n",
    "SELECT name, questid \\\n",
    "FROM exec\", con)"
   ]
  },
  {
   "cell_type": "markdown",
   "metadata": {
    "slideshow": {
     "slide_type": "subslide"
    }
   },
   "source": [
    "### Difference (EXCEPT Operator)"
   ]
  },
  {
   "cell_type": "markdown",
   "metadata": {},
   "source": [
    "__EXCEPT operator:__ Returns the first result set minus anything it has in common with the second result set.\n",
    "```\n",
    "SELECT ... FROM ...\n",
    "EXCEPT [ALL]\n",
    "SELECT ... FROM ...\n",
    "```\n",
    "- Just EXCEPT uses set theory version of minus. \n",
    "\n",
    "    - If B has a row in common with A then all rows matching that row is removed\n",
    "<center>\n",
    "![alt text](Images/Except.png)\n",
    "</center>"
   ]
  },
  {
   "cell_type": "markdown",
   "metadata": {
    "slideshow": {
     "slide_type": "subslide"
    }
   },
   "source": [
    "- The optional ALL uses the bag semantics version.\n",
    "    - If B has a row in common with A then only the number of common rows in B rows matching that row is removed\n",
    "<center>\n",
    "![alt text](Images/Except_all.png)\n",
    "</center>"
   ]
  },
  {
   "cell_type": "markdown",
   "metadata": {
    "slideshow": {
     "slide_type": "subslide"
    }
   },
   "source": [
    "__Example:__ What Stats Club members are not execs?"
   ]
  },
  {
   "cell_type": "markdown",
   "metadata": {
    "slideshow": {
     "slide_type": "fragment"
    }
   },
   "source": [
    "```\n",
    "SELECT name, quest_id \n",
    "FROM member \n",
    "EXCEPT \n",
    "SELECT name, questid \n",
    "FROM exec;\n",
    "```"
   ]
  },
  {
   "cell_type": "code",
   "execution_count": 20,
   "metadata": {
    "collapsed": false,
    "slideshow": {
     "slide_type": "fragment"
    }
   },
   "outputs": [
    {
     "data": {
      "text/html": [
       "<div style=\"max-height:1000px;max-width:1500px;overflow:auto;\">\n",
       "<table border=\"1\" class=\"dataframe\">\n",
       "  <thead>\n",
       "    <tr style=\"text-align: right;\">\n",
       "      <th></th>\n",
       "      <th>name</th>\n",
       "      <th>quest_id</th>\n",
       "    </tr>\n",
       "  </thead>\n",
       "  <tbody>\n",
       "    <tr>\n",
       "      <th>0 </th>\n",
       "      <td>     Ann W. McLaughlin</td>\n",
       "      <td>       ann</td>\n",
       "    </tr>\n",
       "    <tr>\n",
       "      <th>1 </th>\n",
       "      <td>      Arnold J. Fuller</td>\n",
       "      <td>    arnold</td>\n",
       "    </tr>\n",
       "    <tr>\n",
       "      <th>2 </th>\n",
       "      <td>    Austin K. Gilliard</td>\n",
       "      <td>    austin</td>\n",
       "    </tr>\n",
       "    <tr>\n",
       "      <th>3 </th>\n",
       "      <td>       Billy L. Hunter</td>\n",
       "      <td>     billy</td>\n",
       "    </tr>\n",
       "    <tr>\n",
       "      <th>4 </th>\n",
       "      <td>     Bobbie D. Mathews</td>\n",
       "      <td>    bobbie</td>\n",
       "    </tr>\n",
       "    <tr>\n",
       "      <th>5 </th>\n",
       "      <td>       Daniel J. Moore</td>\n",
       "      <td>    daniel</td>\n",
       "    </tr>\n",
       "    <tr>\n",
       "      <th>6 </th>\n",
       "      <td>   Deborah D. Helfrich</td>\n",
       "      <td>   deborah</td>\n",
       "    </tr>\n",
       "    <tr>\n",
       "      <th>7 </th>\n",
       "      <td>         Elaine S. Ott</td>\n",
       "      <td>    elaine</td>\n",
       "    </tr>\n",
       "    <tr>\n",
       "      <th>8 </th>\n",
       "      <td>     Frances A. Miller</td>\n",
       "      <td>   frances</td>\n",
       "    </tr>\n",
       "    <tr>\n",
       "      <th>9 </th>\n",
       "      <td>         Fred E. Finch</td>\n",
       "      <td>      fred</td>\n",
       "    </tr>\n",
       "    <tr>\n",
       "      <th>10</th>\n",
       "      <td>         James A. Foxt</td>\n",
       "      <td> james.fox</td>\n",
       "    </tr>\n",
       "    <tr>\n",
       "      <th>11</th>\n",
       "      <td>      James M. Eddings</td>\n",
       "      <td>     james</td>\n",
       "    </tr>\n",
       "    <tr>\n",
       "      <th>12</th>\n",
       "      <td>      Janelle T. Smith</td>\n",
       "      <td>   janelle</td>\n",
       "    </tr>\n",
       "    <tr>\n",
       "      <th>13</th>\n",
       "      <td>        Jeff M. Wright</td>\n",
       "      <td>      jeff</td>\n",
       "    </tr>\n",
       "    <tr>\n",
       "      <th>14</th>\n",
       "      <td>       John J. Oquendo</td>\n",
       "      <td>      john</td>\n",
       "    </tr>\n",
       "    <tr>\n",
       "      <th>15</th>\n",
       "      <td>        Joseph L. Wood</td>\n",
       "      <td>    joseph</td>\n",
       "    </tr>\n",
       "    <tr>\n",
       "      <th>16</th>\n",
       "      <td>     Kelly S. Ferguson</td>\n",
       "      <td>     kelly</td>\n",
       "    </tr>\n",
       "    <tr>\n",
       "      <th>17</th>\n",
       "      <td>   Melissa R. Anderson</td>\n",
       "      <td>   melissa</td>\n",
       "    </tr>\n",
       "    <tr>\n",
       "      <th>18</th>\n",
       "      <td>      Melvin O. Martin</td>\n",
       "      <td>    melvin</td>\n",
       "    </tr>\n",
       "    <tr>\n",
       "      <th>19</th>\n",
       "      <td>  Mildred F. Hottinger</td>\n",
       "      <td>   mildred</td>\n",
       "    </tr>\n",
       "    <tr>\n",
       "      <th>20</th>\n",
       "      <td>      Mina W. Lawrence</td>\n",
       "      <td>      mina</td>\n",
       "    </tr>\n",
       "    <tr>\n",
       "      <th>21</th>\n",
       "      <td>      Nancy P. Jackson</td>\n",
       "      <td>     nancy</td>\n",
       "    </tr>\n",
       "    <tr>\n",
       "      <th>22</th>\n",
       "      <td> Phillip C. Mascarenas</td>\n",
       "      <td>   phillip</td>\n",
       "    </tr>\n",
       "    <tr>\n",
       "      <th>23</th>\n",
       "      <td>      Ralph L. Waldrop</td>\n",
       "      <td>     ralph</td>\n",
       "    </tr>\n",
       "    <tr>\n",
       "      <th>24</th>\n",
       "      <td>    Robert B. Williams</td>\n",
       "      <td>    robert</td>\n",
       "    </tr>\n",
       "    <tr>\n",
       "      <th>25</th>\n",
       "      <td>          Ryan T. Luby</td>\n",
       "      <td>      ryan</td>\n",
       "    </tr>\n",
       "    <tr>\n",
       "      <th>26</th>\n",
       "      <td> Stephanie R. Matthews</td>\n",
       "      <td>      step</td>\n",
       "    </tr>\n",
       "    <tr>\n",
       "      <th>27</th>\n",
       "      <td>   Tameika M. McMaster</td>\n",
       "      <td>   tameika</td>\n",
       "    </tr>\n",
       "    <tr>\n",
       "      <th>28</th>\n",
       "      <td>      Vivian R. Donley</td>\n",
       "      <td>    vivian</td>\n",
       "    </tr>\n",
       "  </tbody>\n",
       "</table>\n",
       "</div>"
      ],
      "text/plain": [
       "                     name   quest_id\n",
       "0       Ann W. McLaughlin        ann\n",
       "1        Arnold J. Fuller     arnold\n",
       "2      Austin K. Gilliard     austin\n",
       "3         Billy L. Hunter      billy\n",
       "4       Bobbie D. Mathews     bobbie\n",
       "5         Daniel J. Moore     daniel\n",
       "6     Deborah D. Helfrich    deborah\n",
       "7           Elaine S. Ott     elaine\n",
       "8       Frances A. Miller    frances\n",
       "9           Fred E. Finch       fred\n",
       "10          James A. Foxt  james.fox\n",
       "11       James M. Eddings      james\n",
       "12       Janelle T. Smith    janelle\n",
       "13         Jeff M. Wright       jeff\n",
       "14        John J. Oquendo       john\n",
       "15         Joseph L. Wood     joseph\n",
       "16      Kelly S. Ferguson      kelly\n",
       "17    Melissa R. Anderson    melissa\n",
       "18       Melvin O. Martin     melvin\n",
       "19   Mildred F. Hottinger    mildred\n",
       "20       Mina W. Lawrence       mina\n",
       "21       Nancy P. Jackson      nancy\n",
       "22  Phillip C. Mascarenas    phillip\n",
       "23       Ralph L. Waldrop      ralph\n",
       "24     Robert B. Williams     robert\n",
       "25           Ryan T. Luby       ryan\n",
       "26  Stephanie R. Matthews       step\n",
       "27    Tameika M. McMaster    tameika\n",
       "28       Vivian R. Donley     vivian"
      ]
     },
     "execution_count": 20,
     "metadata": {},
     "output_type": "execute_result"
    }
   ],
   "source": [
    "pd.read_sql_query(\n",
    "\"SELECT name, quest_id \\\n",
    "FROM member \\\n",
    "EXCEPT \\\n",
    "SELECT name, questid \\\n",
    "FROM exec\", con)"
   ]
  },
  {
   "cell_type": "markdown",
   "metadata": {
    "slideshow": {
     "slide_type": "slide"
    }
   },
   "source": [
    "## WITH Clause"
   ]
  },
  {
   "cell_type": "markdown",
   "metadata": {},
   "source": [
    "__WITH clause:__ Makes a non-correlated subquery look like a table in the executed statement:\n",
    "\n",
    "- Increases readability of the query as well as ensure that if it is used in several different places, it will only be executed once  \n",
    "\n",
    "```\n",
    "WITH subquery_name [(colname1, ...)] AS\n",
    "\t(SELECT ...),\n",
    "\tsubquery_name2 [(colname1, ...)] AS\n",
    "\t(SELECT ...)\n",
    "SELECT ... \n",
    "```"
   ]
  },
  {
   "cell_type": "markdown",
   "metadata": {
    "slideshow": {
     "slide_type": "subslide"
    }
   },
   "source": [
    "__Example:__ Suppose you are doing a report for MathSoc detailing Stats Club events, budget, and expenses. "
   ]
  },
  {
   "cell_type": "markdown",
   "metadata": {
    "slideshow": {
     "slide_type": "fragment"
    }
   },
   "source": [
    "```\n",
    "WITH cost (event, expenses) AS \n",
    "    (SELECT event, SUM(price) \n",
    "    FROM expenses \n",
    "    GROUP BY event) \n",
    "SELECT e.name, e.type, e.budget, cost.expenses \n",
    "FROM event AS e INNER JOIN cost ON e.name = cost.event;\n",
    "```"
   ]
  },
  {
   "cell_type": "code",
   "execution_count": 21,
   "metadata": {
    "collapsed": false,
    "slideshow": {
     "slide_type": "fragment"
    }
   },
   "outputs": [
    {
     "data": {
      "text/html": [
       "<div style=\"max-height:1000px;max-width:1500px;overflow:auto;\">\n",
       "<table border=\"1\" class=\"dataframe\">\n",
       "  <thead>\n",
       "    <tr style=\"text-align: right;\">\n",
       "      <th></th>\n",
       "      <th>name</th>\n",
       "      <th>type</th>\n",
       "      <th>budget</th>\n",
       "      <th>expenses</th>\n",
       "    </tr>\n",
       "  </thead>\n",
       "  <tbody>\n",
       "    <tr>\n",
       "      <th>0</th>\n",
       "      <td>                            BOT</td>\n",
       "      <td>      social</td>\n",
       "      <td>  90.0</td>\n",
       "      <td>  58.57</td>\n",
       "    </tr>\n",
       "    <tr>\n",
       "      <th>1</th>\n",
       "      <td>                            EOT</td>\n",
       "      <td>      social</td>\n",
       "      <td> 160.0</td>\n",
       "      <td> 160.65</td>\n",
       "    </tr>\n",
       "    <tr>\n",
       "      <th>2</th>\n",
       "      <td>                Intro to Hadoop</td>\n",
       "      <td> educational</td>\n",
       "      <td>  90.0</td>\n",
       "      <td>  96.81</td>\n",
       "    </tr>\n",
       "    <tr>\n",
       "      <th>3</th>\n",
       "      <td>                   Intro to SQL</td>\n",
       "      <td> educational</td>\n",
       "      <td>  90.0</td>\n",
       "      <td> 102.77</td>\n",
       "    </tr>\n",
       "    <tr>\n",
       "      <th>4</th>\n",
       "      <td> Intro to SQL: Advanced Queries</td>\n",
       "      <td> educational</td>\n",
       "      <td> 100.0</td>\n",
       "      <td>  62.63</td>\n",
       "    </tr>\n",
       "    <tr>\n",
       "      <th>5</th>\n",
       "      <td>    Intro to SQL: Basic Queries</td>\n",
       "      <td> educational</td>\n",
       "      <td> 100.0</td>\n",
       "      <td>  62.63</td>\n",
       "    </tr>\n",
       "    <tr>\n",
       "      <th>6</th>\n",
       "      <td>                      Prof Talk</td>\n",
       "      <td> educational</td>\n",
       "      <td>  90.0</td>\n",
       "      <td>  82.87</td>\n",
       "    </tr>\n",
       "    <tr>\n",
       "      <th>7</th>\n",
       "      <td>                    Prof Talk 2</td>\n",
       "      <td> educational</td>\n",
       "      <td>  90.0</td>\n",
       "      <td>  77.21</td>\n",
       "    </tr>\n",
       "  </tbody>\n",
       "</table>\n",
       "</div>"
      ],
      "text/plain": [
       "                             name         type budget  expenses\n",
       "0                             BOT       social   90.0     58.57\n",
       "1                             EOT       social  160.0    160.65\n",
       "2                 Intro to Hadoop  educational   90.0     96.81\n",
       "3                    Intro to SQL  educational   90.0    102.77\n",
       "4  Intro to SQL: Advanced Queries  educational  100.0     62.63\n",
       "5     Intro to SQL: Basic Queries  educational  100.0     62.63\n",
       "6                       Prof Talk  educational   90.0     82.87\n",
       "7                     Prof Talk 2  educational   90.0     77.21"
      ]
     },
     "execution_count": 21,
     "metadata": {},
     "output_type": "execute_result"
    }
   ],
   "source": [
    "pd.read_sql_query(\n",
    "\"WITH cost (event, expenses) AS \\\n",
    "    (SELECT event, SUM(price) \\\n",
    "    FROM expenses \\\n",
    "    GROUP BY event) \\\n",
    "SELECT e.name, e.type, e.budget, cost.expenses \\\n",
    "FROM event AS e INNER JOIN cost ON e.name = cost.event\", con)"
   ]
  },
  {
   "cell_type": "markdown",
   "metadata": {
    "slideshow": {
     "slide_type": "subslide"
    }
   },
   "source": [
    "### Quiz: WITH Clause (HARD)"
   ]
  },
  {
   "cell_type": "markdown",
   "metadata": {},
   "source": [
    "__Q:__ MathSoc only provides a maximum cap on social events based on the formula below. What is the max cap for social expenses and is Stats Club over this limit?  \n",
    "- Membership fee for Stats Club is 2 dollars\n",
    "\n",
    "$$\\begin{aligned}\\mbox{Social expenses} & = & \\max\\left\\{ 250,\\left(\\mbox{MathSoc Members}\\right)\\times\\left(5+\\left(\\mbox{Member fee}\\right)\\right)\\right\\} \\\\\n",
    " & = & \\max\\left\\{ 250,\\left(\\mbox{MathSoc Members}\\right)\\times7\\right\\} \n",
    "\\end{aligned}$$  "
   ]
  },
  {
   "cell_type": "markdown",
   "metadata": {},
   "source": [
    "Break the problem into smaller problems:\n",
    "- What are the total expenses for social events?\n",
    "- What is the max budget for social events?"
   ]
  },
  {
   "cell_type": "markdown",
   "metadata": {
    "slideshow": {
     "slide_type": "subslide"
    }
   },
   "source": [
    "Smaller Problems:\n",
    "- What are the total expenses for social events?\n",
    "    - What events are social events?"
   ]
  },
  {
   "cell_type": "markdown",
   "metadata": {
    "slideshow": {
     "slide_type": "fragment"
    }
   },
   "source": [
    "- What is the max cap for social events?\n",
    "    - What is the result of the formula\n",
    "    $$\\left(\\mbox{MathSoc Members}\\right)\\times7$$\n",
    "        - What are the number of Stats Club members who are in the Math Faculty (aka MathSoc members)?\n",
    "    - How do we find the max value between this number and 250?  \n",
    "    \n",
    "### Think about how to solve this for 5 mins"
   ]
  },
  {
   "cell_type": "markdown",
   "metadata": {
    "slideshow": {
     "slide_type": "subslide"
    }
   },
   "source": [
    "For total social expenses, we need to find the sum of expenses filtering out non-social expenses.  \n",
    "__Part 1:__ What events are social?"
   ]
  },
  {
   "cell_type": "markdown",
   "metadata": {
    "slideshow": {
     "slide_type": "fragment"
    }
   },
   "source": [
    "```\n",
    "SELECT name \n",
    "FROM event \n",
    "WHERE type = 'social';\n",
    "```"
   ]
  },
  {
   "cell_type": "code",
   "execution_count": 22,
   "metadata": {
    "collapsed": false,
    "slideshow": {
     "slide_type": "fragment"
    }
   },
   "outputs": [
    {
     "data": {
      "text/html": [
       "<div style=\"max-height:1000px;max-width:1500px;overflow:auto;\">\n",
       "<table border=\"1\" class=\"dataframe\">\n",
       "  <thead>\n",
       "    <tr style=\"text-align: right;\">\n",
       "      <th></th>\n",
       "      <th>name</th>\n",
       "    </tr>\n",
       "  </thead>\n",
       "  <tbody>\n",
       "    <tr>\n",
       "      <th>0</th>\n",
       "      <td> BOT</td>\n",
       "    </tr>\n",
       "    <tr>\n",
       "      <th>1</th>\n",
       "      <td> EOT</td>\n",
       "    </tr>\n",
       "  </tbody>\n",
       "</table>\n",
       "</div>"
      ],
      "text/plain": [
       "  name\n",
       "0  BOT\n",
       "1  EOT"
      ]
     },
     "execution_count": 22,
     "metadata": {},
     "output_type": "execute_result"
    }
   ],
   "source": [
    "pd.read_sql_query(\n",
    "\"SELECT name \\\n",
    "FROM event \\\n",
    "WHERE type = 'social'\", con)"
   ]
  },
  {
   "cell_type": "markdown",
   "metadata": {
    "slideshow": {
     "slide_type": "subslide"
    }
   },
   "source": [
    "__Part 2:__ What are the total social expenses?"
   ]
  },
  {
   "cell_type": "markdown",
   "metadata": {
    "slideshow": {
     "slide_type": "fragment"
    }
   },
   "source": [
    "```\n",
    "SELECT SUM(price) \n",
    "FROM expenses \n",
    "WHERE event IN (SELECT name FROM event WHERE type = 'social');\n",
    "```"
   ]
  },
  {
   "cell_type": "code",
   "execution_count": 23,
   "metadata": {
    "collapsed": false,
    "slideshow": {
     "slide_type": "fragment"
    }
   },
   "outputs": [
    {
     "data": {
      "text/html": [
       "<div style=\"max-height:1000px;max-width:1500px;overflow:auto;\">\n",
       "<table border=\"1\" class=\"dataframe\">\n",
       "  <thead>\n",
       "    <tr style=\"text-align: right;\">\n",
       "      <th></th>\n",
       "      <th>SUM(price)</th>\n",
       "    </tr>\n",
       "  </thead>\n",
       "  <tbody>\n",
       "    <tr>\n",
       "      <th>0</th>\n",
       "      <td> 219.22</td>\n",
       "    </tr>\n",
       "  </tbody>\n",
       "</table>\n",
       "</div>"
      ],
      "text/plain": [
       "   SUM(price)\n",
       "0      219.22"
      ]
     },
     "execution_count": 23,
     "metadata": {},
     "output_type": "execute_result"
    }
   ],
   "source": [
    "pd.read_sql_query(\n",
    "\"SELECT SUM(price) \\\n",
    "FROM expenses \\\n",
    "WHERE event IN (SELECT name FROM event WHERE type = 'social')\", con)"
   ]
  },
  {
   "cell_type": "markdown",
   "metadata": {
    "slideshow": {
     "slide_type": "subslide"
    }
   },
   "source": [
    "Or alternatively, we can join tables event and expenses and filter out non-social events:  "
   ]
  },
  {
   "cell_type": "markdown",
   "metadata": {
    "slideshow": {
     "slide_type": "fragment"
    }
   },
   "source": [
    "```\n",
    "SELECT SUM(exp.price) \n",
    "FROM event AS e INNER JOIN expenses AS exp \n",
    "  ON e.name = exp.event \n",
    "WHERE e.type = 'social';\n",
    "```"
   ]
  },
  {
   "cell_type": "code",
   "execution_count": 24,
   "metadata": {
    "collapsed": false,
    "slideshow": {
     "slide_type": "fragment"
    }
   },
   "outputs": [
    {
     "data": {
      "text/html": [
       "<div style=\"max-height:1000px;max-width:1500px;overflow:auto;\">\n",
       "<table border=\"1\" class=\"dataframe\">\n",
       "  <thead>\n",
       "    <tr style=\"text-align: right;\">\n",
       "      <th></th>\n",
       "      <th>SUM(exp.price)</th>\n",
       "    </tr>\n",
       "  </thead>\n",
       "  <tbody>\n",
       "    <tr>\n",
       "      <th>0</th>\n",
       "      <td> 219.22</td>\n",
       "    </tr>\n",
       "  </tbody>\n",
       "</table>\n",
       "</div>"
      ],
      "text/plain": [
       "   SUM(exp.price)\n",
       "0          219.22"
      ]
     },
     "execution_count": 24,
     "metadata": {},
     "output_type": "execute_result"
    }
   ],
   "source": [
    "pd.read_sql_query(\n",
    "\"SELECT SUM(exp.price) \\\n",
    "FROM event AS e INNER JOIN expenses AS exp \\\n",
    "  ON e.name = exp.event \\\n",
    "WHERE e.type = 'social'\", con)"
   ]
  },
  {
   "cell_type": "markdown",
   "metadata": {
    "slideshow": {
     "slide_type": "subslide"
    }
   },
   "source": [
    "At this point we have one half of the problem solved, the final result would look a bit like:\n",
    "```\n",
    "WITH soc_cost (expense) AS \n",
    "    (SELECT SUM(exp.price) \n",
    "     FROM event AS e INNER JOIN expenses AS exp \n",
    "       ON e.name = exp.event \n",
    "     WHERE type = 'social'),\n",
    "soc_budget (budget) AS\n",
    "     (SELECT statement)\n",
    "SELECT statement;\n",
    "```"
   ]
  },
  {
   "cell_type": "markdown",
   "metadata": {
    "slideshow": {
     "slide_type": "subslide"
    }
   },
   "source": [
    "__Part 3:__ We need to calculate the formula\n",
    "$$\\left(\\mbox{MathSoc Members}\\right)\\times7$$\n",
    "- First, what is the number of MathSoc Members (aka number of members who are in the Math Faculty)?  "
   ]
  },
  {
   "cell_type": "markdown",
   "metadata": {
    "slideshow": {
     "slide_type": "fragment"
    }
   },
   "source": [
    "```\n",
    "SELECT COUNT(*) \n",
    "FROM member \n",
    "WHERE faculty = 'Math';\n",
    "```"
   ]
  },
  {
   "cell_type": "code",
   "execution_count": 25,
   "metadata": {
    "collapsed": false,
    "slideshow": {
     "slide_type": "fragment"
    }
   },
   "outputs": [
    {
     "data": {
      "text/html": [
       "<div style=\"max-height:1000px;max-width:1500px;overflow:auto;\">\n",
       "<table border=\"1\" class=\"dataframe\">\n",
       "  <thead>\n",
       "    <tr style=\"text-align: right;\">\n",
       "      <th></th>\n",
       "      <th>COUNT(*)</th>\n",
       "    </tr>\n",
       "  </thead>\n",
       "  <tbody>\n",
       "    <tr>\n",
       "      <th>0</th>\n",
       "      <td> 33</td>\n",
       "    </tr>\n",
       "  </tbody>\n",
       "</table>\n",
       "</div>"
      ],
      "text/plain": [
       "   COUNT(*)\n",
       "0        33"
      ]
     },
     "execution_count": 25,
     "metadata": {},
     "output_type": "execute_result"
    }
   ],
   "source": [
    "pd.read_sql_query(\n",
    "\"SELECT COUNT(*) \\\n",
    "FROM member \\\n",
    "WHERE faculty = 'Math'\", con)"
   ]
  },
  {
   "cell_type": "markdown",
   "metadata": {
    "slideshow": {
     "slide_type": "subslide"
    }
   },
   "source": [
    "__Part 4:__ What is the result of the formula  \n",
    "$$\\left(\\mbox{MathSoc Members}\\right)\\times7$$"
   ]
  },
  {
   "cell_type": "markdown",
   "metadata": {
    "slideshow": {
     "slide_type": "fragment"
    }
   },
   "source": [
    "```\n",
    "SELECT COUNT(*) * 7 \n",
    "FROM member \n",
    "WHERE faculty = 'Math';\n",
    "```"
   ]
  },
  {
   "cell_type": "code",
   "execution_count": 26,
   "metadata": {
    "collapsed": false,
    "slideshow": {
     "slide_type": "fragment"
    }
   },
   "outputs": [
    {
     "data": {
      "text/html": [
       "<div style=\"max-height:1000px;max-width:1500px;overflow:auto;\">\n",
       "<table border=\"1\" class=\"dataframe\">\n",
       "  <thead>\n",
       "    <tr style=\"text-align: right;\">\n",
       "      <th></th>\n",
       "      <th>COUNT(*) * 7</th>\n",
       "    </tr>\n",
       "  </thead>\n",
       "  <tbody>\n",
       "    <tr>\n",
       "      <th>0</th>\n",
       "      <td> 231</td>\n",
       "    </tr>\n",
       "  </tbody>\n",
       "</table>\n",
       "</div>"
      ],
      "text/plain": [
       "   COUNT(*) * 7\n",
       "0           231"
      ]
     },
     "execution_count": 26,
     "metadata": {},
     "output_type": "execute_result"
    }
   ],
   "source": [
    "pd.read_sql_query(\n",
    "\"SELECT COUNT(*) * 7 \\\n",
    "FROM member \\\n",
    "WHERE faculty = 'Math'\", con)"
   ]
  },
  {
   "cell_type": "markdown",
   "metadata": {
    "slideshow": {
     "slide_type": "subslide"
    }
   },
   "source": [
    "__Part 5:__ What is the max of this number and 250?"
   ]
  },
  {
   "cell_type": "markdown",
   "metadata": {
    "slideshow": {
     "slide_type": "fragment"
    }
   },
   "source": [
    "```\n",
    "SELECT MAX(soc_budget) \n",
    "FROM (SELECT COUNT(*) * 7 AS soc_budget \n",
    "      FROM member \n",
    "      WHERE faculty = 'Math' \n",
    "      UNION \n",
    "      SELECT 250);\n",
    "```"
   ]
  },
  {
   "cell_type": "code",
   "execution_count": 27,
   "metadata": {
    "collapsed": false,
    "slideshow": {
     "slide_type": "fragment"
    }
   },
   "outputs": [
    {
     "data": {
      "text/html": [
       "<div style=\"max-height:1000px;max-width:1500px;overflow:auto;\">\n",
       "<table border=\"1\" class=\"dataframe\">\n",
       "  <thead>\n",
       "    <tr style=\"text-align: right;\">\n",
       "      <th></th>\n",
       "      <th>MAX(soc_budget)</th>\n",
       "    </tr>\n",
       "  </thead>\n",
       "  <tbody>\n",
       "    <tr>\n",
       "      <th>0</th>\n",
       "      <td> 250</td>\n",
       "    </tr>\n",
       "  </tbody>\n",
       "</table>\n",
       "</div>"
      ],
      "text/plain": [
       "   MAX(soc_budget)\n",
       "0              250"
      ]
     },
     "execution_count": 27,
     "metadata": {},
     "output_type": "execute_result"
    }
   ],
   "source": [
    "pd.read_sql_query(\n",
    "\"SELECT MAX(soc_budget) \\\n",
    "FROM (SELECT COUNT(*) * 7 AS soc_budget \\\n",
    "FROM member \\\n",
    "WHERE faculty = 'Math' \\\n",
    "UNION \\\n",
    "SELECT 250)\", con)"
   ]
  },
  {
   "cell_type": "markdown",
   "metadata": {
    "slideshow": {
     "slide_type": "subslide"
    }
   },
   "source": [
    "Joining all of this up together:"
   ]
  },
  {
   "cell_type": "markdown",
   "metadata": {
    "slideshow": {
     "slide_type": "fragment"
    }
   },
   "source": [
    "```\n",
    "WITH soc_cost (expense) AS \n",
    "    (SELECT SUM(exp.price) \n",
    "     FROM event AS e INNER JOIN expenses AS exp \n",
    "       ON e.name = exp.event \n",
    "     WHERE e.type = 'social'),\n",
    "soc_budget (budget) AS \n",
    "    (SELECT Max(soc_budget) \n",
    "     FROM (SELECT COUNT(*) * 7 AS soc_budget \n",
    "           FROM member \n",
    "           WHERE faculty = 'Math' \n",
    "           UNION \n",
    "           SELECT 250)\n",
    "    )\n",
    "SELECT expense, budget, budget - expense\n",
    "FROM soc_cost CROSS JOIN soc_budget;\n",
    "```"
   ]
  },
  {
   "cell_type": "code",
   "execution_count": 28,
   "metadata": {
    "collapsed": false,
    "slideshow": {
     "slide_type": "fragment"
    }
   },
   "outputs": [
    {
     "data": {
      "text/html": [
       "<div style=\"max-height:1000px;max-width:1500px;overflow:auto;\">\n",
       "<table border=\"1\" class=\"dataframe\">\n",
       "  <thead>\n",
       "    <tr style=\"text-align: right;\">\n",
       "      <th></th>\n",
       "      <th>expense</th>\n",
       "      <th>budget</th>\n",
       "      <th>budget - expense</th>\n",
       "    </tr>\n",
       "  </thead>\n",
       "  <tbody>\n",
       "    <tr>\n",
       "      <th>0</th>\n",
       "      <td> 219.22</td>\n",
       "      <td> 250</td>\n",
       "      <td> 30.78</td>\n",
       "    </tr>\n",
       "  </tbody>\n",
       "</table>\n",
       "</div>"
      ],
      "text/plain": [
       "   expense  budget  budget - expense\n",
       "0   219.22     250             30.78"
      ]
     },
     "execution_count": 28,
     "metadata": {},
     "output_type": "execute_result"
    }
   ],
   "source": [
    "pd.read_sql_query(\n",
    "\"WITH soc_cost (expense) AS \\\n",
    "    (SELECT SUM(exp.price) \\\n",
    "     FROM event AS e INNER JOIN expenses AS exp \\\n",
    "       ON e.name = exp.event \\\n",
    "     WHERE e.type = 'social'), \\\n",
    "soc_budget (budget) AS \\\n",
    "    (SELECT Max(soc_budget) \\\n",
    "     FROM (SELECT COUNT(*) * 7 AS soc_budget \\\n",
    "           FROM member \\\n",
    "           WHERE faculty = 'Math' \\\n",
    "           UNION \\\n",
    "           SELECT 250) \\\n",
    "    ) \\\n",
    "SELECT expense, budget, budget - expense \\\n",
    "FROM soc_cost CROSS JOIN soc_budget\", con)"
   ]
  },
  {
   "cell_type": "markdown",
   "metadata": {
    "slideshow": {
     "slide_type": "slide"
    }
   },
   "source": [
    "## CASE Expressions"
   ]
  },
  {
   "cell_type": "markdown",
   "metadata": {},
   "source": [
    "__CASE expressions:__ Similar to a series of if else statements executed for every entry in a table. A new value is returned for every row in the table.\n",
    "\n",
    "```\n",
    "CASE [column]\n",
    "\tWHEN condition1 THEN result1\n",
    "\tWHEN condition2 THEN result2\n",
    "\t...\n",
    "\tWHEN condition_n THEN result_n\n",
    "\t[ELSE result]\n",
    "END\n",
    "```"
   ]
  },
  {
   "cell_type": "markdown",
   "metadata": {
    "slideshow": {
     "slide_type": "fragment"
    }
   },
   "source": [
    "- The result can be of any datatype or the result of a correlated or non-correlated subquery (if the result is a single value)"
   ]
  },
  {
   "cell_type": "markdown",
   "metadata": {
    "slideshow": {
     "slide_type": "fragment"
    }
   },
   "source": [
    "- CASE expressions are performed by themselves in the __SELECT__ clause or within a function or aggregate function\n",
    "\n",
    "    - CASE expressions within aggregate functions allow us to do counts, sums, averages, etc. of particular occurrences"
   ]
  },
  {
   "cell_type": "markdown",
   "metadata": {
    "slideshow": {
     "slide_type": "subslide"
    }
   },
   "source": [
    "__Example:__ Suppose like before we are preparing a report for MathSoc, but now we want to give a warning if the event is over budget or not."
   ]
  },
  {
   "cell_type": "markdown",
   "metadata": {
    "slideshow": {
     "slide_type": "fragment"
    }
   },
   "source": [
    "```\n",
    "WITH cost (event, expenses) AS \n",
    "    (SELECT event, SUM(price) \n",
    "    FROM expenses \n",
    "    GROUP BY event) \n",
    "SELECT e.name, e.type, e.budget, cost.expenses, \n",
    "    CASE \n",
    "    WHEN e.budget - cost.expenses < 0 THEN 'Over budget' \n",
    "    ELSE NULL\n",
    "END AS warning \n",
    "FROM event AS e INNER JOIN cost ON e.name = cost.event;\n",
    "```"
   ]
  },
  {
   "cell_type": "code",
   "execution_count": 29,
   "metadata": {
    "collapsed": false,
    "slideshow": {
     "slide_type": "fragment"
    }
   },
   "outputs": [
    {
     "data": {
      "text/html": [
       "<div style=\"max-height:1000px;max-width:1500px;overflow:auto;\">\n",
       "<table border=\"1\" class=\"dataframe\">\n",
       "  <thead>\n",
       "    <tr style=\"text-align: right;\">\n",
       "      <th></th>\n",
       "      <th>name</th>\n",
       "      <th>type</th>\n",
       "      <th>budget</th>\n",
       "      <th>expenses</th>\n",
       "      <th>warning</th>\n",
       "    </tr>\n",
       "  </thead>\n",
       "  <tbody>\n",
       "    <tr>\n",
       "      <th>0</th>\n",
       "      <td>                            BOT</td>\n",
       "      <td>      social</td>\n",
       "      <td>  90</td>\n",
       "      <td>  58.57</td>\n",
       "      <td>        None</td>\n",
       "    </tr>\n",
       "    <tr>\n",
       "      <th>1</th>\n",
       "      <td>                            EOT</td>\n",
       "      <td>      social</td>\n",
       "      <td> 160</td>\n",
       "      <td> 160.65</td>\n",
       "      <td> Over budget</td>\n",
       "    </tr>\n",
       "    <tr>\n",
       "      <th>2</th>\n",
       "      <td>                Intro to Hadoop</td>\n",
       "      <td> educational</td>\n",
       "      <td>  90</td>\n",
       "      <td>  96.81</td>\n",
       "      <td> Over budget</td>\n",
       "    </tr>\n",
       "    <tr>\n",
       "      <th>3</th>\n",
       "      <td>                   Intro to SQL</td>\n",
       "      <td> educational</td>\n",
       "      <td>  90</td>\n",
       "      <td> 102.77</td>\n",
       "      <td> Over budget</td>\n",
       "    </tr>\n",
       "    <tr>\n",
       "      <th>4</th>\n",
       "      <td> Intro to SQL: Advanced Queries</td>\n",
       "      <td> educational</td>\n",
       "      <td> 100</td>\n",
       "      <td>  62.63</td>\n",
       "      <td>        None</td>\n",
       "    </tr>\n",
       "    <tr>\n",
       "      <th>5</th>\n",
       "      <td>    Intro to SQL: Basic Queries</td>\n",
       "      <td> educational</td>\n",
       "      <td> 100</td>\n",
       "      <td>  62.63</td>\n",
       "      <td>        None</td>\n",
       "    </tr>\n",
       "    <tr>\n",
       "      <th>6</th>\n",
       "      <td>                      Prof Talk</td>\n",
       "      <td> educational</td>\n",
       "      <td>  90</td>\n",
       "      <td>  82.87</td>\n",
       "      <td>        None</td>\n",
       "    </tr>\n",
       "    <tr>\n",
       "      <th>7</th>\n",
       "      <td>                    Prof Talk 2</td>\n",
       "      <td> educational</td>\n",
       "      <td>  90</td>\n",
       "      <td>  77.21</td>\n",
       "      <td>        None</td>\n",
       "    </tr>\n",
       "  </tbody>\n",
       "</table>\n",
       "</div>"
      ],
      "text/plain": [
       "                             name         type  budget  expenses      warning\n",
       "0                             BOT       social      90     58.57         None\n",
       "1                             EOT       social     160    160.65  Over budget\n",
       "2                 Intro to Hadoop  educational      90     96.81  Over budget\n",
       "3                    Intro to SQL  educational      90    102.77  Over budget\n",
       "4  Intro to SQL: Advanced Queries  educational     100     62.63         None\n",
       "5     Intro to SQL: Basic Queries  educational     100     62.63         None\n",
       "6                       Prof Talk  educational      90     82.87         None\n",
       "7                     Prof Talk 2  educational      90     77.21         None"
      ]
     },
     "execution_count": 29,
     "metadata": {},
     "output_type": "execute_result"
    }
   ],
   "source": [
    "pd.read_sql_query(\n",
    "\"WITH cost (event, expenses) AS \\\n",
    "    (SELECT event, SUM(price) \\\n",
    "    FROM expenses \\\n",
    "    GROUP BY event) \\\n",
    "SELECT e.name, e.type, e.budget, cost.expenses, \\\n",
    "    CASE \\\n",
    "    WHEN e.budget - cost.expenses < 0 THEN 'Over budget' \\\n",
    "    ELSE NULL \\\n",
    "    END AS warning \\\n",
    "FROM event AS e INNER JOIN cost ON e.name = cost.event\", con)"
   ]
  },
  {
   "cell_type": "markdown",
   "metadata": {
    "slideshow": {
     "slide_type": "subslide"
    }
   },
   "source": [
    "### Quiz: CASE Expressions"
   ]
  },
  {
   "cell_type": "markdown",
   "metadata": {},
   "source": [
    "__Q:__ Suppose we are interested in the healthiness of our food options at Stats Club events. A score of various foods was given below. What is the average 'healthiness' of Stats Club event's food options?\n",
    "- The average of the score values for all of the foods at Stats Club events.\n",
    "\n",
    "| Food | donuts | pop | fries | pizza | cookies | coffee | water | meals | veggie platter |\n",
    "|------|--------|-----|-------|-------|---------|--------|-------|-------|----------------|\n",
    "| Score | -2 | -2 | -2 | -1 | -1 | 0 | 2 | 2 | 3| "
   ]
  },
  {
   "cell_type": "markdown",
   "metadata": {
    "slideshow": {
     "slide_type": "subslide"
    }
   },
   "source": [
    "```\n",
    "SELECT AVG(CASE \n",
    "    WHEN expense IN ('donuts', 'pop', 'fries') THEN -2\n",
    "    WHEN expense IN ('pizza', 'cookies') THEN -1\n",
    "    WHEN expense IN ('coffee') THEN 0\n",
    "    WHEN expense IN ('water', 'meals') THEN 2\n",
    "    WHEN expense IN ('veggie platter') THEN 3\n",
    "END) AS avg_score\n",
    "FROM expenses;\n",
    "```"
   ]
  },
  {
   "cell_type": "code",
   "execution_count": 30,
   "metadata": {
    "collapsed": false,
    "slideshow": {
     "slide_type": "fragment"
    }
   },
   "outputs": [
    {
     "data": {
      "text/html": [
       "<div style=\"max-height:1000px;max-width:1500px;overflow:auto;\">\n",
       "<table border=\"1\" class=\"dataframe\">\n",
       "  <thead>\n",
       "    <tr style=\"text-align: right;\">\n",
       "      <th></th>\n",
       "      <th>avg_score</th>\n",
       "    </tr>\n",
       "  </thead>\n",
       "  <tbody>\n",
       "    <tr>\n",
       "      <th>0</th>\n",
       "      <td>-0.75</td>\n",
       "    </tr>\n",
       "  </tbody>\n",
       "</table>\n",
       "</div>"
      ],
      "text/plain": [
       "   avg_score\n",
       "0      -0.75"
      ]
     },
     "execution_count": 30,
     "metadata": {},
     "output_type": "execute_result"
    }
   ],
   "source": [
    "pd.read_sql_query(\n",
    "\"SELECT AVG(CASE \\\n",
    "    WHEN expense IN ('donuts', 'pop', 'fries') THEN -2 \\\n",
    "    WHEN expense IN ('pizza', 'cookies') THEN -1 \\\n",
    "    WHEN expense IN ('coffee') THEN 0 \\\n",
    "    WHEN expense IN ('water', 'meals') THEN 2 \\\n",
    "    WHEN expense IN ('veggie platter') THEN 3 \\\n",
    "END) AS avg_score \\\n",
    "FROM expenses\", con)"
   ]
  },
  {
   "cell_type": "markdown",
   "metadata": {
    "slideshow": {
     "slide_type": "slide"
    }
   },
   "source": [
    "## ORDER BY Clause"
   ]
  },
  {
   "cell_type": "markdown",
   "metadata": {},
   "source": [
    "__ORDER BY Clause:__ Rearranges the rows of a result set according to a tuple of columns.\n",
    "\n",
    "```\n",
    "SELECT column_list \n",
    "FROM table_name \n",
    "ORDER BY column1, column2, .. columnN [ASC | DESC];\n",
    "```\n",
    "`ASC` is ascending (default)  \n",
    "\n",
    "`DESC` is descending"
   ]
  },
  {
   "cell_type": "markdown",
   "metadata": {
    "slideshow": {
     "slide_type": "subslide"
    }
   },
   "source": [
    "__Example:__ What is the membership list ordered by name?"
   ]
  },
  {
   "cell_type": "markdown",
   "metadata": {
    "slideshow": {
     "slide_type": "fragment"
    }
   },
   "source": [
    "```\n",
    "SELECT name \n",
    "FROM member \n",
    "ORDER BY name;\n",
    "```"
   ]
  },
  {
   "cell_type": "code",
   "execution_count": 31,
   "metadata": {
    "collapsed": false,
    "slideshow": {
     "slide_type": "fragment"
    }
   },
   "outputs": [
    {
     "data": {
      "text/html": [
       "<div style=\"max-height:1000px;max-width:1500px;overflow:auto;\">\n",
       "<table border=\"1\" class=\"dataframe\">\n",
       "  <thead>\n",
       "    <tr style=\"text-align: right;\">\n",
       "      <th></th>\n",
       "      <th>name</th>\n",
       "    </tr>\n",
       "  </thead>\n",
       "  <tbody>\n",
       "    <tr>\n",
       "      <th>0 </th>\n",
       "      <td>     Ann W. McLaughlin</td>\n",
       "    </tr>\n",
       "    <tr>\n",
       "      <th>1 </th>\n",
       "      <td>      Arnold J. Fuller</td>\n",
       "    </tr>\n",
       "    <tr>\n",
       "      <th>2 </th>\n",
       "      <td>    Austin K. Gilliard</td>\n",
       "    </tr>\n",
       "    <tr>\n",
       "      <th>3 </th>\n",
       "      <td>       Billy L. Hunter</td>\n",
       "    </tr>\n",
       "    <tr>\n",
       "      <th>4 </th>\n",
       "      <td>     Bobbie D. Mathews</td>\n",
       "    </tr>\n",
       "    <tr>\n",
       "      <th>5 </th>\n",
       "      <td>       Daniel J. Moore</td>\n",
       "    </tr>\n",
       "    <tr>\n",
       "      <th>6 </th>\n",
       "      <td>        Darrell Aucoin</td>\n",
       "    </tr>\n",
       "    <tr>\n",
       "      <th>7 </th>\n",
       "      <td>   Deborah D. Helfrich</td>\n",
       "    </tr>\n",
       "    <tr>\n",
       "      <th>8 </th>\n",
       "      <td>         Dominick Byrd</td>\n",
       "    </tr>\n",
       "    <tr>\n",
       "      <th>9 </th>\n",
       "      <td>         Elaine S. Ott</td>\n",
       "    </tr>\n",
       "    <tr>\n",
       "      <th>10</th>\n",
       "      <td>     Frances A. Miller</td>\n",
       "    </tr>\n",
       "    <tr>\n",
       "      <th>11</th>\n",
       "      <td>         Fred E. Finch</td>\n",
       "    </tr>\n",
       "    <tr>\n",
       "      <th>12</th>\n",
       "      <td>         James A. Foxt</td>\n",
       "    </tr>\n",
       "    <tr>\n",
       "      <th>13</th>\n",
       "      <td>      James M. Eddings</td>\n",
       "    </tr>\n",
       "    <tr>\n",
       "      <th>14</th>\n",
       "      <td>      Janelle T. Smith</td>\n",
       "    </tr>\n",
       "    <tr>\n",
       "      <th>15</th>\n",
       "      <td>        Jeff M. Wright</td>\n",
       "    </tr>\n",
       "    <tr>\n",
       "      <th>16</th>\n",
       "      <td>       John J. Oquendo</td>\n",
       "    </tr>\n",
       "    <tr>\n",
       "      <th>17</th>\n",
       "      <td>        Joseph L. Wood</td>\n",
       "    </tr>\n",
       "    <tr>\n",
       "      <th>18</th>\n",
       "      <td>     Judith B. Gibbons</td>\n",
       "    </tr>\n",
       "    <tr>\n",
       "      <th>19</th>\n",
       "      <td>     Kelly S. Ferguson</td>\n",
       "    </tr>\n",
       "    <tr>\n",
       "      <th>20</th>\n",
       "      <td>   Melissa R. Anderson</td>\n",
       "    </tr>\n",
       "    <tr>\n",
       "      <th>21</th>\n",
       "      <td>      Melvin O. Martin</td>\n",
       "    </tr>\n",
       "    <tr>\n",
       "      <th>22</th>\n",
       "      <td>  Mildred F. Hottinger</td>\n",
       "    </tr>\n",
       "    <tr>\n",
       "      <th>23</th>\n",
       "      <td>      Mina W. Lawrence</td>\n",
       "    </tr>\n",
       "    <tr>\n",
       "      <th>24</th>\n",
       "      <td>      Nancy P. Jackson</td>\n",
       "    </tr>\n",
       "    <tr>\n",
       "      <th>25</th>\n",
       "      <td>     Patrick Robertson</td>\n",
       "    </tr>\n",
       "    <tr>\n",
       "      <th>26</th>\n",
       "      <td> Phillip C. Mascarenas</td>\n",
       "    </tr>\n",
       "    <tr>\n",
       "      <th>27</th>\n",
       "      <td>      Ralph L. Waldrop</td>\n",
       "    </tr>\n",
       "    <tr>\n",
       "      <th>28</th>\n",
       "      <td>    Robert B. Williams</td>\n",
       "    </tr>\n",
       "    <tr>\n",
       "      <th>29</th>\n",
       "      <td>            Ruben Lamb</td>\n",
       "    </tr>\n",
       "    <tr>\n",
       "      <th>30</th>\n",
       "      <td>          Ryan T. Luby</td>\n",
       "    </tr>\n",
       "    <tr>\n",
       "      <th>31</th>\n",
       "      <td> Stephanie R. Matthews</td>\n",
       "    </tr>\n",
       "    <tr>\n",
       "      <th>32</th>\n",
       "      <td>   Tameika M. McMaster</td>\n",
       "    </tr>\n",
       "    <tr>\n",
       "      <th>33</th>\n",
       "      <td>      Vivian R. Donley</td>\n",
       "    </tr>\n",
       "  </tbody>\n",
       "</table>\n",
       "</div>"
      ],
      "text/plain": [
       "                     name\n",
       "0       Ann W. McLaughlin\n",
       "1        Arnold J. Fuller\n",
       "2      Austin K. Gilliard\n",
       "3         Billy L. Hunter\n",
       "4       Bobbie D. Mathews\n",
       "5         Daniel J. Moore\n",
       "6          Darrell Aucoin\n",
       "7     Deborah D. Helfrich\n",
       "8           Dominick Byrd\n",
       "9           Elaine S. Ott\n",
       "10      Frances A. Miller\n",
       "11          Fred E. Finch\n",
       "12          James A. Foxt\n",
       "13       James M. Eddings\n",
       "14       Janelle T. Smith\n",
       "15         Jeff M. Wright\n",
       "16        John J. Oquendo\n",
       "17         Joseph L. Wood\n",
       "18      Judith B. Gibbons\n",
       "19      Kelly S. Ferguson\n",
       "20    Melissa R. Anderson\n",
       "21       Melvin O. Martin\n",
       "22   Mildred F. Hottinger\n",
       "23       Mina W. Lawrence\n",
       "24       Nancy P. Jackson\n",
       "25      Patrick Robertson\n",
       "26  Phillip C. Mascarenas\n",
       "27       Ralph L. Waldrop\n",
       "28     Robert B. Williams\n",
       "29             Ruben Lamb\n",
       "30           Ryan T. Luby\n",
       "31  Stephanie R. Matthews\n",
       "32    Tameika M. McMaster\n",
       "33       Vivian R. Donley"
      ]
     },
     "execution_count": 31,
     "metadata": {},
     "output_type": "execute_result"
    }
   ],
   "source": [
    "pd.read_sql_query(\n",
    "\"SELECT name \\\n",
    "FROM member \\\n",
    "ORDER BY name\", con)"
   ]
  },
  {
   "cell_type": "markdown",
   "metadata": {
    "slideshow": {
     "slide_type": "slide"
    }
   },
   "source": [
    "## LIMIT Clause"
   ]
  },
  {
   "cell_type": "markdown",
   "metadata": {},
   "source": [
    "__LIMIT Clause:__ Restrict the result set to the first n of rows.\n",
    "\n",
    "```\n",
    "SELECT column1, column2, columnN \n",
    "FROM table_name\n",
    "LIMIT no_of_rows;\n",
    "```\n",
    "- We can also offset where the restriction begins  \n",
    "\n",
    "```\n",
    "SELECT column1, column2, columnN \n",
    "FROM table_name\n",
    "LIMIT no_of_rows OFFSET row_num;\n",
    "```"
   ]
  },
  {
   "cell_type": "markdown",
   "metadata": {
    "slideshow": {
     "slide_type": "subslide"
    }
   },
   "source": [
    "__Example:__ What is the first 10 members ordered by name?"
   ]
  },
  {
   "cell_type": "markdown",
   "metadata": {
    "slideshow": {
     "slide_type": "fragment"
    }
   },
   "source": [
    "```\n",
    "SELECT name \n",
    "FROM member \n",
    "ORDER BY name \n",
    "LIMIT 10;\n",
    "```"
   ]
  },
  {
   "cell_type": "code",
   "execution_count": 32,
   "metadata": {
    "collapsed": false,
    "slideshow": {
     "slide_type": "fragment"
    }
   },
   "outputs": [
    {
     "data": {
      "text/html": [
       "<div style=\"max-height:1000px;max-width:1500px;overflow:auto;\">\n",
       "<table border=\"1\" class=\"dataframe\">\n",
       "  <thead>\n",
       "    <tr style=\"text-align: right;\">\n",
       "      <th></th>\n",
       "      <th>name</th>\n",
       "    </tr>\n",
       "  </thead>\n",
       "  <tbody>\n",
       "    <tr>\n",
       "      <th>0</th>\n",
       "      <td>   Ann W. McLaughlin</td>\n",
       "    </tr>\n",
       "    <tr>\n",
       "      <th>1</th>\n",
       "      <td>    Arnold J. Fuller</td>\n",
       "    </tr>\n",
       "    <tr>\n",
       "      <th>2</th>\n",
       "      <td>  Austin K. Gilliard</td>\n",
       "    </tr>\n",
       "    <tr>\n",
       "      <th>3</th>\n",
       "      <td>     Billy L. Hunter</td>\n",
       "    </tr>\n",
       "    <tr>\n",
       "      <th>4</th>\n",
       "      <td>   Bobbie D. Mathews</td>\n",
       "    </tr>\n",
       "    <tr>\n",
       "      <th>5</th>\n",
       "      <td>     Daniel J. Moore</td>\n",
       "    </tr>\n",
       "    <tr>\n",
       "      <th>6</th>\n",
       "      <td>      Darrell Aucoin</td>\n",
       "    </tr>\n",
       "    <tr>\n",
       "      <th>7</th>\n",
       "      <td> Deborah D. Helfrich</td>\n",
       "    </tr>\n",
       "    <tr>\n",
       "      <th>8</th>\n",
       "      <td>       Dominick Byrd</td>\n",
       "    </tr>\n",
       "    <tr>\n",
       "      <th>9</th>\n",
       "      <td>       Elaine S. Ott</td>\n",
       "    </tr>\n",
       "  </tbody>\n",
       "</table>\n",
       "</div>"
      ],
      "text/plain": [
       "                  name\n",
       "0    Ann W. McLaughlin\n",
       "1     Arnold J. Fuller\n",
       "2   Austin K. Gilliard\n",
       "3      Billy L. Hunter\n",
       "4    Bobbie D. Mathews\n",
       "5      Daniel J. Moore\n",
       "6       Darrell Aucoin\n",
       "7  Deborah D. Helfrich\n",
       "8        Dominick Byrd\n",
       "9        Elaine S. Ott"
      ]
     },
     "execution_count": 32,
     "metadata": {},
     "output_type": "execute_result"
    }
   ],
   "source": [
    "pd.read_sql_query(\n",
    "\"SELECT name \\\n",
    "FROM member \\\n",
    "ORDER BY name \\\n",
    "LIMIT 10\", con)"
   ]
  },
  {
   "cell_type": "markdown",
   "metadata": {
    "slideshow": {
     "slide_type": "subslide"
    }
   },
   "source": [
    "### Quiz: ORDER BY and LIMIT Clause"
   ]
  },
  {
   "cell_type": "markdown",
   "metadata": {},
   "source": [
    "__Q:__ What are the top 10 highest priced items in expenses?  "
   ]
  },
  {
   "cell_type": "markdown",
   "metadata": {
    "slideshow": {
     "slide_type": "fragment"
    }
   },
   "source": [
    "```\n",
    "SELECT expense, price\n",
    "FROM expenses\n",
    "ORDER BY price\n",
    "LIMIT 10;\n",
    "```"
   ]
  },
  {
   "cell_type": "code",
   "execution_count": 33,
   "metadata": {
    "collapsed": false,
    "slideshow": {
     "slide_type": "fragment"
    }
   },
   "outputs": [
    {
     "data": {
      "text/html": [
       "<div style=\"max-height:1000px;max-width:1500px;overflow:auto;\">\n",
       "<table border=\"1\" class=\"dataframe\">\n",
       "  <thead>\n",
       "    <tr style=\"text-align: right;\">\n",
       "      <th></th>\n",
       "      <th>expense</th>\n",
       "      <th>price</th>\n",
       "    </tr>\n",
       "  </thead>\n",
       "  <tbody>\n",
       "    <tr>\n",
       "      <th>0</th>\n",
       "      <td>   water</td>\n",
       "      <td> 10.23</td>\n",
       "    </tr>\n",
       "    <tr>\n",
       "      <th>1</th>\n",
       "      <td> cookies</td>\n",
       "      <td> 10.23</td>\n",
       "    </tr>\n",
       "    <tr>\n",
       "      <th>2</th>\n",
       "      <td> cookies</td>\n",
       "      <td> 10.23</td>\n",
       "    </tr>\n",
       "    <tr>\n",
       "      <th>3</th>\n",
       "      <td> cookies</td>\n",
       "      <td> 10.23</td>\n",
       "    </tr>\n",
       "    <tr>\n",
       "      <th>4</th>\n",
       "      <td>   water</td>\n",
       "      <td> 10.52</td>\n",
       "    </tr>\n",
       "    <tr>\n",
       "      <th>5</th>\n",
       "      <td>   water</td>\n",
       "      <td> 10.52</td>\n",
       "    </tr>\n",
       "    <tr>\n",
       "      <th>6</th>\n",
       "      <td>     pop</td>\n",
       "      <td> 13.23</td>\n",
       "    </tr>\n",
       "    <tr>\n",
       "      <th>7</th>\n",
       "      <td>     pop</td>\n",
       "      <td> 15.34</td>\n",
       "    </tr>\n",
       "    <tr>\n",
       "      <th>8</th>\n",
       "      <td>     pop</td>\n",
       "      <td> 15.65</td>\n",
       "    </tr>\n",
       "    <tr>\n",
       "      <th>9</th>\n",
       "      <td>     pop</td>\n",
       "      <td> 20.31</td>\n",
       "    </tr>\n",
       "  </tbody>\n",
       "</table>\n",
       "</div>"
      ],
      "text/plain": [
       "   expense  price\n",
       "0    water  10.23\n",
       "1  cookies  10.23\n",
       "2  cookies  10.23\n",
       "3  cookies  10.23\n",
       "4    water  10.52\n",
       "5    water  10.52\n",
       "6      pop  13.23\n",
       "7      pop  15.34\n",
       "8      pop  15.65\n",
       "9      pop  20.31"
      ]
     },
     "execution_count": 33,
     "metadata": {},
     "output_type": "execute_result"
    }
   ],
   "source": [
    "pd.read_sql_query(\n",
    "\"SELECT expense, price \\\n",
    "FROM expenses \\\n",
    "ORDER BY price \\\n",
    "LIMIT 10\", con)"
   ]
  },
  {
   "cell_type": "markdown",
   "metadata": {
    "slideshow": {
     "slide_type": "slide"
    }
   },
   "source": [
    "# Questions?"
   ]
  },
  {
   "cell_type": "markdown",
   "metadata": {
    "slideshow": {
     "slide_type": "fragment"
    }
   },
   "source": [
    "### Topics Not Covered\n",
    "- How to create a database\n",
    "    - Creating tables\n",
    "    - Creating constraints\n",
    "    - Indices\n",
    "    - Views\n",
    "    - How to insert, delete, alter, drop, etc. data in a table"
   ]
  },
  {
   "cell_type": "markdown",
   "metadata": {
    "slideshow": {
     "slide_type": "fragment"
    }
   },
   "source": [
    "### Next Stats Club Event: Intro to Hadoop \n",
    "#### Wednesday, March 25\n",
    "#### 2:30-4:00pm\n",
    "#### M3-3103"
   ]
  },
  {
   "cell_type": "code",
   "execution_count": 34,
   "metadata": {
    "collapsed": false,
    "slideshow": {
     "slide_type": "skip"
    }
   },
   "outputs": [],
   "source": [
    "con.close()"
   ]
  },
  {
   "cell_type": "markdown",
   "metadata": {
    "slideshow": {
     "slide_type": "subslide"
    }
   },
   "source": [
    "# References"
   ]
  },
  {
   "cell_type": "markdown",
   "metadata": {},
   "source": [
    "### Books:\n",
    "_Learning SQL_, Second Edition, by Alan Beaulieu. Copyright 2009 O’Reilly Media, Inc., 978-0-596-52083-0.\n",
    "\n",
    "### CS Database Courses:\n",
    "\n",
    "__CS 338:__ Computer Applications in Business: Databases (CS Minors)\n",
    "\n",
    "__CS 348:__ Introduction to Database Management (CS Majors)\n",
    "\n",
    "### Coursera Courses:\n",
    "\n",
    "__Introduction to Databases:__ by Jennifer Widom from Stanford  \n",
    "\n",
    "__Getting and Cleaning Data:__ by Jeff Leek, PhD, Roger D. Peng, PhD, Brian Caffo, PhD from Johns Hopkins University"
   ]
  },
  {
   "cell_type": "code",
   "execution_count": 35,
   "metadata": {
    "collapsed": false,
    "slideshow": {
     "slide_type": "skip"
    }
   },
   "outputs": [],
   "source": [
    "#sudo ipython nbconvert Intro_SQL_Presentation2.ipynb --to slides --post serve"
   ]
  }
 ],
 "metadata": {
  "celltoolbar": "Slideshow"
 },
 "nbformat": 4,
 "nbformat_minor": 0
}
