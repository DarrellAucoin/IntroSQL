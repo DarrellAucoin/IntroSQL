{
 "cells": [
  {
   "cell_type": "markdown",
   "metadata": {},
   "source": [
    "<head>\n",
    "\n",
    "<script type=\"text/javascript\"\n",
    "  src=\"http://cdn.mathjax.org/mathjax/latest/MathJax.js?config=TeX-AMS-MML_HTMLorMML\">\n",
    "</script>\n",
    "\n",
    "</head>\n",
    "<style>\n",
    "\n",
    "@font-face {\n",
    "    font-family: \"Computer Modern\";\n",
    "    src: url('http://mirrors.ctan.org/fonts/cm-unicode/fonts/otf/cmunss.otf');\n",
    "}\n",
    "#notebook_panel { /* main background */\n",
    "    background: #888;\n",
    "    color: #f6f6f6;\n",
    "}\n",
    "#notebook li { /* More space between bullet points */\n",
    "margin-top:0.8em;\n",
    "}\n",
    "div.text_cell_render{\n",
    "    font-family: 'Arvo' sans-serif;\n",
    "    line-height: 110%;\n",
    "    font-size: 135%;\n",
    "    width:1000px;\n",
    "    margin-left:auto;\n",
    "    margin-right:auto;\n",
    "}\n",
    "\n",
    "</style>\n",
    "\n",
    "\n",
    "<center>\n",
    "\n",
    "<p class=\"gap05\"<p>\n",
    "<h1>Using SQL with R</h1>\n",
    "\n",
    "<p class=\"gap05\"<p>\n",
    "<h3>Darrell Aucoin</h3>\n",
    "\n",
    "<h3>Stats Club</h3>\n",
    "\n",
    "<p class=\"gap2\"<p>\n",
    "\n",
    "</center>\n",
    "\n",
    "![alt text](Images/R.png)"
   ]
  },
  {
   "cell_type": "markdown",
   "metadata": {
    "slideshow": {
     "slide_type": "slide"
    }
   },
   "source": [
    "## Required Packages\n",
    "For SQL within R, we usually need two packages:\n",
    "\n",
    "1. __DBI__: R Database Interface\n",
    "\n",
    "2. Specific package for the individual SQL implementation (MySQL, SQLite, Oracle, etc.).  \n",
    "  - Package `RSQLite` for SQLite"
   ]
  },
  {
   "cell_type": "markdown",
   "metadata": {
    "slideshow": {
     "slide_type": "slide"
    }
   },
   "source": [
    "## DBI Functions: Driver Specification\n",
    "\n",
    "DBI contains various virtual classes and functions in connecting and querying a database:\n",
    "\n",
    "__dbDriver__ Driver specifying the operations for creating connections to SQL Servers   \n",
    "\n",
    "For SQLite:\n",
    "```r\n",
    "m = dbDriver(\"SQLite\") # equivalent to SQLite()\n",
    "```\n",
    "\n",
    "For MySQL:  \n",
    "```r\n",
    "m = dbDriver(\"MySQL\") # equivalent to MySQL()\n",
    "```"
   ]
  },
  {
   "cell_type": "markdown",
   "metadata": {},
   "source": [
    "## DBI Functions: Connecting to DBMS \n",
    "\n",
    "__dbConnect__ Connect to a DBMS.  \n",
    "\n",
    "For SQLite:\n",
    "```r\n",
    "conn = dbConnect(m, \"path_to_file\")\n",
    "```\n",
    "\n",
    "For MySQL:\n",
    "```r\n",
    "conn = dbConnect(m, user=\"user_name\", db=\"database_name\", \n",
    "  host=\"SQL_server\", password=\"password\")\n",
    "```\n",
    "\n",
    "__dbDisconnect__ Disconnect from a DBMS. You should always disconnect after you no longer need it\n",
    "\n",
    "```r\n",
    "dbDisconnect(conn)\n",
    "```"
   ]
  },
  {
   "cell_type": "markdown",
   "metadata": {},
   "source": [
    "## DBI Functions: Submit Queries\n",
    "\n",
    "__dbSendQuery__ Submits and executes SQL statement (information retrieved using fetch)  \n",
    "\n",
    "```r\n",
    "query = dbSendQuery(conn, \"SELECT statement;\")\n",
    "```\n",
    "\n",
    "__dbColumnInfo__ Describes the meta-data of a query (data types ect.)\n",
    "\n",
    "```r\n",
    "dbColumnInfo(query)\n",
    "```\n",
    "\n",
    "__fetch__ Get records from a dbSendQuery\n",
    "\n",
    "```r\n",
    "res = fetch(query)\n",
    "```\n",
    "\n",
    "__dbClearResult__ _Free all resources_ (local and remote) from a query.\n",
    "\n",
    "```r\n",
    "dbClearResult(query)\n",
    "```"
   ]
  },
  {
   "cell_type": "markdown",
   "metadata": {},
   "source": [
    "## DBI Functions: Other Functions\n",
    "\n",
    "__dbGetQuery__ Submits, executes SQL statement and retrieves information  \n",
    "\n",
    "```r\n",
    "res = dbGetQuery(conn, \"SELECT statement;\")\n",
    "```\n",
    "\n",
    "__dbListTables__ List tables in database connection\n",
    "\n",
    "```r\n",
    "tables = dbListTables(conn)\n",
    "```\n",
    "\n",
    "__dbListFields__ Return the column names for a given table\n",
    "\n",
    "```r\n",
    "columns = dbListFields(conn, \"table_name\")\n",
    "```\n",
    "\n",
    "__dbGetInfo__ Get meta-data for DBIObjects\n",
    "\n",
    "```r\n",
    "meta.data = dbGetInfo(query)\n",
    "```\n",
    "\n",
    "---\n",
    "\n",
    "__dbReadTable__ Fetch the data from a table.\n",
    "\n",
    "```r\n",
    "res = dbReadTable(conn, \"table_name\")\n",
    "```\n",
    "\n",
    "__dbWriteTable__ Write a dataframe to SQL database.\n",
    "\n",
    "```r\n",
    "dbWriteTable(conn, \"DBMS_table_name\", data.frame.name)\n",
    "```"
   ]
  },
  {
   "cell_type": "markdown",
   "metadata": {},
   "source": [
    "## Connecting a SQLite Database"
   ]
  },
  {
   "cell_type": "code",
   "execution_count": 1,
   "metadata": {
    "collapsed": false
   },
   "outputs": [
    {
     "ename": "ERROR",
     "evalue": "Error in library(RSQLite): there is no package called ‘RSQLite’\n",
     "output_type": "error",
     "traceback": [
      "Error in library(RSQLite): there is no package called ‘RSQLite’\n"
     ]
    },
    {
     "ename": "ERROR",
     "evalue": "Error in eval(expr, envir, enclos): could not find function \"dbDriver\"\n",
     "output_type": "error",
     "traceback": [
      "Error in eval(expr, envir, enclos): could not find function \"dbDriver\"\n"
     ]
    },
    {
     "ename": "ERROR",
     "evalue": "Error in eval(expr, envir, enclos): could not find function \"dbConnect\"\n",
     "output_type": "error",
     "traceback": [
      "Error in eval(expr, envir, enclos): could not find function \"dbConnect\"\n"
     ]
    },
    {
     "ename": "ERROR",
     "evalue": "Error in eval(expr, envir, enclos): could not find function \"dbSendQuery\"\n",
     "output_type": "error",
     "traceback": [
      "Error in eval(expr, envir, enclos): could not find function \"dbSendQuery\"\n"
     ]
    },
    {
     "ename": "ERROR",
     "evalue": "Error in eval(expr, envir, enclos): could not find function \"fetch\"\n",
     "output_type": "error",
     "traceback": [
      "Error in eval(expr, envir, enclos): could not find function \"fetch\"\n"
     ]
    },
    {
     "ename": "ERROR",
     "evalue": "Error in eval(expr, envir, enclos): could not find function \"dbClearResult\"\n",
     "output_type": "error",
     "traceback": [
      "Error in eval(expr, envir, enclos): could not find function \"dbClearResult\"\n"
     ]
    },
    {
     "ename": "ERROR",
     "evalue": "Error in eval(expr, envir, enclos): could not find function \"dbDisconnect\"\n",
     "output_type": "error",
     "traceback": [
      "Error in eval(expr, envir, enclos): could not find function \"dbDisconnect\"\n"
     ]
    }
   ],
   "source": [
    "library(RSQLite)\n",
    "m = dbDriver(\"SQLite\")\n",
    "con = dbConnect(m, \"~/GitHub/IntroSQL/stats_club.db\")\n",
    "query = dbSendQuery(con, \"SELECT name, position FROM exec\")\n",
    "result = fetch(query)\n",
    "dbClearResult(query)\n",
    "dbDisconnect(con)"
   ]
  },
  {
   "cell_type": "code",
   "execution_count": null,
   "metadata": {
    "collapsed": true
   },
   "outputs": [],
   "source": [
    "result"
   ]
  },
  {
   "cell_type": "code",
   "execution_count": null,
   "metadata": {
    "collapsed": true
   },
   "outputs": [],
   "source": [
    "library(RSQLite)\n",
    "m = dbDriver(\"SQLite\")\n",
    "con = dbConnect(m, \"~/GitHub/IntroSQL/stats_club.db\")\n",
    "event_table = dbGetQuery(con,\n",
    "                   \"SELECT name, type, start_time, location\n",
    "                   FROM event\")\n",
    "dbDisconnect(con)\n",
    "event_table"
   ]
  },
  {
   "cell_type": "markdown",
   "metadata": {},
   "source": [
    "## Connecting to Local File System using MySQL\n",
    "\n",
    "I transferred the data in stats_club.db to MySQL on my laptop."
   ]
  },
  {
   "cell_type": "code",
   "execution_count": null,
   "metadata": {
    "collapsed": true
   },
   "outputs": [],
   "source": [
    "library(\"RMySQL\") \n",
    "m = dbDriver(\"MySQL\")\n",
    "conn = dbConnect(m, user=\"darrell\", db=\"stats_club\",\n",
    "                 host=\"localhost\",\n",
    "                 password=\"pass\")"
   ]
  },
  {
   "cell_type": "code",
   "execution_count": null,
   "metadata": {
    "collapsed": true
   },
   "outputs": [],
   "source": [
    "query = dbSendQuery(conn, \"SELECT name, type, start_time, location\n",
    "                          FROM event\")\n",
    "result = fetch(query)\n",
    "dbClearResult(query)\n",
    "dbDisconnect(conn)"
   ]
  },
  {
   "cell_type": "code",
   "execution_count": null,
   "metadata": {
    "collapsed": true
   },
   "outputs": [],
   "source": [
    "print(result)"
   ]
  },
  {
   "cell_type": "markdown",
   "metadata": {},
   "source": [
    "## Connecting to Remote Server using MySQL"
   ]
  },
  {
   "cell_type": "code",
   "execution_count": null,
   "metadata": {
    "collapsed": true
   },
   "outputs": [],
   "source": [
    "hg19 = dbConnect(MySQL(), user=\"genome\", db=\"hg19\", \n",
    "  host=\"genome-mysql.cse.ucsc.edu\")\n",
    "result = dbGetQuery(hg19, \n",
    "        \"SELECT COUNT(*) FROM affyU133Plus2\")\n",
    "dbDisconnect(hg19)\n",
    "print(result)"
   ]
  },
  {
   "cell_type": "markdown",
   "metadata": {},
   "source": [
    "## Using SQL Statements with Native R Data-Frames\n",
    "\n",
    "It is even possible to do SQL-like queries on native R Data-Frames. \n",
    "\n",
    "- We can do some quick and dirty data manipulation without using the `dplyr` package\n",
    "- Note that we still have the R dataframe event_table"
   ]
  },
  {
   "cell_type": "code",
   "execution_count": null,
   "metadata": {
    "collapsed": true
   },
   "outputs": [],
   "source": [
    "event_table"
   ]
  },
  {
   "cell_type": "code",
   "execution_count": null,
   "metadata": {
    "collapsed": true
   },
   "outputs": [],
   "source": [
    "library(sqldf)\n",
    "sqldf('SELECT type, COUNT(*) \n",
    "      FROM event_table\n",
    "      GROUP BY type')"
   ]
  }
 ],
 "metadata": {
  "celltoolbar": "Slideshow",
  "kernelspec": {
   "display_name": "R",
   "language": "R",
   "name": "ir"
  },
  "language_info": {
   "codemirror_mode": "r",
   "file_extension": ".r",
   "mimetype": "text/x-r-source",
   "name": "R",
   "pygments_lexer": "r",
   "version": "3.2.2"
  }
 },
 "nbformat": 4,
 "nbformat_minor": 0
}
