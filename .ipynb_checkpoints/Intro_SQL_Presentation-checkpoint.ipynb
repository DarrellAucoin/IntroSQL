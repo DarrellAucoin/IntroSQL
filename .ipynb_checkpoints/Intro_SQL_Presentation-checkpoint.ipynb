{
 "metadata": {
  "celltoolbar": "Slideshow",
  "name": "",
  "signature": "sha256:2216ead192153dafecfd5f12c6dd148454cd24d20b0bf8b9e10fee3e14479d3a"
 },
 "nbformat": 3,
 "nbformat_minor": 0,
 "worksheets": [
  {
   "cells": [
    {
     "cell_type": "markdown",
     "metadata": {
      "slideshow": {
       "slide_type": "slide"
      }
     },
     "source": [
      "<head>\n",
      "\n",
      "<script type=\"text/javascript\"\n",
      "  src=\"http://cdn.mathjax.org/mathjax/latest/MathJax.js?config=TeX-AMS-MML_HTMLorMML\">\n",
      "</script>\n",
      "\n",
      "</head>\n",
      "<style>\n",
      "\n",
      "@font-face {\n",
      "    font-family: \"Computer Modern\";\n",
      "    src: url('http://mirrors.ctan.org/fonts/cm-unicode/fonts/otf/cmunss.otf');\n",
      "}\n",
      "#notebook_panel { /* main background */\n",
      "    background: #888;\n",
      "    color: #f6f6f6;\n",
      "}\n",
      "#notebook li { /* More space between bullet points */\n",
      "margin-top:0.8em;\n",
      "}\n",
      "div.text_cell_render{\n",
      "    font-family: 'Arvo' sans-serif;\n",
      "    line-height: 130%;\n",
      "    font-size: 135%;\n",
      "    width:1000px;\n",
      "    margin-left:auto;\n",
      "    margin-right:auto;\n",
      "}\n",
      "\n",
      "</style>\n",
      "\n",
      "\n",
      "<center>\n",
      "\n",
      "<p class=\"gap05\"<p>\n",
      "<h1>Intro to SQL:</h1>\n",
      "<h2>Basic Theory and Basic Queries</h2>\n",
      "\n",
      "<p class=\"gap05\"<p>\n",
      "<h3>Darrell Aucoin</h3>\n",
      "\n",
      "<h3>Stats Club</h3>\n",
      "\n",
      "<p class=\"gap2\"<p>\n",
      "![alt text](Images/exploits_of_a_mom.png)\n",
      "</center>\n",
      "\n",
      "<style type=\"text/css\">\n",
      ".input_prompt, .input_area, .output_prompt {\n",
      "    display:none !important;\n",
      "}\n",
      "</style>\n",
      "Source for picture: XKCD (Randall Munroe) http://xkcd.com/327/"
     ]
    },
    {
     "cell_type": "heading",
     "level": 2,
     "metadata": {
      "slideshow": {
       "slide_type": "slide"
      }
     },
     "source": [
      "Content (This Presentation)"
     ]
    },
    {
     "cell_type": "markdown",
     "metadata": {},
     "source": [
      "1. Motivation\n",
      "2. Different Implementations of SQL\n",
      "####Theory  \n",
      "1. Relational Databases\n",
      "2. The E-R Model\n",
      "3. Normalization\n",
      "4. Primary and Foreign Keys\n",
      "5. Relational Algebra Operations\n",
      "6. Constraints\n",
      "####How to Query in SQL  \n",
      "1. Data Types\n",
      "2. Projection (SELECT Clause)\n",
      "4. FROM Clause\n",
      "3. Selection (WHERE Clause)"
     ]
    },
    {
     "cell_type": "heading",
     "level": 1,
     "metadata": {
      "slideshow": {
       "slide_type": "slide"
      }
     },
     "source": [
      "How to Follow Along"
     ]
    },
    {
     "cell_type": "heading",
     "level": 4,
     "metadata": {},
     "source": [
      "Get the material  "
     ]
    },
    {
     "cell_type": "markdown",
     "metadata": {},
     "source": [
      "1. Go to https://github.com/NormallySane/IntroSQL\n",
      "2. Download [zip file](https://github.com/NormallySane/IntroSQL/archive/master.zip)\n",
      "    ![alt text](Images/IntroSQLGithub.png)\n",
      "3. Unzip downloaded file in your preferred directory"
     ]
    },
    {
     "cell_type": "heading",
     "level": 4,
     "metadata": {
      "slideshow": {
       "slide_type": "subslide"
      }
     },
     "source": [
      "Using SQLite Browser"
     ]
    },
    {
     "cell_type": "markdown",
     "metadata": {
      "slideshow": {
       "slide_type": "-"
      }
     },
     "source": [
      "1. Open SQLite browser\n",
      "2. Open `stats_club.db` database file in the downloaded directory\n",
      "3. Click on 'Execute SQL' tab\n",
      "    1. Open SQL file `IntroSQL_Presentation1.sql` file in the downloaded directory\n",
      "    2. Follow along with file, executing statement as topics dictate\n",
      "4. Content of the talk is on https://github.com/NormallySane/IntroSQL/wiki (open in your favorite browser)\n",
      "\n",
      "\n",
      "- SQLite browser is a great tool for learning SQLite and SQL in general"
     ]
    },
    {
     "cell_type": "heading",
     "level": 4,
     "metadata": {
      "slideshow": {
       "slide_type": "subslide"
      }
     },
     "source": [
      "Features of SQLite Browser"
     ]
    },
    {
     "cell_type": "markdown",
     "metadata": {},
     "source": [
      "- Lets you see the data structure of tables in the database   \n",
      "\n",
      "![alt text](Images/dataStructure.png)"
     ]
    },
    {
     "cell_type": "markdown",
     "metadata": {
      "slideshow": {
       "slide_type": "subslide"
      }
     },
     "source": [
      "- Explore the data entered in tables  \n",
      "\n",
      "![alt text](Images/exploreData.png)"
     ]
    },
    {
     "cell_type": "markdown",
     "metadata": {
      "slideshow": {
       "slide_type": "subslide"
      }
     },
     "source": [
      "- Execute SQL statements and see results  \n",
      "\n",
      "![alt text](Images/executeSQL.png)"
     ]
    },
    {
     "cell_type": "markdown",
     "metadata": {
      "slideshow": {
       "slide_type": "subslide"
      }
     },
     "source": [
      "- Easily construction tables from files  \n",
      "\n",
      "![alt text](Images/Import_tables.png)"
     ]
    },
    {
     "cell_type": "markdown",
     "metadata": {
      "slideshow": {
       "slide_type": "subslide"
      }
     },
     "source": [
      "- If the table is already created it will just import the data into the table, otherwise it will create a new table\n",
      "\n",
      "![alt text](Images/import_tables2.png)"
     ]
    },
    {
     "cell_type": "markdown",
     "metadata": {
      "slideshow": {
       "slide_type": "notes"
      }
     },
     "source": [
      "- SQLite functionality can also be extended by [various user created extensions](http://www.sqlite.org/contrib)"
     ]
    },
    {
     "cell_type": "heading",
     "level": 1,
     "metadata": {
      "slideshow": {
       "slide_type": "slide"
      }
     },
     "source": [
      "Motivation"
     ]
    },
    {
     "cell_type": "markdown",
     "metadata": {
      "slideshow": {
       "slide_type": "-"
      }
     },
     "source": [
      "__Q:__ Why learn a database lanugage?  "
     ]
    },
    {
     "cell_type": "markdown",
     "metadata": {
      "slideshow": {
       "slide_type": "fragment"
      }
     },
     "source": [
      "- Data is rarely tidy as they are in many stats courses\n",
      "- Most of the time the data we want (outside of assignments) is in a database"
     ]
    },
    {
     "cell_type": "markdown",
     "metadata": {
      "slideshow": {
       "slide_type": "fragment"
      }
     },
     "source": [
      "__Q:__ Why learn SQL?"
     ]
    },
    {
     "cell_type": "markdown",
     "metadata": {
      "slideshow": {
       "slide_type": "fragment"
      }
     },
     "source": [
      "- One of the most popular data analysis tools ([O'Reilly Data Scientist Survey for 2014](http://www.oreilly.com/data/free/2014-data-science-salary-survey.csp))\n",
      "- One of the most in-demand skills for 2014 ([Workopolis](http://www.workopolis.com/content/advice/article/year-in-review-the-most-in-demand-jobs-of-2014-and-the-fastest-declining-occupations?CID=721:19L:14946))\n",
      "- SQL not only can retrieve data, but can slice, dice and transform the data as needed"
     ]
    },
    {
     "cell_type": "markdown",
     "metadata": {
      "slideshow": {
       "slide_type": "subslide"
      }
     },
     "source": [
      "__Q:__ What is SQL?"
     ]
    },
    {
     "cell_type": "markdown",
     "metadata": {
      "slideshow": {
       "slide_type": "fragment"
      }
     },
     "source": [
      "- A programming language allowing multiple concurrent users storing, manipulating, and querying data stored in a relational database.\n",
      "- Data does not necessary have to fit into memory."
     ]
    },
    {
     "cell_type": "markdown",
     "metadata": {
      "slideshow": {
       "slide_type": "fragment"
      }
     },
     "source": [
      "__Q:__ Why use SQLite?"
     ]
    },
    {
     "cell_type": "markdown",
     "metadata": {
      "slideshow": {
       "slide_type": "fragment"
      }
     },
     "source": [
      "- Very easy to install\n",
      "- Easy to share (database is a single file)\n",
      "- Good  SQL language to practice with (can easily use it to preprocess data for kaggle competitions)"
     ]
    },
    {
     "cell_type": "heading",
     "level": 2,
     "metadata": {
      "slideshow": {
       "slide_type": "subslide"
      }
     },
     "source": [
      "Different Implementations of SQL"
     ]
    },
    {
     "cell_type": "markdown",
     "metadata": {},
     "source": [
      "__[MySQL](http://www.mysql.com/):__ Highly popular open source SQL implementation."
     ]
    },
    {
     "cell_type": "markdown",
     "metadata": {
      "slideshow": {
       "slide_type": "fragment"
      }
     },
     "source": [
      "__[PostgreSQL](http://www.postgresql.org/):__ Open source SQL designed around letting users create User Defined Functions (UDF)."
     ]
    },
    {
     "cell_type": "markdown",
     "metadata": {
      "slideshow": {
       "slide_type": "fragment"
      }
     },
     "source": [
      "__[SQLite](http://www.sqlite.org/):__ Open sources light weight SQL usually used as an embedded database for applications (web browsers, mobile applications, etc.), or light to medium traffic websites. Database is saved as a single file and __only allows one writer at a time__. Various OS's have SQLite preinstalled (type `sqlite3` in terminal for mac)"
     ]
    },
    {
     "cell_type": "markdown",
     "metadata": {
      "slideshow": {
       "slide_type": "fragment"
      }
     },
     "source": [
      "__[Oracle](http://www.oracle.com/ca-en/database/overview/index.html):__ SQL implementation produced and marketed by Oracle Corporation."
     ]
    },
    {
     "cell_type": "markdown",
     "metadata": {
      "slideshow": {
       "slide_type": "fragment"
      }
     },
     "source": [
      "__[Microsoft\u00a0SQL\u00a0Server](http://www.microsoft.com/en-ca/server-cloud/products/sql-server/):__ SQL implementation developed by Microsoft."
     ]
    },
    {
     "cell_type": "markdown",
     "metadata": {
      "slideshow": {
       "slide_type": "fragment"
      }
     },
     "source": [
      "__[DB2](http://www-01.ibm.com/software/data/db2/):__ SQL developed by IBM. The database used by University of Waterloo."
     ]
    },
    {
     "cell_type": "heading",
     "level": 1,
     "metadata": {
      "slideshow": {
       "slide_type": "slide"
      }
     },
     "source": [
      "Relational Databases"
     ]
    },
    {
     "cell_type": "markdown",
     "metadata": {
      "slideshow": {
       "slide_type": "-"
      }
     },
     "source": [
      "__Relational Database:__ A relational database is a system organized in tables containing records (rows) related to other records in other tables. Each entity having attributes (columns also called fields) which give additional information on an entity. \n",
      "<center>\n",
      "![alt text](Images/RelationalDatabase.png)\n",
      "</center>"
     ]
    },
    {
     "cell_type": "markdown",
     "metadata": {
      "slideshow": {
       "slide_type": "fragment"
      }
     },
     "source": [
      "__Field, Attribute (Column)__: An individual piece of data stored in a table.  "
     ]
    },
    {
     "cell_type": "markdown",
     "metadata": {
      "slideshow": {
       "slide_type": "fragment"
      }
     },
     "source": [
      "__Record\u00a0(Row):__ A tuple of columns describing an entity or action of an entity.  "
     ]
    },
    {
     "cell_type": "markdown",
     "metadata": {
      "slideshow": {
       "slide_type": "subslide"
      }
     },
     "source": [
      "<center>\n",
      "![alt text](Images/RelationalDatabase.png)\n",
      "</center>"
     ]
    },
    {
     "cell_type": "markdown",
     "metadata": {
      "slideshow": {
       "slide_type": "-"
      }
     },
     "source": [
      "__Table:__ A collection of rows. Usually in reference a persistent table saved permanently to memory"
     ]
    },
    {
     "cell_type": "markdown",
     "metadata": {
      "slideshow": {
       "slide_type": "fragment"
      }
     },
     "source": [
      "__Result\u00a0set:__ A non-persistent table, usually the result of a query."
     ]
    },
    {
     "cell_type": "markdown",
     "metadata": {
      "slideshow": {
       "slide_type": "fragment"
      }
     },
     "source": [
      "__(Virtual)\u00a0View:__ A named query saved into memory and performed whenever it is named. Some SQL servers have materialized views that permanently save the data for faster access."
     ]
    },
    {
     "cell_type": "markdown",
     "metadata": {
      "slideshow": {
       "slide_type": "fragment"
      }
     },
     "source": [
      "__Subquery:__ A query that returns a table to another query."
     ]
    },
    {
     "cell_type": "markdown",
     "metadata": {
      "slideshow": {
       "slide_type": "subslide"
      }
     },
     "source": [
      "<center>\n",
      "![alt text](Images/RelationalDatabase.png)\n",
      "</center>"
     ]
    },
    {
     "cell_type": "markdown",
     "metadata": {
      "slideshow": {
       "slide_type": "fragment"
      }
     },
     "source": [
      "__Primary\u00a0key:__ A tuple of columns that uniquely define each row in a table."
     ]
    },
    {
     "cell_type": "markdown",
     "metadata": {
      "slideshow": {
       "slide_type": "fragment"
      }
     },
     "source": [
      "__Foreign\u00a0key:__ A tuple of columns identifying a relationship to another table."
     ]
    },
    {
     "cell_type": "heading",
     "level": 2,
     "metadata": {
      "slideshow": {
       "slide_type": "slide"
      }
     },
     "source": [
      "The E-R Model"
     ]
    },
    {
     "cell_type": "markdown",
     "metadata": {},
     "source": [
      "The E-R (entity-relationship) Model is an _analysis tool_ for relational databases.  \n",
      "__E__ refers to _entity_: An object  \n",
      "__R__ refers to _relationship_: As in how objects relate to each other.  "
     ]
    },
    {
     "cell_type": "markdown",
     "metadata": {
      "slideshow": {
       "slide_type": "fragment"
      }
     },
     "source": [
      "Each entity has properties associated with every instance of an object.\n",
      "<center>\n",
      "![alt text](Images/ER_Model.png)\n",
      "</center>"
     ]
    },
    {
     "cell_type": "markdown",
     "metadata": {
      "slideshow": {
       "slide_type": "subslide"
      }
     },
     "source": [
      "Objects are related to each other through relationships:\n",
      "<center>\n",
      "![alt text](Images/ER_Model2.png)\n",
      "</center>"
     ]
    },
    {
     "cell_type": "heading",
     "level": 3,
     "metadata": {
      "slideshow": {
       "slide_type": "subslide"
      }
     },
     "source": [
      "E-R Relationships"
     ]
    },
    {
     "cell_type": "markdown",
     "metadata": {},
     "source": [
      "1. __One to one relationships:__ For every instance of object A, there are exactly one instance of object B.\n",
      "    - Every student has exactly one quest account\n",
      "2. __One to many relationships:__ For every instance of object A, there are an indeterminate number of instances of object B.\n",
      "    - A single course section has many students\n",
      "\n",
      "3. __Many to one relationships:__ For many instances of object A, there are a single instance of object B.\n",
      "    - Many students are enrolled in a course section\n",
      "\n",
      "4. __Many to many relationships:__ For many instances of object A, there are a many possible instances of object B.\n",
      "    - Many students take many courses"
     ]
    },
    {
     "cell_type": "heading",
     "level": 2,
     "metadata": {
      "slideshow": {
       "slide_type": "slide"
      }
     },
     "source": [
      "Normalization"
     ]
    },
    {
     "cell_type": "markdown",
     "metadata": {},
     "source": [
      "__Database Normalization__ is a process in relational databases to minimize redundacy. Data can be constructed so that additions, deletions, and modifications can be made in just one table.  \n",
      "\n",
      "Data goes through three forms until it is fully utilizied by a  relational database:"
     ]
    },
    {
     "cell_type": "markdown",
     "metadata": {
      "slideshow": {
       "slide_type": "fragment"
      }
     },
     "source": [
      "1. __First Normalized Form:__ Each attribute contains only atomic values and only a single value from that domain. i.e. The data is in the form of a table with no merged columns or rows.\n",
      "2. __Second Normalized Form:__ Each attribute in the table is dependent on the entity it is describing (dependent on the primary key).\n",
      "3. __Third Normalized Form:__ All non-primary key attributes are not determined by any other non-primary key attributes."
     ]
    },
    {
     "cell_type": "markdown",
     "metadata": {
      "slideshow": {
       "slide_type": "subslide"
      }
     },
     "source": [
      "__Example:__ For each event for Stats Club we have:\n",
      "1. a list of attendies along with some basic information (email, ect.), \n",
      "2. the event's name, type (social or education), the roles for Stats Club execs for the event, time and location of the event, and a budget,\n",
      "3. as well as a list of expenses for the event  \n",
      "\n",
      "A report of the event would look something like:\n",
      "<center>\n",
      "![alt text](Images/Event_report.png)\n",
      "</center>"
     ]
    },
    {
     "cell_type": "markdown",
     "metadata": {
      "slideshow": {
       "slide_type": "subslide"
      }
     },
     "source": [
      "We first need to tabulate the data:\n",
      "<center>\n",
      "![alt text](Images/Event_report_table.png)\n",
      "</center>\n",
      "However this is not enough, the data is not in a form that can be easily recognized by computers.\n",
      "- How do you add new events?\n",
      "- What about members that attend multiple events?\n",
      "    - that attend no events?"
     ]
    },
    {
     "cell_type": "heading",
     "level": 3,
     "metadata": {
      "slideshow": {
       "slide_type": "subslide"
      }
     },
     "source": [
      "1st Normalization"
     ]
    },
    {
     "cell_type": "markdown",
     "metadata": {},
     "source": [
      "__First Normalized Form:__ Each attribute contains only atomic values and only a single value from that domain"
     ]
    },
    {
     "cell_type": "markdown",
     "metadata": {
      "slideshow": {
       "slide_type": "fragment"
      }
     },
     "source": [
      "__Example:__ To bring the data into 1st normalized form we need to break the table into two tables: Event, and Expenses:"
     ]
    },
    {
     "cell_type": "markdown",
     "metadata": {
      "slideshow": {
       "slide_type": "fragment"
      }
     },
     "source": [
      "<center>\n",
      "![alt text](Images/Event_report_table_1st.png)\n",
      "</center>"
     ]
    },
    {
     "cell_type": "markdown",
     "metadata": {
      "slideshow": {
       "slide_type": "subslide"
      }
     },
     "source": [
      "<center>\n",
      "![alt text](Images/Event_report_table_1st.png)\n",
      "</center>\n",
      "- This contains all of the information before but is more organized for the computers to deal with\n",
      "- Still not enough, a mispelling of an event or type could make the database think there is a new event"
     ]
    },
    {
     "cell_type": "heading",
     "level": 3,
     "metadata": {
      "slideshow": {
       "slide_type": "subslide"
      }
     },
     "source": [
      "2nd Normalization"
     ]
    },
    {
     "cell_type": "markdown",
     "metadata": {},
     "source": [
      "__Second Normalized Form:__ Each attribute in the table is dependent on the entity it is describing (dependent on the primary key)."
     ]
    },
    {
     "cell_type": "markdown",
     "metadata": {
      "slideshow": {
       "slide_type": "fragment"
      }
     },
     "source": [
      "__Example:__ To bring the data into 2nd normalized form, we need to break the Event table again. \n",
      "Let's break the table so we get important description of the events (name, type, presenter, organizer, etc.) and a list of members that attended each event."
     ]
    },
    {
     "cell_type": "markdown",
     "metadata": {
      "slideshow": {
       "slide_type": "fragment"
      }
     },
     "source": [
      "<center>\n",
      "![alt text](Images/Event_report_table_2nd.png)\n",
      "</center>"
     ]
    },
    {
     "cell_type": "markdown",
     "metadata": {
      "slideshow": {
       "slide_type": "subslide"
      }
     },
     "source": [
      "<center>\n",
      "![alt text](Images/Event_report_table_2nd.png)\n",
      "</center>\n",
      "- Attendance is 2nd normalized form if we consider the primary key as the tuple of event and quest ID.\n",
      "- Attendance still has redundant information, several members can attend multiple events or none at all"
     ]
    },
    {
     "cell_type": "heading",
     "level": 3,
     "metadata": {
      "slideshow": {
       "slide_type": "subslide"
      }
     },
     "source": [
      "3rd Normalization"
     ]
    },
    {
     "cell_type": "markdown",
     "metadata": {},
     "source": [
      "__Third Normalized Form:__ All non-primary key attributes are not determined by any other non-primary key attributes."
     ]
    },
    {
     "cell_type": "markdown",
     "metadata": {
      "slideshow": {
       "slide_type": "subslide"
      }
     },
     "source": [
      "__Example:__ The information on each member (name, email, etc.) is not determined by the event. We need to break the attendance table to bring into 3rd normalized form: attendance and members."
     ]
    },
    {
     "cell_type": "markdown",
     "metadata": {
      "slideshow": {
       "slide_type": "subslide"
      }
     },
     "source": [
      "<center>\n",
      "![alt text](Images/Event_report_table_3rd.png)\n",
      "</center>"
     ]
    },
    {
     "cell_type": "heading",
     "level": 3,
     "metadata": {
      "slideshow": {
       "slide_type": "subslide"
      }
     },
     "source": [
      "Primary Keys and Foriegn Keys"
     ]
    },
    {
     "cell_type": "markdown",
     "metadata": {},
     "source": [
      "We can reconstruct the orignal table by joining tables, foreign keys with what they reference (primary keys).\n",
      "- We can only construct an instance of a foreign keys if their is already an instance of their reference\n",
      "    - i.e. the set of foreign keys for one table is a subset of the primary keys they reference"
     ]
    },
    {
     "cell_type": "markdown",
     "metadata": {
      "slideshow": {
       "slide_type": "subslide"
      }
     },
     "source": [
      "__Primary\u00a0key:__ A tuple of columns that uniquely define each row in a table. (Red items below)  \n",
      "__Foreign\u00a0key:__ A tuple of columns identifying a relationship to another table. (Blue items below)\n",
      "<center>\n",
      "![alt text](Images/primary_keys.png)\n",
      "</center>"
     ]
    },
    {
     "cell_type": "heading",
     "level": 3,
     "metadata": {
      "slideshow": {
       "slide_type": "subslide"
      }
     },
     "source": [
      "Quiz: Normalization"
     ]
    },
    {
     "cell_type": "markdown",
     "metadata": {},
     "source": [
      "Normalize the following table:  \n",
      "\n",
      "| Student Name | Quest ID | Course | Description | Section |\n",
      "|--------------|----------|--------|-------------|---------|\n",
      "| | | | | |"
     ]
    },
    {
     "cell_type": "markdown",
     "metadata": {
      "slideshow": {
       "slide_type": "fragment"
      }
     },
     "source": [
      "<center>\n",
      "![alt text](Images/quiz1sol.png)\n",
      "</center>"
     ]
    },
    {
     "cell_type": "heading",
     "level": 2,
     "metadata": {
      "slideshow": {
       "slide_type": "slide"
      }
     },
     "source": [
      "Relational Algebra Operations"
     ]
    },
    {
     "cell_type": "markdown",
     "metadata": {
      "slideshow": {
       "slide_type": "-"
      }
     },
     "source": [
      "__Projection:__ Returns a subset of columns."
     ]
    },
    {
     "cell_type": "markdown",
     "metadata": {
      "slideshow": {
       "slide_type": "fragment"
      }
     },
     "source": [
      "__Selection:__ Returns only entities where some condition is true."
     ]
    },
    {
     "cell_type": "markdown",
     "metadata": {
      "slideshow": {
       "slide_type": "fragment"
      }
     },
     "source": [
      "__Rename:__ Rename an attribute."
     ]
    },
    {
     "cell_type": "markdown",
     "metadata": {
      "slideshow": {
       "slide_type": "fragment"
      }
     },
     "source": [
      "__Natural\u00a0Join:__ Tuples from one table is joined to tuples from another table based on common attributes (at least one column with the same name and possible values is common between them)"
     ]
    },
    {
     "cell_type": "markdown",
     "metadata": {
      "slideshow": {
       "slide_type": "fragment"
      }
     },
     "source": [
      "\u0398__-Join\u00a0and\u00a0Equijoin:__ Join tuples from two different tables where some binary condition (\u0398 = {\u2265, \u2264, >, <, =}) between two tables attributes is true. When \u0398 is =, the join is called an equijoin.  \n",
      "$$\\theta=\\left\\{ \\ge,\\le,<,>,=\\right\\}$$"
     ]
    },
    {
     "cell_type": "markdown",
     "metadata": {
      "slideshow": {
       "slide_type": "fragment"
      }
     },
     "source": [
      "__Set\u00a0Operations:__ Set theory's unions, set difference, and cartesian product of tuples performed on tuples of different tables."
     ]
    },
    {
     "cell_type": "heading",
     "level": 3,
     "metadata": {
      "slideshow": {
       "slide_type": "subslide"
      }
     },
     "source": [
      "Quiz: Relational Algebra"
     ]
    },
    {
     "cell_type": "markdown",
     "metadata": {},
     "source": [
      "__Q1:__ What kind of operation is performed on the following table?\n",
      "<center>\n",
      "![alt text](Images/quiz2a.png)\n",
      "</center>"
     ]
    },
    {
     "cell_type": "markdown",
     "metadata": {
      "slideshow": {
       "slide_type": "fragment"
      }
     },
     "source": [
      "- Projection"
     ]
    },
    {
     "cell_type": "markdown",
     "metadata": {},
     "source": [
      "__Q2:__ What kind of operation is performed on the following table?\n",
      "<center>\n",
      "![alt text](Images/quiz2b.png)\n",
      "</center>"
     ]
    },
    {
     "cell_type": "markdown",
     "metadata": {
      "slideshow": {
       "slide_type": "fragment"
      }
     },
     "source": [
      "- Selection"
     ]
    },
    {
     "cell_type": "markdown",
     "metadata": {
      "slideshow": {
       "slide_type": "subslide"
      }
     },
     "source": [
      "__Q3:__ What kinds of joins can be performed on tables?"
     ]
    },
    {
     "cell_type": "markdown",
     "metadata": {
      "slideshow": {
       "slide_type": "fragment"
      }
     },
     "source": [
      "- Natural Join: Join based on common columns\n",
      "- \u0398-Join: Join based on a comparison operator between two columns\n",
      "    - Equijoin: Join based on equality between columns"
     ]
    },
    {
     "cell_type": "heading",
     "level": 2,
     "metadata": {
      "slideshow": {
       "slide_type": "slide"
      }
     },
     "source": [
      "Constraints"
     ]
    },
    {
     "cell_type": "markdown",
     "metadata": {},
     "source": [
      "Constraints limit what can be entered into fields in a table and help ensure encapsulation: "
     ]
    },
    {
     "cell_type": "markdown",
     "metadata": {
      "slideshow": {
       "slide_type": "fragment"
      }
     },
     "source": [
      "__PRIMARY\u00a0KEY constraints__\u00a0 Uniquely identifies each record in a table (quickly referencing it)"
     ]
    },
    {
     "cell_type": "markdown",
     "metadata": {
      "slideshow": {
       "slide_type": "fragment"
      }
     },
     "source": [
      "__FOREIGN\u00a0KEY constraints__ Points to a PRIMARY KEY of another table, enabling them to easily join them"
     ]
    },
    {
     "cell_type": "markdown",
     "metadata": {
      "slideshow": {
       "slide_type": "fragment"
      }
     },
     "source": [
      "__CHECK constraints__ Limits the range of values that a field can take."
     ]
    },
    {
     "cell_type": "markdown",
     "metadata": {
      "slideshow": {
       "slide_type": "fragment"
      }
     },
     "source": [
      "__UNIQUE constraints__\u00a0Enforces uniqueness on an field (column)."
     ]
    },
    {
     "cell_type": "markdown",
     "metadata": {
      "slideshow": {
       "slide_type": "fragment"
      }
     },
     "source": [
      "__NOT\u00a0NULL constraints__\u00a0 Enforces a field to always contain a value."
     ]
    },
    {
     "cell_type": "markdown",
     "metadata": {
      "slideshow": {
       "slide_type": "fragment"
      }
     },
     "source": [
      "- We can also create indexes for fields making them easily searchable"
     ]
    },
    {
     "cell_type": "heading",
     "level": 1,
     "metadata": {
      "slideshow": {
       "slide_type": "slide"
      }
     },
     "source": [
      "SQL Language"
     ]
    },
    {
     "cell_type": "markdown",
     "metadata": {},
     "source": [
      "- Case does not matter, for presentation purposes UPPER CASE is used for SQL key words  \n",
      "- SQL statements are processed as a whole (ignoring white space and new lines) and ends with a ';'"
     ]
    },
    {
     "cell_type": "markdown",
     "metadata": {
      "slideshow": {
       "slide_type": "subslide"
      }
     },
     "source": [
      "- We will be used a database based on Stats Club, supplied with fake data:\n",
      "<center>\n",
      "![alt text](Images/StatClubTables.png)\n",
      "</center>"
     ]
    },
    {
     "cell_type": "heading",
     "level": 2,
     "metadata": {
      "slideshow": {
       "slide_type": "slide"
      }
     },
     "source": [
      "Data Types"
     ]
    },
    {
     "cell_type": "markdown",
     "metadata": {},
     "source": [
      "In SQLite3, there are 5 basic data types:\n",
      "\n",
      "1. __INTEGER__ The value is a signed integer.\n",
      "\n",
      "2. __REAL__ The value is a floating point value, stored as an 8-byte IEEE floating point number.\n",
      "\n",
      "3. __TEXT__ The value is a text string.\n",
      "\n",
      "4. __BLOB__ The value is a blob of data, stored exactly as it was input.\n",
      "\n",
      "5. __NUMERIC__ May contain integer or real values. The data is stored as text but converted as necessary."
     ]
    },
    {
     "cell_type": "heading",
     "level": 3,
     "metadata": {
      "slideshow": {
       "slide_type": "subslide"
      }
     },
     "source": [
      "SQL General Data Types"
     ]
    },
    {
     "cell_type": "markdown",
     "metadata": {
      "slideshow": {
       "slide_type": "-"
      }
     },
     "source": [
      "- Different implementations of SQL uses different datatypes but there are some [general commonalities](http://www.w3schools.com/sql/sql_datatypes_general.asp):"
     ]
    },
    {
     "cell_type": "markdown",
     "metadata": {
      "slideshow": {
       "slide_type": "fragment"
      }
     },
     "source": [
      "| Data type | Description |\n",
      "|-----------|-------------|\n",
      "| CHAR(n) | Character string. Fixed length n |\n",
      "| VARCHAR(n) | Character string.  Variable length <= n |\n",
      "| BINARY(n) | Binary string. Fixed length n |\n",
      "| BOOLEAN | TRUE or FALSE values |\n",
      "| VARBINARY(n) | Binary string. Variable length <= n |\n",
      "| INTEGER(p) | Integer numerical (no decimal). Precision p |\n",
      "| SMALLINT | Integer numerical (no decimal). Precision 5 |\n",
      "| INTEGER | Integer numerical (no decimal). Precision 10 |\n",
      "| BIGINT | Integer numerical (no decimal). Precision 19 |\n",
      "| DECIMAL(p,s) | Exact numerical. precision p, scale s |"
     ]
    },
    {
     "cell_type": "markdown",
     "metadata": {
      "slideshow": {
       "slide_type": "subslide"
      }
     },
     "source": [
      "| Data type | Description |\n",
      "|-----------|-------------|\n",
      "| NUMERIC(p,s) | Exact numerical. precision p, scale s |\n",
      "| FLOAT(p) | Floating point number. mantissa precision p |\n",
      "| REAL | Approximate numerical. Mantissa percision 7 |\n",
      "| FLOAT | Approximate numerical. Mantissa percision 16 |\n",
      "| DATE | Stores year, month, and day values |\n",
      "| TIME | Stores hour, minute, and second values |\n",
      "| TIMESTAMP | Stores year, month, day, hour, minute, and second values |"
     ]
    },
    {
     "cell_type": "heading",
     "level": 3,
     "metadata": {
      "slideshow": {
       "slide_type": "subslide"
      }
     },
     "source": [
      "NULL Values"
     ]
    },
    {
     "cell_type": "markdown",
     "metadata": {},
     "source": [
      "__NULL__ A NULL can be thought of as an unknown value.\n",
      "- Any datatype can have NULL values"
     ]
    },
    {
     "cell_type": "markdown",
     "metadata": {
      "slideshow": {
       "slide_type": "fragment"
      }
     },
     "source": [
      "- if either x or y is NULL:\n",
      "$$x+y\\implies\\mbox{NULL}$$\n",
      "$$x>y\\implies\\mbox{NULL}$$"
     ]
    },
    {
     "cell_type": "markdown",
     "metadata": {
      "slideshow": {
       "slide_type": "subslide"
      }
     },
     "source": [
      "SQL uses a three-value logic system: TRUE, FALSE, NULL:  \n",
      "\n",
      "| AND | TRUE | FALSE | NULL |\n",
      "|-----|------|-------|------|\n",
      "| TRUE | T | F | NULL | \n",
      "| FALSE | F | F | F | \n",
      "| NULL | NULL | F | NULL |   "
     ]
    },
    {
     "cell_type": "markdown",
     "metadata": {
      "slideshow": {
       "slide_type": "fragment"
      }
     },
     "source": [
      "| OR | TRUE | FALSE | NULL |\n",
      "|-----|------|-------|------|\n",
      "| TRUE | T | T | T | \n",
      "| FALSE | T | F | NULL | \n",
      "| NULL | T | NULL | NULL |"
     ]
    },
    {
     "cell_type": "markdown",
     "metadata": {
      "slideshow": {
       "slide_type": "fragment"
      }
     },
     "source": [
      "| NOT | TRUE | FALSE | NULL |\n",
      "|-----|------|-------|------|\n",
      "|  | F | T | NULL | "
     ]
    },
    {
     "cell_type": "heading",
     "level": 2,
     "metadata": {
      "slideshow": {
       "slide_type": "slide"
      }
     },
     "source": [
      "Projection (SELECT Clause)"
     ]
    },
    {
     "cell_type": "markdown",
     "metadata": {},
     "source": [
      "__SELECT Statement:__ The SELECT statement returns a table of values (sometimes empty) as specified in the statement.  \n",
      "\n",
      "__SELECT Clause:__ The SELECT clause of a SELECT statement specifies the columns for the result set.\n",
      "```\n",
      "SELECT col1, col2, ...\n",
      "FROM table_name;\n",
      "```"
     ]
    },
    {
     "cell_type": "markdown",
     "metadata": {
      "slideshow": {
       "slide_type": "fragment"
      }
     },
     "source": [
      "- We can also specify all columns from a table  \n",
      "\n",
      "```\n",
      "SELECT *\n",
      "FROM table_name;\n",
      "```"
     ]
    },
    {
     "cell_type": "markdown",
     "metadata": {
      "slideshow": {
       "slide_type": "fragment"
      }
     },
     "source": [
      "- If we leave out '`FROM table`' we are effectively taking from an empty table"
     ]
    },
    {
     "cell_type": "markdown",
     "metadata": {
      "slideshow": {
       "slide_type": "subslide"
      }
     },
     "source": [
      "In SELECT clauses, we can specify more than just columns from a table:  \n",
      "__Literials:__ Strings, numbers that are repeated for every row  \n",
      "__Expressions:__ Expressions of columns/literals  \n",
      "__Functions:__ Built in functions in SQL (ROUND(), etc.)  \n",
      "__User\u00a0Defined\u00a0Functions:__ Functions that a user can create within SQL to run"
     ]
    },
    {
     "cell_type": "markdown",
     "metadata": {
      "slideshow": {
       "slide_type": "fragment"
      }
     },
     "source": [
      "__Example:__ Let's try something simple: some literials and a calculation of `1 / 2`"
     ]
    },
    {
     "cell_type": "markdown",
     "metadata": {
      "slideshow": {
       "slide_type": "fragment"
      }
     },
     "source": [
      "```\n",
      "SELECT 1, 2, 'this is a string', 1/2;\n",
      "```"
     ]
    },
    {
     "cell_type": "code",
     "collapsed": false,
     "input": [
      "import pandas as pd\n",
      "import sqlite3 as sql\n",
      "con = sql.connect('stats_club.db')"
     ],
     "language": "python",
     "metadata": {
      "slideshow": {
       "slide_type": "skip"
      }
     },
     "outputs": [],
     "prompt_number": 34
    },
    {
     "cell_type": "code",
     "collapsed": false,
     "input": [
      "pd.read_sql_query(\n",
      "\"SELECT 1, 2, 'this is a string', 1/2\", con)"
     ],
     "language": "python",
     "metadata": {
      "slideshow": {
       "slide_type": "fragment"
      }
     },
     "outputs": [
      {
       "html": [
        "<div style=\"max-height:1000px;max-width:1500px;overflow:auto;\">\n",
        "<table border=\"1\" class=\"dataframe\">\n",
        "  <thead>\n",
        "    <tr style=\"text-align: right;\">\n",
        "      <th></th>\n",
        "      <th>1</th>\n",
        "      <th>2</th>\n",
        "      <th>'this is a string'</th>\n",
        "      <th>1/2</th>\n",
        "    </tr>\n",
        "  </thead>\n",
        "  <tbody>\n",
        "    <tr>\n",
        "      <th>0</th>\n",
        "      <td> 1</td>\n",
        "      <td> 2</td>\n",
        "      <td> this is a string</td>\n",
        "      <td> 0</td>\n",
        "    </tr>\n",
        "  </tbody>\n",
        "</table>\n",
        "</div>"
       ],
       "metadata": {},
       "output_type": "pyout",
       "prompt_number": 35,
       "text": [
        "   1  2 'this is a string'  1/2\n",
        "0  1  2   this is a string    0"
       ]
      }
     ],
     "prompt_number": 35
    },
    {
     "cell_type": "markdown",
     "metadata": {
      "slideshow": {
       "slide_type": "notes"
      }
     },
     "source": [
      "__Q:__ What happened here?  \n",
      "\n",
      "__A:__ Since 1 and 2 are both integers, the expression 1/2 returns an integer. To get 0.5, we need to use a real number (a FLOAT)."
     ]
    },
    {
     "cell_type": "markdown",
     "metadata": {
      "slideshow": {
       "slide_type": "fragment"
      }
     },
     "source": [
      "```\n",
      "SELECT 1, 2, 'this is a string', 1/2, 4/2, 5/2, 1/2., 1./2,\n",
      "  1/CAST(2 AS FLOAT);\n",
      "```"
     ]
    },
    {
     "cell_type": "code",
     "collapsed": false,
     "input": [
      "pd.read_sql_query(\n",
      "\"SELECT 1, 2, 'this is a string', 1/2, 4/2, 5/2, 1/2., 1./2, 1/CAST(2 AS FLOAT)\", con)"
     ],
     "language": "python",
     "metadata": {
      "slideshow": {
       "slide_type": "fragment"
      }
     },
     "outputs": [
      {
       "html": [
        "<div style=\"max-height:1000px;max-width:1500px;overflow:auto;\">\n",
        "<table border=\"1\" class=\"dataframe\">\n",
        "  <thead>\n",
        "    <tr style=\"text-align: right;\">\n",
        "      <th></th>\n",
        "      <th>1</th>\n",
        "      <th>2</th>\n",
        "      <th>'this is a string'</th>\n",
        "      <th>1/2</th>\n",
        "      <th>4/2</th>\n",
        "      <th>5/2</th>\n",
        "      <th>1/2.</th>\n",
        "      <th>1./2</th>\n",
        "      <th>1/CAST(2 AS FLOAT)</th>\n",
        "    </tr>\n",
        "  </thead>\n",
        "  <tbody>\n",
        "    <tr>\n",
        "      <th>0</th>\n",
        "      <td> 1</td>\n",
        "      <td> 2</td>\n",
        "      <td> this is a string</td>\n",
        "      <td> 0</td>\n",
        "      <td> 2</td>\n",
        "      <td> 2</td>\n",
        "      <td> 0.5</td>\n",
        "      <td> 0.5</td>\n",
        "      <td> 0.5</td>\n",
        "    </tr>\n",
        "  </tbody>\n",
        "</table>\n",
        "</div>"
       ],
       "metadata": {},
       "output_type": "pyout",
       "prompt_number": 36,
       "text": [
        "   1  2 'this is a string'  1/2  4/2  5/2  1/2.  1./2  1/CAST(2 AS FLOAT)\n",
        "0  1  2   this is a string    0    2    2   0.5   0.5                 0.5"
       ]
      }
     ],
     "prompt_number": 36
    },
    {
     "cell_type": "markdown",
     "metadata": {
      "slideshow": {
       "slide_type": "subslide"
      }
     },
     "source": [
      "SQL statements ignore white spaces and new lines, the statement is only processed when after it sees ';'"
     ]
    },
    {
     "cell_type": "markdown",
     "metadata": {
      "slideshow": {
       "slide_type": "fragment"
      }
     },
     "source": [
      "__Example:__ The following two statements produce the same table."
     ]
    },
    {
     "cell_type": "markdown",
     "metadata": {
      "slideshow": {
       "slide_type": "fragment"
      }
     },
     "source": [
      "```\n",
      "SELECT 1, 2, 'this is a string', 1/2;\n",
      "```"
     ]
    },
    {
     "cell_type": "code",
     "collapsed": false,
     "input": [
      "pd.read_sql_query(\n",
      "\"SELECT 1, 2, 'this is a string', 1/2\", con)"
     ],
     "language": "python",
     "metadata": {
      "slideshow": {
       "slide_type": "fragment"
      }
     },
     "outputs": [
      {
       "html": [
        "<div style=\"max-height:1000px;max-width:1500px;overflow:auto;\">\n",
        "<table border=\"1\" class=\"dataframe\">\n",
        "  <thead>\n",
        "    <tr style=\"text-align: right;\">\n",
        "      <th></th>\n",
        "      <th>1</th>\n",
        "      <th>2</th>\n",
        "      <th>'this is a string'</th>\n",
        "      <th>1/2</th>\n",
        "    </tr>\n",
        "  </thead>\n",
        "  <tbody>\n",
        "    <tr>\n",
        "      <th>0</th>\n",
        "      <td> 1</td>\n",
        "      <td> 2</td>\n",
        "      <td> this is a string</td>\n",
        "      <td> 0</td>\n",
        "    </tr>\n",
        "  </tbody>\n",
        "</table>\n",
        "</div>"
       ],
       "metadata": {},
       "output_type": "pyout",
       "prompt_number": 37,
       "text": [
        "   1  2 'this is a string'  1/2\n",
        "0  1  2   this is a string    0"
       ]
      }
     ],
     "prompt_number": 37
    },
    {
     "cell_type": "markdown",
     "metadata": {
      "slideshow": {
       "slide_type": "fragment"
      }
     },
     "source": [
      "```\n",
      "SELECT 1, \n",
      "2, \n",
      "             'this is a string',   1/2;\n",
      "```"
     ]
    },
    {
     "cell_type": "code",
     "collapsed": false,
     "input": [
      "pd.read_sql_query(\n",
      "\"SELECT 1, \\\n",
      "2, \\\n",
      "             'this is a string',   1/2\", con)"
     ],
     "language": "python",
     "metadata": {
      "slideshow": {
       "slide_type": "fragment"
      }
     },
     "outputs": [
      {
       "html": [
        "<div style=\"max-height:1000px;max-width:1500px;overflow:auto;\">\n",
        "<table border=\"1\" class=\"dataframe\">\n",
        "  <thead>\n",
        "    <tr style=\"text-align: right;\">\n",
        "      <th></th>\n",
        "      <th>1</th>\n",
        "      <th>2</th>\n",
        "      <th>'this is a string'</th>\n",
        "      <th>1/2</th>\n",
        "    </tr>\n",
        "  </thead>\n",
        "  <tbody>\n",
        "    <tr>\n",
        "      <th>0</th>\n",
        "      <td> 1</td>\n",
        "      <td> 2</td>\n",
        "      <td> this is a string</td>\n",
        "      <td> 0</td>\n",
        "    </tr>\n",
        "  </tbody>\n",
        "</table>\n",
        "</div>"
       ],
       "metadata": {},
       "output_type": "pyout",
       "prompt_number": 38,
       "text": [
        "   1  2 'this is a string'  1/2\n",
        "0  1  2   this is a string    0"
       ]
      }
     ],
     "prompt_number": 38
    },
    {
     "cell_type": "heading",
     "level": 3,
     "metadata": {
      "slideshow": {
       "slide_type": "subslide"
      }
     },
     "source": [
      "SQL Functions"
     ]
    },
    {
     "cell_type": "markdown",
     "metadata": {},
     "source": [
      "There are many functions in SQLite and each implementation of SQL have different functions. Here are some random functions in SQLite:  \n",
      "\n",
      "| Function | Description |\n",
      "|----------|-------------|\n",
      "| __ABS(col)__ | Absolute value of numeric column |\n",
      "| __LENGTH(col)__ | Return length of string column |\n",
      "| __LOWER(col)__ | Return the string column in lower case |\n",
      "| __UPPER(col)__ | Return the string column in upper case |\n",
      "| __RANDOM()__ |\tA pseudo-random integer between -9223372036854775808 and +9223372036854775807 |"
     ]
    },
    {
     "cell_type": "markdown",
     "metadata": {
      "slideshow": {
       "slide_type": "fragment"
      }
     },
     "source": [
      "```\n",
      "SELECT ABS(-8), LENGTH('This is a String'), LOWER('ThIS Is A StRiNg'),\n",
      "  RANDOM();\n",
      "```"
     ]
    },
    {
     "cell_type": "code",
     "collapsed": false,
     "input": [
      "pd.read_sql_query(\n",
      "\"SELECT ABS(-8), LENGTH('This is a String'), LOWER('ThIS Is A StRiNg'), RANDOM()\", con)"
     ],
     "language": "python",
     "metadata": {
      "slideshow": {
       "slide_type": "fragment"
      }
     },
     "outputs": [
      {
       "html": [
        "<div style=\"max-height:1000px;max-width:1500px;overflow:auto;\">\n",
        "<table border=\"1\" class=\"dataframe\">\n",
        "  <thead>\n",
        "    <tr style=\"text-align: right;\">\n",
        "      <th></th>\n",
        "      <th>ABS(-8)</th>\n",
        "      <th>LENGTH('This is a String')</th>\n",
        "      <th>LOWER('ThIS Is A StRiNg')</th>\n",
        "      <th>RANDOM()</th>\n",
        "    </tr>\n",
        "  </thead>\n",
        "  <tbody>\n",
        "    <tr>\n",
        "      <th>0</th>\n",
        "      <td> 8</td>\n",
        "      <td> 16</td>\n",
        "      <td> this is a string</td>\n",
        "      <td> 7748998019887413662</td>\n",
        "    </tr>\n",
        "  </tbody>\n",
        "</table>\n",
        "</div>"
       ],
       "metadata": {},
       "output_type": "pyout",
       "prompt_number": 39,
       "text": [
        "   ABS(-8)  LENGTH('This is a String') LOWER('ThIS Is A StRiNg')  \\\n",
        "0        8                          16          this is a string   \n",
        "\n",
        "              RANDOM()  \n",
        "0  7748998019887413662  "
       ]
      }
     ],
     "prompt_number": 39
    },
    {
     "cell_type": "markdown",
     "metadata": {
      "slideshow": {
       "slide_type": "subslide"
      }
     },
     "source": [
      "There are many more [core functions](http://www.sqlite.org/lang_corefunc.html) within SQLite."
     ]
    },
    {
     "cell_type": "code",
     "collapsed": false,
     "input": [
      "from IPython.display import HTML\n",
      "HTML('<iframe src=http://www.sqlite.org/lang_corefunc.html width=1000 height=600></iframe>')"
     ],
     "language": "python",
     "metadata": {
      "slideshow": {
       "slide_type": "fragment"
      }
     },
     "outputs": [
      {
       "html": [
        "<iframe src=http://www.sqlite.org/lang_corefunc.html width=1000 height=600></iframe>"
       ],
       "metadata": {},
       "output_type": "pyout",
       "prompt_number": 40,
       "text": [
        "<IPython.core.display.HTML at 0x105f6d7d0>"
       ]
      }
     ],
     "prompt_number": 40
    },
    {
     "cell_type": "heading",
     "level": 3,
     "metadata": {
      "slideshow": {
       "slide_type": "subslide"
      }
     },
     "source": [
      "Quiz: SELECT Clause"
     ]
    },
    {
     "cell_type": "markdown",
     "metadata": {},
     "source": [
      "Calculate the average of 2 random numbers."
     ]
    },
    {
     "cell_type": "markdown",
     "metadata": {
      "slideshow": {
       "slide_type": "fragment"
      }
     },
     "source": [
      "```\n",
      "SELECT (RANDOM() + RANDOM())/2.;\n",
      "```"
     ]
    },
    {
     "cell_type": "code",
     "collapsed": false,
     "input": [
      "pd.read_sql_query(\n",
      "\"SELECT (RANDOM() + RANDOM())/2.\", con)"
     ],
     "language": "python",
     "metadata": {
      "slideshow": {
       "slide_type": "fragment"
      }
     },
     "outputs": [
      {
       "html": [
        "<div style=\"max-height:1000px;max-width:1500px;overflow:auto;\">\n",
        "<table border=\"1\" class=\"dataframe\">\n",
        "  <thead>\n",
        "    <tr style=\"text-align: right;\">\n",
        "      <th></th>\n",
        "      <th>(RANDOM() + RANDOM())/2.</th>\n",
        "    </tr>\n",
        "  </thead>\n",
        "  <tbody>\n",
        "    <tr>\n",
        "      <th>0</th>\n",
        "      <td>-5.422052e+18</td>\n",
        "    </tr>\n",
        "  </tbody>\n",
        "</table>\n",
        "</div>"
       ],
       "metadata": {},
       "output_type": "pyout",
       "prompt_number": 41,
       "text": [
        "   (RANDOM() + RANDOM())/2.\n",
        "0             -5.422052e+18"
       ]
      }
     ],
     "prompt_number": 41
    },
    {
     "cell_type": "markdown",
     "metadata": {},
     "source": [
      "__Q:__ What is the upper and lower case for the string __'UPPER or lower'__?"
     ]
    },
    {
     "cell_type": "markdown",
     "metadata": {
      "slideshow": {
       "slide_type": "fragment"
      }
     },
     "source": [
      "```\n",
      "SELECT UPPER('UPPER or lower'), LOWER('UPPER or lower')\n",
      "```"
     ]
    },
    {
     "cell_type": "code",
     "collapsed": false,
     "input": [
      "pd.read_sql_query(\n",
      "\"SELECT UPPER('UPPER or lower'), LOWER('UPPER or lower')\", con)"
     ],
     "language": "python",
     "metadata": {
      "slideshow": {
       "slide_type": "fragment"
      }
     },
     "outputs": [
      {
       "html": [
        "<div style=\"max-height:1000px;max-width:1500px;overflow:auto;\">\n",
        "<table border=\"1\" class=\"dataframe\">\n",
        "  <thead>\n",
        "    <tr style=\"text-align: right;\">\n",
        "      <th></th>\n",
        "      <th>UPPER('UPPER or lower')</th>\n",
        "      <th>LOWER('UPPER or lower')</th>\n",
        "    </tr>\n",
        "  </thead>\n",
        "  <tbody>\n",
        "    <tr>\n",
        "      <th>0</th>\n",
        "      <td> UPPER OR LOWER</td>\n",
        "      <td> upper or lower</td>\n",
        "    </tr>\n",
        "  </tbody>\n",
        "</table>\n",
        "</div>"
       ],
       "metadata": {},
       "output_type": "pyout",
       "prompt_number": 42,
       "text": [
        "  UPPER('UPPER or lower') LOWER('UPPER or lower')\n",
        "0          UPPER OR LOWER          upper or lower"
       ]
      }
     ],
     "prompt_number": 42
    },
    {
     "cell_type": "heading",
     "level": 2,
     "metadata": {
      "slideshow": {
       "slide_type": "slide"
      }
     },
     "source": [
      "FROM Clause"
     ]
    },
    {
     "cell_type": "markdown",
     "metadata": {},
     "source": [
      "__FROM Clause:__ Specifies the table: either a persistant table, or a result set: a join of two or more tables or a subquery or some combination of the two. \n",
      "```\n",
      "SELECT col1, col2, ...\n",
      "FROM table_name;\n",
      "```"
     ]
    },
    {
     "cell_type": "markdown",
     "metadata": {
      "slideshow": {
       "slide_type": "subslide"
      }
     },
     "source": [
      "__Example:__ What are the names, type, times and locations for Stats Club?"
     ]
    },
    {
     "cell_type": "markdown",
     "metadata": {
      "slideshow": {
       "slide_type": "fragment"
      }
     },
     "source": [
      "```\n",
      "SELECT name, type, start_time, end_time, location \n",
      "FROM event;\n",
      "```"
     ]
    },
    {
     "cell_type": "code",
     "collapsed": false,
     "input": [
      "pd.read_sql_query(\n",
      "\"SELECT name, type, start_time, end_time, location \\\n",
      "FROM event\", con)"
     ],
     "language": "python",
     "metadata": {
      "slideshow": {
       "slide_type": "fragment"
      }
     },
     "outputs": [
      {
       "html": [
        "<div style=\"max-height:1000px;max-width:1500px;overflow:auto;\">\n",
        "<table border=\"1\" class=\"dataframe\">\n",
        "  <thead>\n",
        "    <tr style=\"text-align: right;\">\n",
        "      <th></th>\n",
        "      <th>name</th>\n",
        "      <th>type</th>\n",
        "      <th>start_time</th>\n",
        "      <th>end_time</th>\n",
        "      <th>location</th>\n",
        "    </tr>\n",
        "  </thead>\n",
        "  <tbody>\n",
        "    <tr>\n",
        "      <th>0</th>\n",
        "      <td>                            BOT</td>\n",
        "      <td>      social</td>\n",
        "      <td> 2015-01-28 19:00:00</td>\n",
        "      <td> 2015-01-28 22:00:00</td>\n",
        "      <td>   C &amp; D</td>\n",
        "    </tr>\n",
        "    <tr>\n",
        "      <th>1</th>\n",
        "      <td>                            EOT</td>\n",
        "      <td>      social</td>\n",
        "      <td>                None</td>\n",
        "      <td>                None</td>\n",
        "      <td>    None</td>\n",
        "    </tr>\n",
        "    <tr>\n",
        "      <th>2</th>\n",
        "      <td>                Intro to Hadoop</td>\n",
        "      <td> educational</td>\n",
        "      <td>                None</td>\n",
        "      <td>                None</td>\n",
        "      <td>    None</td>\n",
        "    </tr>\n",
        "    <tr>\n",
        "      <th>3</th>\n",
        "      <td>                   Intro to SQL</td>\n",
        "      <td> educational</td>\n",
        "      <td> 2015-02-05 18:00:00</td>\n",
        "      <td> 2015-02-05 19:30:00</td>\n",
        "      <td> MC-3003</td>\n",
        "    </tr>\n",
        "    <tr>\n",
        "      <th>4</th>\n",
        "      <td>                      Prof Talk</td>\n",
        "      <td> educational</td>\n",
        "      <td> 2015-03-03 15:00:00</td>\n",
        "      <td> 2015-03-03 16:00:00</td>\n",
        "      <td> M3-2134</td>\n",
        "    </tr>\n",
        "    <tr>\n",
        "      <th>5</th>\n",
        "      <td>                    Prof Talk 2</td>\n",
        "      <td> educational</td>\n",
        "      <td>                None</td>\n",
        "      <td>                None</td>\n",
        "      <td>    None</td>\n",
        "    </tr>\n",
        "    <tr>\n",
        "      <th>6</th>\n",
        "      <td>                    Prof Talk 3</td>\n",
        "      <td> educational</td>\n",
        "      <td>                None</td>\n",
        "      <td>                None</td>\n",
        "      <td>    None</td>\n",
        "    </tr>\n",
        "    <tr>\n",
        "      <th>7</th>\n",
        "      <td>    Intro to SQL: Basic Queries</td>\n",
        "      <td> educational</td>\n",
        "      <td> 2015-03-09 18:00:00</td>\n",
        "      <td> 2015-03-09 19:30:00</td>\n",
        "      <td> MC-3003</td>\n",
        "    </tr>\n",
        "    <tr>\n",
        "      <th>8</th>\n",
        "      <td> Intro to SQL: Advanced Queries</td>\n",
        "      <td> educational</td>\n",
        "      <td> 2015-03-12 18:00:00</td>\n",
        "      <td> 2015-03-12 19:30:00</td>\n",
        "      <td> MC-3003</td>\n",
        "    </tr>\n",
        "  </tbody>\n",
        "</table>\n",
        "</div>"
       ],
       "metadata": {},
       "output_type": "pyout",
       "prompt_number": 43,
       "text": [
        "                             name         type           start_time  \\\n",
        "0                             BOT       social  2015-01-28 19:00:00   \n",
        "1                             EOT       social                 None   \n",
        "2                 Intro to Hadoop  educational                 None   \n",
        "3                    Intro to SQL  educational  2015-02-05 18:00:00   \n",
        "4                       Prof Talk  educational  2015-03-03 15:00:00   \n",
        "5                     Prof Talk 2  educational                 None   \n",
        "6                     Prof Talk 3  educational                 None   \n",
        "7     Intro to SQL: Basic Queries  educational  2015-03-09 18:00:00   \n",
        "8  Intro to SQL: Advanced Queries  educational  2015-03-12 18:00:00   \n",
        "\n",
        "              end_time location  \n",
        "0  2015-01-28 22:00:00    C & D  \n",
        "1                 None     None  \n",
        "2                 None     None  \n",
        "3  2015-02-05 19:30:00  MC-3003  \n",
        "4  2015-03-03 16:00:00  M3-2134  \n",
        "5                 None     None  \n",
        "6                 None     None  \n",
        "7  2015-03-09 19:30:00  MC-3003  \n",
        "8  2015-03-12 19:30:00  MC-3003  "
       ]
      }
     ],
     "prompt_number": 43
    },
    {
     "cell_type": "heading",
     "level": 3,
     "metadata": {
      "slideshow": {
       "slide_type": "subslide"
      }
     },
     "source": [
      "Quiz: FROM Clause"
     ]
    },
    {
     "cell_type": "markdown",
     "metadata": {},
     "source": [
      "__Q:__ Who are the execs for Stats Club, and what are their positions, and emails?\n",
      "- Projection of name, position, and email from the table exec"
     ]
    },
    {
     "cell_type": "markdown",
     "metadata": {
      "slideshow": {
       "slide_type": "fragment"
      }
     },
     "source": [
      "```\n",
      "SELECT name, position, email \n",
      "FROM exec;\n",
      "```"
     ]
    },
    {
     "cell_type": "code",
     "collapsed": false,
     "input": [
      "pd.read_sql_query(\n",
      "\"SELECT name, position, email \\\n",
      "FROM exec\", con)"
     ],
     "language": "python",
     "metadata": {
      "slideshow": {
       "slide_type": "fragment"
      }
     },
     "outputs": [
      {
       "html": [
        "<div style=\"max-height:1000px;max-width:1500px;overflow:auto;\">\n",
        "<table border=\"1\" class=\"dataframe\">\n",
        "  <thead>\n",
        "    <tr style=\"text-align: right;\">\n",
        "      <th></th>\n",
        "      <th>name</th>\n",
        "      <th>position</th>\n",
        "      <th>email</th>\n",
        "    </tr>\n",
        "  </thead>\n",
        "  <tbody>\n",
        "    <tr>\n",
        "      <th>0</th>\n",
        "      <td>    Darrell Aucoin</td>\n",
        "      <td>     President</td>\n",
        "      <td> darrell.aucoin@gmail.com</td>\n",
        "    </tr>\n",
        "    <tr>\n",
        "      <th>1</th>\n",
        "      <td> Judith B. Gibbons</td>\n",
        "      <td>        Events</td>\n",
        "      <td>      judith@uwaterloo.ca</td>\n",
        "    </tr>\n",
        "    <tr>\n",
        "      <th>2</th>\n",
        "      <td>         Lamar Roy</td>\n",
        "      <td>       Finance</td>\n",
        "      <td>       lamar@uwaterloo.ca</td>\n",
        "    </tr>\n",
        "    <tr>\n",
        "      <th>3</th>\n",
        "      <td>    Gilberto Cross</td>\n",
        "      <td>        Events</td>\n",
        "      <td>    gilberto@uwaterloo.ca</td>\n",
        "    </tr>\n",
        "    <tr>\n",
        "      <th>4</th>\n",
        "      <td>        Melba Lane</td>\n",
        "      <td>     President</td>\n",
        "      <td>       melba@uwaterloo.ca</td>\n",
        "    </tr>\n",
        "    <tr>\n",
        "      <th>5</th>\n",
        "      <td>        Ruben Lamb</td>\n",
        "      <td>    Technology</td>\n",
        "      <td>       ruben@uwaterloo.ca</td>\n",
        "    </tr>\n",
        "    <tr>\n",
        "      <th>6</th>\n",
        "      <td>      Hannah Mason</td>\n",
        "      <td> SeniorAdvisor</td>\n",
        "      <td>      hannah@uwaterloo.ca</td>\n",
        "    </tr>\n",
        "    <tr>\n",
        "      <th>7</th>\n",
        "      <td> Patrick Robertson</td>\n",
        "      <td>        Events</td>\n",
        "      <td>     patrick@uwaterloo.ca</td>\n",
        "    </tr>\n",
        "    <tr>\n",
        "      <th>8</th>\n",
        "      <td>     Dominick Byrd</td>\n",
        "      <td>        Events</td>\n",
        "      <td>    dominick@uwaterloo.ca</td>\n",
        "    </tr>\n",
        "  </tbody>\n",
        "</table>\n",
        "</div>"
       ],
       "metadata": {},
       "output_type": "pyout",
       "prompt_number": 44,
       "text": [
        "                name       position                     email\n",
        "0     Darrell Aucoin      President  darrell.aucoin@gmail.com\n",
        "1  Judith B. Gibbons         Events       judith@uwaterloo.ca\n",
        "2          Lamar Roy        Finance        lamar@uwaterloo.ca\n",
        "3     Gilberto Cross         Events     gilberto@uwaterloo.ca\n",
        "4         Melba Lane      President        melba@uwaterloo.ca\n",
        "5         Ruben Lamb     Technology        ruben@uwaterloo.ca\n",
        "6       Hannah Mason  SeniorAdvisor       hannah@uwaterloo.ca\n",
        "7  Patrick Robertson         Events      patrick@uwaterloo.ca\n",
        "8      Dominick Byrd         Events     dominick@uwaterloo.ca"
       ]
      }
     ],
     "prompt_number": 44
    },
    {
     "cell_type": "heading",
     "level": 2,
     "metadata": {
      "slideshow": {
       "slide_type": "slide"
      }
     },
     "source": [
      "Aggregate Functions"
     ]
    },
    {
     "cell_type": "markdown",
     "metadata": {},
     "source": [
      "__Aggregate Functions:__ Takes in the columns of a table and aggregates over the entries. \n",
      "\n",
      "| Function | Return value |\n",
      "|----------|--------------|\n",
      "| AVG(column) | Average of non-null values |\n",
      "| COUNT(column) | Count of non-null values |\n",
      "| MAX(column) | Maximum of values |\n",
      "| MIN(column) | Minimum of values |\n",
      "| SUM(column) | Sum of values |\n",
      "| GROUP_CONCAT(column) | Concatenation of column strings |\n",
      "\n",
      "- There are more aggregate functions for other implementations of SQL"
     ]
    },
    {
     "cell_type": "markdown",
     "metadata": {
      "slideshow": {
       "slide_type": "notes"
      }
     },
     "source": [
      "More detailed descriptions of the aggregate functions within SQLite can be found [here](http://www.sqlite.org/lang_aggfunc.html)."
     ]
    },
    {
     "cell_type": "markdown",
     "metadata": {
      "slideshow": {
       "slide_type": "subslide"
      }
     },
     "source": [
      "```\n",
      "SELECT COUNT( 12 ), COUNT('ssdf'), COUNT(NULL), SUM(23), SUM(0), SUM(NULL), \n",
      "  AVG(0), AVG(NULL);\n",
      "```"
     ]
    },
    {
     "cell_type": "code",
     "collapsed": false,
     "input": [
      "pd.read_sql_query(\n",
      "\"SELECT COUNT( 12 ), COUNT('ssdf'), COUNT(NULL), SUM(23), SUM(0), SUM(NULL), AVG(0), AVG(NULL)\", con)"
     ],
     "language": "python",
     "metadata": {
      "slideshow": {
       "slide_type": "fragment"
      }
     },
     "outputs": [
      {
       "html": [
        "<div style=\"max-height:1000px;max-width:1500px;overflow:auto;\">\n",
        "<table border=\"1\" class=\"dataframe\">\n",
        "  <thead>\n",
        "    <tr style=\"text-align: right;\">\n",
        "      <th></th>\n",
        "      <th>COUNT( 12 )</th>\n",
        "      <th>COUNT('ssdf')</th>\n",
        "      <th>COUNT(NULL)</th>\n",
        "      <th>SUM(23)</th>\n",
        "      <th>SUM(0)</th>\n",
        "      <th>SUM(NULL)</th>\n",
        "      <th>AVG(0)</th>\n",
        "      <th>AVG(NULL)</th>\n",
        "    </tr>\n",
        "  </thead>\n",
        "  <tbody>\n",
        "    <tr>\n",
        "      <th>0</th>\n",
        "      <td> 1</td>\n",
        "      <td> 1</td>\n",
        "      <td> 0</td>\n",
        "      <td> 23</td>\n",
        "      <td> 0</td>\n",
        "      <td> None</td>\n",
        "      <td> 0</td>\n",
        "      <td> None</td>\n",
        "    </tr>\n",
        "  </tbody>\n",
        "</table>\n",
        "</div>"
       ],
       "metadata": {},
       "output_type": "pyout",
       "prompt_number": 45,
       "text": [
        "   COUNT( 12 )  COUNT('ssdf')  COUNT(NULL)  SUM(23)  SUM(0) SUM(NULL)  AVG(0)  \\\n",
        "0            1              1            0       23       0      None       0   \n",
        "\n",
        "  AVG(NULL)  \n",
        "0      None  "
       ]
      }
     ],
     "prompt_number": 45
    },
    {
     "cell_type": "markdown",
     "metadata": {
      "slideshow": {
       "slide_type": "subslide"
      }
     },
     "source": [
      "Lets work with some aggregate functions with the '`example`' table below:"
     ]
    },
    {
     "cell_type": "code",
     "collapsed": false,
     "input": [
      "pd.read_sql_query(\n",
      "\"SELECT * \\\n",
      "FROM example\", con)"
     ],
     "language": "python",
     "metadata": {
      "slideshow": {
       "slide_type": "-"
      }
     },
     "outputs": [
      {
       "html": [
        "<div style=\"max-height:1000px;max-width:1500px;overflow:auto;\">\n",
        "<table border=\"1\" class=\"dataframe\">\n",
        "  <thead>\n",
        "    <tr style=\"text-align: right;\">\n",
        "      <th></th>\n",
        "      <th>number</th>\n",
        "      <th>floating</th>\n",
        "      <th>string</th>\n",
        "    </tr>\n",
        "  </thead>\n",
        "  <tbody>\n",
        "    <tr>\n",
        "      <th>0</th>\n",
        "      <td>    1</td>\n",
        "      <td> 23.23</td>\n",
        "      <td>         this</td>\n",
        "    </tr>\n",
        "    <tr>\n",
        "      <th>1</th>\n",
        "      <td> 3232</td>\n",
        "      <td>-21.23</td>\n",
        "      <td>           is</td>\n",
        "    </tr>\n",
        "    <tr>\n",
        "      <th>2</th>\n",
        "      <td>   11</td>\n",
        "      <td> -2.00</td>\n",
        "      <td>            a</td>\n",
        "    </tr>\n",
        "    <tr>\n",
        "      <th>3</th>\n",
        "      <td>  -23</td>\n",
        "      <td> 54.00</td>\n",
        "      <td>       string</td>\n",
        "    </tr>\n",
        "    <tr>\n",
        "      <th>4</th>\n",
        "      <td>    2</td>\n",
        "      <td>   NaN</td>\n",
        "      <td> concatenated</td>\n",
        "    </tr>\n",
        "  </tbody>\n",
        "</table>\n",
        "</div>"
       ],
       "metadata": {},
       "output_type": "pyout",
       "prompt_number": 46,
       "text": [
        "   number  floating        string\n",
        "0       1     23.23          this\n",
        "1    3232    -21.23            is\n",
        "2      11     -2.00             a\n",
        "3     -23     54.00        string\n",
        "4       2       NaN  concatenated"
       ]
      }
     ],
     "prompt_number": 46
    },
    {
     "cell_type": "markdown",
     "metadata": {
      "slideshow": {
       "slide_type": "fragment"
      }
     },
     "source": [
      "```\n",
      "SELECT COUNT(*), COUNT(string), COUNT(floating), AVG(number), SUM(number), GROUP_CONCAT(string, ' ') \n",
      "FROM example;\n",
      "```"
     ]
    },
    {
     "cell_type": "code",
     "collapsed": false,
     "input": [
      "pd.read_sql_query(\n",
      "\"SELECT COUNT(*), COUNT(string), COUNT(floating), AVG(number), SUM(number), GROUP_CONCAT(string, ' ') \\\n",
      "FROM example\", con)"
     ],
     "language": "python",
     "metadata": {
      "slideshow": {
       "slide_type": "fragment"
      }
     },
     "outputs": [
      {
       "html": [
        "<div style=\"max-height:1000px;max-width:1500px;overflow:auto;\">\n",
        "<table border=\"1\" class=\"dataframe\">\n",
        "  <thead>\n",
        "    <tr style=\"text-align: right;\">\n",
        "      <th></th>\n",
        "      <th>COUNT(*)</th>\n",
        "      <th>COUNT(string)</th>\n",
        "      <th>COUNT(floating)</th>\n",
        "      <th>AVG(number)</th>\n",
        "      <th>SUM(number)</th>\n",
        "      <th>GROUP_CONCAT(string, ' ')</th>\n",
        "    </tr>\n",
        "  </thead>\n",
        "  <tbody>\n",
        "    <tr>\n",
        "      <th>0</th>\n",
        "      <td> 5</td>\n",
        "      <td> 5</td>\n",
        "      <td> 4</td>\n",
        "      <td> 644.6</td>\n",
        "      <td> 3223</td>\n",
        "      <td> this is a string concatenated</td>\n",
        "    </tr>\n",
        "  </tbody>\n",
        "</table>\n",
        "</div>"
       ],
       "metadata": {},
       "output_type": "pyout",
       "prompt_number": 47,
       "text": [
        "   COUNT(*)  COUNT(string)  COUNT(floating)  AVG(number)  SUM(number)  \\\n",
        "0         5              5                4        644.6         3223   \n",
        "\n",
        "       GROUP_CONCAT(string, ' ')  \n",
        "0  this is a string concatenated  "
       ]
      }
     ],
     "prompt_number": 47
    },
    {
     "cell_type": "heading",
     "level": 3,
     "metadata": {
      "slideshow": {
       "slide_type": "subslide"
      }
     },
     "source": [
      "DISTINCT Prefix"
     ]
    },
    {
     "cell_type": "markdown",
     "metadata": {},
     "source": [
      "In the SELECT clause we can specify to return only distinct tuples of columns\n",
      "```\n",
      "SELECT DISTINCT col1, col2, ...\n",
      "FROM table_name;\n",
      "```\n",
      "- We can also use DISTINCT within aggregate functions making them only aggregate over distinct entries\n",
      "```\n",
      "SELECT aggregate_function(DISTINCT column_name)\n",
      "FROM table_name;\n",
      "```"
     ]
    },
    {
     "cell_type": "markdown",
     "metadata": {
      "slideshow": {
       "slide_type": "subslide"
      }
     },
     "source": [
      "__Example:__ What events have members attended?\n",
      "- What are the distinct events where at least one member attended?"
     ]
    },
    {
     "cell_type": "markdown",
     "metadata": {
      "slideshow": {
       "slide_type": "fragment"
      }
     },
     "source": [
      "```\n",
      "SELECT DISTINCT event \n",
      "FROM attendance;\n",
      "```"
     ]
    },
    {
     "cell_type": "code",
     "collapsed": false,
     "input": [
      "pd.read_sql_query(\n",
      "\"SELECT DISTINCT event \\\n",
      "FROM attendance\", con)"
     ],
     "language": "python",
     "metadata": {
      "slideshow": {
       "slide_type": "fragment"
      }
     },
     "outputs": [
      {
       "html": [
        "<div style=\"max-height:1000px;max-width:1500px;overflow:auto;\">\n",
        "<table border=\"1\" class=\"dataframe\">\n",
        "  <thead>\n",
        "    <tr style=\"text-align: right;\">\n",
        "      <th></th>\n",
        "      <th>event</th>\n",
        "    </tr>\n",
        "  </thead>\n",
        "  <tbody>\n",
        "    <tr>\n",
        "      <th>0</th>\n",
        "      <td>                   Intro to SQL</td>\n",
        "    </tr>\n",
        "    <tr>\n",
        "      <th>1</th>\n",
        "      <td>                            BOT</td>\n",
        "    </tr>\n",
        "    <tr>\n",
        "      <th>2</th>\n",
        "      <td>                            EOT</td>\n",
        "    </tr>\n",
        "    <tr>\n",
        "      <th>3</th>\n",
        "      <td>                Intro to Hadoop</td>\n",
        "    </tr>\n",
        "    <tr>\n",
        "      <th>4</th>\n",
        "      <td>    Intro to SQL: Basic Queries</td>\n",
        "    </tr>\n",
        "    <tr>\n",
        "      <th>5</th>\n",
        "      <td>                      Prof Talk</td>\n",
        "    </tr>\n",
        "    <tr>\n",
        "      <th>6</th>\n",
        "      <td>                    Prof Talk 2</td>\n",
        "    </tr>\n",
        "    <tr>\n",
        "      <th>7</th>\n",
        "      <td> Intro to SQL: Advanced Queries</td>\n",
        "    </tr>\n",
        "  </tbody>\n",
        "</table>\n",
        "</div>"
       ],
       "metadata": {},
       "output_type": "pyout",
       "prompt_number": 48,
       "text": [
        "                            event\n",
        "0                    Intro to SQL\n",
        "1                             BOT\n",
        "2                             EOT\n",
        "3                 Intro to Hadoop\n",
        "4     Intro to SQL: Basic Queries\n",
        "5                       Prof Talk\n",
        "6                     Prof Talk 2\n",
        "7  Intro to SQL: Advanced Queries"
       ]
      }
     ],
     "prompt_number": 48
    },
    {
     "cell_type": "heading",
     "level": 3,
     "metadata": {
      "slideshow": {
       "slide_type": "subslide"
      }
     },
     "source": [
      "Quiz: DISTINCT"
     ]
    },
    {
     "cell_type": "markdown",
     "metadata": {},
     "source": [
      "__Q:__ What are the __distinct__ majors of Stats Club members?"
     ]
    },
    {
     "cell_type": "markdown",
     "metadata": {
      "slideshow": {
       "slide_type": "fragment"
      }
     },
     "source": [
      "```\n",
      "SELECT DISTINCT major \n",
      "FROM member;\n",
      "```"
     ]
    },
    {
     "cell_type": "code",
     "collapsed": false,
     "input": [
      "pd.read_sql_query(\n",
      "\"SELECT DISTINCT major \\\n",
      "FROM member\", con)"
     ],
     "language": "python",
     "metadata": {
      "slideshow": {
       "slide_type": "fragment"
      }
     },
     "outputs": [
      {
       "html": [
        "<div style=\"max-height:1000px;max-width:1500px;overflow:auto;\">\n",
        "<table border=\"1\" class=\"dataframe\">\n",
        "  <thead>\n",
        "    <tr style=\"text-align: right;\">\n",
        "      <th></th>\n",
        "      <th>major</th>\n",
        "    </tr>\n",
        "  </thead>\n",
        "  <tbody>\n",
        "    <tr>\n",
        "      <th>0</th>\n",
        "      <td>        Stats</td>\n",
        "    </tr>\n",
        "    <tr>\n",
        "      <th>1</th>\n",
        "      <td>    Pure Math</td>\n",
        "    </tr>\n",
        "    <tr>\n",
        "      <th>2</th>\n",
        "      <td>           CS</td>\n",
        "    </tr>\n",
        "    <tr>\n",
        "      <th>3</th>\n",
        "      <td> Applied Math</td>\n",
        "    </tr>\n",
        "    <tr>\n",
        "      <th>4</th>\n",
        "      <td>      Act Sci</td>\n",
        "    </tr>\n",
        "    <tr>\n",
        "      <th>5</th>\n",
        "      <td>        C &amp; O</td>\n",
        "    </tr>\n",
        "    <tr>\n",
        "      <th>6</th>\n",
        "      <td>         Econ</td>\n",
        "    </tr>\n",
        "  </tbody>\n",
        "</table>\n",
        "</div>"
       ],
       "metadata": {},
       "output_type": "pyout",
       "prompt_number": 49,
       "text": [
        "          major\n",
        "0         Stats\n",
        "1     Pure Math\n",
        "2            CS\n",
        "3  Applied Math\n",
        "4       Act Sci\n",
        "5         C & O\n",
        "6          Econ"
       ]
      }
     ],
     "prompt_number": 49
    },
    {
     "cell_type": "markdown",
     "metadata": {
      "slideshow": {
       "slide_type": "subslide"
      }
     },
     "source": [
      "__Q:__ How many __distinct__ majors of Stats Club members are there?"
     ]
    },
    {
     "cell_type": "markdown",
     "metadata": {
      "slideshow": {
       "slide_type": "notes"
      }
     },
     "source": [
      "- DISTINCT can be within aggregate functions"
     ]
    },
    {
     "cell_type": "markdown",
     "metadata": {
      "slideshow": {
       "slide_type": "fragment"
      }
     },
     "source": [
      "```\n",
      "SELECT COUNT(DISTINCT major) \n",
      "FROM member;\n",
      "```"
     ]
    },
    {
     "cell_type": "code",
     "collapsed": false,
     "input": [
      "pd.read_sql_query(\n",
      "\"SELECT COUNT(DISTINCT major) \\\n",
      "FROM member\", con)"
     ],
     "language": "python",
     "metadata": {
      "slideshow": {
       "slide_type": "fragment"
      }
     },
     "outputs": [
      {
       "html": [
        "<div style=\"max-height:1000px;max-width:1500px;overflow:auto;\">\n",
        "<table border=\"1\" class=\"dataframe\">\n",
        "  <thead>\n",
        "    <tr style=\"text-align: right;\">\n",
        "      <th></th>\n",
        "      <th>COUNT(DISTINCT major)</th>\n",
        "    </tr>\n",
        "  </thead>\n",
        "  <tbody>\n",
        "    <tr>\n",
        "      <th>0</th>\n",
        "      <td> 7</td>\n",
        "    </tr>\n",
        "  </tbody>\n",
        "</table>\n",
        "</div>"
       ],
       "metadata": {},
       "output_type": "pyout",
       "prompt_number": 50,
       "text": [
        "   COUNT(DISTINCT major)\n",
        "0                      7"
       ]
      }
     ],
     "prompt_number": 50
    },
    {
     "cell_type": "heading",
     "level": 3,
     "metadata": {
      "slideshow": {
       "slide_type": "subslide"
      }
     },
     "source": [
      "Alias"
     ]
    },
    {
     "cell_type": "heading",
     "level": 4,
     "metadata": {},
     "source": [
      "Column Alias"
     ]
    },
    {
     "cell_type": "markdown",
     "metadata": {},
     "source": [
      "To increase the readability of SQL as well as the result set, we can give columns new names:\n",
      "```\n",
      "SELECT col AS new_name\n",
      "FROM table_name;\n",
      "```\n",
      "- Column aliases make the final table more readiable and workiable for subqueries"
     ]
    },
    {
     "cell_type": "markdown",
     "metadata": {
      "slideshow": {
       "slide_type": "subslide"
      }
     },
     "source": [
      "__Example:__ If we give column aliases for the previous table, we make the result more interpretiable:"
     ]
    },
    {
     "cell_type": "markdown",
     "metadata": {
      "slideshow": {
       "slide_type": "fragment"
      }
     },
     "source": [
      "```\n",
      "SELECT COUNT(*) AS num_rows, COUNT(string) AS num_strings, \n",
      "  COUNT(floating) AS num_float, AVG(number) AS avg_integer, \n",
      "  SUM(number) AS sum_int, GROUP_CONCAT(string, ' ') AS cat_string \n",
      "FROM example;\n",
      "```"
     ]
    },
    {
     "cell_type": "code",
     "collapsed": false,
     "input": [
      "pd.read_sql_query(\n",
      "\"SELECT COUNT(*) AS num_rows, COUNT(string) AS num_strings, \\\n",
      "COUNT(floating) AS num_float, AVG(number) AS avg_integer, \\\n",
      "SUM(number) AS sum_int, GROUP_CONCAT(string, ' ') AS cat_string \\\n",
      "FROM example\", con)"
     ],
     "language": "python",
     "metadata": {
      "slideshow": {
       "slide_type": "fragment"
      }
     },
     "outputs": [
      {
       "html": [
        "<div style=\"max-height:1000px;max-width:1500px;overflow:auto;\">\n",
        "<table border=\"1\" class=\"dataframe\">\n",
        "  <thead>\n",
        "    <tr style=\"text-align: right;\">\n",
        "      <th></th>\n",
        "      <th>num_rows</th>\n",
        "      <th>num_strings</th>\n",
        "      <th>num_float</th>\n",
        "      <th>avg_integer</th>\n",
        "      <th>sum_int</th>\n",
        "      <th>cat_string</th>\n",
        "    </tr>\n",
        "  </thead>\n",
        "  <tbody>\n",
        "    <tr>\n",
        "      <th>0</th>\n",
        "      <td> 5</td>\n",
        "      <td> 5</td>\n",
        "      <td> 4</td>\n",
        "      <td> 644.6</td>\n",
        "      <td> 3223</td>\n",
        "      <td> this is a string concatenated</td>\n",
        "    </tr>\n",
        "  </tbody>\n",
        "</table>\n",
        "</div>"
       ],
       "metadata": {},
       "output_type": "pyout",
       "prompt_number": 51,
       "text": [
        "   num_rows  num_strings  num_float  avg_integer  sum_int  \\\n",
        "0         5            5          4        644.6     3223   \n",
        "\n",
        "                      cat_string  \n",
        "0  this is a string concatenated  "
       ]
      }
     ],
     "prompt_number": 51
    },
    {
     "cell_type": "heading",
     "level": 4,
     "metadata": {
      "slideshow": {
       "slide_type": "subslide"
      }
     },
     "source": [
      "Table Alias"
     ]
    },
    {
     "cell_type": "markdown",
     "metadata": {},
     "source": [
      "We can also give tables new names as well:\n",
      "```\n",
      "SELECT table_alias_1.col_name, table_alias_2.col_name, ...\n",
      "FROM table_1 AS table_alias_1, table_2 AS table_alias_2;\n",
      "```\n",
      "- Very useful when tables have common column names  "
     ]
    },
    {
     "cell_type": "markdown",
     "metadata": {
      "slideshow": {
       "slide_type": "fragment"
      }
     },
     "source": [
      "__Note:__ We can reference what table a column is coming from by a '.'\n",
      "```python\n",
      "table_name.column_name\n",
      "```"
     ]
    },
    {
     "cell_type": "heading",
     "level": 3,
     "metadata": {
      "slideshow": {
       "slide_type": "subslide"
      }
     },
     "source": [
      " Quiz: Aliases"
     ]
    },
    {
     "cell_type": "markdown",
     "metadata": {},
     "source": [
      "Perform a query using a table alias, and use this table alias when referencing the column i.e. `table_alias.column_name`\n",
      "- This will be really important for bigger, more complicated queries"
     ]
    },
    {
     "cell_type": "markdown",
     "metadata": {
      "slideshow": {
       "slide_type": "subslide"
      }
     },
     "source": [
      "```\n",
      "SELECT e.name, e.start_time, e.location, e.Description \n",
      "FROM event AS e;\n",
      "```"
     ]
    },
    {
     "cell_type": "code",
     "collapsed": false,
     "input": [
      "pd.read_sql_query(\n",
      "\"SELECT e.name, e.start_time, e.location, e.Description \\\n",
      "FROM event AS e\", con)"
     ],
     "language": "python",
     "metadata": {
      "slideshow": {
       "slide_type": "fragment"
      }
     },
     "outputs": [
      {
       "html": [
        "<div style=\"max-height:1000px;max-width:1500px;overflow:auto;\">\n",
        "<table border=\"1\" class=\"dataframe\">\n",
        "  <thead>\n",
        "    <tr style=\"text-align: right;\">\n",
        "      <th></th>\n",
        "      <th>name</th>\n",
        "      <th>start_time</th>\n",
        "      <th>location</th>\n",
        "      <th>Description</th>\n",
        "    </tr>\n",
        "  </thead>\n",
        "  <tbody>\n",
        "    <tr>\n",
        "      <th>0</th>\n",
        "      <td>                            BOT</td>\n",
        "      <td> 2015-01-28 19:00:00</td>\n",
        "      <td>   C &amp; D</td>\n",
        "      <td> Come and play games with your fellow stats Clu...</td>\n",
        "    </tr>\n",
        "    <tr>\n",
        "      <th>1</th>\n",
        "      <td>                            EOT</td>\n",
        "      <td>                None</td>\n",
        "      <td>    None</td>\n",
        "      <td> End of Term social at a local Pub. A joint eve...</td>\n",
        "    </tr>\n",
        "    <tr>\n",
        "      <th>2</th>\n",
        "      <td>                Intro to Hadoop</td>\n",
        "      <td>                None</td>\n",
        "      <td>    None</td>\n",
        "      <td> Hadoop is a distributed computing system desig...</td>\n",
        "    </tr>\n",
        "    <tr>\n",
        "      <th>3</th>\n",
        "      <td>                   Intro to SQL</td>\n",
        "      <td> 2015-02-05 18:00:00</td>\n",
        "      <td> MC-3003</td>\n",
        "      <td> SQL is a relational database language and alon...</td>\n",
        "    </tr>\n",
        "    <tr>\n",
        "      <th>4</th>\n",
        "      <td>                      Prof Talk</td>\n",
        "      <td> 2015-03-03 15:00:00</td>\n",
        "      <td> M3-2134</td>\n",
        "      <td> Machine Learning and Data Mining: How We can C...</td>\n",
        "    </tr>\n",
        "    <tr>\n",
        "      <th>5</th>\n",
        "      <td>                    Prof Talk 2</td>\n",
        "      <td>                None</td>\n",
        "      <td>    None</td>\n",
        "      <td>                                              None</td>\n",
        "    </tr>\n",
        "    <tr>\n",
        "      <th>6</th>\n",
        "      <td>                    Prof Talk 3</td>\n",
        "      <td>                None</td>\n",
        "      <td>    None</td>\n",
        "      <td>                                              None</td>\n",
        "    </tr>\n",
        "    <tr>\n",
        "      <th>7</th>\n",
        "      <td>    Intro to SQL: Basic Queries</td>\n",
        "      <td> 2015-03-09 18:00:00</td>\n",
        "      <td> MC-3003</td>\n",
        "      <td> SQL is a relational database language and alon...</td>\n",
        "    </tr>\n",
        "    <tr>\n",
        "      <th>8</th>\n",
        "      <td> Intro to SQL: Advanced Queries</td>\n",
        "      <td> 2015-03-12 18:00:00</td>\n",
        "      <td> MC-3003</td>\n",
        "      <td> SQL is a relational database language and alon...</td>\n",
        "    </tr>\n",
        "  </tbody>\n",
        "</table>\n",
        "</div>"
       ],
       "metadata": {},
       "output_type": "pyout",
       "prompt_number": 52,
       "text": [
        "                             name           start_time location  \\\n",
        "0                             BOT  2015-01-28 19:00:00    C & D   \n",
        "1                             EOT                 None     None   \n",
        "2                 Intro to Hadoop                 None     None   \n",
        "3                    Intro to SQL  2015-02-05 18:00:00  MC-3003   \n",
        "4                       Prof Talk  2015-03-03 15:00:00  M3-2134   \n",
        "5                     Prof Talk 2                 None     None   \n",
        "6                     Prof Talk 3                 None     None   \n",
        "7     Intro to SQL: Basic Queries  2015-03-09 18:00:00  MC-3003   \n",
        "8  Intro to SQL: Advanced Queries  2015-03-12 18:00:00  MC-3003   \n",
        "\n",
        "                                         Description  \n",
        "0  Come and play games with your fellow stats Clu...  \n",
        "1  End of Term social at a local Pub. A joint eve...  \n",
        "2  Hadoop is a distributed computing system desig...  \n",
        "3  SQL is a relational database language and alon...  \n",
        "4  Machine Learning and Data Mining: How We can C...  \n",
        "5                                               None  \n",
        "6                                               None  \n",
        "7  SQL is a relational database language and alon...  \n",
        "8  SQL is a relational database language and alon...  "
       ]
      }
     ],
     "prompt_number": 52
    },
    {
     "cell_type": "heading",
     "level": 2,
     "metadata": {
      "slideshow": {
       "slide_type": "slide"
      }
     },
     "source": [
      "Selection (WHERE Clause)"
     ]
    },
    {
     "cell_type": "markdown",
     "metadata": {},
     "source": [
      "__WHERE__ clauses filters the result set, removing rows where the condition returns either FALSE or NULL.\n",
      "\n",
      "```\n",
      "SELECT col1, col2, ...\n",
      "FROM table_name\n",
      "WHERE condition;\n",
      "```"
     ]
    },
    {
     "cell_type": "markdown",
     "metadata": {
      "slideshow": {
       "slide_type": "fragment"
      }
     },
     "source": [
      "__Example:__ What Stats Club events are social?"
     ]
    },
    {
     "cell_type": "markdown",
     "metadata": {
      "slideshow": {
       "slide_type": "fragment"
      }
     },
     "source": [
      "```\n",
      "SELECT name, type, start_time, end_time, location \n",
      "FROM event \n",
      "WHERE type = 'social';\n",
      "```"
     ]
    },
    {
     "cell_type": "code",
     "collapsed": false,
     "input": [
      "pd.read_sql_query(\n",
      "\"SELECT name, type, start_time, end_time, location \\\n",
      "FROM event \\\n",
      "WHERE type = 'social'\", con)"
     ],
     "language": "python",
     "metadata": {
      "slideshow": {
       "slide_type": "fragment"
      }
     },
     "outputs": [
      {
       "html": [
        "<div style=\"max-height:1000px;max-width:1500px;overflow:auto;\">\n",
        "<table border=\"1\" class=\"dataframe\">\n",
        "  <thead>\n",
        "    <tr style=\"text-align: right;\">\n",
        "      <th></th>\n",
        "      <th>name</th>\n",
        "      <th>type</th>\n",
        "      <th>start_time</th>\n",
        "      <th>end_time</th>\n",
        "      <th>location</th>\n",
        "    </tr>\n",
        "  </thead>\n",
        "  <tbody>\n",
        "    <tr>\n",
        "      <th>0</th>\n",
        "      <td> BOT</td>\n",
        "      <td> social</td>\n",
        "      <td> 2015-01-28 19:00:00</td>\n",
        "      <td> 2015-01-28 22:00:00</td>\n",
        "      <td> C &amp; D</td>\n",
        "    </tr>\n",
        "    <tr>\n",
        "      <th>1</th>\n",
        "      <td> EOT</td>\n",
        "      <td> social</td>\n",
        "      <td>                None</td>\n",
        "      <td>                None</td>\n",
        "      <td>  None</td>\n",
        "    </tr>\n",
        "  </tbody>\n",
        "</table>\n",
        "</div>"
       ],
       "metadata": {},
       "output_type": "pyout",
       "prompt_number": 53,
       "text": [
        "  name    type           start_time             end_time location\n",
        "0  BOT  social  2015-01-28 19:00:00  2015-01-28 22:00:00    C & D\n",
        "1  EOT  social                 None                 None     None"
       ]
      }
     ],
     "prompt_number": 53
    },
    {
     "cell_type": "heading",
     "level": 3,
     "metadata": {
      "slideshow": {
       "slide_type": "subslide"
      }
     },
     "source": [
      "Prediate Operators"
     ]
    },
    {
     "cell_type": "markdown",
     "metadata": {},
     "source": [
      "| Operator | Description | Example |\n",
      "|----------|-------------|---------|\n",
      "| = | Equal to | WHERE gender = 'M' |\n",
      "| <>, != | Not equal to | WHERE gender <> 'M' |\n",
      "| > | Greater than | WHERE num > 5 |\n",
      "| < | Less than | WHERE num < 5 |\n",
      "| >= | Greater than or equal to | WHERE num >= 5 |\n",
      "| <= | Less than or equal to | WHERE num <= 5 |\n",
      "| IS NULL | Value is NULL | WHERE num IS NULL |\n",
      "| IS NOT NULL | Value is not NULL | WHERE num IS NOT NULL |\n",
      "| BETWEEN | Between a range | WHERE num BETWEEN 3 AND 5 |\n",
      "| IN | In a list of values | WHERE num IN (3, 5, 8) |\n",
      "| LIKE | Pattern Search | WHERE str LIKE 'F%' |\n",
      "| EXISTS | Subquery have any rows? | WHERE EXISTS (subquery) |"
     ]
    },
    {
     "cell_type": "heading",
     "level": 4,
     "metadata": {
      "slideshow": {
       "slide_type": "subslide"
      }
     },
     "source": [
      "LIKE Predicate"
     ]
    },
    {
     "cell_type": "markdown",
     "metadata": {},
     "source": [
      "LIKE predicates \n",
      "\n",
      "'\\_' means a character of any type  \n",
      "'%' means between 0 or more characters of any type"
     ]
    },
    {
     "cell_type": "markdown",
     "metadata": {
      "slideshow": {
       "slide_type": "fragment"
      }
     },
     "source": [
      "__Example:__ What Stats Club members has a name begining with F?"
     ]
    },
    {
     "cell_type": "markdown",
     "metadata": {
      "slideshow": {
       "slide_type": "fragment"
      }
     },
     "source": [
      "```\n",
      "SELECT * \n",
      "FROM member \n",
      "WHERE name LIKE 'F%';\n",
      "```"
     ]
    },
    {
     "cell_type": "code",
     "collapsed": false,
     "input": [
      "pd.read_sql_query(\n",
      "\"SELECT * \\\n",
      "FROM member \\\n",
      "WHERE name LIKE 'F%'\", con)"
     ],
     "language": "python",
     "metadata": {
      "slideshow": {
       "slide_type": "fragment"
      }
     },
     "outputs": [
      {
       "html": [
        "<div style=\"max-height:1000px;max-width:1500px;overflow:auto;\">\n",
        "<table border=\"1\" class=\"dataframe\">\n",
        "  <thead>\n",
        "    <tr style=\"text-align: right;\">\n",
        "      <th></th>\n",
        "      <th>quest_id</th>\n",
        "      <th>name</th>\n",
        "      <th>email</th>\n",
        "      <th>faculty</th>\n",
        "      <th>major</th>\n",
        "      <th>paid</th>\n",
        "      <th>card</th>\n",
        "    </tr>\n",
        "  </thead>\n",
        "  <tbody>\n",
        "    <tr>\n",
        "      <th>0</th>\n",
        "      <td>    fred</td>\n",
        "      <td>     Fred E. Finch</td>\n",
        "      <td>    fred@uwaterloo.ca</td>\n",
        "      <td> Math</td>\n",
        "      <td> Pure Math</td>\n",
        "      <td> Y</td>\n",
        "      <td> Y</td>\n",
        "    </tr>\n",
        "    <tr>\n",
        "      <th>1</th>\n",
        "      <td> frances</td>\n",
        "      <td> Frances A. Miller</td>\n",
        "      <td> frances@uwaterloo.ca</td>\n",
        "      <td> Math</td>\n",
        "      <td>     Stats</td>\n",
        "      <td> Y</td>\n",
        "      <td> Y</td>\n",
        "    </tr>\n",
        "  </tbody>\n",
        "</table>\n",
        "</div>"
       ],
       "metadata": {},
       "output_type": "pyout",
       "prompt_number": 54,
       "text": [
        "  quest_id               name                 email faculty      major paid  \\\n",
        "0     fred      Fred E. Finch     fred@uwaterloo.ca    Math  Pure Math    Y   \n",
        "1  frances  Frances A. Miller  frances@uwaterloo.ca    Math      Stats    Y   \n",
        "\n",
        "  card  \n",
        "0    Y  \n",
        "1    Y  "
       ]
      }
     ],
     "prompt_number": 54
    },
    {
     "cell_type": "heading",
     "level": 4,
     "metadata": {
      "slideshow": {
       "slide_type": "subslide"
      }
     },
     "source": [
      "Operator Modifiers"
     ]
    },
    {
     "cell_type": "heading",
     "level": 5,
     "metadata": {},
     "source": [
      "ALL, ANY or SOME Operator Modifiers"
     ]
    },
    {
     "cell_type": "markdown",
     "metadata": {},
     "source": [
      "The operators =, <>, !=, >, <, >=, <= can be used with a list of values and the operators `ALL` or `ANY / SOME`.  \n",
      "\n",
      "- SQLite does __NOT__ have `ALL` or `ANY / SOME` implemented"
     ]
    },
    {
     "cell_type": "markdown",
     "metadata": {
      "slideshow": {
       "slide_type": "fragment"
      }
     },
     "source": [
      "__ANY,\u00a0SOME__ Operator returns true, if operator is true for __any__ value in the set.  \n",
      "\n",
      "$$E_{1}\\vee E_{2}\\vee E_{3}\\vee\\cdots\\vee E_{n}$$"
     ]
    },
    {
     "cell_type": "markdown",
     "metadata": {
      "slideshow": {
       "slide_type": "fragment"
      }
     },
     "source": [
      "__ALL__ Operator returns true, if operator is true for __all__ values in the set.  \n",
      "\n",
      "$$E_{1}\\vee E_{2}\\vee E_{3}\\vee\\cdots\\vee E_{n}$$"
     ]
    },
    {
     "cell_type": "markdown",
     "metadata": {
      "slideshow": {
       "slide_type": "fragment"
      }
     },
     "source": [
      "```\n",
      "SELECT *\n",
      "FROM table_name\n",
      "WHERE column_name < ALL (subquery_returning_one_column);\n",
      "```"
     ]
    },
    {
     "cell_type": "markdown",
     "metadata": {
      "slideshow": {
       "slide_type": "subslide"
      }
     },
     "source": [
      "__Example:__ What are the expenses for non-social events? (`ALL`, `ANY`, and `SOME` are not implmented in SQLite)"
     ]
    },
    {
     "cell_type": "markdown",
     "metadata": {
      "slideshow": {
       "slide_type": "fragment"
      }
     },
     "source": [
      "```\n",
      "SELECT * \n",
      "FROM expenses \n",
      "WHERE event != ALL (SELECT name \n",
      "                    FROM event\n",
      "                    WHERE type = 'social');\n",
      "```"
     ]
    },
    {
     "cell_type": "code",
     "collapsed": false,
     "input": [
      "pd.read_sql_query(\n",
      "\"SELECT * \\\n",
      "FROM expenses \\\n",
      "WHERE event NOT IN (SELECT name \\\n",
      "                    FROM event \\\n",
      "                    WHERE type = 'social')\", con)"
     ],
     "language": "python",
     "metadata": {
      "slideshow": {
       "slide_type": "fragment"
      }
     },
     "outputs": [
      {
       "html": [
        "<div style=\"max-height:1000px;max-width:1500px;overflow:auto;\">\n",
        "<table border=\"1\" class=\"dataframe\">\n",
        "  <thead>\n",
        "    <tr style=\"text-align: right;\">\n",
        "      <th></th>\n",
        "      <th>event</th>\n",
        "      <th>expense</th>\n",
        "      <th>price</th>\n",
        "    </tr>\n",
        "  </thead>\n",
        "  <tbody>\n",
        "    <tr>\n",
        "      <th>0 </th>\n",
        "      <td>                   Intro to SQL</td>\n",
        "      <td>   pizza</td>\n",
        "      <td> 87.43</td>\n",
        "    </tr>\n",
        "    <tr>\n",
        "      <th>1 </th>\n",
        "      <td>                   Intro to SQL</td>\n",
        "      <td>     pop</td>\n",
        "      <td> 15.34</td>\n",
        "    </tr>\n",
        "    <tr>\n",
        "      <th>2 </th>\n",
        "      <td>                Intro to Hadoop</td>\n",
        "      <td>  coffee</td>\n",
        "      <td> 23.12</td>\n",
        "    </tr>\n",
        "    <tr>\n",
        "      <th>3 </th>\n",
        "      <td>                Intro to Hadoop</td>\n",
        "      <td>   water</td>\n",
        "      <td> 10.23</td>\n",
        "    </tr>\n",
        "    <tr>\n",
        "      <th>4 </th>\n",
        "      <td>                Intro to Hadoop</td>\n",
        "      <td>  donuts</td>\n",
        "      <td> 53.23</td>\n",
        "    </tr>\n",
        "    <tr>\n",
        "      <th>5 </th>\n",
        "      <td>                Intro to Hadoop</td>\n",
        "      <td> cookies</td>\n",
        "      <td> 10.23</td>\n",
        "    </tr>\n",
        "    <tr>\n",
        "      <th>6 </th>\n",
        "      <td>    Intro to SQL: Basic Queries</td>\n",
        "      <td> cookies</td>\n",
        "      <td> 10.23</td>\n",
        "    </tr>\n",
        "    <tr>\n",
        "      <th>7 </th>\n",
        "      <td>    Intro to SQL: Basic Queries</td>\n",
        "      <td>  donuts</td>\n",
        "      <td> 20.34</td>\n",
        "    </tr>\n",
        "    <tr>\n",
        "      <th>8 </th>\n",
        "      <td>    Intro to SQL: Basic Queries</td>\n",
        "      <td>     pop</td>\n",
        "      <td> 21.54</td>\n",
        "    </tr>\n",
        "    <tr>\n",
        "      <th>9 </th>\n",
        "      <td>    Intro to SQL: Basic Queries</td>\n",
        "      <td>   water</td>\n",
        "      <td> 10.52</td>\n",
        "    </tr>\n",
        "    <tr>\n",
        "      <th>10</th>\n",
        "      <td>                      Prof Talk</td>\n",
        "      <td>     pop</td>\n",
        "      <td> 20.31</td>\n",
        "    </tr>\n",
        "    <tr>\n",
        "      <th>11</th>\n",
        "      <td>                      Prof Talk</td>\n",
        "      <td>   pizza</td>\n",
        "      <td> 62.56</td>\n",
        "    </tr>\n",
        "    <tr>\n",
        "      <th>12</th>\n",
        "      <td>                    Prof Talk 2</td>\n",
        "      <td>   pizza</td>\n",
        "      <td> 61.56</td>\n",
        "    </tr>\n",
        "    <tr>\n",
        "      <th>13</th>\n",
        "      <td>                    Prof Talk 2</td>\n",
        "      <td>     pop</td>\n",
        "      <td> 15.65</td>\n",
        "    </tr>\n",
        "    <tr>\n",
        "      <th>14</th>\n",
        "      <td>                    Prof Talk 3</td>\n",
        "      <td>   pizza</td>\n",
        "      <td> 62.45</td>\n",
        "    </tr>\n",
        "    <tr>\n",
        "      <th>15</th>\n",
        "      <td>                    Prof Talk 3</td>\n",
        "      <td>     pop</td>\n",
        "      <td> 13.23</td>\n",
        "    </tr>\n",
        "    <tr>\n",
        "      <th>16</th>\n",
        "      <td> Intro to SQL: Advanced Queries</td>\n",
        "      <td> cookies</td>\n",
        "      <td> 10.23</td>\n",
        "    </tr>\n",
        "    <tr>\n",
        "      <th>17</th>\n",
        "      <td> Intro to SQL: Advanced Queries</td>\n",
        "      <td>  donuts</td>\n",
        "      <td> 20.34</td>\n",
        "    </tr>\n",
        "    <tr>\n",
        "      <th>18</th>\n",
        "      <td> Intro to SQL: Advanced Queries</td>\n",
        "      <td>     pop</td>\n",
        "      <td> 21.54</td>\n",
        "    </tr>\n",
        "    <tr>\n",
        "      <th>19</th>\n",
        "      <td> Intro to SQL: Advanced Queries</td>\n",
        "      <td>   water</td>\n",
        "      <td> 10.52</td>\n",
        "    </tr>\n",
        "  </tbody>\n",
        "</table>\n",
        "</div>"
       ],
       "metadata": {},
       "output_type": "pyout",
       "prompt_number": 55,
       "text": [
        "                             event  expense  price\n",
        "0                     Intro to SQL    pizza  87.43\n",
        "1                     Intro to SQL      pop  15.34\n",
        "2                  Intro to Hadoop   coffee  23.12\n",
        "3                  Intro to Hadoop    water  10.23\n",
        "4                  Intro to Hadoop   donuts  53.23\n",
        "5                  Intro to Hadoop  cookies  10.23\n",
        "6      Intro to SQL: Basic Queries  cookies  10.23\n",
        "7      Intro to SQL: Basic Queries   donuts  20.34\n",
        "8      Intro to SQL: Basic Queries      pop  21.54\n",
        "9      Intro to SQL: Basic Queries    water  10.52\n",
        "10                       Prof Talk      pop  20.31\n",
        "11                       Prof Talk    pizza  62.56\n",
        "12                     Prof Talk 2    pizza  61.56\n",
        "13                     Prof Talk 2      pop  15.65\n",
        "14                     Prof Talk 3    pizza  62.45\n",
        "15                     Prof Talk 3      pop  13.23\n",
        "16  Intro to SQL: Advanced Queries  cookies  10.23\n",
        "17  Intro to SQL: Advanced Queries   donuts  20.34\n",
        "18  Intro to SQL: Advanced Queries      pop  21.54\n",
        "19  Intro to SQL: Advanced Queries    water  10.52"
       ]
      }
     ],
     "prompt_number": 55
    },
    {
     "cell_type": "heading",
     "level": 4,
     "metadata": {
      "slideshow": {
       "slide_type": "subslide"
      }
     },
     "source": [
      "AND, OR Operators"
     ]
    },
    {
     "cell_type": "markdown",
     "metadata": {},
     "source": [
      "A group of filter conditions can be linked together with AND or OR operators. \n",
      "\n",
      "```\n",
      "SELECT col1, col2, ...\n",
      "FROM table_name\n",
      "WHERE (condition1 AND condition2 ) OR condition3;\n",
      "```"
     ]
    },
    {
     "cell_type": "markdown",
     "metadata": {
      "slideshow": {
       "slide_type": "subslide"
      }
     },
     "source": [
      "__Example:__ What Stats Club members has a name with it's second letter as A or ends in B?"
     ]
    },
    {
     "cell_type": "markdown",
     "metadata": {
      "slideshow": {
       "slide_type": "fragment"
      }
     },
     "source": [
      "```\n",
      "SELECT name\n",
      "FROM member \n",
      "WHERE name LIKE '_a%' OR  name LIKE '%b';\n",
      "```"
     ]
    },
    {
     "cell_type": "code",
     "collapsed": false,
     "input": [
      "pd.read_sql_query(\n",
      "\"SELECT name \\\n",
      "FROM member \\\n",
      "WHERE name LIKE '_a%' OR  name LIKE '%b'\", con)"
     ],
     "language": "python",
     "metadata": {
      "slideshow": {
       "slide_type": "fragment"
      }
     },
     "outputs": [
      {
       "html": [
        "<div style=\"max-height:1000px;max-width:1500px;overflow:auto;\">\n",
        "<table border=\"1\" class=\"dataframe\">\n",
        "  <thead>\n",
        "    <tr style=\"text-align: right;\">\n",
        "      <th></th>\n",
        "      <th>name</th>\n",
        "    </tr>\n",
        "  </thead>\n",
        "  <tbody>\n",
        "    <tr>\n",
        "      <th>0</th>\n",
        "      <td>      Darrell Aucoin</td>\n",
        "    </tr>\n",
        "    <tr>\n",
        "      <th>1</th>\n",
        "      <td>    James M. Eddings</td>\n",
        "    </tr>\n",
        "    <tr>\n",
        "      <th>2</th>\n",
        "      <td>       James A. Foxt</td>\n",
        "    </tr>\n",
        "    <tr>\n",
        "      <th>3</th>\n",
        "      <td>     Daniel J. Moore</td>\n",
        "    </tr>\n",
        "    <tr>\n",
        "      <th>4</th>\n",
        "      <td>    Nancy P. Jackson</td>\n",
        "    </tr>\n",
        "    <tr>\n",
        "      <th>5</th>\n",
        "      <td>    Ralph L. Waldrop</td>\n",
        "    </tr>\n",
        "    <tr>\n",
        "      <th>6</th>\n",
        "      <td> Tameika M. McMaster</td>\n",
        "    </tr>\n",
        "    <tr>\n",
        "      <th>7</th>\n",
        "      <td>    Janelle T. Smith</td>\n",
        "    </tr>\n",
        "    <tr>\n",
        "      <th>8</th>\n",
        "      <td>          Ruben Lamb</td>\n",
        "    </tr>\n",
        "    <tr>\n",
        "      <th>9</th>\n",
        "      <td>   Patrick Robertson</td>\n",
        "    </tr>\n",
        "  </tbody>\n",
        "</table>\n",
        "</div>"
       ],
       "metadata": {},
       "output_type": "pyout",
       "prompt_number": 56,
       "text": [
        "                  name\n",
        "0       Darrell Aucoin\n",
        "1     James M. Eddings\n",
        "2        James A. Foxt\n",
        "3      Daniel J. Moore\n",
        "4     Nancy P. Jackson\n",
        "5     Ralph L. Waldrop\n",
        "6  Tameika M. McMaster\n",
        "7     Janelle T. Smith\n",
        "8           Ruben Lamb\n",
        "9    Patrick Robertson"
       ]
      }
     ],
     "prompt_number": 56
    },
    {
     "cell_type": "heading",
     "level": 3,
     "metadata": {
      "slideshow": {
       "slide_type": "subslide"
      }
     },
     "source": [
      "Quiz: Filtering (WHERE Clause)"
     ]
    },
    {
     "cell_type": "markdown",
     "metadata": {},
     "source": [
      "__Q:__ What events for Stats Club are introductory talks?\n",
      "- Introductory talk names start with 'Intro'"
     ]
    },
    {
     "cell_type": "markdown",
     "metadata": {
      "slideshow": {
       "slide_type": "fragment"
      }
     },
     "source": [
      "```\n",
      "SELECT name\n",
      "FROM event \n",
      "WHERE name LIKE 'Intro%';\n",
      "```"
     ]
    },
    {
     "cell_type": "code",
     "collapsed": false,
     "input": [
      "pd.read_sql_query(\n",
      "\"SELECT name \\\n",
      "FROM event \\\n",
      "WHERE name LIKE 'Intro%'\", con)"
     ],
     "language": "python",
     "metadata": {
      "slideshow": {
       "slide_type": "fragment"
      }
     },
     "outputs": [
      {
       "html": [
        "<div style=\"max-height:1000px;max-width:1500px;overflow:auto;\">\n",
        "<table border=\"1\" class=\"dataframe\">\n",
        "  <thead>\n",
        "    <tr style=\"text-align: right;\">\n",
        "      <th></th>\n",
        "      <th>name</th>\n",
        "    </tr>\n",
        "  </thead>\n",
        "  <tbody>\n",
        "    <tr>\n",
        "      <th>0</th>\n",
        "      <td>                Intro to Hadoop</td>\n",
        "    </tr>\n",
        "    <tr>\n",
        "      <th>1</th>\n",
        "      <td>                   Intro to SQL</td>\n",
        "    </tr>\n",
        "    <tr>\n",
        "      <th>2</th>\n",
        "      <td> Intro to SQL: Advanced Queries</td>\n",
        "    </tr>\n",
        "    <tr>\n",
        "      <th>3</th>\n",
        "      <td>    Intro to SQL: Basic Queries</td>\n",
        "    </tr>\n",
        "  </tbody>\n",
        "</table>\n",
        "</div>"
       ],
       "metadata": {},
       "output_type": "pyout",
       "prompt_number": 57,
       "text": [
        "                             name\n",
        "0                 Intro to Hadoop\n",
        "1                    Intro to SQL\n",
        "2  Intro to SQL: Advanced Queries\n",
        "3     Intro to SQL: Basic Queries"
       ]
      }
     ],
     "prompt_number": 57
    },
    {
     "cell_type": "markdown",
     "metadata": {
      "slideshow": {
       "slide_type": "subslide"
      }
     },
     "source": [
      "__Q:__ What Stats Club members have their first name starting with a letter __BETWEEN__ A and G?"
     ]
    },
    {
     "cell_type": "markdown",
     "metadata": {
      "slideshow": {
       "slide_type": "fragment"
      }
     },
     "source": [
      "```\n",
      "SELECT name \n",
      "FROM member \n",
      "WHERE name BETWEEN 'A' AND 'G';\n",
      "```"
     ]
    },
    {
     "cell_type": "code",
     "collapsed": false,
     "input": [
      "pd.read_sql_query(\n",
      "\"SELECT name \\\n",
      "FROM member \\\n",
      "WHERE name BETWEEN 'A' AND 'G'\", con)"
     ],
     "language": "python",
     "metadata": {
      "slideshow": {
       "slide_type": "fragment"
      }
     },
     "outputs": [
      {
       "html": [
        "<div style=\"max-height:1000px;max-width:1500px;overflow:auto;\">\n",
        "<table border=\"1\" class=\"dataframe\">\n",
        "  <thead>\n",
        "    <tr style=\"text-align: right;\">\n",
        "      <th></th>\n",
        "      <th>name</th>\n",
        "    </tr>\n",
        "  </thead>\n",
        "  <tbody>\n",
        "    <tr>\n",
        "      <th>0 </th>\n",
        "      <td>      Darrell Aucoin</td>\n",
        "    </tr>\n",
        "    <tr>\n",
        "      <th>1 </th>\n",
        "      <td>       Fred E. Finch</td>\n",
        "    </tr>\n",
        "    <tr>\n",
        "      <th>2 </th>\n",
        "      <td>     Billy L. Hunter</td>\n",
        "    </tr>\n",
        "    <tr>\n",
        "      <th>3 </th>\n",
        "      <td>  Austin K. Gilliard</td>\n",
        "    </tr>\n",
        "    <tr>\n",
        "      <th>4 </th>\n",
        "      <td>       Elaine S. Ott</td>\n",
        "    </tr>\n",
        "    <tr>\n",
        "      <th>5 </th>\n",
        "      <td>     Daniel J. Moore</td>\n",
        "    </tr>\n",
        "    <tr>\n",
        "      <th>6 </th>\n",
        "      <td>   Frances A. Miller</td>\n",
        "    </tr>\n",
        "    <tr>\n",
        "      <th>7 </th>\n",
        "      <td> Deborah D. Helfrich</td>\n",
        "    </tr>\n",
        "    <tr>\n",
        "      <th>8 </th>\n",
        "      <td>   Bobbie D. Mathews</td>\n",
        "    </tr>\n",
        "    <tr>\n",
        "      <th>9 </th>\n",
        "      <td>    Arnold J. Fuller</td>\n",
        "    </tr>\n",
        "    <tr>\n",
        "      <th>10</th>\n",
        "      <td>   Ann W. McLaughlin</td>\n",
        "    </tr>\n",
        "    <tr>\n",
        "      <th>11</th>\n",
        "      <td>       Dominick Byrd</td>\n",
        "    </tr>\n",
        "  </tbody>\n",
        "</table>\n",
        "</div>"
       ],
       "metadata": {},
       "output_type": "pyout",
       "prompt_number": 58,
       "text": [
        "                   name\n",
        "0        Darrell Aucoin\n",
        "1         Fred E. Finch\n",
        "2       Billy L. Hunter\n",
        "3    Austin K. Gilliard\n",
        "4         Elaine S. Ott\n",
        "5       Daniel J. Moore\n",
        "6     Frances A. Miller\n",
        "7   Deborah D. Helfrich\n",
        "8     Bobbie D. Mathews\n",
        "9      Arnold J. Fuller\n",
        "10    Ann W. McLaughlin\n",
        "11        Dominick Byrd"
       ]
      }
     ],
     "prompt_number": 58
    },
    {
     "cell_type": "markdown",
     "metadata": {
      "slideshow": {
       "slide_type": "slide"
      }
     },
     "source": [
      "# Questions?\n",
      "### Topics Covered in Next Presentation\n",
      "1. Aggregation (GROUP BY)\n",
      "2. Joining tables\n",
      "3. Subqueries\n",
      "4. Set Operations\n",
      "5. WITH Clause (Increases Readiablity)\n",
      "6. CASE expressions\n",
      "7. ORDER BY Clause\n",
      "8. LIMIT Clause  "
     ]
    },
    {
     "cell_type": "markdown",
     "metadata": {
      "slideshow": {
       "slide_type": "fragment"
      }
     },
     "source": [
      "## Further Practice Questions?"
     ]
    },
    {
     "cell_type": "heading",
     "level": 3,
     "metadata": {
      "slideshow": {
       "slide_type": "slide"
      }
     },
     "source": [
      "Quiz: Practice Questions"
     ]
    },
    {
     "cell_type": "markdown",
     "metadata": {
      "slideshow": {
       "slide_type": "-"
      }
     },
     "source": [
      "__Q:__ What events have dates specified?"
     ]
    },
    {
     "cell_type": "markdown",
     "metadata": {
      "slideshow": {
       "slide_type": "fragment"
      }
     },
     "source": [
      "```\n",
      "SELECT name, start_time \n",
      "FROM event \n",
      "WHERE start_time IS NOT NULL;\n",
      "```"
     ]
    },
    {
     "cell_type": "code",
     "collapsed": false,
     "input": [
      "pd.read_sql_query(\n",
      "\"SELECT name, start_time \\\n",
      "FROM event \\\n",
      "WHERE start_time IS NOT NULL\", con)"
     ],
     "language": "python",
     "metadata": {
      "slideshow": {
       "slide_type": "fragment"
      }
     },
     "outputs": [
      {
       "html": [
        "<div style=\"max-height:1000px;max-width:1500px;overflow:auto;\">\n",
        "<table border=\"1\" class=\"dataframe\">\n",
        "  <thead>\n",
        "    <tr style=\"text-align: right;\">\n",
        "      <th></th>\n",
        "      <th>name</th>\n",
        "      <th>start_time</th>\n",
        "    </tr>\n",
        "  </thead>\n",
        "  <tbody>\n",
        "    <tr>\n",
        "      <th>0</th>\n",
        "      <td>                            BOT</td>\n",
        "      <td> 2015-01-28 19:00:00</td>\n",
        "    </tr>\n",
        "    <tr>\n",
        "      <th>1</th>\n",
        "      <td>                   Intro to SQL</td>\n",
        "      <td> 2015-02-05 18:00:00</td>\n",
        "    </tr>\n",
        "    <tr>\n",
        "      <th>2</th>\n",
        "      <td>                      Prof Talk</td>\n",
        "      <td> 2015-03-03 15:00:00</td>\n",
        "    </tr>\n",
        "    <tr>\n",
        "      <th>3</th>\n",
        "      <td>    Intro to SQL: Basic Queries</td>\n",
        "      <td> 2015-03-09 18:00:00</td>\n",
        "    </tr>\n",
        "    <tr>\n",
        "      <th>4</th>\n",
        "      <td> Intro to SQL: Advanced Queries</td>\n",
        "      <td> 2015-03-12 18:00:00</td>\n",
        "    </tr>\n",
        "  </tbody>\n",
        "</table>\n",
        "</div>"
       ],
       "metadata": {},
       "output_type": "pyout",
       "prompt_number": 59,
       "text": [
        "                             name           start_time\n",
        "0                             BOT  2015-01-28 19:00:00\n",
        "1                    Intro to SQL  2015-02-05 18:00:00\n",
        "2                       Prof Talk  2015-03-03 15:00:00\n",
        "3     Intro to SQL: Basic Queries  2015-03-09 18:00:00\n",
        "4  Intro to SQL: Advanced Queries  2015-03-12 18:00:00"
       ]
      }
     ],
     "prompt_number": 59
    },
    {
     "cell_type": "markdown",
     "metadata": {
      "slideshow": {
       "slide_type": "subslide"
      }
     },
     "source": [
      "__Q:__ What events don't have dates specified?"
     ]
    },
    {
     "cell_type": "markdown",
     "metadata": {
      "slideshow": {
       "slide_type": "fragment"
      }
     },
     "source": [
      "```\n",
      "SELECT name \n",
      "FROM event \n",
      "WHERE start_time IS NULL;\n",
      "```"
     ]
    },
    {
     "cell_type": "code",
     "collapsed": false,
     "input": [
      "pd.read_sql_query(\n",
      "\"SELECT name, start_time \\\n",
      "FROM event \\\n",
      "WHERE start_time IS NULL\", con)"
     ],
     "language": "python",
     "metadata": {
      "slideshow": {
       "slide_type": "fragment"
      }
     },
     "outputs": [
      {
       "html": [
        "<div style=\"max-height:1000px;max-width:1500px;overflow:auto;\">\n",
        "<table border=\"1\" class=\"dataframe\">\n",
        "  <thead>\n",
        "    <tr style=\"text-align: right;\">\n",
        "      <th></th>\n",
        "      <th>name</th>\n",
        "      <th>start_time</th>\n",
        "    </tr>\n",
        "  </thead>\n",
        "  <tbody>\n",
        "    <tr>\n",
        "      <th>0</th>\n",
        "      <td>             EOT</td>\n",
        "      <td> None</td>\n",
        "    </tr>\n",
        "    <tr>\n",
        "      <th>1</th>\n",
        "      <td> Intro to Hadoop</td>\n",
        "      <td> None</td>\n",
        "    </tr>\n",
        "    <tr>\n",
        "      <th>2</th>\n",
        "      <td>     Prof Talk 2</td>\n",
        "      <td> None</td>\n",
        "    </tr>\n",
        "    <tr>\n",
        "      <th>3</th>\n",
        "      <td>     Prof Talk 3</td>\n",
        "      <td> None</td>\n",
        "    </tr>\n",
        "  </tbody>\n",
        "</table>\n",
        "</div>"
       ],
       "metadata": {},
       "output_type": "pyout",
       "prompt_number": 60,
       "text": [
        "              name start_time\n",
        "0              EOT       None\n",
        "1  Intro to Hadoop       None\n",
        "2      Prof Talk 2       None\n",
        "3      Prof Talk 3       None"
       ]
      }
     ],
     "prompt_number": 60
    },
    {
     "cell_type": "markdown",
     "metadata": {
      "slideshow": {
       "slide_type": "subslide"
      }
     },
     "source": [
      "__Q:__ What Stats Club members are in Stats, Act Sci, or CS?\n",
      "- Recall the `IN` predicate operator"
     ]
    },
    {
     "cell_type": "markdown",
     "metadata": {
      "slideshow": {
       "slide_type": "fragment"
      }
     },
     "source": [
      "```\n",
      "SELECT name \n",
      "FROM member \n",
      "WHERE major IN ('Stats', 'Act Sci', 'CS');\n",
      "```"
     ]
    },
    {
     "cell_type": "code",
     "collapsed": false,
     "input": [
      "pd.read_sql_query(\n",
      "\"SELECT name \\\n",
      "FROM member \\\n",
      "WHERE major IN ('Stats', 'Act Sci', 'CS')\", con)"
     ],
     "language": "python",
     "metadata": {
      "slideshow": {
       "slide_type": "fragment"
      }
     },
     "outputs": [
      {
       "html": [
        "<div style=\"max-height:1000px;max-width:1500px;overflow:auto;\">\n",
        "<table border=\"1\" class=\"dataframe\">\n",
        "  <thead>\n",
        "    <tr style=\"text-align: right;\">\n",
        "      <th></th>\n",
        "      <th>name</th>\n",
        "    </tr>\n",
        "  </thead>\n",
        "  <tbody>\n",
        "    <tr>\n",
        "      <th>0 </th>\n",
        "      <td>        Darrell Aucoin</td>\n",
        "    </tr>\n",
        "    <tr>\n",
        "      <th>1 </th>\n",
        "      <td>          Ryan T. Luby</td>\n",
        "    </tr>\n",
        "    <tr>\n",
        "      <th>2 </th>\n",
        "      <td>       Billy L. Hunter</td>\n",
        "    </tr>\n",
        "    <tr>\n",
        "      <th>3 </th>\n",
        "      <td> Stephanie R. Matthews</td>\n",
        "    </tr>\n",
        "    <tr>\n",
        "      <th>4 </th>\n",
        "      <td>    Robert B. Williams</td>\n",
        "    </tr>\n",
        "    <tr>\n",
        "      <th>5 </th>\n",
        "      <td>    Austin K. Gilliard</td>\n",
        "    </tr>\n",
        "    <tr>\n",
        "      <th>6 </th>\n",
        "      <td>      James M. Eddings</td>\n",
        "    </tr>\n",
        "    <tr>\n",
        "      <th>7 </th>\n",
        "      <td>         Elaine S. Ott</td>\n",
        "    </tr>\n",
        "    <tr>\n",
        "      <th>8 </th>\n",
        "      <td>         James A. Foxt</td>\n",
        "    </tr>\n",
        "    <tr>\n",
        "      <th>9 </th>\n",
        "      <td>       Daniel J. Moore</td>\n",
        "    </tr>\n",
        "    <tr>\n",
        "      <th>10</th>\n",
        "      <td>     Kelly S. Ferguson</td>\n",
        "    </tr>\n",
        "    <tr>\n",
        "      <th>11</th>\n",
        "      <td>      Vivian R. Donley</td>\n",
        "    </tr>\n",
        "    <tr>\n",
        "      <th>12</th>\n",
        "      <td>     Frances A. Miller</td>\n",
        "    </tr>\n",
        "    <tr>\n",
        "      <th>13</th>\n",
        "      <td>      Mina W. Lawrence</td>\n",
        "    </tr>\n",
        "    <tr>\n",
        "      <th>14</th>\n",
        "      <td> Phillip C. Mascarenas</td>\n",
        "    </tr>\n",
        "    <tr>\n",
        "      <th>15</th>\n",
        "      <td>        Jeff M. Wright</td>\n",
        "    </tr>\n",
        "    <tr>\n",
        "      <th>16</th>\n",
        "      <td>   Deborah D. Helfrich</td>\n",
        "    </tr>\n",
        "    <tr>\n",
        "      <th>17</th>\n",
        "      <td>      Nancy P. Jackson</td>\n",
        "    </tr>\n",
        "    <tr>\n",
        "      <th>18</th>\n",
        "      <td>     Bobbie D. Mathews</td>\n",
        "    </tr>\n",
        "    <tr>\n",
        "      <th>19</th>\n",
        "      <td>      Arnold J. Fuller</td>\n",
        "    </tr>\n",
        "    <tr>\n",
        "      <th>20</th>\n",
        "      <td>      Ralph L. Waldrop</td>\n",
        "    </tr>\n",
        "    <tr>\n",
        "      <th>21</th>\n",
        "      <td>   Tameika M. McMaster</td>\n",
        "    </tr>\n",
        "    <tr>\n",
        "      <th>22</th>\n",
        "      <td>   Melissa R. Anderson</td>\n",
        "    </tr>\n",
        "    <tr>\n",
        "      <th>23</th>\n",
        "      <td>     Ann W. McLaughlin</td>\n",
        "    </tr>\n",
        "    <tr>\n",
        "      <th>24</th>\n",
        "      <td>     Judith B. Gibbons</td>\n",
        "    </tr>\n",
        "    <tr>\n",
        "      <th>25</th>\n",
        "      <td>            Ruben Lamb</td>\n",
        "    </tr>\n",
        "    <tr>\n",
        "      <th>26</th>\n",
        "      <td>     Patrick Robertson</td>\n",
        "    </tr>\n",
        "  </tbody>\n",
        "</table>\n",
        "</div>"
       ],
       "metadata": {},
       "output_type": "pyout",
       "prompt_number": 61,
       "text": [
        "                     name\n",
        "0          Darrell Aucoin\n",
        "1            Ryan T. Luby\n",
        "2         Billy L. Hunter\n",
        "3   Stephanie R. Matthews\n",
        "4      Robert B. Williams\n",
        "5      Austin K. Gilliard\n",
        "6        James M. Eddings\n",
        "7           Elaine S. Ott\n",
        "8           James A. Foxt\n",
        "9         Daniel J. Moore\n",
        "10      Kelly S. Ferguson\n",
        "11       Vivian R. Donley\n",
        "12      Frances A. Miller\n",
        "13       Mina W. Lawrence\n",
        "14  Phillip C. Mascarenas\n",
        "15         Jeff M. Wright\n",
        "16    Deborah D. Helfrich\n",
        "17       Nancy P. Jackson\n",
        "18      Bobbie D. Mathews\n",
        "19       Arnold J. Fuller\n",
        "20       Ralph L. Waldrop\n",
        "21    Tameika M. McMaster\n",
        "22    Melissa R. Anderson\n",
        "23      Ann W. McLaughlin\n",
        "24      Judith B. Gibbons\n",
        "25             Ruben Lamb\n",
        "26      Patrick Robertson"
       ]
      }
     ],
     "prompt_number": 61
    },
    {
     "cell_type": "markdown",
     "metadata": {
      "slideshow": {
       "slide_type": "subslide"
      }
     },
     "source": [
      "__Q:__ What are the Stats Club exec positions?\n",
      "- Avoid duplication of positions"
     ]
    },
    {
     "cell_type": "markdown",
     "metadata": {
      "slideshow": {
       "slide_type": "fragment"
      }
     },
     "source": [
      "```\n",
      "SELECT DISTINCT position \n",
      "FROM exec_position;\n",
      "```"
     ]
    },
    {
     "cell_type": "code",
     "collapsed": false,
     "input": [
      "pd.read_sql_query(\n",
      "\"SELECT DISTINCT position \\\n",
      "FROM exec_position\", con)"
     ],
     "language": "python",
     "metadata": {
      "slideshow": {
       "slide_type": "fragment"
      }
     },
     "outputs": [
      {
       "html": [
        "<div style=\"max-height:1000px;max-width:1500px;overflow:auto;\">\n",
        "<table border=\"1\" class=\"dataframe\">\n",
        "  <thead>\n",
        "    <tr style=\"text-align: right;\">\n",
        "      <th></th>\n",
        "      <th>position</th>\n",
        "    </tr>\n",
        "  </thead>\n",
        "  <tbody>\n",
        "    <tr>\n",
        "      <th>0</th>\n",
        "      <td>         Events</td>\n",
        "    </tr>\n",
        "    <tr>\n",
        "      <th>1</th>\n",
        "      <td>        Finance</td>\n",
        "    </tr>\n",
        "    <tr>\n",
        "      <th>2</th>\n",
        "      <td>      President</td>\n",
        "    </tr>\n",
        "    <tr>\n",
        "      <th>3</th>\n",
        "      <td> Senior Advisor</td>\n",
        "    </tr>\n",
        "    <tr>\n",
        "      <th>4</th>\n",
        "      <td>     Technology</td>\n",
        "    </tr>\n",
        "  </tbody>\n",
        "</table>\n",
        "</div>"
       ],
       "metadata": {},
       "output_type": "pyout",
       "prompt_number": 62,
       "text": [
        "         position\n",
        "0          Events\n",
        "1         Finance\n",
        "2       President\n",
        "3  Senior Advisor\n",
        "4      Technology"
       ]
      }
     ],
     "prompt_number": 62
    },
    {
     "cell_type": "markdown",
     "metadata": {
      "slideshow": {
       "slide_type": "subslide"
      }
     },
     "source": [
      "__Q:__ How many different Stats Club exec positions are there?\n",
      "- Note that we can use DISTINCT within aggregate functions"
     ]
    },
    {
     "cell_type": "markdown",
     "metadata": {
      "slideshow": {
       "slide_type": "fragment"
      }
     },
     "source": [
      "```\n",
      "SELECT COUNT(DISTINCT position) AS num_exec_positions\n",
      "FROM exec_position;\n",
      "```"
     ]
    },
    {
     "cell_type": "code",
     "collapsed": false,
     "input": [
      "pd.read_sql_query(\n",
      "\"SELECT COUNT(DISTINCT position) AS num_exec_positions \\\n",
      "FROM exec_position\", con)"
     ],
     "language": "python",
     "metadata": {
      "slideshow": {
       "slide_type": "fragment"
      }
     },
     "outputs": [
      {
       "html": [
        "<div style=\"max-height:1000px;max-width:1500px;overflow:auto;\">\n",
        "<table border=\"1\" class=\"dataframe\">\n",
        "  <thead>\n",
        "    <tr style=\"text-align: right;\">\n",
        "      <th></th>\n",
        "      <th>num_exec_positions</th>\n",
        "    </tr>\n",
        "  </thead>\n",
        "  <tbody>\n",
        "    <tr>\n",
        "      <th>0</th>\n",
        "      <td> 5</td>\n",
        "    </tr>\n",
        "  </tbody>\n",
        "</table>\n",
        "</div>"
       ],
       "metadata": {},
       "output_type": "pyout",
       "prompt_number": 63,
       "text": [
        "   num_exec_positions\n",
        "0                   5"
       ]
      }
     ],
     "prompt_number": 63
    },
    {
     "cell_type": "code",
     "collapsed": false,
     "input": [
      "con.close()"
     ],
     "language": "python",
     "metadata": {},
     "outputs": [],
     "prompt_number": 64
    },
    {
     "cell_type": "code",
     "collapsed": false,
     "input": [
      "#sudo ipython nbconvert Intro_SQL_Presentation.ipynb --to slides --post serve"
     ],
     "language": "python",
     "metadata": {
      "slideshow": {
       "slide_type": "skip"
      }
     },
     "outputs": [],
     "prompt_number": 65
    }
   ],
   "metadata": {}
  }
 ]
}