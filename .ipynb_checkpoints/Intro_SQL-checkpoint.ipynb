{
 "metadata": {
  "name": "",
  "signature": "sha256:67bfd9e0387ba4c61747ec072109157b2de108f8dfa053ba7b418e17413e5a1b"
 },
 "nbformat": 3,
 "nbformat_minor": 0,
 "worksheets": [
  {
   "cells": [
    {
     "cell_type": "markdown",
     "metadata": {
      "slideshow": {
       "slide_type": "slide"
      }
     },
     "source": [
      "<head>\n",
      "<script type=\"text/javascript\"\n",
      "  src=\"http://cdn.mathjax.org/mathjax/latest/MathJax.js?config=TeX-AMS-MML_HTMLorMML\">\n",
      "</script>\n",
      "\n",
      "</head>\n",
      "\n",
      "<center>\n",
      "\n",
      "<p class=\"gap05\"<p>\n",
      "<h1>Intro to SQL:</h1>\n",
      "<h2>A Brief Introduction</h2>\n",
      "\n",
      "<p class=\"gap05\"<p>\n",
      "<h3>Darrell Aucoin</h3>\n",
      "\n",
      "<h3>Stats Club</h3>\n",
      "\n",
      "<p class=\"gap2\"<p>\n",
      "</center>\n",
      "<style type=\"text/css\">\n",
      ".input_prompt, .input_area, .output_prompt {\n",
      "    display:none !important;\n",
      "}\n",
      "</style>"
     ]
    },
    {
     "cell_type": "heading",
     "level": 1,
     "metadata": {
      "slideshow": {
       "slide_type": "slide"
      }
     },
     "source": [
      "How to Follow Along"
     ]
    },
    {
     "cell_type": "heading",
     "level": 4,
     "metadata": {},
     "source": [
      "Get the material  "
     ]
    },
    {
     "cell_type": "markdown",
     "metadata": {},
     "source": [
      "1. Open terminal\n",
      "2. Go to home directory\n",
      "    1. Enter the command   \n",
      "        `cd ~`\n",
      "3. Type  \n",
      "    `git clone https://github.com/NormallySane/IntroSQL.git`"
     ]
    },
    {
     "cell_type": "heading",
     "level": 4,
     "metadata": {
      "slideshow": {
       "slide_type": "fragment"
      }
     },
     "source": [
      "Using ipython notebook"
     ]
    },
    {
     "cell_type": "markdown",
     "metadata": {
      "slideshow": {
       "slide_type": "fragment"
      }
     },
     "source": [
      "4. Type `ipython notebook` and open Intro_SQL.ipynb in the web browser that appears \n",
      "5. Make sure you execute the following python commands (shift + enter with block highlighted)\n",
      "\n",
      "```python\n",
      "import pandas as pd\n",
      "import sqlite3 as sql\n",
      "con = sql.connect('stats_club.db')\n",
      "```"
     ]
    },
    {
     "cell_type": "code",
     "collapsed": false,
     "input": [
      "import pandas as pd\n",
      "import sqlite3 as sql\n",
      "con = sql.connect('stats_club.db')"
     ],
     "language": "python",
     "metadata": {
      "slideshow": {
       "slide_type": "fragment"
      }
     },
     "outputs": [],
     "prompt_number": 1
    },
    {
     "cell_type": "heading",
     "level": 4,
     "metadata": {
      "slideshow": {
       "slide_type": "subslide"
      }
     },
     "source": [
      "Using SQLite Browser"
     ]
    },
    {
     "cell_type": "markdown",
     "metadata": {
      "slideshow": {
       "slide_type": "fragment"
      }
     },
     "source": [
      "1. Open SQLite browser\n",
      "2. Open stats_club3.db database file in the downloaded directory\n",
      "3. Click on 'Execute SQL' tab\n",
      "    1. Open SQL file stats_club.sql file in the downloaded directory\n",
      "    2. Follow along with file, executing statement as topics dictate\n",
      "4. Content of the talk is in `Intro_SQL.html` (open in your favorite browser)\n",
      "\n",
      "\n",
      "- SQLite browser is a great tool for learning SQLite and SQL in general"
     ]
    },
    {
     "cell_type": "heading",
     "level": 1,
     "metadata": {
      "slideshow": {
       "slide_type": "slide"
      }
     },
     "source": [
      "Motivation"
     ]
    },
    {
     "cell_type": "markdown",
     "metadata": {
      "slideshow": {
       "slide_type": "-"
      }
     },
     "source": [
      "__Q:__ Why learn a database lanugage?  "
     ]
    },
    {
     "cell_type": "markdown",
     "metadata": {
      "slideshow": {
       "slide_type": "fragment"
      }
     },
     "source": [
      "- Data is rarely tidy as they are in many stats courses\n",
      "- Most of the time the data we want (outside of assignments) is in a database"
     ]
    },
    {
     "cell_type": "markdown",
     "metadata": {
      "slideshow": {
       "slide_type": "fragment"
      }
     },
     "source": [
      "__Q:__ Why learn SQL?"
     ]
    },
    {
     "cell_type": "markdown",
     "metadata": {
      "slideshow": {
       "slide_type": "fragment"
      }
     },
     "source": [
      "- One of the most popular data analysis tools ([O'Reilly Data Scientist Survey for 2014](http://www.oreilly.com/data/free/2014-data-science-salary-survey.csp))\n",
      "- One of the most in-demand skills for 2014 ([Workopolis](http://www.workopolis.com/content/advice/article/year-in-review-the-most-in-demand-jobs-of-2014-and-the-fastest-declining-occupations?CID=721:19L:14946))\n",
      "- SQL not only can retrieve data, but can slice, dice and transform the data as needed"
     ]
    },
    {
     "cell_type": "markdown",
     "metadata": {
      "slideshow": {
       "slide_type": "fragment"
      }
     },
     "source": [
      "__Q:__ What is SQL?"
     ]
    },
    {
     "cell_type": "markdown",
     "metadata": {
      "slideshow": {
       "slide_type": "fragment"
      }
     },
     "source": [
      "- A programming language allowing multiple concurrent users storing, manipulating, and querying data stored in a relational database.\n",
      "- Data does not necessary have to fit into memory."
     ]
    },
    {
     "cell_type": "markdown",
     "metadata": {
      "slideshow": {
       "slide_type": "fragment"
      }
     },
     "source": [
      "__Q:__ Why use SQLite?"
     ]
    },
    {
     "cell_type": "markdown",
     "metadata": {
      "slideshow": {
       "slide_type": "fragment"
      }
     },
     "source": [
      "- Very easy to install\n",
      "- Easy to share (database is a single file)\n",
      "- Good practice SQL language with (can easily use it to preprocess data for kaggle competitions)"
     ]
    },
    {
     "cell_type": "heading",
     "level": 2,
     "metadata": {
      "slideshow": {
       "slide_type": "subslide"
      }
     },
     "source": [
      "Different Implementations of SQL"
     ]
    },
    {
     "cell_type": "markdown",
     "metadata": {},
     "source": [
      "__[MySQL](http://www.mysql.com/):__ Highly popular open source SQL implementation."
     ]
    },
    {
     "cell_type": "markdown",
     "metadata": {
      "slideshow": {
       "slide_type": "fragment"
      }
     },
     "source": [
      "__[PostgreSQL](http://www.postgresql.org/):__ Open source SQL designed around letting users create User Defined Functions (UDF)."
     ]
    },
    {
     "cell_type": "markdown",
     "metadata": {
      "slideshow": {
       "slide_type": "fragment"
      }
     },
     "source": [
      "__[SQLite](http://www.sqlite.org/):__ Open sources light weight SQL usually used as an embedded database for applications (web browsers, mobile applications, etc.), or light to medium traffic websites. Database is saved as a single file and __only allows one writer at a time__. Various OS's have SQLite preinstalled (type `sqlite3` in terminal for mac)"
     ]
    },
    {
     "cell_type": "markdown",
     "metadata": {
      "slideshow": {
       "slide_type": "fragment"
      }
     },
     "source": [
      "__[Oracle](http://www.oracle.com/ca-en/database/overview/index.html):__ SQL implementation produced and marketed by Oracle Corporation."
     ]
    },
    {
     "cell_type": "markdown",
     "metadata": {
      "slideshow": {
       "slide_type": "fragment"
      }
     },
     "source": [
      "__[Microsoft\u00a0SQL\u00a0Server](http://www.microsoft.com/en-ca/server-cloud/products/sql-server/):__ SQL implementation developed by Microsoft."
     ]
    },
    {
     "cell_type": "markdown",
     "metadata": {
      "slideshow": {
       "slide_type": "fragment"
      }
     },
     "source": [
      "__[DB2](http://www-01.ibm.com/software/data/db2/):__ SQL developed by IBM. The database used by University of Waterloo."
     ]
    },
    {
     "cell_type": "heading",
     "level": 1,
     "metadata": {
      "slideshow": {
       "slide_type": "slide"
      }
     },
     "source": [
      "Relational Databases"
     ]
    },
    {
     "cell_type": "markdown",
     "metadata": {
      "slideshow": {
       "slide_type": "-"
      }
     },
     "source": [
      "__Relational Database:__ A relational database is a system organized in tables containing records (rows) related to other records in other tables. Each entity having attributes (columns also called fields) which give additional information on an entity. \n",
      "![alt text](Images/RelationalDatabase.png)"
     ]
    },
    {
     "cell_type": "markdown",
     "metadata": {
      "slideshow": {
       "slide_type": "fragment"
      }
     },
     "source": [
      "__Field, Attribute (Column)__: An individual piece of data stored in a table.  "
     ]
    },
    {
     "cell_type": "markdown",
     "metadata": {
      "slideshow": {
       "slide_type": "fragment"
      }
     },
     "source": [
      "__Record\u00a0(Row):__ A tuple of columns describing an entity or action of an entity.  "
     ]
    },
    {
     "cell_type": "markdown",
     "metadata": {
      "slideshow": {
       "slide_type": "fragment"
      }
     },
     "source": [
      "__Table:__ A collection of rows. Usually in reference a persistent saved permanently to memory"
     ]
    },
    {
     "cell_type": "markdown",
     "metadata": {
      "slideshow": {
       "slide_type": "fragment"
      }
     },
     "source": [
      "__Result\u00a0set:__ A non-persistent table, usually the result of a query."
     ]
    },
    {
     "cell_type": "markdown",
     "metadata": {
      "slideshow": {
       "slide_type": "fragment"
      }
     },
     "source": [
      "__Subquery:__ A query that returns a table to another query."
     ]
    },
    {
     "cell_type": "markdown",
     "metadata": {
      "slideshow": {
       "slide_type": "subslide"
      }
     },
     "source": [
      "__(Virtual)\u00a0View:__ A named query saved into memory and performed whenever it is named. Some SQL servers have materialized views that permanently save the data for faster access."
     ]
    },
    {
     "cell_type": "markdown",
     "metadata": {
      "slideshow": {
       "slide_type": "fragment"
      }
     },
     "source": [
      "__Primary\u00a0key:__ A tuple of columns that uniquely define each row in a table."
     ]
    },
    {
     "cell_type": "markdown",
     "metadata": {
      "slideshow": {
       "slide_type": "fragment"
      }
     },
     "source": [
      "__Foreign\u00a0key:__ A tuple of columns identifying a relationship to another table."
     ]
    },
    {
     "cell_type": "heading",
     "level": 2,
     "metadata": {
      "slideshow": {
       "slide_type": "slide"
      }
     },
     "source": [
      "The E-R Model"
     ]
    },
    {
     "cell_type": "markdown",
     "metadata": {},
     "source": [
      "The E-R (entity-relationship) Model is an _analysis tool_ for relational databases.  \n",
      "__E__ refers to _entity_: An object  \n",
      "__R__ refers to _relationship_: As in how objects relate to each other.  "
     ]
    },
    {
     "cell_type": "markdown",
     "metadata": {
      "slideshow": {
       "slide_type": "fragment"
      }
     },
     "source": [
      "Each entity has properties associated with every instance of an object.\n",
      "![alt text](Images/ER_Model.png)"
     ]
    },
    {
     "cell_type": "markdown",
     "metadata": {
      "slideshow": {
       "slide_type": "subslide"
      }
     },
     "source": [
      "Objects are related to each other through relationships:\n",
      "![alt text](Images/ER_Model2.png)"
     ]
    },
    {
     "cell_type": "heading",
     "level": 3,
     "metadata": {
      "slideshow": {
       "slide_type": "subslide"
      }
     },
     "source": [
      "E-R Relationships"
     ]
    },
    {
     "cell_type": "markdown",
     "metadata": {},
     "source": [
      "1. __One to one relationships:__ For every instance of object A, there are exactly one instance of object B.\n",
      "    - Every student has exactly one quest account\n",
      "2. __One to many relationships:__ For every instance of object A, there are an indeterminate number of instances of object B.\n",
      "    - A single course section has many students\n",
      "\n",
      "3. __Many to one relationships:__ For many instances of object A, there are a single instance of object B.\n",
      "    - Many students are enrolled in a course section\n",
      "\n",
      "4. __Many to many relationships:__ For many instances of object A, there are a many possible instances of object B.\n",
      "    - Many students take many courses"
     ]
    },
    {
     "cell_type": "heading",
     "level": 2,
     "metadata": {
      "slideshow": {
       "slide_type": "subslide"
      }
     },
     "source": [
      "Normalization"
     ]
    },
    {
     "cell_type": "markdown",
     "metadata": {},
     "source": [
      "__Database Normalization__ is a process in relational databases to minimize redundacy. Data can be constructed so that additions, deletions, and modifications can be made in just one table.  \n",
      "\n",
      "Data goes through three forms until it is fully utilizied by a  relational database:"
     ]
    },
    {
     "cell_type": "markdown",
     "metadata": {
      "slideshow": {
       "slide_type": "fragment"
      }
     },
     "source": [
      "1. __First Normalized Form:__ Each attribute contains only atomic values and only a single value from that domain. i.e. The data is in the form of a table with no merged columns or rows.\n",
      "2. __Second Normalized Form:__ Each attribute in the table is dependent on the entity it is describing (dependent on the primary key).\n",
      "3. __Third Normalized Form:__ All non-primary key attributes is not determined by any other non-primary key attributes."
     ]
    },
    {
     "cell_type": "markdown",
     "metadata": {
      "slideshow": {
       "slide_type": "subslide"
      }
     },
     "source": [
      "__Example:__ For each event for Stats Club we have:\n",
      "1. a list of attendies along with some basic information (email, ect.), \n",
      "2. the event's name, type (social or education), the roles for Stats Club execs for the event, time and location of the event, and a budget,\n",
      "3. as well as a list of expenses for the event  \n",
      "\n",
      "A report of the event would look something like:\n",
      "![alt text](Images/Event_report.png)"
     ]
    },
    {
     "cell_type": "markdown",
     "metadata": {
      "slideshow": {
       "slide_type": "subslide"
      }
     },
     "source": [
      "We first need to tabulate the data:\n",
      "![alt text](Images/Event_report_table.png)\n",
      "However this is not enough, the data is not in a form that can be easily recognized by computers.\n",
      "- How do you add new events?\n",
      "- What about members that attend multiple events?\n",
      "    - that attend no events?"
     ]
    },
    {
     "cell_type": "heading",
     "level": 3,
     "metadata": {
      "slideshow": {
       "slide_type": "subslide"
      }
     },
     "source": [
      "1st Normalization"
     ]
    },
    {
     "cell_type": "markdown",
     "metadata": {},
     "source": [
      "__First Normalized Form:__ Each attribute contains only atomic values and only a single value from that domain"
     ]
    },
    {
     "cell_type": "markdown",
     "metadata": {
      "slideshow": {
       "slide_type": "fragment"
      }
     },
     "source": [
      "__Example:__ To bring the data into 1st normalized form we need to break the table into two tables: Event, and Expenses:"
     ]
    },
    {
     "cell_type": "markdown",
     "metadata": {
      "slideshow": {
       "slide_type": "fragment"
      }
     },
     "source": [
      "![alt text](Images/Event_report_table_1st.png)\n",
      "- This contains all of the information before but is more organized for the computers to deal with\n",
      "- Still not enough, a mispelling of an event or type could make the database think there is a new event"
     ]
    },
    {
     "cell_type": "heading",
     "level": 3,
     "metadata": {
      "slideshow": {
       "slide_type": "subslide"
      }
     },
     "source": [
      "2nd Normalization"
     ]
    },
    {
     "cell_type": "markdown",
     "metadata": {},
     "source": [
      "__Second Normalized Form:__ Each attribute in the table is dependent on the entity it is describing (dependent on the primary key)."
     ]
    },
    {
     "cell_type": "markdown",
     "metadata": {
      "slideshow": {
       "slide_type": "fragment"
      }
     },
     "source": [
      "__Example:__ To bring the data into 2nd normalized form, we need to break the Event table again. \n",
      "Let's break the table so we get important description of the events (name, type, presenter, organizer, etc.) and a list of members that attended each event."
     ]
    },
    {
     "cell_type": "markdown",
     "metadata": {
      "slideshow": {
       "slide_type": "fragment"
      }
     },
     "source": [
      "![alt text](Images/Event_report_table_2nd.png)\n",
      "- Attendance is 2nd normalized form if we consider the primary key as the tuple of event and quest ID.\n",
      "- Attendance still has redundant information, several members can attend multiple events or none at all"
     ]
    },
    {
     "cell_type": "heading",
     "level": 3,
     "metadata": {
      "slideshow": {
       "slide_type": "subslide"
      }
     },
     "source": [
      "3rd Normalization"
     ]
    },
    {
     "cell_type": "markdown",
     "metadata": {},
     "source": [
      "__Third Normalized Form:__ All non-primary key attributes is not determined by any other non-primary key attributes.  "
     ]
    },
    {
     "cell_type": "markdown",
     "metadata": {
      "slideshow": {
       "slide_type": "fragment"
      }
     },
     "source": [
      "__Example:__ The information on each member (name, email, etc.) is not determined by the event. We need to break the attendance table to bring into 3rd normalized form: attendance and members."
     ]
    },
    {
     "cell_type": "markdown",
     "metadata": {
      "slideshow": {
       "slide_type": "fragment"
      }
     },
     "source": [
      "![alt text](Images/Event_report_table_3rd.png)"
     ]
    },
    {
     "cell_type": "heading",
     "level": 3,
     "metadata": {
      "slideshow": {
       "slide_type": "subslide"
      }
     },
     "source": [
      "Primary Keys and Foriegn Keys"
     ]
    },
    {
     "cell_type": "markdown",
     "metadata": {},
     "source": [
      "We can reconstruct the orignal table by joining tables, foreign keys with what they reference (primary keys).\n",
      "- We can only construct an instance of a foreign keys if their is already an instance of their reference\n",
      "    - i.e. the set of foreign keys for one table is a subset of the primary keys they reference"
     ]
    },
    {
     "cell_type": "markdown",
     "metadata": {
      "slideshow": {
       "slide_type": "fragment"
      }
     },
     "source": [
      "__Primary\u00a0key:__ A tuple of columns that uniquely define each row in a table. (Red items below)  \n",
      "__Foreign\u00a0key:__ A tuple of columns identifying a relationship to another table. (Blue items below)\n",
      "![alt text](Images/primary_keys.png)"
     ]
    },
    {
     "cell_type": "heading",
     "level": 3,
     "metadata": {
      "slideshow": {
       "slide_type": "subslide"
      }
     },
     "source": [
      "Quiz (5 mins)"
     ]
    },
    {
     "cell_type": "markdown",
     "metadata": {},
     "source": [
      "Normalize the following table:\n",
      "![alt text](Images/quiz1.png)"
     ]
    },
    {
     "cell_type": "code",
     "collapsed": false,
     "input": [
      "#from IPython.display import Image\n",
      "#Image('Images/quiz1sol.png')"
     ],
     "language": "python",
     "metadata": {
      "slideshow": {
       "slide_type": "fragment"
      }
     },
     "outputs": [],
     "prompt_number": 2
    },
    {
     "cell_type": "heading",
     "level": 2,
     "metadata": {
      "slideshow": {
       "slide_type": "slide"
      }
     },
     "source": [
      "Relational Algebra Operations"
     ]
    },
    {
     "cell_type": "markdown",
     "metadata": {
      "slideshow": {
       "slide_type": "-"
      }
     },
     "source": [
      "__Projection\u00a0(__\ud835\udf0b__):__ Returns a subset of columns."
     ]
    },
    {
     "cell_type": "markdown",
     "metadata": {
      "slideshow": {
       "slide_type": "fragment"
      }
     },
     "source": [
      "__Selection\u00a0(__\ud835\udf0e__):__ Returns only entities where some condition is true."
     ]
    },
    {
     "cell_type": "markdown",
     "metadata": {
      "slideshow": {
       "slide_type": "fragment"
      }
     },
     "source": [
      "__Rename\u00a0(__\ud835\udf0c__):__ Rename an attribute."
     ]
    },
    {
     "cell_type": "markdown",
     "metadata": {
      "slideshow": {
       "slide_type": "fragment"
      }
     },
     "source": [
      "__Natural\u00a0Join:__ Tuples from one table is joined to tuples from another table based on common attributes (at least one column with the same name and possible values is common between them)"
     ]
    },
    {
     "cell_type": "markdown",
     "metadata": {
      "slideshow": {
       "slide_type": "fragment"
      }
     },
     "source": [
      "\ud835\udf03__-Join\u00a0and\u00a0Equijoin:__ Join tuples from two different tables where some binary condition (\ud835\udf03 = {\u2265, \u2264, >, <, =}) between two tables attributes is true. When \ud835\udf03 is =, the join is called an equijoin.\n",
      "$$\\theta=\\left\\{ \\ge,\\le,<,>,=\\right\\}$$"
     ]
    },
    {
     "cell_type": "markdown",
     "metadata": {
      "slideshow": {
       "slide_type": "fragment"
      }
     },
     "source": [
      "__Set\u00a0Operations:__ Set theory's unions, set difference, and cartesian product of tuples performed on tuples of different tables."
     ]
    },
    {
     "cell_type": "heading",
     "level": 3,
     "metadata": {
      "slideshow": {
       "slide_type": "subslide"
      }
     },
     "source": [
      "Quiz"
     ]
    },
    {
     "cell_type": "markdown",
     "metadata": {},
     "source": [
      "__Q1:__ What kind of operation is performed on the following table?\n",
      "![alt text](Images/quiz2a.png)"
     ]
    },
    {
     "cell_type": "markdown",
     "metadata": {},
     "source": [
      "__Q2:__ What kind of operation is performed on the following table?\n",
      "![alt text](Images/quiz2b.png)"
     ]
    },
    {
     "cell_type": "markdown",
     "metadata": {
      "slideshow": {
       "slide_type": "subslide"
      }
     },
     "source": [
      "__Q3:__ What kinds of joins can peform on tables?"
     ]
    },
    {
     "cell_type": "heading",
     "level": 2,
     "metadata": {
      "slideshow": {
       "slide_type": "slide"
      }
     },
     "source": [
      "Constraints"
     ]
    },
    {
     "cell_type": "markdown",
     "metadata": {},
     "source": [
      "Constraints limit what can be entered into fields in a table and help ensure encapsulation: "
     ]
    },
    {
     "cell_type": "markdown",
     "metadata": {
      "slideshow": {
       "slide_type": "fragment"
      }
     },
     "source": [
      "__PRIMARY\u00a0KEY constraints__\u00a0 Uniquely identifies each record in a table (quickly referencing it)"
     ]
    },
    {
     "cell_type": "markdown",
     "metadata": {
      "slideshow": {
       "slide_type": "fragment"
      }
     },
     "source": [
      "__FOREIGN\u00a0KEY constraints__ Points to a PRIMARY KEY of another table, enabling them to easily join them"
     ]
    },
    {
     "cell_type": "markdown",
     "metadata": {
      "slideshow": {
       "slide_type": "fragment"
      }
     },
     "source": [
      "__CHECK constraints__ Limits the range of values that a field can take."
     ]
    },
    {
     "cell_type": "markdown",
     "metadata": {
      "slideshow": {
       "slide_type": "fragment"
      }
     },
     "source": [
      "__UNIQUE constraints__\u00a0Enforces uniqueness on an field (column)."
     ]
    },
    {
     "cell_type": "markdown",
     "metadata": {
      "slideshow": {
       "slide_type": "fragment"
      }
     },
     "source": [
      "__NOT\u00a0NULL constraints__\u00a0 Enforces a field to always contain a value."
     ]
    },
    {
     "cell_type": "markdown",
     "metadata": {
      "slideshow": {
       "slide_type": "fragment"
      }
     },
     "source": [
      "__DROP constraints__ Drops a constraint from a table."
     ]
    },
    {
     "cell_type": "markdown",
     "metadata": {
      "slideshow": {
       "slide_type": "fragment"
      }
     },
     "source": [
      "- We can also create indexes for fields making them easily searchable"
     ]
    },
    {
     "cell_type": "heading",
     "level": 1,
     "metadata": {
      "slideshow": {
       "slide_type": "slide"
      }
     },
     "source": [
      "SQL Language"
     ]
    },
    {
     "cell_type": "markdown",
     "metadata": {},
     "source": [
      "- Case does not matter, for presentation purposes UPPER CASE is used for SQL key words  \n",
      "- SQL statements are processed as a whole (ignoring white space and new lines) and ends with a ';'\n",
      "- We will be used a database based on Stats Club, supplied with fake data:\n",
      "\n",
      "![alt text](Images/StatClubTables.png)"
     ]
    },
    {
     "cell_type": "heading",
     "level": 2,
     "metadata": {
      "slideshow": {
       "slide_type": "slide"
      }
     },
     "source": [
      "Data Types"
     ]
    },
    {
     "cell_type": "markdown",
     "metadata": {},
     "source": [
      "In SQLite3, there are 5 basic data types:\n",
      "\n",
      "1. __INTEGER__ The value is a signed integer.\n",
      "\n",
      "2. __REAL__ The value is a floating point value, stored as an 8-byte IEEE floating point number.\n",
      "\n",
      "3. __TEXT__ The value is a text string.\n",
      "\n",
      "4. __BLOB__ The value is a blob of data, stored exactly as it was input.\n",
      "\n",
      "5. __NUMERIC__ May contain integer or real values. The data is stored as text but converted as necessary."
     ]
    },
    {
     "cell_type": "markdown",
     "metadata": {
      "slideshow": {
       "slide_type": "fragment"
      }
     },
     "source": [
      "- Any datatype can have NULL values\n",
      "\n",
      "__NULL__ The value is a NULL value. This is best thought of NULL is as the value is unknown."
     ]
    },
    {
     "cell_type": "markdown",
     "metadata": {
      "slideshow": {
       "slide_type": "fragment"
      }
     },
     "source": [
      "- if either x or y is NULL:\n",
      "$$x+y\\implies\\mbox{NULL}$$\n",
      "$$x>y\\implies\\mbox{NULL}$$"
     ]
    },
    {
     "cell_type": "heading",
     "level": 3,
     "metadata": {
      "slideshow": {
       "slide_type": "subslide"
      }
     },
     "source": [
      "SQL General Data Types"
     ]
    },
    {
     "cell_type": "markdown",
     "metadata": {
      "slideshow": {
       "slide_type": "-"
      }
     },
     "source": [
      "- Different implementations of SQL uses different datatypes but there are some [general commonalities](http://www.w3schools.com/sql/sql_datatypes_general.asp):"
     ]
    },
    {
     "cell_type": "markdown",
     "metadata": {
      "slideshow": {
       "slide_type": "fragment"
      }
     },
     "source": [
      "| Data type | Description |\n",
      "|-----------|-------------|\n",
      "| CHAR(n) | Character string. Fixed length n |\n",
      "| VARCHAR(n) | Character string.  Variable length <= n |\n",
      "| BINARY(n) | Binary string. Fixed length n |\n",
      "| BOOLEAN | TRUE or FALSE values |\n",
      "| VARBINARY(n) | Binary string. Variable length <= n |\n",
      "| INTEGER(p) | Integer numerical (no decimal). Precision p |\n",
      "| SMALLINT | Integer numerical (no decimal). Precision 5 |\n",
      "| INTEGER | Integer numerical (no decimal). Precision 10 |\n",
      "| BIGINT | Integer numerical (no decimal). Precision 19 |\n",
      "| DECIMAL(p,s) | Exact numerical. precision p, scale s |\n",
      "| NUMERIC(p,s) | Exact numerical. precision p, scale s |\n",
      "| FLOAT(p) | Floating point number. mantissa precision p |\n",
      "| REAL | Approximate numerical. Mantissa percision 7 |\n",
      "| FLOAT | Approximate numerical. Mantissa percision 16 |\n",
      "| DATE | Stores year, month, and day values |\n",
      "| TIME | Stores hour, minute, and second values |\n",
      "| TIMESTAMP | Stores year, month, day, hour, minute, and second values |"
     ]
    },
    {
     "cell_type": "heading",
     "level": 3,
     "metadata": {
      "slideshow": {
       "slide_type": "subslide"
      }
     },
     "source": [
      "NULL Values"
     ]
    },
    {
     "cell_type": "markdown",
     "metadata": {},
     "source": [
      "SQL uses a three-value logic system: TRUE, FALSE, NULL:  \n",
      "\n",
      "| AND | TRUE | FALSE | NULL |\n",
      "|-----|------|-------|------|\n",
      "| TRUE | T | F | NULL | \n",
      "| FALSE | F | F | F | \n",
      "| NULL | NULL | F | NULL |   "
     ]
    },
    {
     "cell_type": "markdown",
     "metadata": {
      "slideshow": {
       "slide_type": "fragment"
      }
     },
     "source": [
      "| OR | TRUE | FALSE | NULL |\n",
      "|-----|------|-------|------|\n",
      "| TRUE | T | T | T | \n",
      "| FALSE | T | F | NULL | \n",
      "| NULL | T | NULL | NULL |"
     ]
    },
    {
     "cell_type": "markdown",
     "metadata": {
      "slideshow": {
       "slide_type": "fragment"
      }
     },
     "source": [
      "| NOT | TRUE | FALSE | NULL |\n",
      "|-----|------|-------|------|\n",
      "|  | F | T | NULL | "
     ]
    },
    {
     "cell_type": "heading",
     "level": 2,
     "metadata": {
      "slideshow": {
       "slide_type": "slide"
      }
     },
     "source": [
      "Projection (SELECT Clause)"
     ]
    },
    {
     "cell_type": "markdown",
     "metadata": {},
     "source": [
      "__SELECT Statement:__ The SELECT statement returns a table of values (sometimes empty) as specified in the statement.  \n",
      "\n",
      "__SELECT Clause:__ The SELECT clause of a SELECT statement specifies the columns for the result set.\n",
      "```sql\n",
      "SELECT col1, col2, ...\n",
      "FROM tables;\n",
      "```\n",
      "- We can also specify all columns form a table  \n",
      "\n",
      "```sql\n",
      "SELECT *\n",
      "FROM tables;\n",
      "```"
     ]
    },
    {
     "cell_type": "markdown",
     "metadata": {
      "slideshow": {
       "slide_type": "fragment"
      }
     },
     "source": [
      "In SELECT clauses, we can specify more than just columns:  \n",
      "__Literials:__ Strings, numbers that are repeated for every row  \n",
      "__Expressions:__ Expressions of columns/literals  \n",
      "__Functions:__ Built in functions in SQL (ROUND(), etc.)  \n",
      "__User\u00a0Defined\u00a0Functions:__ Functions that a user can create within SQL to run"
     ]
    },
    {
     "cell_type": "markdown",
     "metadata": {
      "slideshow": {
       "slide_type": "subslide"
      }
     },
     "source": [
      "__Example:__ What are the names, type, times and locations for Stats Club?"
     ]
    },
    {
     "cell_type": "markdown",
     "metadata": {
      "slideshow": {
       "slide_type": "fragment"
      }
     },
     "source": [
      "```sql\n",
      "SELECT name, type, start_time, end_time, location \n",
      "FROM event;\n",
      "```"
     ]
    },
    {
     "cell_type": "code",
     "collapsed": false,
     "input": [
      "pd.read_sql_query(\n",
      "\"SELECT name, type, start_time, end_time, location \\\n",
      "FROM event\", con)"
     ],
     "language": "python",
     "metadata": {
      "slideshow": {
       "slide_type": "fragment"
      }
     },
     "outputs": [
      {
       "html": [
        "<div style=\"max-height:1000px;max-width:1500px;overflow:auto;\">\n",
        "<table border=\"1\" class=\"dataframe\">\n",
        "  <thead>\n",
        "    <tr style=\"text-align: right;\">\n",
        "      <th></th>\n",
        "      <th>name</th>\n",
        "      <th>type</th>\n",
        "      <th>start_time</th>\n",
        "      <th>end_time</th>\n",
        "      <th>location</th>\n",
        "    </tr>\n",
        "  </thead>\n",
        "  <tbody>\n",
        "    <tr>\n",
        "      <th>0</th>\n",
        "      <td>             BOT</td>\n",
        "      <td>      social</td>\n",
        "      <td> </td>\n",
        "      <td> </td>\n",
        "      <td>     MC Comfy</td>\n",
        "    </tr>\n",
        "    <tr>\n",
        "      <th>1</th>\n",
        "      <td>             EOT</td>\n",
        "      <td>      social</td>\n",
        "      <td> </td>\n",
        "      <td> </td>\n",
        "      <td> Molly Blooms</td>\n",
        "    </tr>\n",
        "    <tr>\n",
        "      <th>2</th>\n",
        "      <td> Intro to Hadoop</td>\n",
        "      <td> educational</td>\n",
        "      <td> </td>\n",
        "      <td> </td>\n",
        "      <td>             </td>\n",
        "    </tr>\n",
        "    <tr>\n",
        "      <th>3</th>\n",
        "      <td>    Intro to Pig</td>\n",
        "      <td> educational</td>\n",
        "      <td> </td>\n",
        "      <td> </td>\n",
        "      <td>             </td>\n",
        "    </tr>\n",
        "    <tr>\n",
        "      <th>4</th>\n",
        "      <td>    Intro to SQL</td>\n",
        "      <td> educational</td>\n",
        "      <td> </td>\n",
        "      <td> </td>\n",
        "      <td>             </td>\n",
        "    </tr>\n",
        "    <tr>\n",
        "      <th>5</th>\n",
        "      <td>       Prof Talk</td>\n",
        "      <td> educational</td>\n",
        "      <td> </td>\n",
        "      <td> </td>\n",
        "      <td>             </td>\n",
        "    </tr>\n",
        "    <tr>\n",
        "      <th>6</th>\n",
        "      <td>      R Tutorial</td>\n",
        "      <td> educational</td>\n",
        "      <td> </td>\n",
        "      <td> </td>\n",
        "      <td>             </td>\n",
        "    </tr>\n",
        "  </tbody>\n",
        "</table>\n",
        "</div>"
       ],
       "metadata": {},
       "output_type": "pyout",
       "prompt_number": 3,
       "text": [
        "              name         type start_time end_time      location\n",
        "0              BOT       social                          MC Comfy\n",
        "1              EOT       social                      Molly Blooms\n",
        "2  Intro to Hadoop  educational                                  \n",
        "3     Intro to Pig  educational                                  \n",
        "4     Intro to SQL  educational                                  \n",
        "5        Prof Talk  educational                                  \n",
        "6       R Tutorial  educational                                  "
       ]
      }
     ],
     "prompt_number": 3
    },
    {
     "cell_type": "heading",
     "level": 3,
     "metadata": {
      "slideshow": {
       "slide_type": "subslide"
      }
     },
     "source": [
      "DISTINCT Prefix"
     ]
    },
    {
     "cell_type": "markdown",
     "metadata": {},
     "source": [
      "In the SELECT clause we can specify to return only distinct tuples of columns\n",
      "```sql\n",
      "SELECT DISTINCT col1, col2, ...\n",
      "FROM tables;\n",
      "```"
     ]
    },
    {
     "cell_type": "heading",
     "level": 3,
     "metadata": {
      "slideshow": {
       "slide_type": "subslide"
      }
     },
     "source": [
      "Alias"
     ]
    },
    {
     "cell_type": "heading",
     "level": 4,
     "metadata": {},
     "source": [
      "Column Alias"
     ]
    },
    {
     "cell_type": "markdown",
     "metadata": {},
     "source": [
      "To increase the readability of SQL as well as the result set, we can give columns new names:\n",
      "```sql\n",
      "SELECT col AS new_name\n",
      "FROM tables;\n",
      "```"
     ]
    },
    {
     "cell_type": "heading",
     "level": 4,
     "metadata": {
      "slideshow": {
       "slide_type": "fragment"
      }
     },
     "source": [
      "Table Alias"
     ]
    },
    {
     "cell_type": "markdown",
     "metadata": {
      "slideshow": {
       "slide_type": "fragment"
      }
     },
     "source": [
      "We can also give tables new names as well:\n",
      "```sql\n",
      "SELECT t1.col1, t2.col2, ...\n",
      "FROM table1 AS t1, table2 AS t2;\n",
      "```\n",
      "- Very useful when tables have common names but different meanings"
     ]
    },
    {
     "cell_type": "heading",
     "level": 3,
     "metadata": {
      "slideshow": {
       "slide_type": "subslide"
      }
     },
     "source": [
      "Quiz"
     ]
    },
    {
     "cell_type": "markdown",
     "metadata": {},
     "source": [
      "__Q:__ Who are the execs for Stats Club, and what are their positions, and emails?\n",
      "- Projection of name, position, and email from the table exec"
     ]
    },
    {
     "cell_type": "code",
     "collapsed": false,
     "input": [
      "#pd.read_sql_query(\"  \", con)"
     ],
     "language": "python",
     "metadata": {},
     "outputs": [],
     "prompt_number": 4
    },
    {
     "cell_type": "code",
     "collapsed": false,
     "input": [
      "# to check your answer, remove the '#' below and run the cell\n",
      "#%load quizSELECT.py"
     ],
     "language": "python",
     "metadata": {
      "slideshow": {
       "slide_type": "skip"
      }
     },
     "outputs": [],
     "prompt_number": 5
    },
    {
     "cell_type": "heading",
     "level": 2,
     "metadata": {
      "slideshow": {
       "slide_type": "slide"
      }
     },
     "source": [
      "Selection (WHERE Clause)"
     ]
    },
    {
     "cell_type": "markdown",
     "metadata": {},
     "source": [
      "__WHERE__ clauses filters the result set, removing rows where the condition returns either FALSE or NULL.\n",
      "\n",
      "```sql\n",
      "SELECT col1, col2, ...\n",
      "FROM tables\n",
      "WHERE condition;\n",
      "```"
     ]
    },
    {
     "cell_type": "markdown",
     "metadata": {
      "slideshow": {
       "slide_type": "fragment"
      }
     },
     "source": [
      "__Example:__ What Stats Club events are social?"
     ]
    },
    {
     "cell_type": "markdown",
     "metadata": {
      "slideshow": {
       "slide_type": "fragment"
      }
     },
     "source": [
      "```sql\n",
      "SELECT name, type, start_time, end_time, location \n",
      "FROM event \n",
      "WHERE type = 'social';\n",
      "```"
     ]
    },
    {
     "cell_type": "code",
     "collapsed": false,
     "input": [
      "pd.read_sql_query(\n",
      "\"SELECT name, type, start_time, end_time, location \\\n",
      "FROM event \\\n",
      "WHERE type = 'social'\", con)"
     ],
     "language": "python",
     "metadata": {
      "slideshow": {
       "slide_type": "fragment"
      }
     },
     "outputs": [
      {
       "html": [
        "<div style=\"max-height:1000px;max-width:1500px;overflow:auto;\">\n",
        "<table border=\"1\" class=\"dataframe\">\n",
        "  <thead>\n",
        "    <tr style=\"text-align: right;\">\n",
        "      <th></th>\n",
        "      <th>name</th>\n",
        "      <th>type</th>\n",
        "      <th>start_time</th>\n",
        "      <th>end_time</th>\n",
        "      <th>location</th>\n",
        "    </tr>\n",
        "  </thead>\n",
        "  <tbody>\n",
        "    <tr>\n",
        "      <th>0</th>\n",
        "      <td> BOT</td>\n",
        "      <td> social</td>\n",
        "      <td> </td>\n",
        "      <td> </td>\n",
        "      <td>     MC Comfy</td>\n",
        "    </tr>\n",
        "    <tr>\n",
        "      <th>1</th>\n",
        "      <td> EOT</td>\n",
        "      <td> social</td>\n",
        "      <td> </td>\n",
        "      <td> </td>\n",
        "      <td> Molly Blooms</td>\n",
        "    </tr>\n",
        "  </tbody>\n",
        "</table>\n",
        "</div>"
       ],
       "metadata": {},
       "output_type": "pyout",
       "prompt_number": 6,
       "text": [
        "  name    type start_time end_time      location\n",
        "0  BOT  social                          MC Comfy\n",
        "1  EOT  social                      Molly Blooms"
       ]
      }
     ],
     "prompt_number": 6
    },
    {
     "cell_type": "heading",
     "level": 3,
     "metadata": {
      "slideshow": {
       "slide_type": "subslide"
      }
     },
     "source": [
      "Prediate Operators"
     ]
    },
    {
     "cell_type": "markdown",
     "metadata": {},
     "source": [
      "| Operator | Description | Example |\n",
      "|----------|-------------|---------|\n",
      "| = | Equal to | WHERE gender = 'M' |\n",
      "| <>, != | Not equal to | WHERE gender <> 'M' |\n",
      "| > | Greater than | WHERE num > 5 |\n",
      "| < | Less than | WHERE num < 5 |\n",
      "| >= | Greater than or equal to | WHERE num >= 5 |\n",
      "| <= | Less than or equal to | WHERE num <= 5 |\n",
      "| IS NULL | Value is NULL | WHERE num IS NULL |\n",
      "| IS NOT NULL | Value is NULL | WHERE num IS NOT NULL |\n",
      "| BETWEEN | Between an inclusive range | WHERE num BETWEEN 3 AND 5 |\n",
      "| IN | Value is a list of values | WHERE num IN (3, 5, 8) |\n",
      "| LIKE | Search for a pattern | WHERE str LIKE 'F%' |\n",
      "| EXISTS | Does subquery have any rows | WHERE EXISTS (subquery) |"
     ]
    },
    {
     "cell_type": "heading",
     "level": 4,
     "metadata": {
      "slideshow": {
       "slide_type": "subslide"
      }
     },
     "source": [
      "LIKE Predicate"
     ]
    },
    {
     "cell_type": "markdown",
     "metadata": {},
     "source": [
      "LIKE predicates \n",
      "\n",
      "'\\_' means a character of any type  \n",
      "'%' means between 0 or more characters of any type"
     ]
    },
    {
     "cell_type": "markdown",
     "metadata": {
      "slideshow": {
       "slide_type": "fragment"
      }
     },
     "source": [
      "__Example:__ What Stats Club members has a name begining with F?"
     ]
    },
    {
     "cell_type": "markdown",
     "metadata": {
      "slideshow": {
       "slide_type": "fragment"
      }
     },
     "source": [
      "```sql\n",
      "SELECT * \n",
      "FROM member \n",
      "WHERE name LIKE 'F%';\n",
      "```"
     ]
    },
    {
     "cell_type": "code",
     "collapsed": false,
     "input": [
      "pd.read_sql_query(\n",
      "\"SELECT * \\\n",
      "FROM member \\\n",
      "WHERE name LIKE 'F%'\", con)"
     ],
     "language": "python",
     "metadata": {
      "slideshow": {
       "slide_type": "fragment"
      }
     },
     "outputs": [
      {
       "html": [
        "<div style=\"max-height:1000px;max-width:1500px;overflow:auto;\">\n",
        "<table border=\"1\" class=\"dataframe\">\n",
        "  <thead>\n",
        "    <tr style=\"text-align: right;\">\n",
        "      <th></th>\n",
        "      <th>quest_id</th>\n",
        "      <th>name</th>\n",
        "      <th>email</th>\n",
        "      <th>faculty</th>\n",
        "      <th>major</th>\n",
        "      <th>paid</th>\n",
        "      <th>card</th>\n",
        "    </tr>\n",
        "  </thead>\n",
        "  <tbody>\n",
        "    <tr>\n",
        "      <th>0</th>\n",
        "      <td>    fred</td>\n",
        "      <td>     Fred E. Finch</td>\n",
        "      <td>    fred@uwaterloo.ca</td>\n",
        "      <td> Math</td>\n",
        "      <td> Pure Math</td>\n",
        "      <td> Y</td>\n",
        "      <td> Y</td>\n",
        "    </tr>\n",
        "    <tr>\n",
        "      <th>1</th>\n",
        "      <td> frances</td>\n",
        "      <td> Frances A. Miller</td>\n",
        "      <td> frances@uwaterloo.ca</td>\n",
        "      <td> Math</td>\n",
        "      <td>     Stats</td>\n",
        "      <td> Y</td>\n",
        "      <td> Y</td>\n",
        "    </tr>\n",
        "  </tbody>\n",
        "</table>\n",
        "</div>"
       ],
       "metadata": {},
       "output_type": "pyout",
       "prompt_number": 7,
       "text": [
        "  quest_id               name                 email faculty      major paid  \\\n",
        "0     fred      Fred E. Finch     fred@uwaterloo.ca    Math  Pure Math    Y   \n",
        "1  frances  Frances A. Miller  frances@uwaterloo.ca    Math      Stats    Y   \n",
        "\n",
        "  card  \n",
        "0    Y  \n",
        "1    Y  "
       ]
      }
     ],
     "prompt_number": 7
    },
    {
     "cell_type": "heading",
     "level": 3,
     "metadata": {
      "slideshow": {
       "slide_type": "subslide"
      }
     },
     "source": [
      "AND, OR Operators"
     ]
    },
    {
     "cell_type": "markdown",
     "metadata": {},
     "source": [
      "A group of filter conditions can be linked together with AND or OR operators. \n",
      "\n",
      "```sql\n",
      "SELECT col1, col2, ...\n",
      "FROM tables\n",
      "WHERE (condition1 AND condition2 ) OR condition3;\n",
      "```"
     ]
    },
    {
     "cell_type": "heading",
     "level": 3,
     "metadata": {
      "slideshow": {
       "slide_type": "subslide"
      }
     },
     "source": [
      "Quiz"
     ]
    },
    {
     "cell_type": "markdown",
     "metadata": {},
     "source": [
      "__Q:__ What events for Stats Club are introductory talks?\n",
      "- Introductory talk names start with 'Intro'"
     ]
    },
    {
     "cell_type": "code",
     "collapsed": false,
     "input": [
      "#pd.read_sql_query(\"   \", con)"
     ],
     "language": "python",
     "metadata": {},
     "outputs": [],
     "prompt_number": 8
    },
    {
     "cell_type": "code",
     "collapsed": false,
     "input": [
      "# to check your answer, remove the '#' below and run the cell\n",
      "#%load quizWHERE.py"
     ],
     "language": "python",
     "metadata": {
      "slideshow": {
       "slide_type": "skip"
      }
     },
     "outputs": [],
     "prompt_number": 9
    },
    {
     "cell_type": "heading",
     "level": 2,
     "metadata": {
      "slideshow": {
       "slide_type": "slide"
      }
     },
     "source": [
      "GROUP BY Clause"
     ]
    },
    {
     "cell_type": "markdown",
     "metadata": {},
     "source": [
      "- GROUP BY clause groups the table by a column (or tuple of columns) and applies a function to each group\n",
      "    - In the SELECT portion of the statement, you can only list the grouped column(s) and aggregate functions on them.  \n",
      "\n",
      "![alt text](Images/Group By.png)"
     ]
    },
    {
     "cell_type": "markdown",
     "metadata": {
      "slideshow": {
       "slide_type": "fragment"
      }
     },
     "source": [
      "```sql\n",
      "SELECT col1, col2, ..., aggregate_function\n",
      "FROM tables\n",
      "GROUP BY col1, col2, ...;\n",
      "```"
     ]
    },
    {
     "cell_type": "heading",
     "level": 3,
     "metadata": {
      "slideshow": {
       "slide_type": "subslide"
      }
     },
     "source": [
      "Aggregate Functions"
     ]
    },
    {
     "cell_type": "markdown",
     "metadata": {},
     "source": [
      "| Function | Return value |\n",
      "|----------|--------------|\n",
      "| AVG(column) | Average of non-null values |\n",
      "| COUNT(column) | Count of non-null values |\n",
      "| MAX(column) | Maximum of values |\n",
      "| MIN(column) | Minimum of values |\n",
      "| SUM(column) | Sum of values |\n",
      "| GROUP_CONCAT(column) | Concatenation of column strings |\n",
      "\n",
      "- There are more aggregate functions for other implementations of SQL"
     ]
    },
    {
     "cell_type": "markdown",
     "metadata": {
      "slideshow": {
       "slide_type": "subslide"
      }
     },
     "source": [
      "__Example:__ What are the number of each type of event for Stats Club?"
     ]
    },
    {
     "cell_type": "markdown",
     "metadata": {
      "slideshow": {
       "slide_type": "fragment"
      }
     },
     "source": [
      "```sql\n",
      "SELECT type, COUNT(*) AS num_events \n",
      "FROM event \n",
      "GROUP BY type;\n",
      "```"
     ]
    },
    {
     "cell_type": "code",
     "collapsed": false,
     "input": [
      "pd.read_sql_query(\n",
      "\"SELECT type, COUNT(*) AS num_events \\\n",
      "FROM event \\\n",
      "GROUP BY type\", con)"
     ],
     "language": "python",
     "metadata": {
      "slideshow": {
       "slide_type": "fragment"
      }
     },
     "outputs": [
      {
       "html": [
        "<div style=\"max-height:1000px;max-width:1500px;overflow:auto;\">\n",
        "<table border=\"1\" class=\"dataframe\">\n",
        "  <thead>\n",
        "    <tr style=\"text-align: right;\">\n",
        "      <th></th>\n",
        "      <th>type</th>\n",
        "      <th>num_events</th>\n",
        "    </tr>\n",
        "  </thead>\n",
        "  <tbody>\n",
        "    <tr>\n",
        "      <th>0</th>\n",
        "      <td> educational</td>\n",
        "      <td> 5</td>\n",
        "    </tr>\n",
        "    <tr>\n",
        "      <th>1</th>\n",
        "      <td>      social</td>\n",
        "      <td> 2</td>\n",
        "    </tr>\n",
        "  </tbody>\n",
        "</table>\n",
        "</div>"
       ],
       "metadata": {},
       "output_type": "pyout",
       "prompt_number": 10,
       "text": [
        "          type  num_events\n",
        "0  educational           5\n",
        "1       social           2"
       ]
      }
     ],
     "prompt_number": 10
    },
    {
     "cell_type": "heading",
     "level": 3,
     "metadata": {
      "slideshow": {
       "slide_type": "subslide"
      }
     },
     "source": [
      "HAVING Clause"
     ]
    },
    {
     "cell_type": "markdown",
     "metadata": {},
     "source": [
      "HAVING clauses are very similar to WHERE clauses but can have aggregate function in their conditions.\n",
      "\n",
      "You can have a WHERE and HAVING clause in the same statement."
     ]
    },
    {
     "cell_type": "markdown",
     "metadata": {
      "slideshow": {
       "slide_type": "fragment"
      }
     },
     "source": [
      "__Example:__ How many Stats Club members are in each major where the major has at least 2 members?"
     ]
    },
    {
     "cell_type": "markdown",
     "metadata": {
      "slideshow": {
       "slide_type": "fragment"
      }
     },
     "source": [
      "```sql\n",
      "SELECT faculty, major, COUNT(*) \n",
      "FROM member \n",
      "GROUP BY faculty, major \n",
      "HAVING COUNT(*) >= 2;\n",
      "```"
     ]
    },
    {
     "cell_type": "code",
     "collapsed": false,
     "input": [
      "pd.read_sql_query(\n",
      "\"SELECT faculty, major, COUNT(*) \\\n",
      "FROM member \\\n",
      "GROUP BY faculty, major \\\n",
      "HAVING COUNT(*) >= 2\", con)"
     ],
     "language": "python",
     "metadata": {
      "slideshow": {
       "slide_type": "fragment"
      }
     },
     "outputs": [
      {
       "html": [
        "<div style=\"max-height:1000px;max-width:1500px;overflow:auto;\">\n",
        "<table border=\"1\" class=\"dataframe\">\n",
        "  <thead>\n",
        "    <tr style=\"text-align: right;\">\n",
        "      <th></th>\n",
        "      <th>faculty</th>\n",
        "      <th>major</th>\n",
        "      <th>COUNT(*)</th>\n",
        "    </tr>\n",
        "  </thead>\n",
        "  <tbody>\n",
        "    <tr>\n",
        "      <th>0</th>\n",
        "      <td> Math</td>\n",
        "      <td>      Act Sci</td>\n",
        "      <td> 10</td>\n",
        "    </tr>\n",
        "    <tr>\n",
        "      <th>1</th>\n",
        "      <td> Math</td>\n",
        "      <td> Applied Math</td>\n",
        "      <td>  2</td>\n",
        "    </tr>\n",
        "    <tr>\n",
        "      <th>2</th>\n",
        "      <td> Math</td>\n",
        "      <td>        C &amp; O</td>\n",
        "      <td>  2</td>\n",
        "    </tr>\n",
        "    <tr>\n",
        "      <th>3</th>\n",
        "      <td> Math</td>\n",
        "      <td>           CS</td>\n",
        "      <td>  3</td>\n",
        "    </tr>\n",
        "    <tr>\n",
        "      <th>4</th>\n",
        "      <td> Math</td>\n",
        "      <td>    Pure Math</td>\n",
        "      <td>  2</td>\n",
        "    </tr>\n",
        "    <tr>\n",
        "      <th>5</th>\n",
        "      <td> Math</td>\n",
        "      <td>        Stats</td>\n",
        "      <td> 14</td>\n",
        "    </tr>\n",
        "  </tbody>\n",
        "</table>\n",
        "</div>"
       ],
       "metadata": {},
       "output_type": "pyout",
       "prompt_number": 11,
       "text": [
        "  faculty         major  COUNT(*)\n",
        "0    Math       Act Sci        10\n",
        "1    Math  Applied Math         2\n",
        "2    Math         C & O         2\n",
        "3    Math            CS         3\n",
        "4    Math     Pure Math         2\n",
        "5    Math         Stats        14"
       ]
      }
     ],
     "prompt_number": 11
    },
    {
     "cell_type": "heading",
     "level": 3,
     "metadata": {
      "slideshow": {
       "slide_type": "subslide"
      }
     },
     "source": [
      "GROUP BY with ROLLUP / CUBE"
     ]
    },
    {
     "cell_type": "markdown",
     "metadata": {},
     "source": [
      "The ROLLUP operator produces a result set where the aggregate function is applied to each level of the GROUP BY hierachy.\n",
      "- The ROLLUP operator is __NOT__ implemented in SQLite\n",
      "- Useful for making reports with totals and subtotals"
     ]
    },
    {
     "cell_type": "markdown",
     "metadata": {
      "slideshow": {
       "slide_type": "fragment"
      }
     },
     "source": [
      "```sql\n",
      "SELECT col1, col2, ..., aggregate_function\n",
      "FROM tables\n",
      "GROUP BY col1, col2, ... WITH ROLLUP;\n",
      "```"
     ]
    },
    {
     "cell_type": "heading",
     "level": 3,
     "metadata": {
      "slideshow": {
       "slide_type": "subslide"
      }
     },
     "source": [
      "Quiz"
     ]
    },
    {
     "cell_type": "markdown",
     "metadata": {},
     "source": [
      "__Q:__ What are the attendance for each Stats Club event?"
     ]
    },
    {
     "cell_type": "code",
     "collapsed": false,
     "input": [
      "#pd.read_sql_query(\"  \", con)"
     ],
     "language": "python",
     "metadata": {
      "slideshow": {
       "slide_type": "fragment"
      }
     },
     "outputs": [],
     "prompt_number": 12
    },
    {
     "cell_type": "code",
     "collapsed": false,
     "input": [
      "# to check your answer, remove the '#' below and run the cell\n",
      "#%load quizGROUPBY.py"
     ],
     "language": "python",
     "metadata": {
      "slideshow": {
       "slide_type": "skip"
      }
     },
     "outputs": [],
     "prompt_number": 13
    },
    {
     "cell_type": "heading",
     "level": 2,
     "metadata": {
      "slideshow": {
       "slide_type": "slide"
      }
     },
     "source": [
      "Joins"
     ]
    },
    {
     "cell_type": "markdown",
     "metadata": {},
     "source": [
      "At times, we need information from multiple tables, to do this we need to join tables together. We can do this several ways:"
     ]
    },
    {
     "cell_type": "markdown",
     "metadata": {
      "slideshow": {
       "slide_type": "fragment"
      }
     },
     "source": [
      "1. __CROSS JOIN:__ The cartesian product of rows from each table.\n",
      "2. __INNER JOIN:__ Join two tables on a join-predicate, losing rows when evaluated false/null.\n",
      "3. __OUTER JOIN:__ Retains each record for the table(s) even when it has no matching rows from the other table. The returning table has null values for missing records.\n",
      "\n",
      "    1. __LEFT OUTER JOIN:__ Keep each record for first table but not the table it's joining with.\n",
      "\n",
      "    2. __RIGHT OUTER JOIN:__ Keep each record for second table but not the table it's joining with.\n",
      "\n",
      "    3. __FULL OUTER JOIN:__ Keep all record for all tables.\n",
      "\n",
      "4. __NATURAL JOIN:__ Tables with the exact same column name and datatype are joined along that column."
     ]
    },
    {
     "cell_type": "heading",
     "level": 3,
     "metadata": {
      "slideshow": {
       "slide_type": "subslide"
      }
     },
     "source": [
      "CROSS JOIN"
     ]
    },
    {
     "cell_type": "markdown",
     "metadata": {},
     "source": [
      "__CROSS\u00a0JOIN__ is the cartesian product of two tables\n",
      "```sql\n",
      "SELECT col1, col2, ...\n",
      "FROM table1 CROSS JOIN table2\n",
      "```\n",
      "- if table1 has n rows and table2 has m rows, then the result set has n * m rows  \n",
      "\n",
      "We can also get a CROSS JOIN by listing the tables seperated by a ','\n",
      "```sql\n",
      "SELECT col1, col2, ...\n",
      "FROM table1, table2\n",
      "```"
     ]
    },
    {
     "cell_type": "markdown",
     "metadata": {
      "slideshow": {
       "slide_type": "subslide"
      }
     },
     "source": [
      "__Example:__ Suppose we are creating a games tourtament between Stats Club members where every member play every other member once. How can we create such a table? "
     ]
    },
    {
     "cell_type": "markdown",
     "metadata": {
      "slideshow": {
       "slide_type": "fragment"
      }
     },
     "source": [
      "```sql\n",
      "SELECT m1.name AS Player_1, m2.name  AS Player_2 \n",
      "FROM member AS m1 CROSS JOIN member AS m2;\n",
      "```"
     ]
    },
    {
     "cell_type": "code",
     "collapsed": false,
     "input": [
      "pd.read_sql_query(\n",
      "\"SELECT m1.name AS Player_1, m2.name  AS Player_2 \\\n",
      "FROM member AS m1 CROSS JOIN member AS m2\", con)"
     ],
     "language": "python",
     "metadata": {
      "slideshow": {
       "slide_type": "fragment"
      }
     },
     "outputs": [
      {
       "html": [
        "<div style=\"max-height:1000px;max-width:1500px;overflow:auto;\">\n",
        "<table border=\"1\" class=\"dataframe\">\n",
        "  <thead>\n",
        "    <tr style=\"text-align: right;\">\n",
        "      <th></th>\n",
        "      <th>Player_1</th>\n",
        "      <th>Player_2</th>\n",
        "    </tr>\n",
        "  </thead>\n",
        "  <tbody>\n",
        "    <tr>\n",
        "      <th>0   </th>\n",
        "      <td>    Darrell Aucoin</td>\n",
        "      <td>        Darrell Aucoin</td>\n",
        "    </tr>\n",
        "    <tr>\n",
        "      <th>1   </th>\n",
        "      <td>    Darrell Aucoin</td>\n",
        "      <td>         Fred E. Finch</td>\n",
        "    </tr>\n",
        "    <tr>\n",
        "      <th>2   </th>\n",
        "      <td>    Darrell Aucoin</td>\n",
        "      <td>          Ryan T. Luby</td>\n",
        "    </tr>\n",
        "    <tr>\n",
        "      <th>3   </th>\n",
        "      <td>    Darrell Aucoin</td>\n",
        "      <td>       Billy L. Hunter</td>\n",
        "    </tr>\n",
        "    <tr>\n",
        "      <th>4   </th>\n",
        "      <td>    Darrell Aucoin</td>\n",
        "      <td>       John J. Oquendo</td>\n",
        "    </tr>\n",
        "    <tr>\n",
        "      <th>5   </th>\n",
        "      <td>    Darrell Aucoin</td>\n",
        "      <td> Stephanie R. Matthews</td>\n",
        "    </tr>\n",
        "    <tr>\n",
        "      <th>6   </th>\n",
        "      <td>    Darrell Aucoin</td>\n",
        "      <td>    Robert B. Williams</td>\n",
        "    </tr>\n",
        "    <tr>\n",
        "      <th>7   </th>\n",
        "      <td>    Darrell Aucoin</td>\n",
        "      <td>    Austin K. Gilliard</td>\n",
        "    </tr>\n",
        "    <tr>\n",
        "      <th>8   </th>\n",
        "      <td>    Darrell Aucoin</td>\n",
        "      <td>      James M. Eddings</td>\n",
        "    </tr>\n",
        "    <tr>\n",
        "      <th>9   </th>\n",
        "      <td>    Darrell Aucoin</td>\n",
        "      <td>         Elaine S. Ott</td>\n",
        "    </tr>\n",
        "    <tr>\n",
        "      <th>10  </th>\n",
        "      <td>    Darrell Aucoin</td>\n",
        "      <td>         James A. Foxt</td>\n",
        "    </tr>\n",
        "    <tr>\n",
        "      <th>11  </th>\n",
        "      <td>    Darrell Aucoin</td>\n",
        "      <td>       Daniel J. Moore</td>\n",
        "    </tr>\n",
        "    <tr>\n",
        "      <th>12  </th>\n",
        "      <td>    Darrell Aucoin</td>\n",
        "      <td>     Kelly S. Ferguson</td>\n",
        "    </tr>\n",
        "    <tr>\n",
        "      <th>13  </th>\n",
        "      <td>    Darrell Aucoin</td>\n",
        "      <td>        Joseph L. Wood</td>\n",
        "    </tr>\n",
        "    <tr>\n",
        "      <th>14  </th>\n",
        "      <td>    Darrell Aucoin</td>\n",
        "      <td>      Vivian R. Donley</td>\n",
        "    </tr>\n",
        "    <tr>\n",
        "      <th>15  </th>\n",
        "      <td>    Darrell Aucoin</td>\n",
        "      <td>     Frances A. Miller</td>\n",
        "    </tr>\n",
        "    <tr>\n",
        "      <th>16  </th>\n",
        "      <td>    Darrell Aucoin</td>\n",
        "      <td>      Mina W. Lawrence</td>\n",
        "    </tr>\n",
        "    <tr>\n",
        "      <th>17  </th>\n",
        "      <td>    Darrell Aucoin</td>\n",
        "      <td> Phillip C. Mascarenas</td>\n",
        "    </tr>\n",
        "    <tr>\n",
        "      <th>18  </th>\n",
        "      <td>    Darrell Aucoin</td>\n",
        "      <td>        Jeff M. Wright</td>\n",
        "    </tr>\n",
        "    <tr>\n",
        "      <th>19  </th>\n",
        "      <td>    Darrell Aucoin</td>\n",
        "      <td>   Deborah D. Helfrich</td>\n",
        "    </tr>\n",
        "    <tr>\n",
        "      <th>20  </th>\n",
        "      <td>    Darrell Aucoin</td>\n",
        "      <td>      Nancy P. Jackson</td>\n",
        "    </tr>\n",
        "    <tr>\n",
        "      <th>21  </th>\n",
        "      <td>    Darrell Aucoin</td>\n",
        "      <td>     Bobbie D. Mathews</td>\n",
        "    </tr>\n",
        "    <tr>\n",
        "      <th>22  </th>\n",
        "      <td>    Darrell Aucoin</td>\n",
        "      <td>      Arnold J. Fuller</td>\n",
        "    </tr>\n",
        "    <tr>\n",
        "      <th>23  </th>\n",
        "      <td>    Darrell Aucoin</td>\n",
        "      <td>      Melvin O. Martin</td>\n",
        "    </tr>\n",
        "    <tr>\n",
        "      <th>24  </th>\n",
        "      <td>    Darrell Aucoin</td>\n",
        "      <td>      Ralph L. Waldrop</td>\n",
        "    </tr>\n",
        "    <tr>\n",
        "      <th>25  </th>\n",
        "      <td>    Darrell Aucoin</td>\n",
        "      <td>  Mildred F. Hottinger</td>\n",
        "    </tr>\n",
        "    <tr>\n",
        "      <th>26  </th>\n",
        "      <td>    Darrell Aucoin</td>\n",
        "      <td>   Tameika M. McMaster</td>\n",
        "    </tr>\n",
        "    <tr>\n",
        "      <th>27  </th>\n",
        "      <td>    Darrell Aucoin</td>\n",
        "      <td>   Melissa R. Anderson</td>\n",
        "    </tr>\n",
        "    <tr>\n",
        "      <th>28  </th>\n",
        "      <td>    Darrell Aucoin</td>\n",
        "      <td>      Janelle T. Smith</td>\n",
        "    </tr>\n",
        "    <tr>\n",
        "      <th>29  </th>\n",
        "      <td>    Darrell Aucoin</td>\n",
        "      <td>     Ann W. McLaughlin</td>\n",
        "    </tr>\n",
        "    <tr>\n",
        "      <th>...</th>\n",
        "      <td>...</td>\n",
        "      <td>...</td>\n",
        "    </tr>\n",
        "    <tr>\n",
        "      <th>1126</th>\n",
        "      <td> Patrick Robertson</td>\n",
        "      <td>       John J. Oquendo</td>\n",
        "    </tr>\n",
        "    <tr>\n",
        "      <th>1127</th>\n",
        "      <td> Patrick Robertson</td>\n",
        "      <td> Stephanie R. Matthews</td>\n",
        "    </tr>\n",
        "    <tr>\n",
        "      <th>1128</th>\n",
        "      <td> Patrick Robertson</td>\n",
        "      <td>    Robert B. Williams</td>\n",
        "    </tr>\n",
        "    <tr>\n",
        "      <th>1129</th>\n",
        "      <td> Patrick Robertson</td>\n",
        "      <td>    Austin K. Gilliard</td>\n",
        "    </tr>\n",
        "    <tr>\n",
        "      <th>1130</th>\n",
        "      <td> Patrick Robertson</td>\n",
        "      <td>      James M. Eddings</td>\n",
        "    </tr>\n",
        "    <tr>\n",
        "      <th>1131</th>\n",
        "      <td> Patrick Robertson</td>\n",
        "      <td>         Elaine S. Ott</td>\n",
        "    </tr>\n",
        "    <tr>\n",
        "      <th>1132</th>\n",
        "      <td> Patrick Robertson</td>\n",
        "      <td>         James A. Foxt</td>\n",
        "    </tr>\n",
        "    <tr>\n",
        "      <th>1133</th>\n",
        "      <td> Patrick Robertson</td>\n",
        "      <td>       Daniel J. Moore</td>\n",
        "    </tr>\n",
        "    <tr>\n",
        "      <th>1134</th>\n",
        "      <td> Patrick Robertson</td>\n",
        "      <td>     Kelly S. Ferguson</td>\n",
        "    </tr>\n",
        "    <tr>\n",
        "      <th>1135</th>\n",
        "      <td> Patrick Robertson</td>\n",
        "      <td>        Joseph L. Wood</td>\n",
        "    </tr>\n",
        "    <tr>\n",
        "      <th>1136</th>\n",
        "      <td> Patrick Robertson</td>\n",
        "      <td>      Vivian R. Donley</td>\n",
        "    </tr>\n",
        "    <tr>\n",
        "      <th>1137</th>\n",
        "      <td> Patrick Robertson</td>\n",
        "      <td>     Frances A. Miller</td>\n",
        "    </tr>\n",
        "    <tr>\n",
        "      <th>1138</th>\n",
        "      <td> Patrick Robertson</td>\n",
        "      <td>      Mina W. Lawrence</td>\n",
        "    </tr>\n",
        "    <tr>\n",
        "      <th>1139</th>\n",
        "      <td> Patrick Robertson</td>\n",
        "      <td> Phillip C. Mascarenas</td>\n",
        "    </tr>\n",
        "    <tr>\n",
        "      <th>1140</th>\n",
        "      <td> Patrick Robertson</td>\n",
        "      <td>        Jeff M. Wright</td>\n",
        "    </tr>\n",
        "    <tr>\n",
        "      <th>1141</th>\n",
        "      <td> Patrick Robertson</td>\n",
        "      <td>   Deborah D. Helfrich</td>\n",
        "    </tr>\n",
        "    <tr>\n",
        "      <th>1142</th>\n",
        "      <td> Patrick Robertson</td>\n",
        "      <td>      Nancy P. Jackson</td>\n",
        "    </tr>\n",
        "    <tr>\n",
        "      <th>1143</th>\n",
        "      <td> Patrick Robertson</td>\n",
        "      <td>     Bobbie D. Mathews</td>\n",
        "    </tr>\n",
        "    <tr>\n",
        "      <th>1144</th>\n",
        "      <td> Patrick Robertson</td>\n",
        "      <td>      Arnold J. Fuller</td>\n",
        "    </tr>\n",
        "    <tr>\n",
        "      <th>1145</th>\n",
        "      <td> Patrick Robertson</td>\n",
        "      <td>      Melvin O. Martin</td>\n",
        "    </tr>\n",
        "    <tr>\n",
        "      <th>1146</th>\n",
        "      <td> Patrick Robertson</td>\n",
        "      <td>      Ralph L. Waldrop</td>\n",
        "    </tr>\n",
        "    <tr>\n",
        "      <th>1147</th>\n",
        "      <td> Patrick Robertson</td>\n",
        "      <td>  Mildred F. Hottinger</td>\n",
        "    </tr>\n",
        "    <tr>\n",
        "      <th>1148</th>\n",
        "      <td> Patrick Robertson</td>\n",
        "      <td>   Tameika M. McMaster</td>\n",
        "    </tr>\n",
        "    <tr>\n",
        "      <th>1149</th>\n",
        "      <td> Patrick Robertson</td>\n",
        "      <td>   Melissa R. Anderson</td>\n",
        "    </tr>\n",
        "    <tr>\n",
        "      <th>1150</th>\n",
        "      <td> Patrick Robertson</td>\n",
        "      <td>      Janelle T. Smith</td>\n",
        "    </tr>\n",
        "    <tr>\n",
        "      <th>1151</th>\n",
        "      <td> Patrick Robertson</td>\n",
        "      <td>     Ann W. McLaughlin</td>\n",
        "    </tr>\n",
        "    <tr>\n",
        "      <th>1152</th>\n",
        "      <td> Patrick Robertson</td>\n",
        "      <td>     Judith B. Gibbons</td>\n",
        "    </tr>\n",
        "    <tr>\n",
        "      <th>1153</th>\n",
        "      <td> Patrick Robertson</td>\n",
        "      <td>            Ruben Lamb</td>\n",
        "    </tr>\n",
        "    <tr>\n",
        "      <th>1154</th>\n",
        "      <td> Patrick Robertson</td>\n",
        "      <td>         Dominick Byrd</td>\n",
        "    </tr>\n",
        "    <tr>\n",
        "      <th>1155</th>\n",
        "      <td> Patrick Robertson</td>\n",
        "      <td>     Patrick Robertson</td>\n",
        "    </tr>\n",
        "  </tbody>\n",
        "</table>\n",
        "<p>1156 rows \u00d7 2 columns</p>\n",
        "</div>"
       ],
       "metadata": {},
       "output_type": "pyout",
       "prompt_number": 14,
       "text": [
        "               Player_1               Player_2\n",
        "0        Darrell Aucoin         Darrell Aucoin\n",
        "1        Darrell Aucoin          Fred E. Finch\n",
        "2        Darrell Aucoin           Ryan T. Luby\n",
        "3        Darrell Aucoin        Billy L. Hunter\n",
        "4        Darrell Aucoin        John J. Oquendo\n",
        "5        Darrell Aucoin  Stephanie R. Matthews\n",
        "6        Darrell Aucoin     Robert B. Williams\n",
        "7        Darrell Aucoin     Austin K. Gilliard\n",
        "8        Darrell Aucoin       James M. Eddings\n",
        "9        Darrell Aucoin          Elaine S. Ott\n",
        "10       Darrell Aucoin          James A. Foxt\n",
        "11       Darrell Aucoin        Daniel J. Moore\n",
        "12       Darrell Aucoin      Kelly S. Ferguson\n",
        "13       Darrell Aucoin         Joseph L. Wood\n",
        "14       Darrell Aucoin       Vivian R. Donley\n",
        "15       Darrell Aucoin      Frances A. Miller\n",
        "16       Darrell Aucoin       Mina W. Lawrence\n",
        "17       Darrell Aucoin  Phillip C. Mascarenas\n",
        "18       Darrell Aucoin         Jeff M. Wright\n",
        "19       Darrell Aucoin    Deborah D. Helfrich\n",
        "20       Darrell Aucoin       Nancy P. Jackson\n",
        "21       Darrell Aucoin      Bobbie D. Mathews\n",
        "22       Darrell Aucoin       Arnold J. Fuller\n",
        "23       Darrell Aucoin       Melvin O. Martin\n",
        "24       Darrell Aucoin       Ralph L. Waldrop\n",
        "25       Darrell Aucoin   Mildred F. Hottinger\n",
        "26       Darrell Aucoin    Tameika M. McMaster\n",
        "27       Darrell Aucoin    Melissa R. Anderson\n",
        "28       Darrell Aucoin       Janelle T. Smith\n",
        "29       Darrell Aucoin      Ann W. McLaughlin\n",
        "...                 ...                    ...\n",
        "1126  Patrick Robertson        John J. Oquendo\n",
        "1127  Patrick Robertson  Stephanie R. Matthews\n",
        "1128  Patrick Robertson     Robert B. Williams\n",
        "1129  Patrick Robertson     Austin K. Gilliard\n",
        "1130  Patrick Robertson       James M. Eddings\n",
        "1131  Patrick Robertson          Elaine S. Ott\n",
        "1132  Patrick Robertson          James A. Foxt\n",
        "1133  Patrick Robertson        Daniel J. Moore\n",
        "1134  Patrick Robertson      Kelly S. Ferguson\n",
        "1135  Patrick Robertson         Joseph L. Wood\n",
        "1136  Patrick Robertson       Vivian R. Donley\n",
        "1137  Patrick Robertson      Frances A. Miller\n",
        "1138  Patrick Robertson       Mina W. Lawrence\n",
        "1139  Patrick Robertson  Phillip C. Mascarenas\n",
        "1140  Patrick Robertson         Jeff M. Wright\n",
        "1141  Patrick Robertson    Deborah D. Helfrich\n",
        "1142  Patrick Robertson       Nancy P. Jackson\n",
        "1143  Patrick Robertson      Bobbie D. Mathews\n",
        "1144  Patrick Robertson       Arnold J. Fuller\n",
        "1145  Patrick Robertson       Melvin O. Martin\n",
        "1146  Patrick Robertson       Ralph L. Waldrop\n",
        "1147  Patrick Robertson   Mildred F. Hottinger\n",
        "1148  Patrick Robertson    Tameika M. McMaster\n",
        "1149  Patrick Robertson    Melissa R. Anderson\n",
        "1150  Patrick Robertson       Janelle T. Smith\n",
        "1151  Patrick Robertson      Ann W. McLaughlin\n",
        "1152  Patrick Robertson      Judith B. Gibbons\n",
        "1153  Patrick Robertson             Ruben Lamb\n",
        "1154  Patrick Robertson          Dominick Byrd\n",
        "1155  Patrick Robertson      Patrick Robertson\n",
        "\n",
        "[1156 rows x 2 columns]"
       ]
      }
     ],
     "prompt_number": 14
    },
    {
     "cell_type": "markdown",
     "metadata": {
      "slideshow": {
       "slide_type": "subslide"
      }
     },
     "source": [
      "However we have have players playing themselves, and rounds with  the same players in opposite roles. We just need to filter these out.\n",
      "```sql\n",
      "SELECT m1.name AS Player_1, m2.name  AS Player_2 \n",
      "FROM member AS m1 CROSS JOIN member AS m2 \n",
      "WHERE m1.name > m2.name;\n",
      "```"
     ]
    },
    {
     "cell_type": "code",
     "collapsed": false,
     "input": [
      "pd.read_sql_query(\n",
      "\"SELECT m1.name AS Player_1, m2.name  AS Player_2 \\\n",
      "FROM member AS m1 CROSS JOIN member AS m2 \\\n",
      "WHERE m1.name > m2.name\", con)"
     ],
     "language": "python",
     "metadata": {
      "slideshow": {
       "slide_type": "fragment"
      }
     },
     "outputs": [
      {
       "html": [
        "<div style=\"max-height:1000px;max-width:1500px;overflow:auto;\">\n",
        "<table border=\"1\" class=\"dataframe\">\n",
        "  <thead>\n",
        "    <tr style=\"text-align: right;\">\n",
        "      <th></th>\n",
        "      <th>Player_1</th>\n",
        "      <th>Player_2</th>\n",
        "    </tr>\n",
        "  </thead>\n",
        "  <tbody>\n",
        "    <tr>\n",
        "      <th>0  </th>\n",
        "      <td>    Darrell Aucoin</td>\n",
        "      <td>      Billy L. Hunter</td>\n",
        "    </tr>\n",
        "    <tr>\n",
        "      <th>1  </th>\n",
        "      <td>    Darrell Aucoin</td>\n",
        "      <td>   Austin K. Gilliard</td>\n",
        "    </tr>\n",
        "    <tr>\n",
        "      <th>2  </th>\n",
        "      <td>    Darrell Aucoin</td>\n",
        "      <td>      Daniel J. Moore</td>\n",
        "    </tr>\n",
        "    <tr>\n",
        "      <th>3  </th>\n",
        "      <td>    Darrell Aucoin</td>\n",
        "      <td>    Bobbie D. Mathews</td>\n",
        "    </tr>\n",
        "    <tr>\n",
        "      <th>4  </th>\n",
        "      <td>    Darrell Aucoin</td>\n",
        "      <td>     Arnold J. Fuller</td>\n",
        "    </tr>\n",
        "    <tr>\n",
        "      <th>5  </th>\n",
        "      <td>    Darrell Aucoin</td>\n",
        "      <td>    Ann W. McLaughlin</td>\n",
        "    </tr>\n",
        "    <tr>\n",
        "      <th>6  </th>\n",
        "      <td>     Fred E. Finch</td>\n",
        "      <td>       Darrell Aucoin</td>\n",
        "    </tr>\n",
        "    <tr>\n",
        "      <th>7  </th>\n",
        "      <td>     Fred E. Finch</td>\n",
        "      <td>      Billy L. Hunter</td>\n",
        "    </tr>\n",
        "    <tr>\n",
        "      <th>8  </th>\n",
        "      <td>     Fred E. Finch</td>\n",
        "      <td>   Austin K. Gilliard</td>\n",
        "    </tr>\n",
        "    <tr>\n",
        "      <th>9  </th>\n",
        "      <td>     Fred E. Finch</td>\n",
        "      <td>        Elaine S. Ott</td>\n",
        "    </tr>\n",
        "    <tr>\n",
        "      <th>10 </th>\n",
        "      <td>     Fred E. Finch</td>\n",
        "      <td>      Daniel J. Moore</td>\n",
        "    </tr>\n",
        "    <tr>\n",
        "      <th>11 </th>\n",
        "      <td>     Fred E. Finch</td>\n",
        "      <td>    Frances A. Miller</td>\n",
        "    </tr>\n",
        "    <tr>\n",
        "      <th>12 </th>\n",
        "      <td>     Fred E. Finch</td>\n",
        "      <td>  Deborah D. Helfrich</td>\n",
        "    </tr>\n",
        "    <tr>\n",
        "      <th>13 </th>\n",
        "      <td>     Fred E. Finch</td>\n",
        "      <td>    Bobbie D. Mathews</td>\n",
        "    </tr>\n",
        "    <tr>\n",
        "      <th>14 </th>\n",
        "      <td>     Fred E. Finch</td>\n",
        "      <td>     Arnold J. Fuller</td>\n",
        "    </tr>\n",
        "    <tr>\n",
        "      <th>15 </th>\n",
        "      <td>     Fred E. Finch</td>\n",
        "      <td>    Ann W. McLaughlin</td>\n",
        "    </tr>\n",
        "    <tr>\n",
        "      <th>16 </th>\n",
        "      <td>     Fred E. Finch</td>\n",
        "      <td>        Dominick Byrd</td>\n",
        "    </tr>\n",
        "    <tr>\n",
        "      <th>17 </th>\n",
        "      <td>      Ryan T. Luby</td>\n",
        "      <td>       Darrell Aucoin</td>\n",
        "    </tr>\n",
        "    <tr>\n",
        "      <th>18 </th>\n",
        "      <td>      Ryan T. Luby</td>\n",
        "      <td>        Fred E. Finch</td>\n",
        "    </tr>\n",
        "    <tr>\n",
        "      <th>19 </th>\n",
        "      <td>      Ryan T. Luby</td>\n",
        "      <td>      Billy L. Hunter</td>\n",
        "    </tr>\n",
        "    <tr>\n",
        "      <th>20 </th>\n",
        "      <td>      Ryan T. Luby</td>\n",
        "      <td>      John J. Oquendo</td>\n",
        "    </tr>\n",
        "    <tr>\n",
        "      <th>21 </th>\n",
        "      <td>      Ryan T. Luby</td>\n",
        "      <td>   Robert B. Williams</td>\n",
        "    </tr>\n",
        "    <tr>\n",
        "      <th>22 </th>\n",
        "      <td>      Ryan T. Luby</td>\n",
        "      <td>   Austin K. Gilliard</td>\n",
        "    </tr>\n",
        "    <tr>\n",
        "      <th>23 </th>\n",
        "      <td>      Ryan T. Luby</td>\n",
        "      <td>     James M. Eddings</td>\n",
        "    </tr>\n",
        "    <tr>\n",
        "      <th>24 </th>\n",
        "      <td>      Ryan T. Luby</td>\n",
        "      <td>        Elaine S. Ott</td>\n",
        "    </tr>\n",
        "    <tr>\n",
        "      <th>25 </th>\n",
        "      <td>      Ryan T. Luby</td>\n",
        "      <td>        James A. Foxt</td>\n",
        "    </tr>\n",
        "    <tr>\n",
        "      <th>26 </th>\n",
        "      <td>      Ryan T. Luby</td>\n",
        "      <td>      Daniel J. Moore</td>\n",
        "    </tr>\n",
        "    <tr>\n",
        "      <th>27 </th>\n",
        "      <td>      Ryan T. Luby</td>\n",
        "      <td>    Kelly S. Ferguson</td>\n",
        "    </tr>\n",
        "    <tr>\n",
        "      <th>28 </th>\n",
        "      <td>      Ryan T. Luby</td>\n",
        "      <td>       Joseph L. Wood</td>\n",
        "    </tr>\n",
        "    <tr>\n",
        "      <th>29 </th>\n",
        "      <td>      Ryan T. Luby</td>\n",
        "      <td>    Frances A. Miller</td>\n",
        "    </tr>\n",
        "    <tr>\n",
        "      <th>...</th>\n",
        "      <td>...</td>\n",
        "      <td>...</td>\n",
        "    </tr>\n",
        "    <tr>\n",
        "      <th>531</th>\n",
        "      <td>     Dominick Byrd</td>\n",
        "      <td>      Daniel J. Moore</td>\n",
        "    </tr>\n",
        "    <tr>\n",
        "      <th>532</th>\n",
        "      <td>     Dominick Byrd</td>\n",
        "      <td>  Deborah D. Helfrich</td>\n",
        "    </tr>\n",
        "    <tr>\n",
        "      <th>533</th>\n",
        "      <td>     Dominick Byrd</td>\n",
        "      <td>    Bobbie D. Mathews</td>\n",
        "    </tr>\n",
        "    <tr>\n",
        "      <th>534</th>\n",
        "      <td>     Dominick Byrd</td>\n",
        "      <td>     Arnold J. Fuller</td>\n",
        "    </tr>\n",
        "    <tr>\n",
        "      <th>535</th>\n",
        "      <td>     Dominick Byrd</td>\n",
        "      <td>    Ann W. McLaughlin</td>\n",
        "    </tr>\n",
        "    <tr>\n",
        "      <th>536</th>\n",
        "      <td> Patrick Robertson</td>\n",
        "      <td>       Darrell Aucoin</td>\n",
        "    </tr>\n",
        "    <tr>\n",
        "      <th>537</th>\n",
        "      <td> Patrick Robertson</td>\n",
        "      <td>        Fred E. Finch</td>\n",
        "    </tr>\n",
        "    <tr>\n",
        "      <th>538</th>\n",
        "      <td> Patrick Robertson</td>\n",
        "      <td>      Billy L. Hunter</td>\n",
        "    </tr>\n",
        "    <tr>\n",
        "      <th>539</th>\n",
        "      <td> Patrick Robertson</td>\n",
        "      <td>      John J. Oquendo</td>\n",
        "    </tr>\n",
        "    <tr>\n",
        "      <th>540</th>\n",
        "      <td> Patrick Robertson</td>\n",
        "      <td>   Austin K. Gilliard</td>\n",
        "    </tr>\n",
        "    <tr>\n",
        "      <th>541</th>\n",
        "      <td> Patrick Robertson</td>\n",
        "      <td>     James M. Eddings</td>\n",
        "    </tr>\n",
        "    <tr>\n",
        "      <th>542</th>\n",
        "      <td> Patrick Robertson</td>\n",
        "      <td>        Elaine S. Ott</td>\n",
        "    </tr>\n",
        "    <tr>\n",
        "      <th>543</th>\n",
        "      <td> Patrick Robertson</td>\n",
        "      <td>        James A. Foxt</td>\n",
        "    </tr>\n",
        "    <tr>\n",
        "      <th>544</th>\n",
        "      <td> Patrick Robertson</td>\n",
        "      <td>      Daniel J. Moore</td>\n",
        "    </tr>\n",
        "    <tr>\n",
        "      <th>545</th>\n",
        "      <td> Patrick Robertson</td>\n",
        "      <td>    Kelly S. Ferguson</td>\n",
        "    </tr>\n",
        "    <tr>\n",
        "      <th>546</th>\n",
        "      <td> Patrick Robertson</td>\n",
        "      <td>       Joseph L. Wood</td>\n",
        "    </tr>\n",
        "    <tr>\n",
        "      <th>547</th>\n",
        "      <td> Patrick Robertson</td>\n",
        "      <td>    Frances A. Miller</td>\n",
        "    </tr>\n",
        "    <tr>\n",
        "      <th>548</th>\n",
        "      <td> Patrick Robertson</td>\n",
        "      <td>     Mina W. Lawrence</td>\n",
        "    </tr>\n",
        "    <tr>\n",
        "      <th>549</th>\n",
        "      <td> Patrick Robertson</td>\n",
        "      <td>       Jeff M. Wright</td>\n",
        "    </tr>\n",
        "    <tr>\n",
        "      <th>550</th>\n",
        "      <td> Patrick Robertson</td>\n",
        "      <td>  Deborah D. Helfrich</td>\n",
        "    </tr>\n",
        "    <tr>\n",
        "      <th>551</th>\n",
        "      <td> Patrick Robertson</td>\n",
        "      <td>     Nancy P. Jackson</td>\n",
        "    </tr>\n",
        "    <tr>\n",
        "      <th>552</th>\n",
        "      <td> Patrick Robertson</td>\n",
        "      <td>    Bobbie D. Mathews</td>\n",
        "    </tr>\n",
        "    <tr>\n",
        "      <th>553</th>\n",
        "      <td> Patrick Robertson</td>\n",
        "      <td>     Arnold J. Fuller</td>\n",
        "    </tr>\n",
        "    <tr>\n",
        "      <th>554</th>\n",
        "      <td> Patrick Robertson</td>\n",
        "      <td>     Melvin O. Martin</td>\n",
        "    </tr>\n",
        "    <tr>\n",
        "      <th>555</th>\n",
        "      <td> Patrick Robertson</td>\n",
        "      <td> Mildred F. Hottinger</td>\n",
        "    </tr>\n",
        "    <tr>\n",
        "      <th>556</th>\n",
        "      <td> Patrick Robertson</td>\n",
        "      <td>  Melissa R. Anderson</td>\n",
        "    </tr>\n",
        "    <tr>\n",
        "      <th>557</th>\n",
        "      <td> Patrick Robertson</td>\n",
        "      <td>     Janelle T. Smith</td>\n",
        "    </tr>\n",
        "    <tr>\n",
        "      <th>558</th>\n",
        "      <td> Patrick Robertson</td>\n",
        "      <td>    Ann W. McLaughlin</td>\n",
        "    </tr>\n",
        "    <tr>\n",
        "      <th>559</th>\n",
        "      <td> Patrick Robertson</td>\n",
        "      <td>    Judith B. Gibbons</td>\n",
        "    </tr>\n",
        "    <tr>\n",
        "      <th>560</th>\n",
        "      <td> Patrick Robertson</td>\n",
        "      <td>        Dominick Byrd</td>\n",
        "    </tr>\n",
        "  </tbody>\n",
        "</table>\n",
        "<p>561 rows \u00d7 2 columns</p>\n",
        "</div>"
       ],
       "metadata": {},
       "output_type": "pyout",
       "prompt_number": 15,
       "text": [
        "              Player_1              Player_2\n",
        "0       Darrell Aucoin       Billy L. Hunter\n",
        "1       Darrell Aucoin    Austin K. Gilliard\n",
        "2       Darrell Aucoin       Daniel J. Moore\n",
        "3       Darrell Aucoin     Bobbie D. Mathews\n",
        "4       Darrell Aucoin      Arnold J. Fuller\n",
        "5       Darrell Aucoin     Ann W. McLaughlin\n",
        "6        Fred E. Finch        Darrell Aucoin\n",
        "7        Fred E. Finch       Billy L. Hunter\n",
        "8        Fred E. Finch    Austin K. Gilliard\n",
        "9        Fred E. Finch         Elaine S. Ott\n",
        "10       Fred E. Finch       Daniel J. Moore\n",
        "11       Fred E. Finch     Frances A. Miller\n",
        "12       Fred E. Finch   Deborah D. Helfrich\n",
        "13       Fred E. Finch     Bobbie D. Mathews\n",
        "14       Fred E. Finch      Arnold J. Fuller\n",
        "15       Fred E. Finch     Ann W. McLaughlin\n",
        "16       Fred E. Finch         Dominick Byrd\n",
        "17        Ryan T. Luby        Darrell Aucoin\n",
        "18        Ryan T. Luby         Fred E. Finch\n",
        "19        Ryan T. Luby       Billy L. Hunter\n",
        "20        Ryan T. Luby       John J. Oquendo\n",
        "21        Ryan T. Luby    Robert B. Williams\n",
        "22        Ryan T. Luby    Austin K. Gilliard\n",
        "23        Ryan T. Luby      James M. Eddings\n",
        "24        Ryan T. Luby         Elaine S. Ott\n",
        "25        Ryan T. Luby         James A. Foxt\n",
        "26        Ryan T. Luby       Daniel J. Moore\n",
        "27        Ryan T. Luby     Kelly S. Ferguson\n",
        "28        Ryan T. Luby        Joseph L. Wood\n",
        "29        Ryan T. Luby     Frances A. Miller\n",
        "..                 ...                   ...\n",
        "531      Dominick Byrd       Daniel J. Moore\n",
        "532      Dominick Byrd   Deborah D. Helfrich\n",
        "533      Dominick Byrd     Bobbie D. Mathews\n",
        "534      Dominick Byrd      Arnold J. Fuller\n",
        "535      Dominick Byrd     Ann W. McLaughlin\n",
        "536  Patrick Robertson        Darrell Aucoin\n",
        "537  Patrick Robertson         Fred E. Finch\n",
        "538  Patrick Robertson       Billy L. Hunter\n",
        "539  Patrick Robertson       John J. Oquendo\n",
        "540  Patrick Robertson    Austin K. Gilliard\n",
        "541  Patrick Robertson      James M. Eddings\n",
        "542  Patrick Robertson         Elaine S. Ott\n",
        "543  Patrick Robertson         James A. Foxt\n",
        "544  Patrick Robertson       Daniel J. Moore\n",
        "545  Patrick Robertson     Kelly S. Ferguson\n",
        "546  Patrick Robertson        Joseph L. Wood\n",
        "547  Patrick Robertson     Frances A. Miller\n",
        "548  Patrick Robertson      Mina W. Lawrence\n",
        "549  Patrick Robertson        Jeff M. Wright\n",
        "550  Patrick Robertson   Deborah D. Helfrich\n",
        "551  Patrick Robertson      Nancy P. Jackson\n",
        "552  Patrick Robertson     Bobbie D. Mathews\n",
        "553  Patrick Robertson      Arnold J. Fuller\n",
        "554  Patrick Robertson      Melvin O. Martin\n",
        "555  Patrick Robertson  Mildred F. Hottinger\n",
        "556  Patrick Robertson   Melissa R. Anderson\n",
        "557  Patrick Robertson      Janelle T. Smith\n",
        "558  Patrick Robertson     Ann W. McLaughlin\n",
        "559  Patrick Robertson     Judith B. Gibbons\n",
        "560  Patrick Robertson         Dominick Byrd\n",
        "\n",
        "[561 rows x 2 columns]"
       ]
      }
     ],
     "prompt_number": 15
    },
    {
     "cell_type": "heading",
     "level": 3,
     "metadata": {
      "slideshow": {
       "slide_type": "subslide"
      }
     },
     "source": [
      "INNER JOIN"
     ]
    },
    {
     "cell_type": "markdown",
     "metadata": {},
     "source": [
      "__INNER\u00a0JOIN__ Joins two tables where the join condition returns true. Discarded when returning false or NULL.\n",
      "```sql\n",
      "SELECT col1, col2, ...\n",
      "FROM table1 INNER JOIN table2 ON condition;\n",
      "```"
     ]
    },
    {
     "cell_type": "heading",
     "level": 4,
     "metadata": {
      "slideshow": {
       "slide_type": "fragment"
      }
     },
     "source": [
      "ON Clause"
     ]
    },
    {
     "cell_type": "markdown",
     "metadata": {
      "slideshow": {
       "slide_type": "fragment"
      }
     },
     "source": [
      "The __ON__ clause specifies the join condition:\n",
      "\n",
      "- The ON clause can use a multiple set of conditions connected by AND, OR\n",
      "\n",
      "- USING(<join col>) can also be used if both tables have the same column name and type\n",
      "\n",
      "- Some SQL implementations constructs the ON clause from the WHERE clause (DB2)\n",
      "    - filtering by the WHERE clause gives the same result but in some implementations will product an intermediate cross product of tables (making the query slower)"
     ]
    },
    {
     "cell_type": "markdown",
     "metadata": {
      "slideshow": {
       "slide_type": "subslide"
      }
     },
     "source": [
      "__Example:__ How many events does each member attend? (Including what department they are from)"
     ]
    },
    {
     "cell_type": "markdown",
     "metadata": {
      "slideshow": {
       "slide_type": "fragment"
      }
     },
     "source": [
      "- Note that this query does not include members who attended no events\n",
      "    - Query is ordered by events_attended to show a comparison with a latter query  \n",
      "\n",
      "```sql\n",
      "SELECT at.name, at.faculty, at.major, COUNT(a.event) AS events_attended \n",
      "FROM (member AS m INNER JOIN attendance AS a ON m.quest_id = a.member) AS at \n",
      "GROUP BY at.quest_id, at.name, at.faculty, at.major\n",
      "ORDER BY events_attended;\n",
      "```"
     ]
    },
    {
     "cell_type": "code",
     "collapsed": false,
     "input": [
      "pd.read_sql_query(\n",
      "\"SELECT at.name, at.faculty, at.major, COUNT(a.event) AS events_attended \\\n",
      "FROM (member AS m INNER JOIN attendance AS a ON m.quest_id = a.member) AS at \\\n",
      "GROUP BY at.quest_id, at.name, at.faculty, at.major \\\n",
      "ORDER BY events_attended\", con)"
     ],
     "language": "python",
     "metadata": {
      "slideshow": {
       "slide_type": "fragment"
      }
     },
     "outputs": [
      {
       "html": [
        "<div style=\"max-height:1000px;max-width:1500px;overflow:auto;\">\n",
        "<table border=\"1\" class=\"dataframe\">\n",
        "  <thead>\n",
        "    <tr style=\"text-align: right;\">\n",
        "      <th></th>\n",
        "      <th>at.name</th>\n",
        "      <th>at.faculty</th>\n",
        "      <th>at.major</th>\n",
        "      <th>events_attended</th>\n",
        "    </tr>\n",
        "  </thead>\n",
        "  <tbody>\n",
        "    <tr>\n",
        "      <th>0 </th>\n",
        "      <td>       John J. Oquendo</td>\n",
        "      <td> Math</td>\n",
        "      <td> Applied Math</td>\n",
        "      <td> 1</td>\n",
        "    </tr>\n",
        "    <tr>\n",
        "      <th>1 </th>\n",
        "      <td>      James M. Eddings</td>\n",
        "      <td> Math</td>\n",
        "      <td>           CS</td>\n",
        "      <td> 2</td>\n",
        "    </tr>\n",
        "    <tr>\n",
        "      <th>2 </th>\n",
        "      <td>   Melissa R. Anderson</td>\n",
        "      <td> Math</td>\n",
        "      <td>      Act Sci</td>\n",
        "      <td> 2</td>\n",
        "    </tr>\n",
        "    <tr>\n",
        "      <th>3 </th>\n",
        "      <td>      Melvin O. Martin</td>\n",
        "      <td> Math</td>\n",
        "      <td>        C &amp; O</td>\n",
        "      <td> 2</td>\n",
        "    </tr>\n",
        "    <tr>\n",
        "      <th>4 </th>\n",
        "      <td>      Mina W. Lawrence</td>\n",
        "      <td> Math</td>\n",
        "      <td>        Stats</td>\n",
        "      <td> 2</td>\n",
        "    </tr>\n",
        "    <tr>\n",
        "      <th>5 </th>\n",
        "      <td>     Ann W. McLaughlin</td>\n",
        "      <td> Math</td>\n",
        "      <td>        Stats</td>\n",
        "      <td> 3</td>\n",
        "    </tr>\n",
        "    <tr>\n",
        "      <th>6 </th>\n",
        "      <td>     Bobbie D. Mathews</td>\n",
        "      <td> Math</td>\n",
        "      <td>      Act Sci</td>\n",
        "      <td> 3</td>\n",
        "    </tr>\n",
        "    <tr>\n",
        "      <th>7 </th>\n",
        "      <td>      Janelle T. Smith</td>\n",
        "      <td> Math</td>\n",
        "      <td> Applied Math</td>\n",
        "      <td> 3</td>\n",
        "    </tr>\n",
        "    <tr>\n",
        "      <th>8 </th>\n",
        "      <td>  Mildred F. Hottinger</td>\n",
        "      <td>  Art</td>\n",
        "      <td>         Econ</td>\n",
        "      <td> 3</td>\n",
        "    </tr>\n",
        "    <tr>\n",
        "      <th>9 </th>\n",
        "      <td> Phillip C. Mascarenas</td>\n",
        "      <td> Math</td>\n",
        "      <td>      Act Sci</td>\n",
        "      <td> 3</td>\n",
        "    </tr>\n",
        "    <tr>\n",
        "      <th>10</th>\n",
        "      <td>          Ryan T. Luby</td>\n",
        "      <td> Math</td>\n",
        "      <td>        Stats</td>\n",
        "      <td> 3</td>\n",
        "    </tr>\n",
        "    <tr>\n",
        "      <th>11</th>\n",
        "      <td>      Vivian R. Donley</td>\n",
        "      <td> Math</td>\n",
        "      <td>        Stats</td>\n",
        "      <td> 3</td>\n",
        "    </tr>\n",
        "    <tr>\n",
        "      <th>12</th>\n",
        "      <td>      Arnold J. Fuller</td>\n",
        "      <td> Math</td>\n",
        "      <td>           CS</td>\n",
        "      <td> 4</td>\n",
        "    </tr>\n",
        "    <tr>\n",
        "      <th>13</th>\n",
        "      <td>    Austin K. Gilliard</td>\n",
        "      <td> Math</td>\n",
        "      <td>      Act Sci</td>\n",
        "      <td> 4</td>\n",
        "    </tr>\n",
        "    <tr>\n",
        "      <th>14</th>\n",
        "      <td>        Jeff M. Wright</td>\n",
        "      <td> Math</td>\n",
        "      <td>        Stats</td>\n",
        "      <td> 4</td>\n",
        "    </tr>\n",
        "    <tr>\n",
        "      <th>15</th>\n",
        "      <td>     Kelly S. Ferguson</td>\n",
        "      <td> Math</td>\n",
        "      <td>        Stats</td>\n",
        "      <td> 4</td>\n",
        "    </tr>\n",
        "    <tr>\n",
        "      <th>16</th>\n",
        "      <td>      Nancy P. Jackson</td>\n",
        "      <td> Math</td>\n",
        "      <td>        Stats</td>\n",
        "      <td> 4</td>\n",
        "    </tr>\n",
        "    <tr>\n",
        "      <th>17</th>\n",
        "      <td>      Ralph L. Waldrop</td>\n",
        "      <td> Math</td>\n",
        "      <td>      Act Sci</td>\n",
        "      <td> 4</td>\n",
        "    </tr>\n",
        "    <tr>\n",
        "      <th>18</th>\n",
        "      <td>            Ruben Lamb</td>\n",
        "      <td> Math</td>\n",
        "      <td>      Act Sci</td>\n",
        "      <td> 4</td>\n",
        "    </tr>\n",
        "    <tr>\n",
        "      <th>19</th>\n",
        "      <td>       Billy L. Hunter</td>\n",
        "      <td> Math</td>\n",
        "      <td>           CS</td>\n",
        "      <td> 5</td>\n",
        "    </tr>\n",
        "    <tr>\n",
        "      <th>20</th>\n",
        "      <td>   Deborah D. Helfrich</td>\n",
        "      <td> Math</td>\n",
        "      <td>      Act Sci</td>\n",
        "      <td> 5</td>\n",
        "    </tr>\n",
        "    <tr>\n",
        "      <th>21</th>\n",
        "      <td>         Dominick Byrd</td>\n",
        "      <td> Math</td>\n",
        "      <td>    Pure Math</td>\n",
        "      <td> 5</td>\n",
        "    </tr>\n",
        "    <tr>\n",
        "      <th>22</th>\n",
        "      <td>     Frances A. Miller</td>\n",
        "      <td> Math</td>\n",
        "      <td>        Stats</td>\n",
        "      <td> 5</td>\n",
        "    </tr>\n",
        "    <tr>\n",
        "      <th>23</th>\n",
        "      <td>         Fred E. Finch</td>\n",
        "      <td> Math</td>\n",
        "      <td>    Pure Math</td>\n",
        "      <td> 5</td>\n",
        "    </tr>\n",
        "    <tr>\n",
        "      <th>24</th>\n",
        "      <td>        Joseph L. Wood</td>\n",
        "      <td> Math</td>\n",
        "      <td>        C &amp; O</td>\n",
        "      <td> 5</td>\n",
        "    </tr>\n",
        "    <tr>\n",
        "      <th>25</th>\n",
        "      <td>     Judith B. Gibbons</td>\n",
        "      <td> Math</td>\n",
        "      <td>      Act Sci</td>\n",
        "      <td> 5</td>\n",
        "    </tr>\n",
        "    <tr>\n",
        "      <th>26</th>\n",
        "      <td>    Robert B. Williams</td>\n",
        "      <td> Math</td>\n",
        "      <td>        Stats</td>\n",
        "      <td> 5</td>\n",
        "    </tr>\n",
        "    <tr>\n",
        "      <th>27</th>\n",
        "      <td> Stephanie R. Matthews</td>\n",
        "      <td> Math</td>\n",
        "      <td>      Act Sci</td>\n",
        "      <td> 5</td>\n",
        "    </tr>\n",
        "    <tr>\n",
        "      <th>28</th>\n",
        "      <td>   Tameika M. McMaster</td>\n",
        "      <td> Math</td>\n",
        "      <td>        Stats</td>\n",
        "      <td> 5</td>\n",
        "    </tr>\n",
        "    <tr>\n",
        "      <th>29</th>\n",
        "      <td>         Elaine S. Ott</td>\n",
        "      <td> Math</td>\n",
        "      <td>        Stats</td>\n",
        "      <td> 6</td>\n",
        "    </tr>\n",
        "    <tr>\n",
        "      <th>30</th>\n",
        "      <td>       Daniel J. Moore</td>\n",
        "      <td> Math</td>\n",
        "      <td>        Stats</td>\n",
        "      <td> 7</td>\n",
        "    </tr>\n",
        "    <tr>\n",
        "      <th>31</th>\n",
        "      <td>     Patrick Robertson</td>\n",
        "      <td> Math</td>\n",
        "      <td>        Stats</td>\n",
        "      <td> 7</td>\n",
        "    </tr>\n",
        "  </tbody>\n",
        "</table>\n",
        "</div>"
       ],
       "metadata": {},
       "output_type": "pyout",
       "prompt_number": 16,
       "text": [
        "                  at.name at.faculty      at.major  events_attended\n",
        "0         John J. Oquendo       Math  Applied Math                1\n",
        "1        James M. Eddings       Math            CS                2\n",
        "2     Melissa R. Anderson       Math       Act Sci                2\n",
        "3        Melvin O. Martin       Math         C & O                2\n",
        "4        Mina W. Lawrence       Math         Stats                2\n",
        "5       Ann W. McLaughlin       Math         Stats                3\n",
        "6       Bobbie D. Mathews       Math       Act Sci                3\n",
        "7        Janelle T. Smith       Math  Applied Math                3\n",
        "8    Mildred F. Hottinger        Art          Econ                3\n",
        "9   Phillip C. Mascarenas       Math       Act Sci                3\n",
        "10           Ryan T. Luby       Math         Stats                3\n",
        "11       Vivian R. Donley       Math         Stats                3\n",
        "12       Arnold J. Fuller       Math            CS                4\n",
        "13     Austin K. Gilliard       Math       Act Sci                4\n",
        "14         Jeff M. Wright       Math         Stats                4\n",
        "15      Kelly S. Ferguson       Math         Stats                4\n",
        "16       Nancy P. Jackson       Math         Stats                4\n",
        "17       Ralph L. Waldrop       Math       Act Sci                4\n",
        "18             Ruben Lamb       Math       Act Sci                4\n",
        "19        Billy L. Hunter       Math            CS                5\n",
        "20    Deborah D. Helfrich       Math       Act Sci                5\n",
        "21          Dominick Byrd       Math     Pure Math                5\n",
        "22      Frances A. Miller       Math         Stats                5\n",
        "23          Fred E. Finch       Math     Pure Math                5\n",
        "24         Joseph L. Wood       Math         C & O                5\n",
        "25      Judith B. Gibbons       Math       Act Sci                5\n",
        "26     Robert B. Williams       Math         Stats                5\n",
        "27  Stephanie R. Matthews       Math       Act Sci                5\n",
        "28    Tameika M. McMaster       Math         Stats                5\n",
        "29          Elaine S. Ott       Math         Stats                6\n",
        "30        Daniel J. Moore       Math         Stats                7\n",
        "31      Patrick Robertson       Math         Stats                7"
       ]
      }
     ],
     "prompt_number": 16
    },
    {
     "cell_type": "heading",
     "level": 3,
     "metadata": {
      "slideshow": {
       "slide_type": "subslide"
      }
     },
     "source": [
      "OUTER JOIN"
     ]
    },
    {
     "cell_type": "markdown",
     "metadata": {},
     "source": [
      "__OUTER\u00a0JOIN__ A join that returns all rows for 1 or 2 tables, even when there is no corresponding value. In these cases, NULL values are entered for these corresponding rows.\n",
      "\n",
      "There are 3 types of OUTER JOINs:\n",
      "\n",
      "1. __LEFT OUTER JOIN__: An OUTER JOIN returning all rows of the table first mentioned.\n",
      "\n",
      "2. __RIGHT OUTER JOIN__: An OUTER JOIN returning all rows of the table second mentioned.\n",
      "\n",
      "3. __FULL OUTER JOIN__: An OUTER JOIN returning all rows of both tables.  \n",
      "\n",
      "\n",
      "- Only LEFT OUTER JOIN is implemented in SQLite"
     ]
    },
    {
     "cell_type": "markdown",
     "metadata": {
      "slideshow": {
       "slide_type": "subslide"
      }
     },
     "source": [
      "__Example:__ What are the names, their faculty and major of Stat Club members and how many events they attended?"
     ]
    },
    {
     "cell_type": "markdown",
     "metadata": {
      "slideshow": {
       "slide_type": "fragment"
      }
     },
     "source": [
      "```sql\n",
      "SELECT at.name, at.faculty, at.major, COUNT(a.event) AS events_attended \n",
      "FROM (member AS m LEFT OUTER JOIN attendance AS a ON m.quest_id = a.member) AS at \n",
      "GROUP BY at.quest_id, at.name, at.faculty, at.major\n",
      "ORDER BY events_attended;\n",
      "```"
     ]
    },
    {
     "cell_type": "code",
     "collapsed": false,
     "input": [
      "pd.read_sql_query(\n",
      "\"SELECT at.name, at.faculty, at.major, COUNT(a.event) AS events_attended \\\n",
      "FROM (member AS m LEFT OUTER JOIN attendance AS a ON m.quest_id = a.member) AS at \\\n",
      "GROUP BY at.quest_id, at.name, at.faculty, at.major \\\n",
      "ORDER BY events_attended\", con)"
     ],
     "language": "python",
     "metadata": {
      "slideshow": {
       "slide_type": "fragment"
      }
     },
     "outputs": [
      {
       "html": [
        "<div style=\"max-height:1000px;max-width:1500px;overflow:auto;\">\n",
        "<table border=\"1\" class=\"dataframe\">\n",
        "  <thead>\n",
        "    <tr style=\"text-align: right;\">\n",
        "      <th></th>\n",
        "      <th>at.name</th>\n",
        "      <th>at.faculty</th>\n",
        "      <th>at.major</th>\n",
        "      <th>events_attended</th>\n",
        "    </tr>\n",
        "  </thead>\n",
        "  <tbody>\n",
        "    <tr>\n",
        "      <th>0 </th>\n",
        "      <td>        Darrell Aucoin</td>\n",
        "      <td> Math</td>\n",
        "      <td>        Stats</td>\n",
        "      <td> 0</td>\n",
        "    </tr>\n",
        "    <tr>\n",
        "      <th>1 </th>\n",
        "      <td>         James A. Foxt</td>\n",
        "      <td> Math</td>\n",
        "      <td>      Act Sci</td>\n",
        "      <td> 0</td>\n",
        "    </tr>\n",
        "    <tr>\n",
        "      <th>2 </th>\n",
        "      <td>       John J. Oquendo</td>\n",
        "      <td> Math</td>\n",
        "      <td> Applied Math</td>\n",
        "      <td> 1</td>\n",
        "    </tr>\n",
        "    <tr>\n",
        "      <th>3 </th>\n",
        "      <td>      James M. Eddings</td>\n",
        "      <td> Math</td>\n",
        "      <td>           CS</td>\n",
        "      <td> 2</td>\n",
        "    </tr>\n",
        "    <tr>\n",
        "      <th>4 </th>\n",
        "      <td>   Melissa R. Anderson</td>\n",
        "      <td> Math</td>\n",
        "      <td>      Act Sci</td>\n",
        "      <td> 2</td>\n",
        "    </tr>\n",
        "    <tr>\n",
        "      <th>5 </th>\n",
        "      <td>      Melvin O. Martin</td>\n",
        "      <td> Math</td>\n",
        "      <td>        C &amp; O</td>\n",
        "      <td> 2</td>\n",
        "    </tr>\n",
        "    <tr>\n",
        "      <th>6 </th>\n",
        "      <td>      Mina W. Lawrence</td>\n",
        "      <td> Math</td>\n",
        "      <td>        Stats</td>\n",
        "      <td> 2</td>\n",
        "    </tr>\n",
        "    <tr>\n",
        "      <th>7 </th>\n",
        "      <td>     Ann W. McLaughlin</td>\n",
        "      <td> Math</td>\n",
        "      <td>        Stats</td>\n",
        "      <td> 3</td>\n",
        "    </tr>\n",
        "    <tr>\n",
        "      <th>8 </th>\n",
        "      <td>     Bobbie D. Mathews</td>\n",
        "      <td> Math</td>\n",
        "      <td>      Act Sci</td>\n",
        "      <td> 3</td>\n",
        "    </tr>\n",
        "    <tr>\n",
        "      <th>9 </th>\n",
        "      <td>      Janelle T. Smith</td>\n",
        "      <td> Math</td>\n",
        "      <td> Applied Math</td>\n",
        "      <td> 3</td>\n",
        "    </tr>\n",
        "    <tr>\n",
        "      <th>10</th>\n",
        "      <td>  Mildred F. Hottinger</td>\n",
        "      <td>  Art</td>\n",
        "      <td>         Econ</td>\n",
        "      <td> 3</td>\n",
        "    </tr>\n",
        "    <tr>\n",
        "      <th>11</th>\n",
        "      <td> Phillip C. Mascarenas</td>\n",
        "      <td> Math</td>\n",
        "      <td>      Act Sci</td>\n",
        "      <td> 3</td>\n",
        "    </tr>\n",
        "    <tr>\n",
        "      <th>12</th>\n",
        "      <td>          Ryan T. Luby</td>\n",
        "      <td> Math</td>\n",
        "      <td>        Stats</td>\n",
        "      <td> 3</td>\n",
        "    </tr>\n",
        "    <tr>\n",
        "      <th>13</th>\n",
        "      <td>      Vivian R. Donley</td>\n",
        "      <td> Math</td>\n",
        "      <td>        Stats</td>\n",
        "      <td> 3</td>\n",
        "    </tr>\n",
        "    <tr>\n",
        "      <th>14</th>\n",
        "      <td>      Arnold J. Fuller</td>\n",
        "      <td> Math</td>\n",
        "      <td>           CS</td>\n",
        "      <td> 4</td>\n",
        "    </tr>\n",
        "    <tr>\n",
        "      <th>15</th>\n",
        "      <td>    Austin K. Gilliard</td>\n",
        "      <td> Math</td>\n",
        "      <td>      Act Sci</td>\n",
        "      <td> 4</td>\n",
        "    </tr>\n",
        "    <tr>\n",
        "      <th>16</th>\n",
        "      <td>        Jeff M. Wright</td>\n",
        "      <td> Math</td>\n",
        "      <td>        Stats</td>\n",
        "      <td> 4</td>\n",
        "    </tr>\n",
        "    <tr>\n",
        "      <th>17</th>\n",
        "      <td>     Kelly S. Ferguson</td>\n",
        "      <td> Math</td>\n",
        "      <td>        Stats</td>\n",
        "      <td> 4</td>\n",
        "    </tr>\n",
        "    <tr>\n",
        "      <th>18</th>\n",
        "      <td>      Nancy P. Jackson</td>\n",
        "      <td> Math</td>\n",
        "      <td>        Stats</td>\n",
        "      <td> 4</td>\n",
        "    </tr>\n",
        "    <tr>\n",
        "      <th>19</th>\n",
        "      <td>      Ralph L. Waldrop</td>\n",
        "      <td> Math</td>\n",
        "      <td>      Act Sci</td>\n",
        "      <td> 4</td>\n",
        "    </tr>\n",
        "    <tr>\n",
        "      <th>20</th>\n",
        "      <td>            Ruben Lamb</td>\n",
        "      <td> Math</td>\n",
        "      <td>      Act Sci</td>\n",
        "      <td> 4</td>\n",
        "    </tr>\n",
        "    <tr>\n",
        "      <th>21</th>\n",
        "      <td>       Billy L. Hunter</td>\n",
        "      <td> Math</td>\n",
        "      <td>           CS</td>\n",
        "      <td> 5</td>\n",
        "    </tr>\n",
        "    <tr>\n",
        "      <th>22</th>\n",
        "      <td>   Deborah D. Helfrich</td>\n",
        "      <td> Math</td>\n",
        "      <td>      Act Sci</td>\n",
        "      <td> 5</td>\n",
        "    </tr>\n",
        "    <tr>\n",
        "      <th>23</th>\n",
        "      <td>         Dominick Byrd</td>\n",
        "      <td> Math</td>\n",
        "      <td>    Pure Math</td>\n",
        "      <td> 5</td>\n",
        "    </tr>\n",
        "    <tr>\n",
        "      <th>24</th>\n",
        "      <td>     Frances A. Miller</td>\n",
        "      <td> Math</td>\n",
        "      <td>        Stats</td>\n",
        "      <td> 5</td>\n",
        "    </tr>\n",
        "    <tr>\n",
        "      <th>25</th>\n",
        "      <td>         Fred E. Finch</td>\n",
        "      <td> Math</td>\n",
        "      <td>    Pure Math</td>\n",
        "      <td> 5</td>\n",
        "    </tr>\n",
        "    <tr>\n",
        "      <th>26</th>\n",
        "      <td>        Joseph L. Wood</td>\n",
        "      <td> Math</td>\n",
        "      <td>        C &amp; O</td>\n",
        "      <td> 5</td>\n",
        "    </tr>\n",
        "    <tr>\n",
        "      <th>27</th>\n",
        "      <td>     Judith B. Gibbons</td>\n",
        "      <td> Math</td>\n",
        "      <td>      Act Sci</td>\n",
        "      <td> 5</td>\n",
        "    </tr>\n",
        "    <tr>\n",
        "      <th>28</th>\n",
        "      <td>    Robert B. Williams</td>\n",
        "      <td> Math</td>\n",
        "      <td>        Stats</td>\n",
        "      <td> 5</td>\n",
        "    </tr>\n",
        "    <tr>\n",
        "      <th>29</th>\n",
        "      <td> Stephanie R. Matthews</td>\n",
        "      <td> Math</td>\n",
        "      <td>      Act Sci</td>\n",
        "      <td> 5</td>\n",
        "    </tr>\n",
        "    <tr>\n",
        "      <th>30</th>\n",
        "      <td>   Tameika M. McMaster</td>\n",
        "      <td> Math</td>\n",
        "      <td>        Stats</td>\n",
        "      <td> 5</td>\n",
        "    </tr>\n",
        "    <tr>\n",
        "      <th>31</th>\n",
        "      <td>         Elaine S. Ott</td>\n",
        "      <td> Math</td>\n",
        "      <td>        Stats</td>\n",
        "      <td> 6</td>\n",
        "    </tr>\n",
        "    <tr>\n",
        "      <th>32</th>\n",
        "      <td>       Daniel J. Moore</td>\n",
        "      <td> Math</td>\n",
        "      <td>        Stats</td>\n",
        "      <td> 7</td>\n",
        "    </tr>\n",
        "    <tr>\n",
        "      <th>33</th>\n",
        "      <td>     Patrick Robertson</td>\n",
        "      <td> Math</td>\n",
        "      <td>        Stats</td>\n",
        "      <td> 7</td>\n",
        "    </tr>\n",
        "  </tbody>\n",
        "</table>\n",
        "</div>"
       ],
       "metadata": {},
       "output_type": "pyout",
       "prompt_number": 17,
       "text": [
        "                  at.name at.faculty      at.major  events_attended\n",
        "0          Darrell Aucoin       Math         Stats                0\n",
        "1           James A. Foxt       Math       Act Sci                0\n",
        "2         John J. Oquendo       Math  Applied Math                1\n",
        "3        James M. Eddings       Math            CS                2\n",
        "4     Melissa R. Anderson       Math       Act Sci                2\n",
        "5        Melvin O. Martin       Math         C & O                2\n",
        "6        Mina W. Lawrence       Math         Stats                2\n",
        "7       Ann W. McLaughlin       Math         Stats                3\n",
        "8       Bobbie D. Mathews       Math       Act Sci                3\n",
        "9        Janelle T. Smith       Math  Applied Math                3\n",
        "10   Mildred F. Hottinger        Art          Econ                3\n",
        "11  Phillip C. Mascarenas       Math       Act Sci                3\n",
        "12           Ryan T. Luby       Math         Stats                3\n",
        "13       Vivian R. Donley       Math         Stats                3\n",
        "14       Arnold J. Fuller       Math            CS                4\n",
        "15     Austin K. Gilliard       Math       Act Sci                4\n",
        "16         Jeff M. Wright       Math         Stats                4\n",
        "17      Kelly S. Ferguson       Math         Stats                4\n",
        "18       Nancy P. Jackson       Math         Stats                4\n",
        "19       Ralph L. Waldrop       Math       Act Sci                4\n",
        "20             Ruben Lamb       Math       Act Sci                4\n",
        "21        Billy L. Hunter       Math            CS                5\n",
        "22    Deborah D. Helfrich       Math       Act Sci                5\n",
        "23          Dominick Byrd       Math     Pure Math                5\n",
        "24      Frances A. Miller       Math         Stats                5\n",
        "25          Fred E. Finch       Math     Pure Math                5\n",
        "26         Joseph L. Wood       Math         C & O                5\n",
        "27      Judith B. Gibbons       Math       Act Sci                5\n",
        "28     Robert B. Williams       Math         Stats                5\n",
        "29  Stephanie R. Matthews       Math       Act Sci                5\n",
        "30    Tameika M. McMaster       Math         Stats                5\n",
        "31          Elaine S. Ott       Math         Stats                6\n",
        "32        Daniel J. Moore       Math         Stats                7\n",
        "33      Patrick Robertson       Math         Stats                7"
       ]
      }
     ],
     "prompt_number": 17
    },
    {
     "cell_type": "heading",
     "level": 3,
     "metadata": {
      "slideshow": {
       "slide_type": "subslide"
      }
     },
     "source": [
      "Natural Join"
     ]
    },
    {
     "cell_type": "markdown",
     "metadata": {},
     "source": [
      "__NATURAL\u00a0JOIN__ A join condition that lets the server decide on the join conditions based on the same column names and types across columns for the tables."
     ]
    },
    {
     "cell_type": "markdown",
     "metadata": {
      "slideshow": {
       "slide_type": "fragment"
      }
     },
     "source": [
      "__Example:__ What are the position and duties of each Stats Club exec?"
     ]
    },
    {
     "cell_type": "markdown",
     "metadata": {
      "slideshow": {
       "slide_type": "fragment"
      }
     },
     "source": [
      "```sql\n",
      "SELECT  e.name, e.position, ep.duties \n",
      "FROM exec AS e NATURAL JOIN exec_position AS ep;\n",
      "```"
     ]
    },
    {
     "cell_type": "code",
     "collapsed": false,
     "input": [
      "pd.read_sql_query(\n",
      "\"SELECT  e.name, e.position, ep.duties \\\n",
      "FROM exec AS e NATURAL JOIN exec_position AS ep\", con)"
     ],
     "language": "python",
     "metadata": {
      "slideshow": {
       "slide_type": "fragment"
      }
     },
     "outputs": [
      {
       "html": [
        "<div style=\"max-height:1000px;max-width:1500px;overflow:auto;\">\n",
        "<table border=\"1\" class=\"dataframe\">\n",
        "  <thead>\n",
        "    <tr style=\"text-align: right;\">\n",
        "      <th></th>\n",
        "      <th>name</th>\n",
        "      <th>position</th>\n",
        "      <th>duties</th>\n",
        "    </tr>\n",
        "  </thead>\n",
        "  <tbody>\n",
        "    <tr>\n",
        "      <th>0 </th>\n",
        "      <td>    Darrell Aucoin</td>\n",
        "      <td>  President</td>\n",
        "      <td> To be aware of MathSoc's Policies and Bylaws i...</td>\n",
        "    </tr>\n",
        "    <tr>\n",
        "      <th>1 </th>\n",
        "      <td>    Darrell Aucoin</td>\n",
        "      <td>  President</td>\n",
        "      <td>        To call and preside over general meetings.</td>\n",
        "    </tr>\n",
        "    <tr>\n",
        "      <th>2 </th>\n",
        "      <td>    Darrell Aucoin</td>\n",
        "      <td>  President</td>\n",
        "      <td> To manage the executive team and the strategic...</td>\n",
        "    </tr>\n",
        "    <tr>\n",
        "      <th>3 </th>\n",
        "      <td>    Darrell Aucoin</td>\n",
        "      <td>  President</td>\n",
        "      <td> To post announcements of all club meetings, an...</td>\n",
        "    </tr>\n",
        "    <tr>\n",
        "      <th>4 </th>\n",
        "      <td> Judith B. Gibbons</td>\n",
        "      <td>     Events</td>\n",
        "      <td> To assist the president and other vice-preside...</td>\n",
        "    </tr>\n",
        "    <tr>\n",
        "      <th>5 </th>\n",
        "      <td> Judith B. Gibbons</td>\n",
        "      <td>     Events</td>\n",
        "      <td> To chair the organization and promotion of lea...</td>\n",
        "    </tr>\n",
        "    <tr>\n",
        "      <th>6 </th>\n",
        "      <td>         Lamar Roy</td>\n",
        "      <td>    Finance</td>\n",
        "      <td> To ensure membership fees are collected and ma...</td>\n",
        "    </tr>\n",
        "    <tr>\n",
        "      <th>7 </th>\n",
        "      <td>         Lamar Roy</td>\n",
        "      <td>    Finance</td>\n",
        "      <td> To keep an up-to-date record of financial tran...</td>\n",
        "    </tr>\n",
        "    <tr>\n",
        "      <th>8 </th>\n",
        "      <td>         Lamar Roy</td>\n",
        "      <td>    Finance</td>\n",
        "      <td> To prepare a summary of the financial records ...</td>\n",
        "    </tr>\n",
        "    <tr>\n",
        "      <th>9 </th>\n",
        "      <td>         Lamar Roy</td>\n",
        "      <td>    Finance</td>\n",
        "      <td>   To prepare the budget at the beginning of term.</td>\n",
        "    </tr>\n",
        "    <tr>\n",
        "      <th>10</th>\n",
        "      <td>         Lamar Roy</td>\n",
        "      <td>    Finance</td>\n",
        "      <td> To volunteer as president in the absence of th...</td>\n",
        "    </tr>\n",
        "    <tr>\n",
        "      <th>11</th>\n",
        "      <td>    Gilberto Cross</td>\n",
        "      <td>     Events</td>\n",
        "      <td> To assist the president and other vice-preside...</td>\n",
        "    </tr>\n",
        "    <tr>\n",
        "      <th>12</th>\n",
        "      <td>    Gilberto Cross</td>\n",
        "      <td>     Events</td>\n",
        "      <td> To chair the organization and promotion of lea...</td>\n",
        "    </tr>\n",
        "    <tr>\n",
        "      <th>13</th>\n",
        "      <td>        Melba Lane</td>\n",
        "      <td>  President</td>\n",
        "      <td> To be aware of MathSoc's Policies and Bylaws i...</td>\n",
        "    </tr>\n",
        "    <tr>\n",
        "      <th>14</th>\n",
        "      <td>        Melba Lane</td>\n",
        "      <td>  President</td>\n",
        "      <td>        To call and preside over general meetings.</td>\n",
        "    </tr>\n",
        "    <tr>\n",
        "      <th>15</th>\n",
        "      <td>        Melba Lane</td>\n",
        "      <td>  President</td>\n",
        "      <td> To manage the executive team and the strategic...</td>\n",
        "    </tr>\n",
        "    <tr>\n",
        "      <th>16</th>\n",
        "      <td>        Melba Lane</td>\n",
        "      <td>  President</td>\n",
        "      <td> To post announcements of all club meetings, an...</td>\n",
        "    </tr>\n",
        "    <tr>\n",
        "      <th>17</th>\n",
        "      <td>        Ruben Lamb</td>\n",
        "      <td> Technology</td>\n",
        "      <td>             Maintain and update the club website.</td>\n",
        "    </tr>\n",
        "    <tr>\n",
        "      <th>18</th>\n",
        "      <td>        Ruben Lamb</td>\n",
        "      <td> Technology</td>\n",
        "      <td> Maintain any hardware, software, or technology...</td>\n",
        "    </tr>\n",
        "    <tr>\n",
        "      <th>19</th>\n",
        "      <td>        Ruben Lamb</td>\n",
        "      <td> Technology</td>\n",
        "      <td> Perform the duties of a Vice President - Event...</td>\n",
        "    </tr>\n",
        "    <tr>\n",
        "      <th>20</th>\n",
        "      <td> Patrick Robertson</td>\n",
        "      <td>     Events</td>\n",
        "      <td> To assist the president and other vice-preside...</td>\n",
        "    </tr>\n",
        "    <tr>\n",
        "      <th>21</th>\n",
        "      <td> Patrick Robertson</td>\n",
        "      <td>     Events</td>\n",
        "      <td> To chair the organization and promotion of lea...</td>\n",
        "    </tr>\n",
        "    <tr>\n",
        "      <th>22</th>\n",
        "      <td>     Dominick Byrd</td>\n",
        "      <td>     Events</td>\n",
        "      <td> To assist the president and other vice-preside...</td>\n",
        "    </tr>\n",
        "    <tr>\n",
        "      <th>23</th>\n",
        "      <td>     Dominick Byrd</td>\n",
        "      <td>     Events</td>\n",
        "      <td> To chair the organization and promotion of lea...</td>\n",
        "    </tr>\n",
        "  </tbody>\n",
        "</table>\n",
        "</div>"
       ],
       "metadata": {},
       "output_type": "pyout",
       "prompt_number": 18,
       "text": [
        "                 name    position  \\\n",
        "0      Darrell Aucoin   President   \n",
        "1      Darrell Aucoin   President   \n",
        "2      Darrell Aucoin   President   \n",
        "3      Darrell Aucoin   President   \n",
        "4   Judith B. Gibbons      Events   \n",
        "5   Judith B. Gibbons      Events   \n",
        "6           Lamar Roy     Finance   \n",
        "7           Lamar Roy     Finance   \n",
        "8           Lamar Roy     Finance   \n",
        "9           Lamar Roy     Finance   \n",
        "10          Lamar Roy     Finance   \n",
        "11     Gilberto Cross      Events   \n",
        "12     Gilberto Cross      Events   \n",
        "13         Melba Lane   President   \n",
        "14         Melba Lane   President   \n",
        "15         Melba Lane   President   \n",
        "16         Melba Lane   President   \n",
        "17         Ruben Lamb  Technology   \n",
        "18         Ruben Lamb  Technology   \n",
        "19         Ruben Lamb  Technology   \n",
        "20  Patrick Robertson      Events   \n",
        "21  Patrick Robertson      Events   \n",
        "22      Dominick Byrd      Events   \n",
        "23      Dominick Byrd      Events   \n",
        "\n",
        "                                               duties  \n",
        "0   To be aware of MathSoc's Policies and Bylaws i...  \n",
        "1          To call and preside over general meetings.  \n",
        "2   To manage the executive team and the strategic...  \n",
        "3   To post announcements of all club meetings, an...  \n",
        "4   To assist the president and other vice-preside...  \n",
        "5   To chair the organization and promotion of lea...  \n",
        "6   To ensure membership fees are collected and ma...  \n",
        "7   To keep an up-to-date record of financial tran...  \n",
        "8   To prepare a summary of the financial records ...  \n",
        "9     To prepare the budget at the beginning of term.  \n",
        "10  To volunteer as president in the absence of th...  \n",
        "11  To assist the president and other vice-preside...  \n",
        "12  To chair the organization and promotion of lea...  \n",
        "13  To be aware of MathSoc's Policies and Bylaws i...  \n",
        "14         To call and preside over general meetings.  \n",
        "15  To manage the executive team and the strategic...  \n",
        "16  To post announcements of all club meetings, an...  \n",
        "17              Maintain and update the club website.  \n",
        "18  Maintain any hardware, software, or technology...  \n",
        "19  Perform the duties of a Vice President - Event...  \n",
        "20  To assist the president and other vice-preside...  \n",
        "21  To chair the organization and promotion of lea...  \n",
        "22  To assist the president and other vice-preside...  \n",
        "23  To chair the organization and promotion of lea...  "
       ]
      }
     ],
     "prompt_number": 18
    },
    {
     "cell_type": "heading",
     "level": 3,
     "metadata": {
      "slideshow": {
       "slide_type": "subslide"
      }
     },
     "source": [
      "Quiz"
     ]
    },
    {
     "cell_type": "markdown",
     "metadata": {},
     "source": [
      "__Q:__ What are the email addresses and phone numbers of stats club execs who are in change or organizing at least one event?\n",
      "![alt text](Images/StatClubTables.png)"
     ]
    },
    {
     "cell_type": "code",
     "collapsed": false,
     "input": [
      "#pd.read_sql_query(\"   \", con)"
     ],
     "language": "python",
     "metadata": {
      "slideshow": {
       "slide_type": "skip"
      }
     },
     "outputs": [],
     "prompt_number": 19
    },
    {
     "cell_type": "code",
     "collapsed": false,
     "input": [
      "# to check your answer, remove the '#' below and run the cell\n",
      "#%load quizJOIN.py"
     ],
     "language": "python",
     "metadata": {
      "slideshow": {
       "slide_type": "skip"
      }
     },
     "outputs": [],
     "prompt_number": 20
    },
    {
     "cell_type": "heading",
     "level": 2,
     "metadata": {
      "slideshow": {
       "slide_type": "slide"
      }
     },
     "source": [
      "Set Operations"
     ]
    },
    {
     "cell_type": "markdown",
     "metadata": {},
     "source": [
      "Set operations create a combination of rows from 2 tables into one result set.\n",
      "- The tables (or the projection of those tables) have to have the same number of columns and datatypes\n",
      "    - if one column appears in a table but not in another, supply the value NULL for the missing column"
     ]
    },
    {
     "cell_type": "markdown",
     "metadata": {
      "slideshow": {
       "slide_type": "fragment"
      }
     },
     "source": [
      "1. __UNION__: For tables A and B, combines the rows for A and B into one result set.\n",
      "2. __INTERSECT__: For tables A and B, returns the rows for A and B that they have in common.\n",
      "3. __Difference (EXCEPT)__: For tables A and B, return only the rows in A that are not in common with B."
     ]
    },
    {
     "cell_type": "heading",
     "level": 3,
     "metadata": {
      "slideshow": {
       "slide_type": "subslide"
      }
     },
     "source": [
      "UNION"
     ]
    },
    {
     "cell_type": "markdown",
     "metadata": {},
     "source": [
      "__UNION\u00a0operator:__ Addition of one result set to another result set with the same number of attributes and types.\n",
      "```sql\n",
      "SELECT ... FROM ... \n",
      "UNION [ALL]\n",
      "SELECT ... FROM ...\n",
      "```\n",
      "- Just __UNION__ removes duplicates, while __UNION ALL__ keeps all rows from both result sets."
     ]
    },
    {
     "cell_type": "markdown",
     "metadata": {
      "slideshow": {
       "slide_type": "subslide"
      }
     },
     "source": [
      "__Example:__ Suppose are you need to contact everyone involved in Stats Club: members and execs.  \n",
      "What are the names, email addresses, and phone numbers (if you have them) of all Stats Club members and execs?"
     ]
    },
    {
     "cell_type": "markdown",
     "metadata": {
      "slideshow": {
       "slide_type": "fragment"
      }
     },
     "source": [
      "```sql\n",
      "SELECT name, email, NULL AS phone \n",
      "FROM member \n",
      "UNION \n",
      "SELECT name, email, phone \n",
      "FROM exec;\n",
      "```"
     ]
    },
    {
     "cell_type": "code",
     "collapsed": false,
     "input": [
      "pd.read_sql_query(\n",
      "\"SELECT name, email, NULL AS phone \\\n",
      "FROM member \\\n",
      "UNION \\\n",
      "SELECT name, email, phone \\\n",
      "FROM exec\", con)"
     ],
     "language": "python",
     "metadata": {
      "slideshow": {
       "slide_type": "fragment"
      }
     },
     "outputs": [
      {
       "html": [
        "<div style=\"max-height:1000px;max-width:1500px;overflow:auto;\">\n",
        "<table border=\"1\" class=\"dataframe\">\n",
        "  <thead>\n",
        "    <tr style=\"text-align: right;\">\n",
        "      <th></th>\n",
        "      <th>name</th>\n",
        "      <th>email</th>\n",
        "      <th>phone</th>\n",
        "    </tr>\n",
        "  </thead>\n",
        "  <tbody>\n",
        "    <tr>\n",
        "      <th>0 </th>\n",
        "      <td>     Ann W. McLaughlin</td>\n",
        "      <td>         ann@uwaterloo.ca</td>\n",
        "      <td>         None</td>\n",
        "    </tr>\n",
        "    <tr>\n",
        "      <th>1 </th>\n",
        "      <td>      Arnold J. Fuller</td>\n",
        "      <td>      arnold@uwaterloo.ca</td>\n",
        "      <td>         None</td>\n",
        "    </tr>\n",
        "    <tr>\n",
        "      <th>2 </th>\n",
        "      <td>    Austin K. Gilliard</td>\n",
        "      <td>      austin@uwaterloo.ca</td>\n",
        "      <td>         None</td>\n",
        "    </tr>\n",
        "    <tr>\n",
        "      <th>3 </th>\n",
        "      <td>       Billy L. Hunter</td>\n",
        "      <td>       billy@uwaterloo.ca</td>\n",
        "      <td>         None</td>\n",
        "    </tr>\n",
        "    <tr>\n",
        "      <th>4 </th>\n",
        "      <td>     Bobbie D. Mathews</td>\n",
        "      <td>      bobbie@uwaterloo.ca</td>\n",
        "      <td>         None</td>\n",
        "    </tr>\n",
        "    <tr>\n",
        "      <th>5 </th>\n",
        "      <td>       Daniel J. Moore</td>\n",
        "      <td>      daniel@uwaterloo.ca</td>\n",
        "      <td>         None</td>\n",
        "    </tr>\n",
        "    <tr>\n",
        "      <th>6 </th>\n",
        "      <td>        Darrell Aucoin</td>\n",
        "      <td> darrell.aucoin@gmail.com</td>\n",
        "      <td>         None</td>\n",
        "    </tr>\n",
        "    <tr>\n",
        "      <th>7 </th>\n",
        "      <td>        Darrell Aucoin</td>\n",
        "      <td> darrell.aucoin@gmail.com</td>\n",
        "      <td> 519-555-1424</td>\n",
        "    </tr>\n",
        "    <tr>\n",
        "      <th>8 </th>\n",
        "      <td>   Deborah D. Helfrich</td>\n",
        "      <td>     deborah@uwaterloo.ca</td>\n",
        "      <td>         None</td>\n",
        "    </tr>\n",
        "    <tr>\n",
        "      <th>9 </th>\n",
        "      <td>         Dominick Byrd</td>\n",
        "      <td>    dominick@uwaterloo.ca</td>\n",
        "      <td>         None</td>\n",
        "    </tr>\n",
        "    <tr>\n",
        "      <th>10</th>\n",
        "      <td>         Dominick Byrd</td>\n",
        "      <td>    dominick@uwaterloo.ca</td>\n",
        "      <td> 519-555-2325</td>\n",
        "    </tr>\n",
        "    <tr>\n",
        "      <th>11</th>\n",
        "      <td>         Elaine S. Ott</td>\n",
        "      <td>      elaine@uwaterloo.ca</td>\n",
        "      <td>         None</td>\n",
        "    </tr>\n",
        "    <tr>\n",
        "      <th>12</th>\n",
        "      <td>     Frances A. Miller</td>\n",
        "      <td>     frances@uwaterloo.ca</td>\n",
        "      <td>         None</td>\n",
        "    </tr>\n",
        "    <tr>\n",
        "      <th>13</th>\n",
        "      <td>         Fred E. Finch</td>\n",
        "      <td>        fred@uwaterloo.ca</td>\n",
        "      <td>         None</td>\n",
        "    </tr>\n",
        "    <tr>\n",
        "      <th>14</th>\n",
        "      <td>        Gilberto Cross</td>\n",
        "      <td>    gilberto@uwaterloo.ca</td>\n",
        "      <td> 519-555-3453</td>\n",
        "    </tr>\n",
        "    <tr>\n",
        "      <th>15</th>\n",
        "      <td>          Hannah Mason</td>\n",
        "      <td>      hannah@uwaterloo.ca</td>\n",
        "      <td> 519-555-2342</td>\n",
        "    </tr>\n",
        "    <tr>\n",
        "      <th>16</th>\n",
        "      <td>         James A. Foxt</td>\n",
        "      <td>   james.fox@uwaterloo.ca</td>\n",
        "      <td>         None</td>\n",
        "    </tr>\n",
        "    <tr>\n",
        "      <th>17</th>\n",
        "      <td>      James M. Eddings</td>\n",
        "      <td>       james@uwaterloo.ca</td>\n",
        "      <td>         None</td>\n",
        "    </tr>\n",
        "    <tr>\n",
        "      <th>18</th>\n",
        "      <td>      Janelle T. Smith</td>\n",
        "      <td>     janelle@uwaterloo.ca</td>\n",
        "      <td>         None</td>\n",
        "    </tr>\n",
        "    <tr>\n",
        "      <th>19</th>\n",
        "      <td>        Jeff M. Wright</td>\n",
        "      <td>        jeff@uwaterloo.ca</td>\n",
        "      <td>         None</td>\n",
        "    </tr>\n",
        "    <tr>\n",
        "      <th>20</th>\n",
        "      <td>       John J. Oquendo</td>\n",
        "      <td>        john@uwaterloo.ca</td>\n",
        "      <td>         None</td>\n",
        "    </tr>\n",
        "    <tr>\n",
        "      <th>21</th>\n",
        "      <td>        Joseph L. Wood</td>\n",
        "      <td>      joseph@uwaterloo.ca</td>\n",
        "      <td>         None</td>\n",
        "    </tr>\n",
        "    <tr>\n",
        "      <th>22</th>\n",
        "      <td>     Judith B. Gibbons</td>\n",
        "      <td>      judith@uwaterloo.ca</td>\n",
        "      <td>         None</td>\n",
        "    </tr>\n",
        "    <tr>\n",
        "      <th>23</th>\n",
        "      <td>     Judith B. Gibbons</td>\n",
        "      <td>      judith@uwaterloo.ca</td>\n",
        "      <td> 519-555-2343</td>\n",
        "    </tr>\n",
        "    <tr>\n",
        "      <th>24</th>\n",
        "      <td>     Kelly S. Ferguson</td>\n",
        "      <td>       kelly@uwaterloo.ca</td>\n",
        "      <td>         None</td>\n",
        "    </tr>\n",
        "    <tr>\n",
        "      <th>25</th>\n",
        "      <td>             Lamar Roy</td>\n",
        "      <td>       lamar@uwaterloo.ca</td>\n",
        "      <td> 519-555-3432</td>\n",
        "    </tr>\n",
        "    <tr>\n",
        "      <th>26</th>\n",
        "      <td>            Melba Lane</td>\n",
        "      <td>       melba@uwaterloo.ca</td>\n",
        "      <td> 519-555-2322</td>\n",
        "    </tr>\n",
        "    <tr>\n",
        "      <th>27</th>\n",
        "      <td>   Melissa R. Anderson</td>\n",
        "      <td>     melissa@uwaterloo.ca</td>\n",
        "      <td>         None</td>\n",
        "    </tr>\n",
        "    <tr>\n",
        "      <th>28</th>\n",
        "      <td>      Melvin O. Martin</td>\n",
        "      <td>      melvin@uwaterloo.ca</td>\n",
        "      <td>         None</td>\n",
        "    </tr>\n",
        "    <tr>\n",
        "      <th>29</th>\n",
        "      <td>  Mildred F. Hottinger</td>\n",
        "      <td>     mildred@uwaterloo.ca</td>\n",
        "      <td>         None</td>\n",
        "    </tr>\n",
        "    <tr>\n",
        "      <th>30</th>\n",
        "      <td>      Mina W. Lawrence</td>\n",
        "      <td>        mina@uwaterloo.ca</td>\n",
        "      <td>         None</td>\n",
        "    </tr>\n",
        "    <tr>\n",
        "      <th>31</th>\n",
        "      <td>      Nancy P. Jackson</td>\n",
        "      <td>       nancy@uwaterloo.ca</td>\n",
        "      <td>         None</td>\n",
        "    </tr>\n",
        "    <tr>\n",
        "      <th>32</th>\n",
        "      <td>     Patrick Robertson</td>\n",
        "      <td>     patrick@uwaterloo.ca</td>\n",
        "      <td>         None</td>\n",
        "    </tr>\n",
        "    <tr>\n",
        "      <th>33</th>\n",
        "      <td>     Patrick Robertson</td>\n",
        "      <td>     patrick@uwaterloo.ca</td>\n",
        "      <td> 519-555-2312</td>\n",
        "    </tr>\n",
        "    <tr>\n",
        "      <th>34</th>\n",
        "      <td> Phillip C. Mascarenas</td>\n",
        "      <td>     phillip@uwaterloo.ca</td>\n",
        "      <td>         None</td>\n",
        "    </tr>\n",
        "    <tr>\n",
        "      <th>35</th>\n",
        "      <td>      Ralph L. Waldrop</td>\n",
        "      <td>       ralph@uwaterloo.ca</td>\n",
        "      <td>         None</td>\n",
        "    </tr>\n",
        "    <tr>\n",
        "      <th>36</th>\n",
        "      <td>    Robert B. Williams</td>\n",
        "      <td>      robert@uwaterloo.ca</td>\n",
        "      <td>         None</td>\n",
        "    </tr>\n",
        "    <tr>\n",
        "      <th>37</th>\n",
        "      <td>            Ruben Lamb</td>\n",
        "      <td>       ruben@uwaterloo.ca</td>\n",
        "      <td>         None</td>\n",
        "    </tr>\n",
        "    <tr>\n",
        "      <th>38</th>\n",
        "      <td>            Ruben Lamb</td>\n",
        "      <td>       ruben@uwaterloo.ca</td>\n",
        "      <td> 519-555-5232</td>\n",
        "    </tr>\n",
        "    <tr>\n",
        "      <th>39</th>\n",
        "      <td>          Ryan T. Luby</td>\n",
        "      <td>        ryan@uwaterloo.ca</td>\n",
        "      <td>         None</td>\n",
        "    </tr>\n",
        "    <tr>\n",
        "      <th>40</th>\n",
        "      <td> Stephanie R. Matthews</td>\n",
        "      <td>        step@uwaterloo.ca</td>\n",
        "      <td>         None</td>\n",
        "    </tr>\n",
        "    <tr>\n",
        "      <th>41</th>\n",
        "      <td>   Tameika M. McMaster</td>\n",
        "      <td>     tameika@uwaterloo.ca</td>\n",
        "      <td>         None</td>\n",
        "    </tr>\n",
        "    <tr>\n",
        "      <th>42</th>\n",
        "      <td>      Vivian R. Donley</td>\n",
        "      <td>      vivian@uwaterloo.ca</td>\n",
        "      <td>         None</td>\n",
        "    </tr>\n",
        "  </tbody>\n",
        "</table>\n",
        "</div>"
       ],
       "metadata": {},
       "output_type": "pyout",
       "prompt_number": 21,
       "text": [
        "                     name                     email         phone\n",
        "0       Ann W. McLaughlin          ann@uwaterloo.ca          None\n",
        "1        Arnold J. Fuller       arnold@uwaterloo.ca          None\n",
        "2      Austin K. Gilliard       austin@uwaterloo.ca          None\n",
        "3         Billy L. Hunter        billy@uwaterloo.ca          None\n",
        "4       Bobbie D. Mathews       bobbie@uwaterloo.ca          None\n",
        "5         Daniel J. Moore       daniel@uwaterloo.ca          None\n",
        "6          Darrell Aucoin  darrell.aucoin@gmail.com          None\n",
        "7          Darrell Aucoin  darrell.aucoin@gmail.com  519-555-1424\n",
        "8     Deborah D. Helfrich      deborah@uwaterloo.ca          None\n",
        "9           Dominick Byrd     dominick@uwaterloo.ca          None\n",
        "10          Dominick Byrd     dominick@uwaterloo.ca  519-555-2325\n",
        "11          Elaine S. Ott       elaine@uwaterloo.ca          None\n",
        "12      Frances A. Miller      frances@uwaterloo.ca          None\n",
        "13          Fred E. Finch         fred@uwaterloo.ca          None\n",
        "14         Gilberto Cross     gilberto@uwaterloo.ca  519-555-3453\n",
        "15           Hannah Mason       hannah@uwaterloo.ca  519-555-2342\n",
        "16          James A. Foxt    james.fox@uwaterloo.ca          None\n",
        "17       James M. Eddings        james@uwaterloo.ca          None\n",
        "18       Janelle T. Smith      janelle@uwaterloo.ca          None\n",
        "19         Jeff M. Wright         jeff@uwaterloo.ca          None\n",
        "20        John J. Oquendo         john@uwaterloo.ca          None\n",
        "21         Joseph L. Wood       joseph@uwaterloo.ca          None\n",
        "22      Judith B. Gibbons       judith@uwaterloo.ca          None\n",
        "23      Judith B. Gibbons       judith@uwaterloo.ca  519-555-2343\n",
        "24      Kelly S. Ferguson        kelly@uwaterloo.ca          None\n",
        "25              Lamar Roy        lamar@uwaterloo.ca  519-555-3432\n",
        "26             Melba Lane        melba@uwaterloo.ca  519-555-2322\n",
        "27    Melissa R. Anderson      melissa@uwaterloo.ca          None\n",
        "28       Melvin O. Martin       melvin@uwaterloo.ca          None\n",
        "29   Mildred F. Hottinger      mildred@uwaterloo.ca          None\n",
        "30       Mina W. Lawrence         mina@uwaterloo.ca          None\n",
        "31       Nancy P. Jackson        nancy@uwaterloo.ca          None\n",
        "32      Patrick Robertson      patrick@uwaterloo.ca          None\n",
        "33      Patrick Robertson      patrick@uwaterloo.ca  519-555-2312\n",
        "34  Phillip C. Mascarenas      phillip@uwaterloo.ca          None\n",
        "35       Ralph L. Waldrop        ralph@uwaterloo.ca          None\n",
        "36     Robert B. Williams       robert@uwaterloo.ca          None\n",
        "37             Ruben Lamb        ruben@uwaterloo.ca          None\n",
        "38             Ruben Lamb        ruben@uwaterloo.ca  519-555-5232\n",
        "39           Ryan T. Luby         ryan@uwaterloo.ca          None\n",
        "40  Stephanie R. Matthews         step@uwaterloo.ca          None\n",
        "41    Tameika M. McMaster      tameika@uwaterloo.ca          None\n",
        "42       Vivian R. Donley       vivian@uwaterloo.ca          None"
       ]
      }
     ],
     "prompt_number": 21
    },
    {
     "cell_type": "heading",
     "level": 3,
     "metadata": {
      "slideshow": {
       "slide_type": "subslide"
      }
     },
     "source": [
      "Intersection (INTERSECT Operator)"
     ]
    },
    {
     "cell_type": "markdown",
     "metadata": {},
     "source": [
      "__INTERSECT\u00a0operator:__ Returns only tuples that are in common between two result sets. Result sets must be equal in number and type of attributes.\n",
      "```sql\n",
      "SELECT ... FROM ...\n",
      "INTERSECT\n",
      "SELECT ... FROM ...\n",
      "```"
     ]
    },
    {
     "cell_type": "markdown",
     "metadata": {
      "slideshow": {
       "slide_type": "fragment"
      }
     },
     "source": [
      "__Example:__ What Stats Club execs have also signed up as Stats Club members?"
     ]
    },
    {
     "cell_type": "markdown",
     "metadata": {
      "slideshow": {
       "slide_type": "fragment"
      }
     },
     "source": [
      "```sql\n",
      "SELECT name, quest_id \n",
      "FROM member \n",
      "INTERSECT \n",
      "SELECT name, questid \n",
      "FROM exec;\n",
      "```"
     ]
    },
    {
     "cell_type": "code",
     "collapsed": false,
     "input": [
      "pd.read_sql_query(\n",
      "\"SELECT name, quest_id \\\n",
      "FROM member \\\n",
      "INTERSECT \\\n",
      "SELECT name, questid \\\n",
      "FROM exec\", con)"
     ],
     "language": "python",
     "metadata": {
      "slideshow": {
       "slide_type": "fragment"
      }
     },
     "outputs": [
      {
       "html": [
        "<div style=\"max-height:1000px;max-width:1500px;overflow:auto;\">\n",
        "<table border=\"1\" class=\"dataframe\">\n",
        "  <thead>\n",
        "    <tr style=\"text-align: right;\">\n",
        "      <th></th>\n",
        "      <th>name</th>\n",
        "      <th>quest_id</th>\n",
        "    </tr>\n",
        "  </thead>\n",
        "  <tbody>\n",
        "    <tr>\n",
        "      <th>0</th>\n",
        "      <td>    Darrell Aucoin</td>\n",
        "      <td>  darrell</td>\n",
        "    </tr>\n",
        "    <tr>\n",
        "      <th>1</th>\n",
        "      <td>     Dominick Byrd</td>\n",
        "      <td> dominick</td>\n",
        "    </tr>\n",
        "    <tr>\n",
        "      <th>2</th>\n",
        "      <td> Judith B. Gibbons</td>\n",
        "      <td>   judith</td>\n",
        "    </tr>\n",
        "    <tr>\n",
        "      <th>3</th>\n",
        "      <td> Patrick Robertson</td>\n",
        "      <td>  patrick</td>\n",
        "    </tr>\n",
        "    <tr>\n",
        "      <th>4</th>\n",
        "      <td>        Ruben Lamb</td>\n",
        "      <td>    ruben</td>\n",
        "    </tr>\n",
        "  </tbody>\n",
        "</table>\n",
        "</div>"
       ],
       "metadata": {},
       "output_type": "pyout",
       "prompt_number": 22,
       "text": [
        "                name  quest_id\n",
        "0     Darrell Aucoin   darrell\n",
        "1      Dominick Byrd  dominick\n",
        "2  Judith B. Gibbons    judith\n",
        "3  Patrick Robertson   patrick\n",
        "4         Ruben Lamb     ruben"
       ]
      }
     ],
     "prompt_number": 22
    },
    {
     "cell_type": "heading",
     "level": 3,
     "metadata": {
      "slideshow": {
       "slide_type": "subslide"
      }
     },
     "source": [
      "Difference (EXCEPT Operator)"
     ]
    },
    {
     "cell_type": "markdown",
     "metadata": {},
     "source": [
      "__EXCEPT\u00a0operator:__ Returns the first result set minus anything it has in common with the second result set.\n",
      "```sql\n",
      "SELECT ... FROM ...\n",
      "EXCEPT [ALL]\n",
      "SELECT ... FROM ...\n",
      "```\n",
      "- Just EXCEPT uses set theory version of minus. \n",
      "\n",
      "    - If B has a row in common with A then all rows matching that row is removed\n",
      "\n",
      "- The optional ALL uses the bag semantics version.\n",
      "    - If B has a row in common with A then only the number of common rows in B rows matching that row is removed"
     ]
    },
    {
     "cell_type": "markdown",
     "metadata": {
      "slideshow": {
       "slide_type": "subslide"
      }
     },
     "source": [
      "__Example:__ What Stats Club members are not execs?"
     ]
    },
    {
     "cell_type": "markdown",
     "metadata": {
      "slideshow": {
       "slide_type": "fragment"
      }
     },
     "source": [
      "```sql\n",
      "SELECT name, quest_id \n",
      "FROM member \n",
      "EXCEPT \n",
      "SELECT name, questid \n",
      "FROM exec;\n",
      "```"
     ]
    },
    {
     "cell_type": "code",
     "collapsed": false,
     "input": [
      "pd.read_sql_query(\n",
      "\"SELECT name, quest_id \\\n",
      "FROM member \\\n",
      "EXCEPT \\\n",
      "SELECT name, questid \\\n",
      "FROM exec\", con)"
     ],
     "language": "python",
     "metadata": {
      "slideshow": {
       "slide_type": "fragment"
      }
     },
     "outputs": [
      {
       "html": [
        "<div style=\"max-height:1000px;max-width:1500px;overflow:auto;\">\n",
        "<table border=\"1\" class=\"dataframe\">\n",
        "  <thead>\n",
        "    <tr style=\"text-align: right;\">\n",
        "      <th></th>\n",
        "      <th>name</th>\n",
        "      <th>quest_id</th>\n",
        "    </tr>\n",
        "  </thead>\n",
        "  <tbody>\n",
        "    <tr>\n",
        "      <th>0 </th>\n",
        "      <td>     Ann W. McLaughlin</td>\n",
        "      <td>       ann</td>\n",
        "    </tr>\n",
        "    <tr>\n",
        "      <th>1 </th>\n",
        "      <td>      Arnold J. Fuller</td>\n",
        "      <td>    arnold</td>\n",
        "    </tr>\n",
        "    <tr>\n",
        "      <th>2 </th>\n",
        "      <td>    Austin K. Gilliard</td>\n",
        "      <td>    austin</td>\n",
        "    </tr>\n",
        "    <tr>\n",
        "      <th>3 </th>\n",
        "      <td>       Billy L. Hunter</td>\n",
        "      <td>     billy</td>\n",
        "    </tr>\n",
        "    <tr>\n",
        "      <th>4 </th>\n",
        "      <td>     Bobbie D. Mathews</td>\n",
        "      <td>    bobbie</td>\n",
        "    </tr>\n",
        "    <tr>\n",
        "      <th>5 </th>\n",
        "      <td>       Daniel J. Moore</td>\n",
        "      <td>    daniel</td>\n",
        "    </tr>\n",
        "    <tr>\n",
        "      <th>6 </th>\n",
        "      <td>   Deborah D. Helfrich</td>\n",
        "      <td>   deborah</td>\n",
        "    </tr>\n",
        "    <tr>\n",
        "      <th>7 </th>\n",
        "      <td>         Elaine S. Ott</td>\n",
        "      <td>    elaine</td>\n",
        "    </tr>\n",
        "    <tr>\n",
        "      <th>8 </th>\n",
        "      <td>     Frances A. Miller</td>\n",
        "      <td>   frances</td>\n",
        "    </tr>\n",
        "    <tr>\n",
        "      <th>9 </th>\n",
        "      <td>         Fred E. Finch</td>\n",
        "      <td>      fred</td>\n",
        "    </tr>\n",
        "    <tr>\n",
        "      <th>10</th>\n",
        "      <td>         James A. Foxt</td>\n",
        "      <td> james.fox</td>\n",
        "    </tr>\n",
        "    <tr>\n",
        "      <th>11</th>\n",
        "      <td>      James M. Eddings</td>\n",
        "      <td>     james</td>\n",
        "    </tr>\n",
        "    <tr>\n",
        "      <th>12</th>\n",
        "      <td>      Janelle T. Smith</td>\n",
        "      <td>   janelle</td>\n",
        "    </tr>\n",
        "    <tr>\n",
        "      <th>13</th>\n",
        "      <td>        Jeff M. Wright</td>\n",
        "      <td>      jeff</td>\n",
        "    </tr>\n",
        "    <tr>\n",
        "      <th>14</th>\n",
        "      <td>       John J. Oquendo</td>\n",
        "      <td>      john</td>\n",
        "    </tr>\n",
        "    <tr>\n",
        "      <th>15</th>\n",
        "      <td>        Joseph L. Wood</td>\n",
        "      <td>    joseph</td>\n",
        "    </tr>\n",
        "    <tr>\n",
        "      <th>16</th>\n",
        "      <td>     Kelly S. Ferguson</td>\n",
        "      <td>     kelly</td>\n",
        "    </tr>\n",
        "    <tr>\n",
        "      <th>17</th>\n",
        "      <td>   Melissa R. Anderson</td>\n",
        "      <td>   melissa</td>\n",
        "    </tr>\n",
        "    <tr>\n",
        "      <th>18</th>\n",
        "      <td>      Melvin O. Martin</td>\n",
        "      <td>    melvin</td>\n",
        "    </tr>\n",
        "    <tr>\n",
        "      <th>19</th>\n",
        "      <td>  Mildred F. Hottinger</td>\n",
        "      <td>   mildred</td>\n",
        "    </tr>\n",
        "    <tr>\n",
        "      <th>20</th>\n",
        "      <td>      Mina W. Lawrence</td>\n",
        "      <td>      mina</td>\n",
        "    </tr>\n",
        "    <tr>\n",
        "      <th>21</th>\n",
        "      <td>      Nancy P. Jackson</td>\n",
        "      <td>     nancy</td>\n",
        "    </tr>\n",
        "    <tr>\n",
        "      <th>22</th>\n",
        "      <td> Phillip C. Mascarenas</td>\n",
        "      <td>   phillip</td>\n",
        "    </tr>\n",
        "    <tr>\n",
        "      <th>23</th>\n",
        "      <td>      Ralph L. Waldrop</td>\n",
        "      <td>     ralph</td>\n",
        "    </tr>\n",
        "    <tr>\n",
        "      <th>24</th>\n",
        "      <td>    Robert B. Williams</td>\n",
        "      <td>    robert</td>\n",
        "    </tr>\n",
        "    <tr>\n",
        "      <th>25</th>\n",
        "      <td>          Ryan T. Luby</td>\n",
        "      <td>      ryan</td>\n",
        "    </tr>\n",
        "    <tr>\n",
        "      <th>26</th>\n",
        "      <td> Stephanie R. Matthews</td>\n",
        "      <td>      step</td>\n",
        "    </tr>\n",
        "    <tr>\n",
        "      <th>27</th>\n",
        "      <td>   Tameika M. McMaster</td>\n",
        "      <td>   tameika</td>\n",
        "    </tr>\n",
        "    <tr>\n",
        "      <th>28</th>\n",
        "      <td>      Vivian R. Donley</td>\n",
        "      <td>    vivian</td>\n",
        "    </tr>\n",
        "  </tbody>\n",
        "</table>\n",
        "</div>"
       ],
       "metadata": {},
       "output_type": "pyout",
       "prompt_number": 23,
       "text": [
        "                     name   quest_id\n",
        "0       Ann W. McLaughlin        ann\n",
        "1        Arnold J. Fuller     arnold\n",
        "2      Austin K. Gilliard     austin\n",
        "3         Billy L. Hunter      billy\n",
        "4       Bobbie D. Mathews     bobbie\n",
        "5         Daniel J. Moore     daniel\n",
        "6     Deborah D. Helfrich    deborah\n",
        "7           Elaine S. Ott     elaine\n",
        "8       Frances A. Miller    frances\n",
        "9           Fred E. Finch       fred\n",
        "10          James A. Foxt  james.fox\n",
        "11       James M. Eddings      james\n",
        "12       Janelle T. Smith    janelle\n",
        "13         Jeff M. Wright       jeff\n",
        "14        John J. Oquendo       john\n",
        "15         Joseph L. Wood     joseph\n",
        "16      Kelly S. Ferguson      kelly\n",
        "17    Melissa R. Anderson    melissa\n",
        "18       Melvin O. Martin     melvin\n",
        "19   Mildred F. Hottinger    mildred\n",
        "20       Mina W. Lawrence       mina\n",
        "21       Nancy P. Jackson      nancy\n",
        "22  Phillip C. Mascarenas    phillip\n",
        "23       Ralph L. Waldrop      ralph\n",
        "24     Robert B. Williams     robert\n",
        "25           Ryan T. Luby       ryan\n",
        "26  Stephanie R. Matthews       step\n",
        "27    Tameika M. McMaster    tameika\n",
        "28       Vivian R. Donley     vivian"
       ]
      }
     ],
     "prompt_number": 23
    },
    {
     "cell_type": "heading",
     "level": 2,
     "metadata": {
      "slideshow": {
       "slide_type": "slide"
      }
     },
     "source": [
      "Subqueries"
     ]
    },
    {
     "cell_type": "markdown",
     "metadata": {},
     "source": [
      "Subqueries are queries contained in queries. These subqueries are contained in '(', ')'\n",
      "\n",
      "There are two types of subqueries:"
     ]
    },
    {
     "cell_type": "markdown",
     "metadata": {
      "slideshow": {
       "slide_type": "fragment"
      }
     },
     "source": [
      "1. __Non-Correlated Subqueries:__ Can be run independently of the larger query.\n",
      "\n",
      "2. __Correlated Subqueries:__ Must be run concurrently with the outer query. They are dependent on the outer query."
     ]
    },
    {
     "cell_type": "heading",
     "level": 3,
     "metadata": {
      "slideshow": {
       "slide_type": "subslide"
      }
     },
     "source": [
      "Non-Correlated Subqueries"
     ]
    },
    {
     "cell_type": "markdown",
     "metadata": {},
     "source": [
      "__Non-Correlated\u00a0Subquery:__ Any valid query within query that if executed by itself will produce a result (including empty set). These are enclosed in '(', ')' in __FROM__, __WHERE__, or __HAVING__ clauses."
     ]
    },
    {
     "cell_type": "markdown",
     "metadata": {
      "slideshow": {
       "slide_type": "fragment"
      }
     },
     "source": [
      "__Example:__ What Stats Club execs are in charge of making posters?"
     ]
    },
    {
     "cell_type": "markdown",
     "metadata": {
      "slideshow": {
       "slide_type": "fragment"
      }
     },
     "source": [
      "```sql\n",
      "SELECT e.name, e.position \n",
      "FROM exec AS e \n",
      "WHERE e.questid IN (SELECT poster FROM event);\n",
      "```"
     ]
    },
    {
     "cell_type": "code",
     "collapsed": false,
     "input": [
      "pd.read_sql_query(\n",
      "\"SELECT e.name, e.position \\\n",
      "FROM exec AS e \\\n",
      "WHERE e.questid IN (SELECT poster FROM event)\", con)"
     ],
     "language": "python",
     "metadata": {
      "slideshow": {
       "slide_type": "fragment"
      }
     },
     "outputs": [
      {
       "html": [
        "<div style=\"max-height:1000px;max-width:1500px;overflow:auto;\">\n",
        "<table border=\"1\" class=\"dataframe\">\n",
        "  <thead>\n",
        "    <tr style=\"text-align: right;\">\n",
        "      <th></th>\n",
        "      <th>name</th>\n",
        "      <th>position</th>\n",
        "    </tr>\n",
        "  </thead>\n",
        "  <tbody>\n",
        "    <tr>\n",
        "      <th>0</th>\n",
        "      <td>     Dominick Byrd</td>\n",
        "      <td> Events</td>\n",
        "    </tr>\n",
        "    <tr>\n",
        "      <th>1</th>\n",
        "      <td>    Gilberto Cross</td>\n",
        "      <td> Events</td>\n",
        "    </tr>\n",
        "    <tr>\n",
        "      <th>2</th>\n",
        "      <td> Judith B. Gibbons</td>\n",
        "      <td> Events</td>\n",
        "    </tr>\n",
        "    <tr>\n",
        "      <th>3</th>\n",
        "      <td> Patrick Robertson</td>\n",
        "      <td> Events</td>\n",
        "    </tr>\n",
        "  </tbody>\n",
        "</table>\n",
        "</div>"
       ],
       "metadata": {},
       "output_type": "pyout",
       "prompt_number": 24,
       "text": [
        "                name position\n",
        "0      Dominick Byrd   Events\n",
        "1     Gilberto Cross   Events\n",
        "2  Judith B. Gibbons   Events\n",
        "3  Patrick Robertson   Events"
       ]
      }
     ],
     "prompt_number": 24
    },
    {
     "cell_type": "heading",
     "level": 3,
     "metadata": {
      "slideshow": {
       "slide_type": "subslide"
      }
     },
     "source": [
      "Correlated Subqueries"
     ]
    },
    {
     "cell_type": "markdown",
     "metadata": {},
     "source": [
      "__Correlated\u00a0\u00a0Subquery__ makes references to it's containing query, executing it for every candidate row referenced.\n",
      "- Correlated subqueries can appear in the __SELECT__, __WHERE__, or __HAVING__ clauses."
     ]
    },
    {
     "cell_type": "markdown",
     "metadata": {
      "slideshow": {
       "slide_type": "fragment"
      }
     },
     "source": [
      "__Example:__ What majors do the current Stats Club execs enrolled in?\n",
      "- The member table has the information on majors but exec has the information on execs"
     ]
    },
    {
     "cell_type": "markdown",
     "metadata": {
      "slideshow": {
       "slide_type": "fragment"
      }
     },
     "source": [
      "```sql\n",
      "SELECT name, position, \n",
      "(SELECT faculty FROM member AS m WHERE m.quest_id = e.questid) AS faulty, \n",
      "(SELECT major FROM member AS m WHERE m.quest_id = e.questid) AS major \n",
      "FROM exec AS e;\n",
      "```"
     ]
    },
    {
     "cell_type": "code",
     "collapsed": false,
     "input": [
      "pd.read_sql_query(\n",
      "\"SELECT name, position, \\\n",
      "(SELECT faculty FROM member AS m WHERE m.quest_id = e.questid) AS faulty, \\\n",
      "(SELECT major FROM member AS m WHERE m.quest_id = e.questid) AS major \\\n",
      "FROM exec AS e\", con)"
     ],
     "language": "python",
     "metadata": {
      "slideshow": {
       "slide_type": "fragment"
      }
     },
     "outputs": [
      {
       "html": [
        "<div style=\"max-height:1000px;max-width:1500px;overflow:auto;\">\n",
        "<table border=\"1\" class=\"dataframe\">\n",
        "  <thead>\n",
        "    <tr style=\"text-align: right;\">\n",
        "      <th></th>\n",
        "      <th>name</th>\n",
        "      <th>position</th>\n",
        "      <th>faulty</th>\n",
        "      <th>major</th>\n",
        "    </tr>\n",
        "  </thead>\n",
        "  <tbody>\n",
        "    <tr>\n",
        "      <th>0</th>\n",
        "      <td>    Darrell Aucoin</td>\n",
        "      <td>     President</td>\n",
        "      <td> Math</td>\n",
        "      <td>     Stats</td>\n",
        "    </tr>\n",
        "    <tr>\n",
        "      <th>1</th>\n",
        "      <td> Judith B. Gibbons</td>\n",
        "      <td>        Events</td>\n",
        "      <td> Math</td>\n",
        "      <td>   Act Sci</td>\n",
        "    </tr>\n",
        "    <tr>\n",
        "      <th>2</th>\n",
        "      <td>         Lamar Roy</td>\n",
        "      <td>       Finance</td>\n",
        "      <td> None</td>\n",
        "      <td>      None</td>\n",
        "    </tr>\n",
        "    <tr>\n",
        "      <th>3</th>\n",
        "      <td>    Gilberto Cross</td>\n",
        "      <td>        Events</td>\n",
        "      <td> None</td>\n",
        "      <td>      None</td>\n",
        "    </tr>\n",
        "    <tr>\n",
        "      <th>4</th>\n",
        "      <td>        Melba Lane</td>\n",
        "      <td>     President</td>\n",
        "      <td> None</td>\n",
        "      <td>      None</td>\n",
        "    </tr>\n",
        "    <tr>\n",
        "      <th>5</th>\n",
        "      <td>        Ruben Lamb</td>\n",
        "      <td>    Technology</td>\n",
        "      <td> Math</td>\n",
        "      <td>   Act Sci</td>\n",
        "    </tr>\n",
        "    <tr>\n",
        "      <th>6</th>\n",
        "      <td>      Hannah Mason</td>\n",
        "      <td> SeniorAdvisor</td>\n",
        "      <td> None</td>\n",
        "      <td>      None</td>\n",
        "    </tr>\n",
        "    <tr>\n",
        "      <th>7</th>\n",
        "      <td> Patrick Robertson</td>\n",
        "      <td>        Events</td>\n",
        "      <td> Math</td>\n",
        "      <td>     Stats</td>\n",
        "    </tr>\n",
        "    <tr>\n",
        "      <th>8</th>\n",
        "      <td>     Dominick Byrd</td>\n",
        "      <td>        Events</td>\n",
        "      <td> Math</td>\n",
        "      <td> Pure Math</td>\n",
        "    </tr>\n",
        "  </tbody>\n",
        "</table>\n",
        "</div>"
       ],
       "metadata": {},
       "output_type": "pyout",
       "prompt_number": 25,
       "text": [
        "                name       position faulty      major\n",
        "0     Darrell Aucoin      President   Math      Stats\n",
        "1  Judith B. Gibbons         Events   Math    Act Sci\n",
        "2          Lamar Roy        Finance   None       None\n",
        "3     Gilberto Cross         Events   None       None\n",
        "4         Melba Lane      President   None       None\n",
        "5         Ruben Lamb     Technology   Math    Act Sci\n",
        "6       Hannah Mason  SeniorAdvisor   None       None\n",
        "7  Patrick Robertson         Events   Math      Stats\n",
        "8      Dominick Byrd         Events   Math  Pure Math"
       ]
      }
     ],
     "prompt_number": 25
    },
    {
     "cell_type": "heading",
     "level": 3,
     "metadata": {
      "slideshow": {
       "slide_type": "subslide"
      }
     },
     "source": [
      "Correlated vs Non-Correlated"
     ]
    },
    {
     "cell_type": "markdown",
     "metadata": {},
     "source": [
      "1. Correlated subquery is __dependent__ on outer query, non-correlated is __independent__.\n",
      "\n",
      "2. Correlated subquery is executed __concurrently__ with outer query, non-correlated is executed before.\n",
      "\n",
      "3. In general, for speed of execution:\n",
      "$$\\mbox{Correlated subquery}\\prec\\mbox{Non-Correlated subquery}\\prec\\mbox{Joins}$$\n",
      " "
     ]
    },
    {
     "cell_type": "heading",
     "level": 3,
     "metadata": {
      "slideshow": {
       "slide_type": "subslide"
      }
     },
     "source": [
      "Quiz"
     ]
    },
    {
     "cell_type": "markdown",
     "metadata": {},
     "source": [
      "__Q:__ Where can a Non-Correlated subquery can be placed?"
     ]
    },
    {
     "cell_type": "markdown",
     "metadata": {},
     "source": [
      "__Q:__ Where can a Non-Correlated subquery can be placed?"
     ]
    },
    {
     "cell_type": "heading",
     "level": 2,
     "metadata": {
      "slideshow": {
       "slide_type": "slide"
      }
     },
     "source": [
      "WITH Clause"
     ]
    },
    {
     "cell_type": "markdown",
     "metadata": {},
     "source": [
      "__WITH\u00a0clause:__ Makes a non-correlated subquery look like a table in the executed statement:\n",
      "\n",
      "- Increases readability of the query as well as ensure that if it is used in several different places, it will only be executed once  \n",
      "\n",
      "```sql\n",
      "WITH subquery_name [(colname1, ...)] AS\n",
      "\t(SELECT ...),\n",
      "\tsubquery_name2 [(colname1, ...)] AS\n",
      "\t(SELECT ...)\n",
      "SELECT ... \n",
      "```"
     ]
    },
    {
     "cell_type": "markdown",
     "metadata": {
      "slideshow": {
       "slide_type": "subslide"
      }
     },
     "source": [
      "__Example:__ Suppose you are doing a report for MathSoc detailing events, their budget, and expenses. "
     ]
    },
    {
     "cell_type": "markdown",
     "metadata": {
      "slideshow": {
       "slide_type": "fragment"
      }
     },
     "source": [
      "```sql\n",
      "WITH cost (event, expenses) AS \n",
      "    (SELECT event, SUM(price) \n",
      "    FROM expenses \n",
      "    GROUP BY event) \n",
      "SELECT e.name, e.type, e.budget, cost.expenses \n",
      "FROM event AS e INNER JOIN cost ON e.name = cost.event;\n",
      "```"
     ]
    },
    {
     "cell_type": "code",
     "collapsed": false,
     "input": [
      "pd.read_sql_query(\n",
      "\"WITH cost (event, expenses) AS \\\n",
      "    (SELECT event, SUM(price) \\\n",
      "    FROM expenses \\\n",
      "    GROUP BY event) \\\n",
      "SELECT e.name, e.type, e.budget, cost.expenses \\\n",
      "FROM event AS e INNER JOIN cost ON e.name = cost.event\", con)"
     ],
     "language": "python",
     "metadata": {
      "slideshow": {
       "slide_type": "fragment"
      }
     },
     "outputs": [
      {
       "html": [
        "<div style=\"max-height:1000px;max-width:1500px;overflow:auto;\">\n",
        "<table border=\"1\" class=\"dataframe\">\n",
        "  <thead>\n",
        "    <tr style=\"text-align: right;\">\n",
        "      <th></th>\n",
        "      <th>name</th>\n",
        "      <th>type</th>\n",
        "      <th>budget</th>\n",
        "      <th>expenses</th>\n",
        "    </tr>\n",
        "  </thead>\n",
        "  <tbody>\n",
        "    <tr>\n",
        "      <th>0</th>\n",
        "      <td>             BOT</td>\n",
        "      <td>      social</td>\n",
        "      <td>  90.0</td>\n",
        "      <td>  58.57</td>\n",
        "    </tr>\n",
        "    <tr>\n",
        "      <th>1</th>\n",
        "      <td>             EOT</td>\n",
        "      <td>      social</td>\n",
        "      <td> 160.0</td>\n",
        "      <td> 160.65</td>\n",
        "    </tr>\n",
        "    <tr>\n",
        "      <th>2</th>\n",
        "      <td> Intro to Hadoop</td>\n",
        "      <td> educational</td>\n",
        "      <td>  90.0</td>\n",
        "      <td>  96.81</td>\n",
        "    </tr>\n",
        "    <tr>\n",
        "      <th>3</th>\n",
        "      <td>    Intro to Pig</td>\n",
        "      <td> educational</td>\n",
        "      <td>  90.0</td>\n",
        "      <td>  62.63</td>\n",
        "    </tr>\n",
        "    <tr>\n",
        "      <th>4</th>\n",
        "      <td>    Intro to SQL</td>\n",
        "      <td> educational</td>\n",
        "      <td>  90.0</td>\n",
        "      <td> 102.77</td>\n",
        "    </tr>\n",
        "    <tr>\n",
        "      <th>5</th>\n",
        "      <td>       Prof Talk</td>\n",
        "      <td> educational</td>\n",
        "      <td>  90.0</td>\n",
        "      <td>  82.87</td>\n",
        "    </tr>\n",
        "    <tr>\n",
        "      <th>6</th>\n",
        "      <td>      R Tutorial</td>\n",
        "      <td> educational</td>\n",
        "      <td>  90.0</td>\n",
        "      <td>  77.21</td>\n",
        "    </tr>\n",
        "  </tbody>\n",
        "</table>\n",
        "</div>"
       ],
       "metadata": {},
       "output_type": "pyout",
       "prompt_number": 26,
       "text": [
        "              name         type budget  expenses\n",
        "0              BOT       social   90.0     58.57\n",
        "1              EOT       social  160.0    160.65\n",
        "2  Intro to Hadoop  educational   90.0     96.81\n",
        "3     Intro to Pig  educational   90.0     62.63\n",
        "4     Intro to SQL  educational   90.0    102.77\n",
        "5        Prof Talk  educational   90.0     82.87\n",
        "6       R Tutorial  educational   90.0     77.21"
       ]
      }
     ],
     "prompt_number": 26
    },
    {
     "cell_type": "heading",
     "level": 2,
     "metadata": {
      "slideshow": {
       "slide_type": "slide"
      }
     },
     "source": [
      "CASE Expressions"
     ]
    },
    {
     "cell_type": "markdown",
     "metadata": {},
     "source": [
      "__CASE\u00a0expressions:__ Similar to a series of if else statements executed for every entry in a table. A new value is returned for every row in the table.\n",
      "\n",
      "```sql\n",
      "CASE [column]\n",
      "\tWHEN condition1 THEN result1\n",
      "\tWHEN condition2 THEN result2\n",
      "\t...\n",
      "\tWHEN condition_n THEN result_n\n",
      "\t[ELSE result]\n",
      "END\n",
      "```"
     ]
    },
    {
     "cell_type": "markdown",
     "metadata": {
      "slideshow": {
       "slide_type": "fragment"
      }
     },
     "source": [
      "- The result can be of any datatype or the result of a correlated or non-correlated subquery (if the result is a single )"
     ]
    },
    {
     "cell_type": "markdown",
     "metadata": {
      "slideshow": {
       "slide_type": "fragment"
      }
     },
     "source": [
      "- CASE expressions are performed by themselves in the __SELECT__ clause or within a function or aggregate function\n",
      "\n",
      "    - CASE expressions within aggregate functions allow us to do counts, sums, averages, etc. of particular occurrences"
     ]
    },
    {
     "cell_type": "markdown",
     "metadata": {
      "slideshow": {
       "slide_type": "subslide"
      }
     },
     "source": [
      "__Example:__ Suppose like before we are preparing a report for MathSoc, but now we want to give a warning if the event is over budget or not."
     ]
    },
    {
     "cell_type": "markdown",
     "metadata": {
      "slideshow": {
       "slide_type": "fragment"
      }
     },
     "source": [
      "```sql\n",
      "WITH cost (event, expenses) AS \n",
      "    (SELECT event, SUM(price) \n",
      "    FROM expenses \n",
      "    GROUP BY event) \n",
      "SELECT e.name, e.type, e.budget, cost.expenses, \n",
      "    CASE \n",
      "    WHEN e.budget - cost.expenses < 0 THEN 'Over budget' \n",
      "    ELSE 'On budget' \n",
      "    END AS warning \n",
      "FROM event AS e INNER JOIN cost ON e.name = cost.event;\n",
      "```"
     ]
    },
    {
     "cell_type": "code",
     "collapsed": false,
     "input": [
      "pd.read_sql_query(\n",
      "\"WITH cost (event, expenses) AS \\\n",
      "    (SELECT event, SUM(price) \\\n",
      "    FROM expenses \\\n",
      "    GROUP BY event) \\\n",
      "SELECT e.name, e.type, e.budget, cost.expenses, \\\n",
      "    CASE \\\n",
      "    WHEN e.budget - cost.expenses < 0 THEN 'Over budget' \\\n",
      "    ELSE 'On budget' \\\n",
      "    END AS warning \\\n",
      "FROM event AS e INNER JOIN cost ON e.name = cost.event\", con)"
     ],
     "language": "python",
     "metadata": {
      "slideshow": {
       "slide_type": "fragment"
      }
     },
     "outputs": [
      {
       "html": [
        "<div style=\"max-height:1000px;max-width:1500px;overflow:auto;\">\n",
        "<table border=\"1\" class=\"dataframe\">\n",
        "  <thead>\n",
        "    <tr style=\"text-align: right;\">\n",
        "      <th></th>\n",
        "      <th>name</th>\n",
        "      <th>type</th>\n",
        "      <th>budget</th>\n",
        "      <th>expenses</th>\n",
        "      <th>warning</th>\n",
        "    </tr>\n",
        "  </thead>\n",
        "  <tbody>\n",
        "    <tr>\n",
        "      <th>0</th>\n",
        "      <td>             BOT</td>\n",
        "      <td>      social</td>\n",
        "      <td>  90</td>\n",
        "      <td>  58.57</td>\n",
        "      <td>   On budget</td>\n",
        "    </tr>\n",
        "    <tr>\n",
        "      <th>1</th>\n",
        "      <td>             EOT</td>\n",
        "      <td>      social</td>\n",
        "      <td> 160</td>\n",
        "      <td> 160.65</td>\n",
        "      <td> Over budget</td>\n",
        "    </tr>\n",
        "    <tr>\n",
        "      <th>2</th>\n",
        "      <td> Intro to Hadoop</td>\n",
        "      <td> educational</td>\n",
        "      <td>  90</td>\n",
        "      <td>  96.81</td>\n",
        "      <td> Over budget</td>\n",
        "    </tr>\n",
        "    <tr>\n",
        "      <th>3</th>\n",
        "      <td>    Intro to Pig</td>\n",
        "      <td> educational</td>\n",
        "      <td>  90</td>\n",
        "      <td>  62.63</td>\n",
        "      <td>   On budget</td>\n",
        "    </tr>\n",
        "    <tr>\n",
        "      <th>4</th>\n",
        "      <td>    Intro to SQL</td>\n",
        "      <td> educational</td>\n",
        "      <td>  90</td>\n",
        "      <td> 102.77</td>\n",
        "      <td> Over budget</td>\n",
        "    </tr>\n",
        "    <tr>\n",
        "      <th>5</th>\n",
        "      <td>       Prof Talk</td>\n",
        "      <td> educational</td>\n",
        "      <td>  90</td>\n",
        "      <td>  82.87</td>\n",
        "      <td>   On budget</td>\n",
        "    </tr>\n",
        "    <tr>\n",
        "      <th>6</th>\n",
        "      <td>      R Tutorial</td>\n",
        "      <td> educational</td>\n",
        "      <td>  90</td>\n",
        "      <td>  77.21</td>\n",
        "      <td>   On budget</td>\n",
        "    </tr>\n",
        "  </tbody>\n",
        "</table>\n",
        "</div>"
       ],
       "metadata": {},
       "output_type": "pyout",
       "prompt_number": 27,
       "text": [
        "              name         type  budget  expenses      warning\n",
        "0              BOT       social      90     58.57    On budget\n",
        "1              EOT       social     160    160.65  Over budget\n",
        "2  Intro to Hadoop  educational      90     96.81  Over budget\n",
        "3     Intro to Pig  educational      90     62.63    On budget\n",
        "4     Intro to SQL  educational      90    102.77  Over budget\n",
        "5        Prof Talk  educational      90     82.87    On budget\n",
        "6       R Tutorial  educational      90     77.21    On budget"
       ]
      }
     ],
     "prompt_number": 27
    },
    {
     "cell_type": "heading",
     "level": 2,
     "metadata": {
      "slideshow": {
       "slide_type": "slide"
      }
     },
     "source": [
      "SQL Functions"
     ]
    },
    {
     "cell_type": "markdown",
     "metadata": {},
     "source": [
      "There are many functions in SQLite and each implementation of SQL have different functions. Here are some random functions in SQLite:  \n",
      "\n",
      "| Function | Description |\n",
      "|----------|-------------|\n",
      "| __ABS(col)__ | Absolute value of numeric column |\n",
      "| __LENGTH(col)__ | Return length of string column |\n",
      "| __LOWER(col)__ | Return the string column in lower case |\n",
      "| __UPPER(col)__ | Return the string column in upper case |\n",
      "| __RANDOM()__ |\tA pseudo-random integer between -9223372036854775808 and +9223372036854775807 |\n"
     ]
    },
    {
     "cell_type": "heading",
     "level": 2,
     "metadata": {},
     "source": [
      "ORDER BY Clause"
     ]
    },
    {
     "cell_type": "markdown",
     "metadata": {},
     "source": [
      "__ORDER BY Clause:__ Rearranges the rows of a result set according to a tuple of columns.\n",
      "\n",
      "```sql\n",
      "SELECT column-list \n",
      "FROM table_name \n",
      "ORDER BY column1, column2, .. columnN [ASC | DESC];\n",
      "```\n",
      "`ASC` is ascending (default)  \n",
      "\n",
      "`DESC` is descending"
     ]
    },
    {
     "cell_type": "heading",
     "level": 2,
     "metadata": {},
     "source": [
      "LIMIT Clause"
     ]
    },
    {
     "cell_type": "markdown",
     "metadata": {},
     "source": [
      "__LIMIT Clause:__ Restrict the result set to the first n of rows.\n",
      "\n",
      "```sql\n",
      "SELECT column1, column2, columnN \n",
      "FROM table_name\n",
      "LIMIT no_of_rows\n",
      "```\n",
      "- We can also offset where the restriction begins  \n",
      "\n",
      "```sql\n",
      "SELECT column1, column2, columnN \n",
      "FROM table_name\n",
      "LIMIT no_of_rows OFFSET row_num\n",
      "```"
     ]
    },
    {
     "cell_type": "heading",
     "level": 1,
     "metadata": {
      "slideshow": {
       "slide_type": "slide"
      }
     },
     "source": [
      "Questions?"
     ]
    },
    {
     "cell_type": "markdown",
     "metadata": {
      "slideshow": {
       "slide_type": "fragment"
      }
     },
     "source": [
      "### Topics Not Covered\n",
      "- How to create a database\n",
      "    - Creating tables\n",
      "    - Creating constraints\n",
      "    - Views\n",
      "    - How to insert, delete, alter, drop, etc. data in a table"
     ]
    },
    {
     "cell_type": "code",
     "collapsed": false,
     "input": [
      "con.close()"
     ],
     "language": "python",
     "metadata": {},
     "outputs": [],
     "prompt_number": 28
    },
    {
     "cell_type": "code",
     "collapsed": false,
     "input": [
      "#sudo ipython nbconvert Intro_SQL.ipynb --to slides --post serve"
     ],
     "language": "python",
     "metadata": {
      "slideshow": {
       "slide_type": "skip"
      }
     },
     "outputs": [],
     "prompt_number": 29
    }
   ],
   "metadata": {}
  }
 ]
}