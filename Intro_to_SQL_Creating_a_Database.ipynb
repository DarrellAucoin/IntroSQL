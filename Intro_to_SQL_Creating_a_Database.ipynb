{
 "metadata": {
  "celltoolbar": "Slideshow",
  "name": "",
  "signature": "sha256:99221a621134a93b530816593f4e3644e2634deeb9c32a110a546a8460bff7c3"
 },
 "nbformat": 3,
 "nbformat_minor": 0,
 "worksheets": [
  {
   "cells": [
    {
     "cell_type": "markdown",
     "metadata": {
      "slideshow": {
       "slide_type": "slide"
      }
     },
     "source": [
      "<head>\n",
      "<script type=\"text/javascript\"\n",
      "  src=\"http://cdn.mathjax.org/mathjax/latest/MathJax.js?config=TeX-AMS-MML_HTMLorMML\">\n",
      "</script>\n",
      "\n",
      "</head>\n",
      "\n",
      "<center>\n",
      "\n",
      "<p class=\"gap05\"<p>\n",
      "<h1>Intro to SQL:</h1>\n",
      "<h2>Creating a Database</h2>\n",
      "\n",
      "<p class=\"gap05\"<p>\n",
      "<h3>Darrell Aucoin</h3>\n",
      "\n",
      "<h3>Stats Club</h3>\n",
      "\n",
      "<p class=\"gap2\"<p>\n",
      "</center>\n",
      "![alt text](Images/exploits_of_a_mom.png)"
     ]
    },
    {
     "cell_type": "markdown",
     "metadata": {},
     "source": [
      "Motativation\n"
     ]
    },
    {
     "cell_type": "heading",
     "level": 1,
     "metadata": {
      "slideshow": {
       "slide_type": "slide"
      }
     },
     "source": [
      "How to Follow Along"
     ]
    },
    {
     "cell_type": "heading",
     "level": 4,
     "metadata": {},
     "source": [
      "Get the material  "
     ]
    },
    {
     "cell_type": "markdown",
     "metadata": {},
     "source": [
      "1. Open terminal\n",
      "2. Go to home directory\n",
      "    1. Enter the command `cd ~`\n",
      "3. Type  `git clone https://github.com/NormallySane/IntroSQL.git`"
     ]
    },
    {
     "cell_type": "heading",
     "level": 4,
     "metadata": {},
     "source": [
      "Using ipython notebook"
     ]
    },
    {
     "cell_type": "markdown",
     "metadata": {},
     "source": [
      "4. Type `ipython notebook` and open Intro_SQL.ipynb in the web browser that appears \n",
      "5. Make sure you execute the following python commands (shift + enter with block highlighted)"
     ]
    },
    {
     "cell_type": "code",
     "collapsed": false,
     "input": [
      "import pandas as pd\n",
      "import sqlite3 as sql"
     ],
     "language": "python",
     "metadata": {},
     "outputs": []
    },
    {
     "cell_type": "heading",
     "level": 4,
     "metadata": {},
     "source": [
      "Using SQLite Browser"
     ]
    },
    {
     "cell_type": "markdown",
     "metadata": {},
     "source": [
      "1. Open SQLite browser\n",
      "2. Open stats_club3.db database file in the downloaded directory\n",
      "3. Click on 'Execute SQL' tab\n",
      "    1. Open SQL file stats_club.sql file in the downloaded directory\n",
      "    2. Follow along with file, executing statement as topics dictate\n",
      "\n",
      "\n",
      "- SQLite browser is a great tool for learning SQLite and SQL in general"
     ]
    },
    {
     "cell_type": "heading",
     "level": 1,
     "metadata": {},
     "source": [
      "The SQL Language"
     ]
    },
    {
     "cell_type": "markdown",
     "metadata": {},
     "source": [
      "SQL is made of sub-languages:\n",
      "\n",
      "1. Data Manipulation Language  \n",
      "    __SELECT__ Statements that perform queries\n",
      "    __INSERT__,\u00a0__UPDATE__,\u00a0__DELETE__ Statements that modify the instance of a table\n",
      "\n",
      "2. Data Definition Language  \n",
      "    __CREATE__,\u00a0__DROP__,\u00a0__ALTER__ Statements that modify the database schema\n",
      "\n",
      "3. Data Control Language  \n",
      "    __GRANT__,\u00a0__REVOKE__ Statements that enforce the security model"
     ]
    },
    {
     "cell_type": "heading",
     "level": 1,
     "metadata": {},
     "source": [
      "Data Definition"
     ]
    },
    {
     "cell_type": "heading",
     "level": 2,
     "metadata": {},
     "source": [
      "CREATE Statement"
     ]
    },
    {
     "cell_type": "markdown",
     "metadata": {},
     "source": [
      "__CREATE Statement:__ The __CREATE__ statement creates a table or view.\n",
      "```sql\n",
      "CREATE TABLE table_name \n",
      "    (variableName1 variableType1 [specifications],\n",
      "\tvariableName2 variableType2 [specifications],\n",
      "\t...\t);\n",
      "```\n",
      "\n",
      "```sql\n",
      "CREATE VIEW view_name [(col1, col2)]\n",
      "AS \n",
      "SELECT ...\n",
      "```"
     ]
    },
    {
     "cell_type": "heading",
     "level": 1,
     "metadata": {},
     "source": [
      "Data Manipulation"
     ]
    },
    {
     "cell_type": "markdown",
     "metadata": {},
     "source": [
      "INSERT Statement"
     ]
    },
    {
     "cell_type": "markdown",
     "metadata": {},
     "source": [
      "__INSERT Statement:__ The INSERT statement inserts a row entry into a table.\n",
      "```sql\n",
      "INSERT INTO table_name (col1, col2)\n",
      "VALUES (variable1, variable2);\n",
      "```"
     ]
    },
    {
     "cell_type": "code",
     "collapsed": false,
     "input": [],
     "language": "python",
     "metadata": {},
     "outputs": []
    }
   ],
   "metadata": {}
  }
 ]
}